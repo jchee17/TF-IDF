{
 "metadata": {
  "name": ""
 },
 "nbformat": 3,
 "nbformat_minor": 0,
 "worksheets": [
  {
   "cells": [
    {
     "cell_type": "markdown",
     "metadata": {},
     "source": [
      "I seem to have fixed my nan problem."
     ]
    },
    {
     "cell_type": "code",
     "collapsed": false,
     "input": [
      "from __future__ import unicode_literals\n",
      "from __future__ import division\n",
      "import os\n",
      "import re\n",
      "import pickle\n",
      "import numpy as np\n",
      "import webbrowser"
     ],
     "language": "python",
     "metadata": {},
     "outputs": [],
     "prompt_number": 21
    },
    {
     "cell_type": "code",
     "collapsed": false,
     "input": [
      "cos_dist = np.load(\"./data_objects/cos_dist.npy\")\n",
      "\n",
      "list_wiki = pickle.load(open(\"./data_objects/list_wiki.p\", 'r'))\n",
      "list_arxiv = pickle.load(open(\"./data_objects/list_arxiv.p\", 'r'))\n",
      "list_vocab = pickle.load(open('./data_objects/list_vocab.p', 'r'))\n"
     ],
     "language": "python",
     "metadata": {},
     "outputs": [],
     "prompt_number": 2
    },
    {
     "cell_type": "code",
     "collapsed": false,
     "input": [
      "def lookup_top_n(cos_dist_array, list_articles, index, n):\n",
      "    \"\"\" given the index of article and cos_dist_array,\n",
      "        returns the index of top n concepts\n",
      "    \"\"\"\n",
      "    article_array = cos_dist_array[index]\n",
      "    \n",
      "    # give top n partition\n",
      "    sorted_ind = np.argpartition(article_array, -n)[-n:]\n",
      "    # sort in this top n\n",
      "    sorted_ind = sorted_ind[np.argsort(article_array[sorted_ind])[::-1]]\n",
      "    return sorted_ind\n",
      "    "
     ],
     "language": "python",
     "metadata": {},
     "outputs": [],
     "prompt_number": 23
    },
    {
     "cell_type": "code",
     "collapsed": false,
     "input": [
      "def display_article(list_articles, index):\n",
      "    \"\"\" takes in article and displays arxiv.org/abs \n",
      "        page in browser\n",
      "    \"\"\"\n",
      "    \n",
      "    # get id string\n",
      "    id_string = re.sub(\"\\_trunc.txt\", '', list_articles[index])\n",
      "    \n",
      "    # open in browser\n",
      "    webbrowser.open(\"http://arxiv.org/abs/\" + id_string)\n",
      "    "
     ],
     "language": "python",
     "metadata": {},
     "outputs": [],
     "prompt_number": 24
    },
    {
     "cell_type": "code",
     "collapsed": false,
     "input": [
      "while (1):\n",
      "    i = raw_input(\"Integer from 0 to {}\\n\".format(len(list_arxiv)))\n",
      "    i = int(i)\n",
      "    \n",
      "    n = 10\n",
      "    top_n = lookup_top_n(cos_dist, list_arxiv, i, n)\n",
      "    \n",
      "    for j in range(n):\n",
      "        k = top_n[j]\n",
      "        print(list_wiki[k], cos_dist[i, k])\n",
      "        print('\\n')\n",
      "    \n",
      "    display_article(list_arxiv, i)"
     ],
     "language": "python",
     "metadata": {},
     "outputs": [
      {
       "name": "stdout",
       "output_type": "stream",
       "stream": "stdout",
       "text": [
        "Integer from 0 to 3631\n",
        "0\n"
       ]
      },
      {
       "output_type": "stream",
       "stream": "stdout",
       "text": [
        "(u'statistical_dispersion.txt', 0.39534740857779871)\n",
        "\n",
        "\n",
        "(u'factorial_moment.txt', 0.38844755809900489)\n",
        "\n",
        "\n",
        "(u'tweedie_distribution.txt', 0.36323869827005839)\n",
        "\n",
        "\n",
        "(u'factorial_moment_generating_function.txt', 0.349090748605007)\n",
        "\n",
        "\n",
        "(u'coefficient_of_dispersion.txt', 0.34828598952995571)\n",
        "\n",
        "\n",
        "(u'variance-to-mean_ratio.txt', 0.34828598952995571)\n",
        "\n",
        "\n",
        "(u'index_of_dispersion.txt', 0.34828598952995571)\n",
        "\n",
        "\n",
        "(u'quartile_coefficient_of_dispersion.txt', 0.34372335280616784)\n",
        "\n",
        "\n",
        "(u'factorial_experiment.txt', 0.31861076117866627)\n",
        "\n",
        "\n",
        "(u'fully_crossed_design.txt', 0.31861076117866627)\n",
        "\n",
        "\n"
       ]
      }
     ],
     "prompt_number": "*"
    }
   ],
   "metadata": {}
  }
 ]
}