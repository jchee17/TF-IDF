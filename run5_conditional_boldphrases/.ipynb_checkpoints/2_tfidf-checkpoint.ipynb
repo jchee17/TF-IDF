{
 "metadata": {
  "name": ""
 },
 "nbformat": 3,
 "nbformat_minor": 0,
 "worksheets": [
  {
   "cells": [
    {
     "cell_type": "code",
     "collapsed": false,
     "input": [
      "from __future__ import unicode_literals\n",
      "from __future__ import division\n",
      "import os\n",
      "import re\n",
      "import timeit\n",
      "import math\n",
      "import codecs\n",
      "import pickle\n",
      "import numpy as np"
     ],
     "language": "python",
     "metadata": {},
     "outputs": [],
     "prompt_number": 1
    },
    {
     "cell_type": "code",
     "collapsed": false,
     "input": [
      "list_wiki = pickle.load(open('./data_objects/list_wiki.p', 'r'))\n",
      "list_arxiv = pickle.load(open('./data_objects/list_arxiv.p', 'r'))\n",
      "\n",
      "vocab = pickle.load(open('./data_objects/vocab.p', 'r'))\n",
      "\n",
      "counts_wiki = np.load('./data_objects/counts_wiki.npy')\n",
      "counts_arxiv = np.load('./data_objects/counts_arxiv.npy')\n",
      "\n",
      "inv_counts_wiki = np.load('./data_objects/inv_counts_wiki.npy')\n",
      "inv_counts_arxiv = np.load('./data_objects/inv_counts_arxiv.npy')\n",
      "\n",
      "doc_term_wiki = np.load('./data_objects/doc_term_wiki.npy')\n",
      "doc_term_arxiv = np.load('./data_objects/doc_term_arxiv.npy')"
     ],
     "language": "python",
     "metadata": {},
     "outputs": [],
     "prompt_number": 3
    },
    {
     "cell_type": "code",
     "collapsed": false,
     "input": [
      "def gen_tfidf(doc_term_corpus, counts_corpus, inv_counts_corpus, \n",
      "              list_corpus, list_vocab):\n",
      "    \"\"\" generates doc-term tf-idf matrix \"\"\"\n",
      "    len_corpus = len(list_corpus)\n",
      "    \n",
      "    # output matrix\n",
      "    num_docs = len(list_corpus)\n",
      "    num_terms = len(list_vocab)\n",
      "    tfidf_corpus = np.zeros((num_docs, num_terms))\n",
      "    \n",
      "    count = 0\n",
      "    every = 500\n",
      "    \n",
      "    tf = 0.0\n",
      "    idf = 0.0\n",
      "    for i in range(num_docs):\n",
      "        for j in range(num_terms):\n",
      "            tf = doc_term_corpus[i,j] / (1 + counts_corpus[i])\n",
      "            idf = math.log(len_corpus / (1 + inv_counts_corpus[j]))\n",
      "            tfidf_corpus[i,j] = tf*idf\n",
      "            \n",
      "        if count % every == 0:\n",
      "            print(count)\n",
      "        count += 1\n",
      "            \n",
      "    return tfidf_corpus"
     ],
     "language": "python",
     "metadata": {},
     "outputs": [],
     "prompt_number": 4
    },
    {
     "cell_type": "code",
     "collapsed": false,
     "input": [
      "tfidf_wiki = gen_tfidf(doc_term_wiki, counts_wiki, inv_counts_wiki, list_wiki, vocab)\n",
      "np.save(\"./data_objects/tfidf_wiki.npy\", tfidf_wiki)\n",
      "\n",
      "tfidf_arxiv = gen_tfidf(doc_term_arxiv, counts_arxiv, inv_counts_arxiv, list_arxiv, vocab)\n",
      "np.save(\"./data_objects/tfidf_arxiv.npy\", tfidf_arxiv)"
     ],
     "language": "python",
     "metadata": {},
     "outputs": [
      {
       "output_type": "stream",
       "stream": "stdout",
       "text": [
        "0\n",
        "500"
       ]
      },
      {
       "output_type": "stream",
       "stream": "stdout",
       "text": [
        "\n",
        "1000"
       ]
      },
      {
       "ename": "KeyboardInterrupt",
       "evalue": "",
       "output_type": "pyerr",
       "traceback": [
        "\u001b[0;31m---------------------------------------------------------------------------\u001b[0m\n\u001b[0;31mKeyboardInterrupt\u001b[0m                         Traceback (most recent call last)",
        "\u001b[0;32m<ipython-input-6-8daffcc249fe>\u001b[0m in \u001b[0;36m<module>\u001b[0;34m()\u001b[0m\n\u001b[0;32m----> 1\u001b[0;31m \u001b[0mtfidf_wiki\u001b[0m \u001b[0;34m=\u001b[0m \u001b[0mgen_tfidf\u001b[0m\u001b[0;34m(\u001b[0m\u001b[0mdoc_term_wiki\u001b[0m\u001b[0;34m,\u001b[0m \u001b[0mcounts_wiki\u001b[0m\u001b[0;34m,\u001b[0m \u001b[0minv_counts_wiki\u001b[0m\u001b[0;34m,\u001b[0m \u001b[0mlist_wiki\u001b[0m\u001b[0;34m,\u001b[0m \u001b[0mvocab\u001b[0m\u001b[0;34m)\u001b[0m\u001b[0;34m\u001b[0m\u001b[0m\n\u001b[0m\u001b[1;32m      2\u001b[0m \u001b[0mnp\u001b[0m\u001b[0;34m.\u001b[0m\u001b[0msave\u001b[0m\u001b[0;34m(\u001b[0m\u001b[0;34m\"./data_objects/tfidf_wiki.npy\"\u001b[0m\u001b[0;34m,\u001b[0m \u001b[0mtfidf_wiki\u001b[0m\u001b[0;34m)\u001b[0m\u001b[0;34m\u001b[0m\u001b[0m\n\u001b[1;32m      3\u001b[0m \u001b[0;34m\u001b[0m\u001b[0m\n\u001b[1;32m      4\u001b[0m \u001b[0mtfidf_arxiv\u001b[0m \u001b[0;34m=\u001b[0m \u001b[0mgen_tfidf\u001b[0m\u001b[0;34m(\u001b[0m\u001b[0mdoc_term_arxiv\u001b[0m\u001b[0;34m,\u001b[0m \u001b[0mcounts_arxiv\u001b[0m\u001b[0;34m,\u001b[0m \u001b[0minv_counts_arxiv\u001b[0m\u001b[0;34m,\u001b[0m \u001b[0mlist_arxiv\u001b[0m\u001b[0;34m,\u001b[0m \u001b[0mvocab\u001b[0m\u001b[0;34m)\u001b[0m\u001b[0;34m\u001b[0m\u001b[0m\n\u001b[1;32m      5\u001b[0m \u001b[0mnp\u001b[0m\u001b[0;34m.\u001b[0m\u001b[0msave\u001b[0m\u001b[0;34m(\u001b[0m\u001b[0;34m\"./data_objects/tfidf_arxiv.npy\"\u001b[0m\u001b[0;34m,\u001b[0m \u001b[0mtfidf_arxiv\u001b[0m\u001b[0;34m)\u001b[0m\u001b[0;34m\u001b[0m\u001b[0m\n",
        "\u001b[0;32m<ipython-input-4-ec7fc9794197>\u001b[0m in \u001b[0;36mgen_tfidf\u001b[0;34m(doc_term_corpus, counts_corpus, inv_counts_corpus, list_corpus, list_vocab)\u001b[0m\n\u001b[1;32m     17\u001b[0m         \u001b[0;32mfor\u001b[0m \u001b[0mj\u001b[0m \u001b[0;32min\u001b[0m \u001b[0mrange\u001b[0m\u001b[0;34m(\u001b[0m\u001b[0mnum_terms\u001b[0m\u001b[0;34m)\u001b[0m\u001b[0;34m:\u001b[0m\u001b[0;34m\u001b[0m\u001b[0m\n\u001b[1;32m     18\u001b[0m             \u001b[0mtf\u001b[0m \u001b[0;34m=\u001b[0m \u001b[0mdoc_term_corpus\u001b[0m\u001b[0;34m[\u001b[0m\u001b[0mi\u001b[0m\u001b[0;34m,\u001b[0m\u001b[0mj\u001b[0m\u001b[0;34m]\u001b[0m \u001b[0;34m/\u001b[0m \u001b[0;34m(\u001b[0m\u001b[0;36m1\u001b[0m \u001b[0;34m+\u001b[0m \u001b[0mcounts_corpus\u001b[0m\u001b[0;34m[\u001b[0m\u001b[0mi\u001b[0m\u001b[0;34m]\u001b[0m\u001b[0;34m)\u001b[0m\u001b[0;34m\u001b[0m\u001b[0m\n\u001b[0;32m---> 19\u001b[0;31m             \u001b[0midf\u001b[0m \u001b[0;34m=\u001b[0m \u001b[0mmath\u001b[0m\u001b[0;34m.\u001b[0m\u001b[0mlog\u001b[0m\u001b[0;34m(\u001b[0m\u001b[0mlen_corpus\u001b[0m \u001b[0;34m/\u001b[0m \u001b[0;34m(\u001b[0m\u001b[0;36m1\u001b[0m \u001b[0;34m+\u001b[0m \u001b[0minv_counts_corpus\u001b[0m\u001b[0;34m[\u001b[0m\u001b[0mj\u001b[0m\u001b[0;34m]\u001b[0m\u001b[0;34m)\u001b[0m\u001b[0;34m)\u001b[0m\u001b[0;34m\u001b[0m\u001b[0m\n\u001b[0m\u001b[1;32m     20\u001b[0m             \u001b[0mtfidf_corpus\u001b[0m\u001b[0;34m[\u001b[0m\u001b[0mi\u001b[0m\u001b[0;34m,\u001b[0m\u001b[0mj\u001b[0m\u001b[0;34m]\u001b[0m \u001b[0;34m=\u001b[0m \u001b[0mtf\u001b[0m\u001b[0;34m*\u001b[0m\u001b[0midf\u001b[0m\u001b[0;34m\u001b[0m\u001b[0m\n\u001b[1;32m     21\u001b[0m \u001b[0;34m\u001b[0m\u001b[0m\n",
        "\u001b[0;31mKeyboardInterrupt\u001b[0m: "
       ]
      },
      {
       "output_type": "stream",
       "stream": "stdout",
       "text": [
        "\n"
       ]
      }
     ],
     "prompt_number": 6
    }
   ],
   "metadata": {}
  }
 ]
}