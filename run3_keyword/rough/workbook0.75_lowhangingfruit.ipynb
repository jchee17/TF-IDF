{
 "metadata": {
  "name": ""
 },
 "nbformat": 3,
 "nbformat_minor": 0,
 "worksheets": [
  {
   "cells": [
    {
     "cell_type": "code",
     "collapsed": false,
     "input": [
      "import os\n",
      "import re\n",
      "import codecs\n",
      "import timeit\n",
      "import string\n",
      "import pickle\n",
      "from nltk.tokenize import RegexpTokenizer\n",
      "\n",
      "path_arxiv = '/home/jerry/Data/Hopper_Project/ptm_data/arxiv_processed_trunc/'\n",
      "articles = os.listdir(path_arxiv)\n",
      "\n",
      "concepts = pickle.load(open('./data_objects/u_master-concepts.p', 'r'))\n",
      "\n",
      "#arxiv_sep_byfile = pickle.load(open('./data_objects/arxiv_sep_byfile.p' ,'r'))\n",
      "#arxiv_wordsindoc = pickle.load(open('./data_objects/arxiv_wordsindoc.p', 'r'))"
     ],
     "language": "python",
     "metadata": {},
     "outputs": [],
     "prompt_number": 12
    },
    {
     "cell_type": "code",
     "collapsed": false,
     "input": [
      "# check so that there are no spaces at beginning or end of \n",
      "# keywords in concepts\n",
      "for word in concepts:\n",
      "    if (' ' == word[-1:]):\n",
      "        print(word)\n",
      "        \n",
      "    if ('' == word[:1]):\n",
      "        print(word)\n",
      "        \n",
      "# check so that there are no '[]' in concepts\n",
      "for word in concepts:\n",
      "    if ('[]' in word):\n",
      "        print(word)"
     ],
     "language": "python",
     "metadata": {},
     "outputs": [
      {
       "output_type": "stream",
       "stream": "stdout",
       "text": [
        "\n",
        "\n"
       ]
      }
     ],
     "prompt_number": 54
    },
    {
     "cell_type": "code",
     "collapsed": false,
     "input": [
      "# I try to use re.sub to replace [-\\\u2013 ] with the \n",
      "# literal [-\\\u2013 ] to be used in a regex findall\n",
      "\n",
      "re_concepts = {}\n",
      "\n",
      "def create_regex(keyword):\n",
      "    re_keyword = r''\n",
      "    re_keyword = r'\\b' + re.sub(r\"[-\\\u2013 ]\", u\"[-\\\u2013 ]\", re.escape(keyword)) + r'\\b'\n",
      "    re_concepts[keyword.lower()] = re_keyword.lower()\n",
      "\n",
      "for word in concepts:\n",
      "    create_regex(word)\n",
      "    \n",
      "re_concepts.pop('')"
     ],
     "language": "python",
     "metadata": {},
     "outputs": [
      {
       "metadata": {},
       "output_type": "pyout",
       "prompt_number": 145,
       "text": [
        "u'\\\\b\\\\b'"
       ]
      }
     ],
     "prompt_number": 145
    },
    {
     "cell_type": "code",
     "collapsed": false,
     "input": [
      "fp = None\n",
      "txt = u''\n",
      "arxiv_sep_byfile_re = {}\n",
      "arxiv_sep_byfile = {}\n",
      "n_re = 0\n",
      "n = 0\n",
      "\n",
      "for f in articles[0:1]:\n",
      "    # import text\n",
      "    fp = codecs.open(path_arxiv+f, \"r\", \"utf-8\", errors='ignore')\n",
      "    txt = fp.read()\n",
      "    txt = txt.lower()\n",
      "    \n",
      "    # create sub dictionary\n",
      "    arxiv_sep_byfile_re[f] = {}\n",
      "    arxiv_sep_byfile[f] = {}\n",
      "    \n",
      "    # let's call re.findall\n",
      "    for keyword, r in re_concepts.iteritems():\n",
      "        #print(keyword, r)\n",
      "        n_re = len(re.findall(r, txt))\n",
      "        #print(n)\n",
      "        n = txt.count(keyword)\n",
      "        \n",
      "        if (n_re > 0):\n",
      "            arxiv_sep_byfile_re[f][keyword] = n_re\n",
      "    \n",
      "        if (n > 0):\n",
      "            arxiv_sep_byfile[f][keyword] = n\n",
      "    "
     ],
     "language": "python",
     "metadata": {},
     "outputs": [],
     "prompt_number": 149
    },
    {
     "cell_type": "code",
     "collapsed": false,
     "input": [
      "arxiv_sep_byfile"
     ],
     "language": "python",
     "metadata": {},
     "outputs": [
      {
       "metadata": {},
       "output_type": "pyout",
       "prompt_number": 160,
       "text": [
        "{'1409.7482_trunc.txt': {u'central limit theorem': 3,\n",
        "  u'count data': 1,\n",
        "  u'cumulant': 10,\n",
        "  u'discrete time': 1,\n",
        "  u'exponential dispersion model': 3,\n",
        "  u'gamma distribution': 1,\n",
        "  u'inverse gaussian distribution': 1,\n",
        "  u'law of large numbers': 1,\n",
        "  u'mean': 2,\n",
        "  u'normal distribution': 1,\n",
        "  u'overdispersion': 1,\n",
        "  u'scaling limit': 1,\n",
        "  u'stable distribution': 1,\n",
        "  u'variance': 3,\n",
        "  u'xplore': 1}}"
       ]
      }
     ],
     "prompt_number": 160
    },
    {
     "cell_type": "code",
     "collapsed": false,
     "input": [
      "r = re_concepts[u'central limit theorem']"
     ],
     "language": "python",
     "metadata": {},
     "outputs": [
      {
       "metadata": {},
       "output_type": "pyout",
       "prompt_number": 153,
       "text": [
        "u'\\\\bcentral\\\\[-\\\\\\u2013 ]limit\\\\[-\\\\\\u2013 ]theorem\\\\b'"
       ]
      }
     ],
     "prompt_number": 153
    },
    {
     "cell_type": "code",
     "collapsed": false,
     "input": [
      "txt\n",
      "\n"
     ],
     "language": "python",
     "metadata": {},
     "outputs": [
      {
       "metadata": {},
       "output_type": "pyout",
       "prompt_number": 157,
       "text": [
        "u'  discrete dispersion models and their tweedie asymptotics bent jrgensen   university of southern denmark,  department of mathematics and computer science,  campusvej 55, dk-5230 odense m, denmark;  e-mail : bentj@stat.sdu.dk clestin c. kokonendji   universit de franche-comt - ufr sciences et techniques  laboratoire de mathmatiques de besanon - umr 6623 cnrs  16, route de gray - 25030 besanon cedex, france;  e-mail : celestin.kokonendji@univ-fcomte.fr   abstract we introduce a class of two-parameter discrete dispersion models, obtained by combining convolution with a factorial tilting operation, similar to exponential dispersion models which combine convolution and exponential tilting. the equidispersed poisson model has a special place in this approach, whereas several overdispersed discrete distributions, such as the neyman type a, plya-aeppli, negative binomial and poisson-inverse gaussian, turn out to be poisson-tweedie factorial dispersion models with power dispersion functions, analogous to ordinary tweedie exponential dispersion models with power variance functions. using the factorial cumulant generating function as tool, we introduce a dilation operation as a discrete analogue of scaling, generalizing binomial thinning. the poisson-tweedie factorial dispersion models are closed under dilation, which in turn leads to a poisson-tweedie asymptotic framework where poisson-tweedie models appear as dilation limits. this unifies many discrete convergence results and leads to poisson and hermite convergence results, similar to the law of large numbers and the central limit theorem, respectively. the dilation operator also leads to a duality transformation which in some cases transforms overdispersion into underdispersion and vice-versa. many of the results have multivariate analogues, and in particular we consider a class of multivariate poisson-tweedie models, a multivariate notion of over- and underdispersion, and a multivariate zero-inflation index. keywords: factorial cumulant generating function; factorial tilting family; infinite dilatability; multivariate discrete distribution; over-/underdispersion; poisson-tweedie mixture mathematics subject classification: 60e10; 62e20; 62h05 abstract  introduction  given the plethora of discrete distributions available in the literature   johnson2005  wimmer1999(johnson et al., 2005; wimmer and altmann, 1999), it is difficult to point, with conviction, to one or the other two-parameter discrete family as being especially suited for modelling count data phenomena such as over/underdispersion or zero-inflation/deflation. the central limit theorem leads to the normal distribution, which is continuous, and there are few general discrete asymptotic results available other than conventional poisson convergence. echoing tweedie1984, who introduced the family of continuous tweedie models now bearing his name, we should perhaps be looking for an index which distinguishes between some important discrete distributions. ideally, such a class of discrete distributions should be justified by a general asymptotic result like the tweedie convergence theorem of jorgensen1994.  there are several problems that make the discrete case more difficult to handle than the continuous case. the first problem is that there are no immediate discrete analogues of location and scale transformations, which are crucial in the continuous case for handling scaling limits such as the central limit theorem. a second and related problem is that there are no obvious discrete analogues of standard continuous distributions such as the normal or gamma distributions. a third problem is that discrete natural exponential families (power-series distributions), while ubiquitous, tend to have much more complicated variance functions than in the continuous case.  an important step forward was taken by steutel1979, who introduced the discrete analogue of positive stable distributions by using binomial thinning instead of scaling. the same technique has been used extensively for constructing discrete time-series models   [e.g.][]weiss2008  . recently, harremoes2010 used binomial thinning to formulate an extended poisson convergence theorem, which they called the \"law of thin numbers\", whereas puig2003 and puig2006,puig2007 have characterized discrete distributions closed under convolution and binomial thinning.  in order to make further progress, we shall follow the footsteps of jorgensen2007a and jorgensen2010, who developed analogues of tweedie asymptotics for extremes and geometric sums, respectively. these authors explored specialized versions of the cumulant generating function (cgf), and showed that each of the two corresponding analogues of the variance function are efficient characterization and convergence tools.  in the present paper we argue that the factorial cumulant generating function (fcgf) is the most suitable choice for handling the discrete case, along with the first two factorial cumulants, namely the mean and the dispersion. firstly, the fcgf characterizes convolution additively. secondly, we shall use the fcgf to generalize binomial thinning to a dilation operator, providing the discrete analogue of scaling. thirdly, the dispersion function, which expresses the dispersion as a function of the mean, leads to a new discrete poisson-tweedie convergence theorem. many known discrete distributions such as the hermite, neyman type a, p lya-aeppli, binomial, negative binomial and poisson-inverse gaussian distributions have power dispersion functions, and hence appear as limits in the corresponding regime of power asymptotics for dispersion functions. the corresponding power parameter is the index alluded to above.  the plan of the paper is to develop a new class of factorial dispersion models and poisson-tweedie mixtures as analogues of conventional exponential and tweedie dispersion models, respectively, along the lines of    [ch. 3-4]jorgensen1997  . we review fcgfs and factorial cumulants in section sec:cumulant, we consider poisson and hermite convergence, and we consider the concept of infinite dilatability and its relation with poisson mixtures. we introduce a new operation called the m-transformation, and show that in some cases it presents a duality between over- and underdispersion. in section sec3 we consider a new factorial tilting operation and introduce the class of factorial dispersion models and their dispersion functions. we show that the poisson-tweedie mixtures are factorial dispersion models and show that their dispersion functions are of power form. in section sec5 we present a general convergence theorem for dispersion functions (with proof given in appendix b) and present the new poisson-tweedie convergence theorem and some examples. we consider the multivariate case in section sec:multivariate , where we discuss multivariate factorial cumulants and some of their properties, and consider multivariate over-, equi-, and underdispersion. we also introduce a new class of multivariate poisson-tweedie mixtures, which provides multivariate versions of many of the distributions mentioned above. finally, appendix a contains a summary of relevant results for exponential dispersion models.  factorial cumulant generating functionssec:cumulant  we begin by developing'"
       ]
      }
     ],
     "prompt_number": 157
    },
    {
     "cell_type": "markdown",
     "metadata": {},
     "source": [
      "I'm not getting as many matches with re as I am with str.count(). I'm not sure why, will figure out later [2/6]"
     ]
    }
   ],
   "metadata": {}
  }
 ]
}