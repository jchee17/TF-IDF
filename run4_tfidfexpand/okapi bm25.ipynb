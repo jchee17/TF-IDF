{
 "metadata": {
  "name": ""
 },
 "nbformat": 3,
 "nbformat_minor": 0,
 "worksheets": [
  {
   "cells": [
    {
     "cell_type": "code",
     "collapsed": false,
     "input": [
      "from __future__ import unicode_literals\n",
      "from __future__ import division\n",
      "import os\n",
      "import re\n",
      "import timeit\n",
      "import math\n",
      "import codecs\n",
      "import pickle\n",
      "import numpy as np"
     ],
     "language": "python",
     "metadata": {},
     "outputs": [],
     "prompt_number": 1
    },
    {
     "cell_type": "code",
     "collapsed": false,
     "input": [
      "list_wiki = pickle.load(open('./data_objects/list_wiki.p', 'r'))\n",
      "list_arxiv = pickle.load(open('./data_objects/list_arxiv.p', 'r'))\n",
      "\n",
      "list_vocab = pickle.load(open('./data_objects/list_vocab.p', 'r'))\n",
      "\n",
      "counts_wiki = np.load('./data_objects/counts_wiki.npy')\n",
      "counts_arxiv = np.load('./data_objects/counts_arxiv.npy')\n",
      "\n",
      "inv_counts_wiki = np.load('./data_objects/inv_counts_wiki.npy')\n",
      "inv_counts_arxiv = np.load('./data_objects/inv_counts_arxiv.npy')\n",
      "\n",
      "doc_term_wiki = np.load('./data_objects/doc_term_wiki.npy')\n",
      "doc_term_arxiv = np.load('./data_objects/doc_term_arxiv.npy')"
     ],
     "language": "python",
     "metadata": {},
     "outputs": [],
     "prompt_number": 13
    },
    {
     "cell_type": "code",
     "collapsed": false,
     "input": [
      "def gen_okapi_bm25(list_corpus, list_common_vocab, \n",
      "               counts_corpus, \n",
      "               inv_counts_corpus,\n",
      "               doc_term_corpus,\n",
      "               k1, b):\n",
      "    \"\"\" computes doc-term okapibm25 matrix for a corpus \"\"\"\n",
      "    \n",
      "    # output matrix\n",
      "    num_docs = len(list_corpus)\n",
      "    num_terms = len(list_common_vocab)\n",
      "    okapi_bm25_corpus = np.zeros((num_docs, num_terms))\n",
      "    \n",
      "    # holding variables\n",
      "    doc_term_count = 0.0\n",
      "    doc_len = 0.0\n",
      "    doc_count = 0.0\n",
      "    TF = 0.0\n",
      "    IDF = 0.0\n",
      "    \n",
      "    # find average doc length\n",
      "    avg_dl = np.mean(counts_corpus)\n",
      "    \n",
      "    # timing variables\n",
      "    count = 0\n",
      "    every = 100\n",
      "    start = timeit.default_timer()\n",
      "    checkpoint = 0.0\n",
      "    for i in range(num_docs):\n",
      "        doc_len = counts_corpus[i]\n",
      "        for j in range(num_terms):\n",
      "            # fill in holding variables\n",
      "            doc_term_count = doc_term_corpus[i,j]\n",
      "            doc_count = inv_counts_corpus[j]\n",
      "            \n",
      "            TF = ((k1 + 1.0) * doc_term_count) / ((k1 * \n",
      "            ((1.0 - b) + b * doc_len / avg_dl))\n",
      "            + doc_term_count)\n",
      "            \n",
      "            IDF = math.log( 1.0 + (num_docs - doc_count + 0.5) / \n",
      "                           (doc_count + 0.5))\n",
      "            \n",
      "            okapi_bm25_corpus[i,j] = TF * IDF\n",
      "            \n",
      "        if count % every == 0:\n",
      "            checkpoint = timeit.default_timer()\n",
      "            print(count, checkpoint-start)\n",
      "        count += 1\n",
      "        \n",
      "            \n",
      "    return okapi_bm25_corpus    \n",
      "    "
     ],
     "language": "python",
     "metadata": {},
     "outputs": [],
     "prompt_number": 21
    },
    {
     "cell_type": "code",
     "collapsed": false,
     "input": [
      "k1 = 1.2\n",
      "b = 0.75\n",
      "\n",
      "okapi_bm25_wiki = gen_okapi_bm25(list_wiki, list_vocab, \n",
      "               counts_wiki, inv_counts_wiki,\n",
      "               doc_term_wiki,\n",
      "               k1, b)\n",
      "    \n",
      "np.save(\"./data_objects/okapi_bm25_wiki.npy\", okapi_bm25_wiki)\n",
      "\n",
      "okapi_bm25_arxiv = gen_okapi_bm25(list_arxiv, list_vocab, \n",
      "               counts_arxiv, inv_counts_arxiv,\n",
      "               doc_term_arxiv,\n",
      "               k1, b)\n",
      "    \n",
      "np.save(\"./data_objects/okapi_bm25_arxiv.npy\", okapi_bm25_arxiv)"
     ],
     "language": "python",
     "metadata": {},
     "outputs": [
      {
       "output_type": "stream",
       "stream": "stdout",
       "text": [
        "(0, 0.1551811695098877)\n",
        "(100, 13.030476093292236)"
       ]
      },
      {
       "output_type": "stream",
       "stream": "stdout",
       "text": [
        "\n",
        "(200, 25.899294137954712)"
       ]
      },
      {
       "output_type": "stream",
       "stream": "stdout",
       "text": [
        "\n",
        "(300, 38.520506143569946)"
       ]
      },
      {
       "output_type": "stream",
       "stream": "stdout",
       "text": [
        "\n",
        "(400, 51.85413217544556)"
       ]
      },
      {
       "output_type": "stream",
       "stream": "stdout",
       "text": [
        "\n",
        "(500, 64.57603716850281)"
       ]
      },
      {
       "output_type": "stream",
       "stream": "stdout",
       "text": [
        "\n",
        "(600, 78.35065913200378)"
       ]
      },
      {
       "output_type": "stream",
       "stream": "stdout",
       "text": [
        "\n",
        "(700, 91.48055601119995)"
       ]
      },
      {
       "output_type": "stream",
       "stream": "stdout",
       "text": [
        "\n",
        "(800, 104.5370020866394)"
       ]
      },
      {
       "output_type": "stream",
       "stream": "stdout",
       "text": [
        "\n",
        "(900, 117.33807516098022)"
       ]
      },
      {
       "output_type": "stream",
       "stream": "stdout",
       "text": [
        "\n",
        "(1000, 130.11159706115723)"
       ]
      },
      {
       "output_type": "stream",
       "stream": "stdout",
       "text": [
        "\n",
        "(1100, 142.7688970565796)"
       ]
      },
      {
       "output_type": "stream",
       "stream": "stdout",
       "text": [
        "\n",
        "(1200, 155.5247039794922)"
       ]
      },
      {
       "output_type": "stream",
       "stream": "stdout",
       "text": [
        "\n",
        "(1300, 168.4202220439911)"
       ]
      },
      {
       "output_type": "stream",
       "stream": "stdout",
       "text": [
        "\n",
        "(1400, 181.21947312355042)"
       ]
      },
      {
       "output_type": "stream",
       "stream": "stdout",
       "text": [
        "\n",
        "(1500, 194.3588421344757)"
       ]
      },
      {
       "output_type": "stream",
       "stream": "stdout",
       "text": [
        "\n",
        "(1600, 206.9000940322876)"
       ]
      },
      {
       "output_type": "stream",
       "stream": "stdout",
       "text": [
        "\n",
        "(1700, 219.55076503753662)"
       ]
      },
      {
       "output_type": "stream",
       "stream": "stdout",
       "text": [
        "\n",
        "(1800, 232.25588703155518)"
       ]
      },
      {
       "output_type": "stream",
       "stream": "stdout",
       "text": [
        "\n",
        "(1900, 244.87362909317017)"
       ]
      },
      {
       "output_type": "stream",
       "stream": "stdout",
       "text": [
        "\n",
        "(2000, 257.57718801498413)"
       ]
      },
      {
       "output_type": "stream",
       "stream": "stdout",
       "text": [
        "\n",
        "(2100, 270.2012541294098)"
       ]
      },
      {
       "output_type": "stream",
       "stream": "stdout",
       "text": [
        "\n",
        "(2200, 282.84538412094116)"
       ]
      },
      {
       "output_type": "stream",
       "stream": "stdout",
       "text": [
        "\n",
        "(2300, 295.49540400505066)"
       ]
      },
      {
       "output_type": "stream",
       "stream": "stdout",
       "text": [
        "\n",
        "(2400, 308.19585704803467)"
       ]
      },
      {
       "output_type": "stream",
       "stream": "stdout",
       "text": [
        "\n",
        "(2500, 320.79173612594604)"
       ]
      },
      {
       "output_type": "stream",
       "stream": "stdout",
       "text": [
        "\n",
        "(2600, 333.4025971889496)"
       ]
      },
      {
       "output_type": "stream",
       "stream": "stdout",
       "text": [
        "\n",
        "(2700, 346.00619411468506)"
       ]
      },
      {
       "output_type": "stream",
       "stream": "stdout",
       "text": [
        "\n",
        "(2800, 358.5582060813904)"
       ]
      },
      {
       "output_type": "stream",
       "stream": "stdout",
       "text": [
        "\n",
        "(2900, 371.14219999313354)"
       ]
      },
      {
       "output_type": "stream",
       "stream": "stdout",
       "text": [
        "\n",
        "(3000, 383.752681016922)"
       ]
      },
      {
       "output_type": "stream",
       "stream": "stdout",
       "text": [
        "\n",
        "(3100, 396.2916600704193)"
       ]
      },
      {
       "output_type": "stream",
       "stream": "stdout",
       "text": [
        "\n",
        "(3200, 408.9668080806732)"
       ]
      },
      {
       "output_type": "stream",
       "stream": "stdout",
       "text": [
        "\n",
        "(0, 0.2501189708709717)"
       ]
      },
      {
       "output_type": "stream",
       "stream": "stdout",
       "text": [
        "\n",
        "(100, 12.932965993881226)"
       ]
      },
      {
       "output_type": "stream",
       "stream": "stdout",
       "text": [
        "\n",
        "(200, 25.53265690803528)"
       ]
      },
      {
       "output_type": "stream",
       "stream": "stdout",
       "text": [
        "\n",
        "(300, 38.1000280380249)"
       ]
      },
      {
       "output_type": "stream",
       "stream": "stdout",
       "text": [
        "\n",
        "(400, 50.73934507369995)"
       ]
      },
      {
       "output_type": "stream",
       "stream": "stdout",
       "text": [
        "\n",
        "(500, 63.318156003952026)"
       ]
      },
      {
       "output_type": "stream",
       "stream": "stdout",
       "text": [
        "\n",
        "(600, 76.31485104560852)"
       ]
      },
      {
       "output_type": "stream",
       "stream": "stdout",
       "text": [
        "\n",
        "(700, 89.17441701889038)"
       ]
      },
      {
       "output_type": "stream",
       "stream": "stdout",
       "text": [
        "\n",
        "(800, 102.08208084106445)"
       ]
      },
      {
       "output_type": "stream",
       "stream": "stdout",
       "text": [
        "\n",
        "(900, 115.11004090309143)"
       ]
      },
      {
       "output_type": "stream",
       "stream": "stdout",
       "text": [
        "\n",
        "(1000, 127.85354399681091)"
       ]
      },
      {
       "output_type": "stream",
       "stream": "stdout",
       "text": [
        "\n",
        "(1100, 140.49846696853638)"
       ]
      },
      {
       "output_type": "stream",
       "stream": "stdout",
       "text": [
        "\n",
        "(1200, 153.2686710357666)"
       ]
      },
      {
       "output_type": "stream",
       "stream": "stdout",
       "text": [
        "\n",
        "(1300, 165.85932993888855)"
       ]
      },
      {
       "output_type": "stream",
       "stream": "stdout",
       "text": [
        "\n",
        "(1400, 178.4508500099182)"
       ]
      },
      {
       "output_type": "stream",
       "stream": "stdout",
       "text": [
        "\n",
        "(1500, 191.06738996505737)"
       ]
      },
      {
       "output_type": "stream",
       "stream": "stdout",
       "text": [
        "\n",
        "(1600, 203.76762890815735)"
       ]
      },
      {
       "output_type": "stream",
       "stream": "stdout",
       "text": [
        "\n",
        "(1700, 216.4128179550171)"
       ]
      },
      {
       "output_type": "stream",
       "stream": "stdout",
       "text": [
        "\n",
        "(1800, 229.24457597732544)"
       ]
      },
      {
       "output_type": "stream",
       "stream": "stdout",
       "text": [
        "\n",
        "(1900, 241.80869102478027)"
       ]
      },
      {
       "output_type": "stream",
       "stream": "stdout",
       "text": [
        "\n",
        "(2000, 254.47778987884521)"
       ]
      },
      {
       "output_type": "stream",
       "stream": "stdout",
       "text": [
        "\n",
        "(2100, 267.19593691825867)"
       ]
      },
      {
       "output_type": "stream",
       "stream": "stdout",
       "text": [
        "\n",
        "(2200, 279.79441690444946)"
       ]
      },
      {
       "output_type": "stream",
       "stream": "stdout",
       "text": [
        "\n",
        "(2300, 292.4392740726471)"
       ]
      },
      {
       "output_type": "stream",
       "stream": "stdout",
       "text": [
        "\n",
        "(2400, 305.02310585975647)"
       ]
      },
      {
       "output_type": "stream",
       "stream": "stdout",
       "text": [
        "\n",
        "(2500, 317.69161200523376)"
       ]
      },
      {
       "output_type": "stream",
       "stream": "stdout",
       "text": [
        "\n",
        "(2600, 330.37993597984314)"
       ]
      },
      {
       "output_type": "stream",
       "stream": "stdout",
       "text": [
        "\n",
        "(2700, 343.2270588874817)"
       ]
      },
      {
       "output_type": "stream",
       "stream": "stdout",
       "text": [
        "\n",
        "(2800, 355.9327850341797)"
       ]
      },
      {
       "output_type": "stream",
       "stream": "stdout",
       "text": [
        "\n",
        "(2900, 368.7015640735626)"
       ]
      },
      {
       "output_type": "stream",
       "stream": "stdout",
       "text": [
        "\n",
        "(3000, 381.3166148662567)"
       ]
      },
      {
       "output_type": "stream",
       "stream": "stdout",
       "text": [
        "\n",
        "(3100, 393.99141788482666)"
       ]
      },
      {
       "output_type": "stream",
       "stream": "stdout",
       "text": [
        "\n",
        "(3200, 406.6164970397949)"
       ]
      },
      {
       "output_type": "stream",
       "stream": "stdout",
       "text": [
        "\n",
        "(3300, 419.41192507743835)"
       ]
      },
      {
       "output_type": "stream",
       "stream": "stdout",
       "text": [
        "\n",
        "(3400, 432.19471406936646)"
       ]
      },
      {
       "output_type": "stream",
       "stream": "stdout",
       "text": [
        "\n",
        "(3500, 444.90153193473816)"
       ]
      },
      {
       "output_type": "stream",
       "stream": "stdout",
       "text": [
        "\n",
        "(3600, 457.59840297698975)"
       ]
      },
      {
       "output_type": "stream",
       "stream": "stdout",
       "text": [
        "\n"
       ]
      }
     ],
     "prompt_number": 22
    },
    {
     "cell_type": "code",
     "collapsed": false,
     "input": [
      "sum(okapi_bm25_wiki[0])"
     ],
     "language": "python",
     "metadata": {},
     "outputs": [
      {
       "metadata": {},
       "output_type": "pyout",
       "prompt_number": 24,
       "text": [
        "237.50888270954889"
       ]
      }
     ],
     "prompt_number": 24
    }
   ],
   "metadata": {}
  }
 ]
}