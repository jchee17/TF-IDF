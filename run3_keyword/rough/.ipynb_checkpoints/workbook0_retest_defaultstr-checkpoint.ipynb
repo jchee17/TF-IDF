{
 "metadata": {
  "name": ""
 },
 "nbformat": 3,
 "nbformat_minor": 0,
 "worksheets": [
  {
   "cells": [
    {
     "cell_type": "markdown",
     "metadata": {},
     "source": [
      "I will test a different method of obtaining word counts. \n",
      "\n",
      "Load text into python, use the re package. Timeit to see results. "
     ]
    },
    {
     "cell_type": "code",
     "collapsed": false,
     "input": [
      "import os\n",
      "import re\n",
      "import timeit\n",
      "import codecs\n",
      "import string\n",
      "import pickle\n",
      "from nltk.tokenize import RegexpTokenizer\n",
      "\n",
      "path_arxiv = '/home/jerry/Data/Hopper_Project/ptm_data/arxiv_processed_trunc/'\n",
      "articles = os.listdir(path_arxiv)\n",
      "\n",
      "#concepts = pickle.load(open('./data_objects/concepts.p', 'r'))\n",
      "\n",
      "#arxiv_sep_byfile = pickle.load(open('./data_objects/arxiv_sep_byfile.p' ,'r'))\n",
      "#arxiv_wordsindoc = pickle.load(open('./data_objects/arxiv_wordsindoc.p', 'r'))\n",
      "#articles = arxiv_sep_byfile.keys()\n",
      "\n"
     ],
     "language": "python",
     "metadata": {},
     "outputs": [],
     "prompt_number": 6
    },
    {
     "cell_type": "code",
     "collapsed": false,
     "input": [
      "fp = None\n",
      "txt = ''\n",
      "arxiv_sep_byfile = {}\n",
      "\n",
      "start_time = timeit.default_timer()\n",
      "\n",
      "for f in articles:\n",
      "    # import text\n",
      "    fp = open(path_arxiv+f, 'r')\n",
      "    txt = fp.read()\n",
      "    \n",
      "    # create sub dictionary\n",
      "    arxiv_sep_byfile[f] = {}\n",
      "    \n",
      "    for word in concepts:\n",
      "        if word in txt:\n",
      "            arxiv_sep_byfile[f][word] = txt.count(word)\n",
      "            \n",
      "    print(f)\n",
      "\n",
      "elapsed = timeit.default_timer() - start_time\n",
      "print(elapsed)"
     ],
     "language": "python",
     "metadata": {},
     "outputs": [
      {
       "output_type": "stream",
       "stream": "stdout",
       "text": [
        "1409.7482_trunc.txt\n",
        "1405.6803_trunc.txt\n",
        "1405.6942_trunc.txt\n",
        "1305.0539_trunc.txt\n",
        "1411.0900_trunc.txt"
       ]
      },
      {
       "output_type": "stream",
       "stream": "stdout",
       "text": [
        "\n",
        "1305.7462_trunc.txt\n",
        "1208.4318_trunc.txt\n",
        "1306.1059_trunc.txt\n",
        "1507.06227_trunc.txt"
       ]
      },
      {
       "output_type": "stream",
       "stream": "stdout",
       "text": [
        "\n",
        "1406.1758_trunc.txt\n",
        "1110.1846_trunc.txt\n",
        "1310.5764_trunc.txt"
       ]
      },
      {
       "output_type": "stream",
       "stream": "stdout",
       "text": [
        "\n",
        "1412.1490_trunc.txt\n",
        "1304.1237_trunc.txt\n",
        "1107.2766_trunc.txt\n",
        "1106.1193_trunc.txt"
       ]
      },
      {
       "output_type": "stream",
       "stream": "stdout",
       "text": [
        "\n",
        "1202.5070_trunc.txt\n",
        "1208.3555_trunc.txt\n",
        "1302.6746_trunc.txt\n",
        "1501.00442_trunc.txt"
       ]
      },
      {
       "output_type": "stream",
       "stream": "stdout",
       "text": [
        "\n",
        "1509.00368_trunc.txt\n",
        "1504.05289_trunc.txt\n",
        "1401.7195_trunc.txt\n",
        "1402.1937_trunc.txt"
       ]
      },
      {
       "output_type": "stream",
       "stream": "stdout",
       "text": [
        "\n",
        "1105.5041_trunc.txt\n",
        "1405.6655_trunc.txt\n",
        "1504.00865_trunc.txt\n",
        "1305.5067_trunc.txt"
       ]
      },
      {
       "output_type": "stream",
       "stream": "stdout",
       "text": [
        "\n",
        "1205.4094_trunc.txt\n",
        "1407.1114_trunc.txt\n",
        "1503.06236_trunc.txt\n",
        "1505.06832_trunc.txt"
       ]
      },
      {
       "output_type": "stream",
       "stream": "stdout",
       "text": [
        "\n",
        "1202.3307_trunc.txt\n",
        "1211.3224_trunc.txt\n",
        "1508.01131_trunc.txt\n",
        "1306.4864_trunc.txt"
       ]
      },
      {
       "output_type": "stream",
       "stream": "stdout",
       "text": [
        "\n",
        "1305.1470_trunc.txt\n",
        "1210.7257_trunc.txt\n",
        "1511.04162_trunc.txt\n",
        "1210.6950_trunc.txt"
       ]
      },
      {
       "output_type": "stream",
       "stream": "stdout",
       "text": [
        "\n",
        "1404.0646_trunc.txt\n",
        "1105.1310_trunc.txt\n",
        "1205.6275_trunc.txt\n",
        "1211.2630_trunc.txt"
       ]
      },
      {
       "output_type": "stream",
       "stream": "stdout",
       "text": [
        "\n",
        "1408.2566_trunc.txt\n",
        "1408.6618_trunc.txt\n",
        "1404.6769_trunc.txt\n",
        "1508.04905_trunc.txt"
       ]
      },
      {
       "output_type": "stream",
       "stream": "stdout",
       "text": [
        "\n",
        "1305.5618_trunc.txt\n",
        "1409.7685_trunc.txt\n",
        "1307.3369_trunc.txt\n",
        "1109.1517_trunc.txt"
       ]
      },
      {
       "output_type": "stream",
       "stream": "stdout",
       "text": [
        "\n",
        "1208.3862_trunc.txt\n",
        "1207.3238_trunc.txt\n",
        "1202.1574_trunc.txt\n",
        "1501.01208_trunc.txt"
       ]
      },
      {
       "output_type": "stream",
       "stream": "stdout",
       "text": [
        "\n",
        "1104.0338_trunc.txt\n",
        "1105.0014_trunc.txt\n",
        "1206.4770_trunc.txt\n",
        "1308.0764_trunc.txt"
       ]
      },
      {
       "output_type": "stream",
       "stream": "stdout",
       "text": [
        "\n",
        "1309.0997_trunc.txt\n",
        "1508.04948_trunc.txt\n",
        "1407.3939_trunc.txt\n",
        "1205.4818_trunc.txt"
       ]
      },
      {
       "output_type": "stream",
       "stream": "stdout",
       "text": [
        "\n",
        "1303.3740_trunc.txt\n",
        "1505.00482_trunc.txt\n",
        "1204.4677_trunc.txt\n",
        "1209.2355_trunc.txt"
       ]
      },
      {
       "output_type": "stream",
       "stream": "stdout",
       "text": [
        "\n",
        "1107.0540_trunc.txt\n",
        "1106.2467_trunc.txt\n",
        "1506.03486_trunc.txt\n",
        "1306.1298_trunc.txt"
       ]
      },
      {
       "output_type": "stream",
       "stream": "stdout",
       "text": [
        "\n",
        "1105.2135_trunc.txt\n",
        "1502.00560_trunc.txt\n",
        "1305.2436_trunc.txt\n",
        "1310.5743_trunc.txt"
       ]
      },
      {
       "output_type": "stream",
       "stream": "stdout",
       "text": [
        "\n",
        "1111.6232_trunc.txt\n",
        "1410.0891_trunc.txt\n",
        "1405.1164_trunc.txt\n",
        "1309.6138_trunc.txt"
       ]
      },
      {
       "output_type": "stream",
       "stream": "stdout",
       "text": [
        "\n",
        "1502.00600_trunc.txt\n",
        "1508.05476_trunc.txt\n",
        "1510.04968_trunc.txt\n",
        "1508.02201_trunc.txt"
       ]
      },
      {
       "output_type": "stream",
       "stream": "stdout",
       "text": [
        "\n",
        "1104.1244_trunc.txt\n",
        "1303.4911_trunc.txt\n",
        "1310.2926_trunc.txt\n",
        "1408.1239_trunc.txt"
       ]
      },
      {
       "output_type": "stream",
       "stream": "stdout",
       "text": [
        "\n",
        "1312.5114_trunc.txt\n",
        "1107.3542_trunc.txt\n",
        "1401.6578_trunc.txt\n",
        "1409.5640_trunc.txt"
       ]
      },
      {
       "output_type": "stream",
       "stream": "stdout",
       "text": [
        "\n",
        "1407.0743_trunc.txt\n",
        "1511.02270_trunc.txt\n",
        "1309.5056_trunc.txt\n",
        "1410.8740_trunc.txt"
       ]
      },
      {
       "output_type": "stream",
       "stream": "stdout",
       "text": [
        "\n",
        "1310.7320_trunc.txt\n",
        "1407.4949_trunc.txt\n",
        "1207.0625_trunc.txt\n",
        "1505.08120_trunc.txt"
       ]
      },
      {
       "output_type": "stream",
       "stream": "stdout",
       "text": [
        "\n",
        "1403.7683_trunc.txt\n",
        "1506.04153_trunc.txt\n",
        "1405.0379_trunc.txt\n",
        "1112.2080_trunc.txt"
       ]
      },
      {
       "output_type": "stream",
       "stream": "stdout",
       "text": [
        "\n",
        "1107.2353_trunc.txt\n",
        "1511.01957_trunc.txt\n",
        "1308.5624_trunc.txt\n",
        "1507.01494_trunc.txt"
       ]
      },
      {
       "output_type": "stream",
       "stream": "stdout",
       "text": [
        "\n",
        "1111.4646_trunc.txt\n",
        "1307.1952_trunc.txt\n",
        "1403.5113_trunc.txt\n",
        "1310.0150_trunc.txt"
       ]
      },
      {
       "output_type": "stream",
       "stream": "stdout",
       "text": [
        "\n",
        "1405.0338_trunc.txt\n",
        "1410.5496_trunc.txt\n",
        "1407.5978_trunc.txt\n",
        "1103.6118_trunc.txt"
       ]
      },
      {
       "output_type": "stream",
       "stream": "stdout",
       "text": [
        "\n",
        "1504.06984_trunc.txt\n",
        "1505.02611_trunc.txt\n",
        "1311.7474_trunc.txt\n",
        "1505.03118_trunc.txt"
       ]
      },
      {
       "output_type": "stream",
       "stream": "stdout",
       "text": [
        "\n",
        "1311.0562_trunc.txt\n",
        "1310.0333_trunc.txt\n",
        "1105.3655_trunc.txt\n",
        "1211.3382_trunc.txt"
       ]
      },
      {
       "output_type": "stream",
       "stream": "stdout",
       "text": [
        "\n",
        "1311.1283_trunc.txt\n",
        "1504.00828_trunc.txt\n",
        "1406.0345_trunc.txt\n",
        "1211.0817_trunc.txt"
       ]
      },
      {
       "output_type": "stream",
       "stream": "stdout",
       "text": [
        "\n",
        "1310.3285_trunc.txt\n",
        "1507.06510_trunc.txt\n",
        "1312.6466_trunc.txt\n",
        "1108.0481_trunc.txt"
       ]
      },
      {
       "output_type": "stream",
       "stream": "stdout",
       "text": [
        "\n",
        "1110.6084_trunc.txt\n",
        "1303.3118_trunc.txt\n",
        "1211.0919_trunc.txt\n",
        "1110.3895_trunc.txt"
       ]
      },
      {
       "output_type": "stream",
       "stream": "stdout",
       "text": [
        "\n",
        "1211.4962_trunc.txt\n",
        "1207.6313_trunc.txt\n",
        "1306.1493_trunc.txt\n",
        "1210.4672_trunc.txt"
       ]
      },
      {
       "output_type": "stream",
       "stream": "stdout",
       "text": [
        "\n",
        "1301.4954_trunc.txt\n",
        "1403.0735_trunc.txt\n",
        "1303.4035_trunc.txt\n",
        "1111.1308_trunc.txt"
       ]
      },
      {
       "output_type": "stream",
       "stream": "stdout",
       "text": [
        "\n",
        "1509.06075_trunc.txt\n",
        "1412.4182_trunc.txt\n",
        "1311.2669_trunc.txt\n",
        "1302.3000_trunc.txt"
       ]
      },
      {
       "output_type": "stream",
       "stream": "stdout",
       "text": [
        "\n",
        "1408.4045_trunc.txt\n",
        "1408.2287_trunc.txt\n",
        "1407.4373_trunc.txt\n",
        "1509.01900_trunc.txt"
       ]
      },
      {
       "output_type": "stream",
       "stream": "stdout",
       "text": [
        "\n",
        "1503.03879_trunc.txt\n",
        "1404.3397_trunc.txt\n",
        "1405.6800_trunc.txt\n",
        "1510.01858_trunc.txt"
       ]
      },
      {
       "output_type": "stream",
       "stream": "stdout",
       "text": [
        "\n",
        "1406.5936_trunc.txt\n",
        "1108.2477_trunc.txt\n",
        "1312.5085_trunc.txt\n",
        "1206.0916_trunc.txt"
       ]
      },
      {
       "output_type": "stream",
       "stream": "stdout",
       "text": [
        "\n",
        "1112.1768_trunc.txt\n",
        "1407.3491_trunc.txt\n",
        "1109.2938_trunc.txt\n",
        "1507.02838_trunc.txt"
       ]
      },
      {
       "output_type": "stream",
       "stream": "stdout",
       "text": [
        "\n",
        "1308.3304_trunc.txt\n",
        "1206.6927_trunc.txt\n",
        "1509.00426_trunc.txt\n",
        "1503.08340_trunc.txt"
       ]
      },
      {
       "output_type": "stream",
       "stream": "stdout",
       "text": [
        "\n",
        "1411.1469_trunc.txt\n",
        "1109.5998_trunc.txt\n",
        "1506.04324_trunc.txt\n",
        "1411.5713_trunc.txt"
       ]
      },
      {
       "output_type": "stream",
       "stream": "stdout",
       "text": [
        "\n",
        "1404.0216_trunc.txt\n",
        "1210.5552_trunc.txt\n",
        "1412.6697_trunc.txt\n",
        "1502.03813_trunc.txt"
       ]
      },
      {
       "output_type": "stream",
       "stream": "stdout",
       "text": [
        "\n",
        "1410.4934_trunc.txt\n",
        "1304.2985_trunc.txt\n",
        "1412.3730_trunc.txt\n",
        "1302.6363_trunc.txt"
       ]
      },
      {
       "output_type": "stream",
       "stream": "stdout",
       "text": [
        "\n",
        "1509.06428_trunc.txt\n",
        "1504.03796_trunc.txt\n",
        "1505.02913_trunc.txt\n",
        "1306.4529_trunc.txt"
       ]
      },
      {
       "output_type": "stream",
       "stream": "stdout",
       "text": [
        "\n",
        "1105.1697_trunc.txt\n",
        "1205.4345_trunc.txt\n",
        "1509.02992_trunc.txt\n",
        "1409.0912_trunc.txt"
       ]
      },
      {
       "output_type": "stream",
       "stream": "stdout",
       "text": [
        "\n",
        "1407.7811_trunc.txt\n",
        "1207.2406_trunc.txt\n",
        "1404.3418_trunc.txt\n",
        "1205.1595_trunc.txt"
       ]
      },
      {
       "output_type": "stream",
       "stream": "stdout",
       "text": [
        "\n",
        "1112.0311_trunc.txt\n",
        "1303.1288_trunc.txt\n",
        "1302.4815_trunc.txt\n",
        "1202.0786_trunc.txt"
       ]
      },
      {
       "output_type": "stream",
       "stream": "stdout",
       "text": [
        "\n",
        "1507.01524_trunc.txt\n",
        "1310.8123_trunc.txt\n",
        "1505.02077_trunc.txt\n",
        "1104.3318_trunc.txt"
       ]
      },
      {
       "output_type": "stream",
       "stream": "stdout",
       "text": [
        "\n",
        "1405.3907_trunc.txt\n",
        "1508.04671_trunc.txt\n",
        "1501.05836_trunc.txt"
       ]
      },
      {
       "output_type": "stream",
       "stream": "stdout",
       "text": [
        "\n",
        "1205.6556_trunc.txt\n",
        "1207.0547_trunc.txt\n",
        "1502.00342_trunc.txt\n",
        "1504.07320_trunc.txt"
       ]
      },
      {
       "output_type": "stream",
       "stream": "stdout",
       "text": [
        "\n",
        "1302.2126_trunc.txt\n",
        "1503.08393_trunc.txt\n",
        "1506.03740_trunc.txt\n",
        "1501.04663_trunc.txt"
       ]
      },
      {
       "output_type": "stream",
       "stream": "stdout",
       "text": [
        "\n",
        "1301.2212_trunc.txt\n",
        "1204.4611_trunc.txt\n",
        "1108.3988_trunc.txt\n",
        "1506.02181_trunc.txt"
       ]
      },
      {
       "output_type": "stream",
       "stream": "stdout",
       "text": [
        "\n",
        "1505.05189_trunc.txt\n",
        "1312.5082_trunc.txt\n",
        "1508.01902_trunc.txt\n",
        "1502.00412_trunc.txt"
       ]
      },
      {
       "output_type": "stream",
       "stream": "stdout",
       "text": [
        "\n",
        "1302.1884_trunc.txt\n",
        "1502.06919_trunc.txt\n",
        "1308.3861_trunc.txt\n",
        "1302.6748_trunc.txt"
       ]
      },
      {
       "output_type": "stream",
       "stream": "stdout",
       "text": [
        "\n",
        "1503.06155_trunc.txt\n",
        "1509.02564_trunc.txt\n",
        "1211.5945_trunc.txt\n",
        "1110.6517_trunc.txt"
       ]
      },
      {
       "output_type": "stream",
       "stream": "stdout",
       "text": [
        "\n",
        "1201.0472_trunc.txt\n",
        "1202.0048_trunc.txt\n",
        "1510.02232_trunc.txt\n",
        "1304.6924_trunc.txt"
       ]
      },
      {
       "output_type": "stream",
       "stream": "stdout",
       "text": [
        "\n",
        "1309.4111_trunc.txt\n",
        "1403.6803_trunc.txt\n",
        "1301.3321_trunc.txt\n",
        "1211.2300_trunc.txt"
       ]
      },
      {
       "output_type": "stream",
       "stream": "stdout",
       "text": [
        "\n",
        "1105.5820_trunc.txt\n",
        "1406.1440_trunc.txt\n",
        "1411.0839_trunc.txt\n",
        "1410.1802_trunc.txt"
       ]
      },
      {
       "output_type": "stream",
       "stream": "stdout",
       "text": [
        "\n",
        "1503.00966_trunc.txt\n",
        "1510.01948_trunc.txt\n",
        "1206.0068_trunc.txt\n",
        "1303.3594_trunc.txt"
       ]
      },
      {
       "output_type": "stream",
       "stream": "stdout",
       "text": [
        "\n",
        "1104.3073_trunc.txt\n",
        "1508.00934_trunc.txt\n",
        "1309.5352_trunc.txt\n",
        "1201.1124_trunc.txt"
       ]
      },
      {
       "output_type": "stream",
       "stream": "stdout",
       "text": [
        "\n",
        "1311.3768_trunc.txt\n",
        "1511.02729_trunc.txt\n",
        "1210.1074_trunc.txt\n",
        "1106.3415_trunc.txt"
       ]
      },
      {
       "output_type": "stream",
       "stream": "stdout",
       "text": [
        "\n",
        "1105.6239_trunc.txt\n",
        "1401.0683_trunc.txt\n",
        "1111.0433_trunc.txt\n",
        "1407.3774_trunc.txt"
       ]
      },
      {
       "output_type": "stream",
       "stream": "stdout",
       "text": [
        "\n",
        "1401.5187_trunc.txt\n",
        "1405.4451_trunc.txt\n",
        "1201.3102_trunc.txt\n",
        "1411.6860_trunc.txt"
       ]
      },
      {
       "output_type": "stream",
       "stream": "stdout",
       "text": [
        "\n",
        "1212.0634_trunc.txt\n",
        "1403.6585_trunc.txt\n",
        "1403.6573_trunc.txt\n",
        "1204.4494_trunc.txt"
       ]
      },
      {
       "output_type": "stream",
       "stream": "stdout",
       "text": [
        "\n",
        "1306.5311_trunc.txt\n",
        "1502.07131_trunc.txt\n",
        "1109.6501_trunc.txt\n",
        "1308.1269_trunc.txt"
       ]
      },
      {
       "output_type": "stream",
       "stream": "stdout",
       "text": [
        "\n",
        "1404.1530_trunc.txt\n",
        "1107.2753_trunc.txt\n",
        "1411.3390_trunc.txt\n",
        "1104.4429_trunc.txt"
       ]
      },
      {
       "output_type": "stream",
       "stream": "stdout",
       "text": [
        "\n",
        "1506.06322_trunc.txt\n",
        "1506.06266_trunc.txt\n",
        "1312.7840_trunc.txt\n",
        "1504.08295_trunc.txt"
       ]
      },
      {
       "output_type": "stream",
       "stream": "stdout",
       "text": [
        "\n",
        "1412.0836_trunc.txt\n",
        "1504.03438_trunc.txt\n",
        "1301.7625_trunc.txt\n",
        "1107.3365_trunc.txt"
       ]
      },
      {
       "output_type": "stream",
       "stream": "stdout",
       "text": [
        "\n",
        "1402.2365_trunc.txt\n",
        "1505.01687_trunc.txt\n",
        "1205.1150_trunc.txt\n",
        "1308.6780_trunc.txt"
       ]
      },
      {
       "output_type": "stream",
       "stream": "stdout",
       "text": [
        "\n",
        "1408.3536_trunc.txt\n",
        "1509.08083_trunc.txt\n",
        "1306.4872_trunc.txt\n",
        "1507.07094_trunc.txt"
       ]
      },
      {
       "output_type": "stream",
       "stream": "stdout",
       "text": [
        "\n",
        "1302.4101_trunc.txt\n",
        "1507.04189_trunc.txt\n",
        "1311.7455_trunc.txt\n",
        "1408.1532_trunc.txt"
       ]
      },
      {
       "output_type": "stream",
       "stream": "stdout",
       "text": [
        "\n",
        "1407.1200_trunc.txt\n",
        "1106.3503_trunc.txt\n",
        "1211.7191_trunc.txt\n",
        "1406.6766_trunc.txt"
       ]
      },
      {
       "output_type": "stream",
       "stream": "stdout",
       "text": [
        "\n",
        "1409.0733_trunc.txt\n",
        "1211.5690_trunc.txt\n",
        "1309.2505_trunc.txt\n",
        "1411.4040_trunc.txt"
       ]
      },
      {
       "output_type": "stream",
       "stream": "stdout",
       "text": [
        "\n",
        "1508.01681_trunc.txt\n",
        "1503.07940_trunc.txt\n",
        "1509.01904_trunc.txt\n",
        "1409.6854_trunc.txt"
       ]
      },
      {
       "output_type": "stream",
       "stream": "stdout",
       "text": [
        "\n",
        "1207.0187_trunc.txt\n",
        "1501.04308_trunc.txt\n",
        "1507.01279_trunc.txt\n",
        "1311.4548_trunc.txt"
       ]
      },
      {
       "output_type": "stream",
       "stream": "stdout",
       "text": [
        "\n",
        "1207.2805_trunc.txt\n",
        "1402.5431_trunc.txt\n",
        "1210.6328_trunc.txt"
       ]
      },
      {
       "output_type": "stream",
       "stream": "stdout",
       "text": [
        "\n",
        "1411.2066_trunc.txt\n",
        "1206.0773_trunc.txt\n",
        "1406.6227_trunc.txt\n",
        "1211.3509_trunc.txt"
       ]
      },
      {
       "output_type": "stream",
       "stream": "stdout",
       "text": [
        "\n",
        "1506.05539_trunc.txt\n",
        "1401.1397_trunc.txt\n",
        "1307.5231_trunc.txt\n",
        "1407.0471_trunc.txt"
       ]
      },
      {
       "output_type": "stream",
       "stream": "stdout",
       "text": [
        "\n",
        "1406.1138_trunc.txt\n",
        "1206.2206_trunc.txt\n",
        "1212.6549_trunc.txt\n",
        "1503.04525_trunc.txt"
       ]
      },
      {
       "output_type": "stream",
       "stream": "stdout",
       "text": [
        "\n",
        "1303.2698_trunc.txt\n",
        "1307.1223_trunc.txt\n",
        "1108.2171_trunc.txt\n",
        "1510.05261_trunc.txt"
       ]
      },
      {
       "output_type": "stream",
       "stream": "stdout",
       "text": [
        "\n",
        "1509.05845_trunc.txt\n",
        "1503.07302_trunc.txt\n",
        "1306.5461_trunc.txt\n",
        "1201.6387_trunc.txt"
       ]
      },
      {
       "output_type": "stream",
       "stream": "stdout",
       "text": [
        "\n",
        "1507.04398_trunc.txt\n",
        "1405.0604_trunc.txt\n",
        "1503.05909_trunc.txt\n",
        "1302.0336_trunc.txt"
       ]
      },
      {
       "output_type": "stream",
       "stream": "stdout",
       "text": [
        "\n",
        "1310.7269_trunc.txt\n",
        "1407.7172_trunc.txt\n",
        "1205.0638_trunc.txt\n",
        "1401.6978_trunc.txt"
       ]
      },
      {
       "output_type": "stream",
       "stream": "stdout",
       "text": [
        "\n",
        "1202.0957_trunc.txt\n",
        "1210.4739_trunc.txt\n",
        "1510.05517_trunc.txt\n",
        "1401.3167_trunc.txt"
       ]
      },
      {
       "output_type": "stream",
       "stream": "stdout",
       "text": [
        "\n",
        "1506.07404_trunc.txt\n",
        "1507.08685_trunc.txt\n",
        "1205.5433_trunc.txt\n",
        "1406.0541_trunc.txt"
       ]
      },
      {
       "output_type": "stream",
       "stream": "stdout",
       "text": [
        "\n",
        "1502.03049_trunc.txt\n",
        "1301.2732_trunc.txt\n",
        "1408.6440_trunc.txt\n",
        "1506.00850_trunc.txt"
       ]
      },
      {
       "output_type": "stream",
       "stream": "stdout",
       "text": [
        "\n",
        "1111.5934_trunc.txt\n",
        "1406.0791_trunc.txt\n",
        "1208.6578_trunc.txt\n",
        "1408.4057_trunc.txt"
       ]
      },
      {
       "output_type": "stream",
       "stream": "stdout",
       "text": [
        "\n",
        "1106.4222_trunc.txt\n",
        "1406.1000_trunc.txt\n",
        "1309.4656_trunc.txt"
       ]
      },
      {
       "output_type": "stream",
       "stream": "stdout",
       "text": [
        "\n",
        "1201.1578_trunc.txt\n",
        "1506.06941_trunc.txt\n",
        "1309.6061_trunc.txt\n",
        "1508.00219_trunc.txt"
       ]
      },
      {
       "output_type": "stream",
       "stream": "stdout",
       "text": [
        "\n",
        "1205.6102_trunc.txt\n",
        "1211.3461_trunc.txt\n",
        "1510.01457_trunc.txt\n",
        "1510.07679_trunc.txt"
       ]
      },
      {
       "output_type": "stream",
       "stream": "stdout",
       "text": [
        "\n",
        "1410.6296_trunc.txt\n",
        "1108.3325_trunc.txt\n",
        "1212.5156_trunc.txt\n",
        "1209.5908_trunc.txt"
       ]
      },
      {
       "output_type": "stream",
       "stream": "stdout",
       "text": [
        "\n",
        "1211.2763_trunc.txt\n",
        "1212.3151_trunc.txt\n",
        "1106.4662_trunc.txt\n",
        "1105.1320_trunc.txt"
       ]
      },
      {
       "output_type": "stream",
       "stream": "stdout",
       "text": [
        "\n",
        "1303.4179_trunc.txt\n",
        "1408.1234_trunc.txt\n",
        "1407.0241_trunc.txt"
       ]
      },
      {
       "output_type": "stream",
       "stream": "stdout",
       "text": [
        "\n",
        "1301.0901_trunc.txt\n",
        "1108.2835_trunc.txt\n",
        "1509.05790_trunc.txt"
       ]
      },
      {
       "output_type": "stream",
       "stream": "stdout",
       "text": [
        "\n",
        "1407.5509_trunc.txt\n",
        "1107.0145_trunc.txt\n",
        "1401.5833_trunc.txt"
       ]
      },
      {
       "output_type": "stream",
       "stream": "stdout",
       "text": [
        "\n",
        "1311.5552_trunc.txt\n",
        "1303.6171_trunc.txt\n",
        "1207.4854_trunc.txt"
       ]
      },
      {
       "output_type": "stream",
       "stream": "stdout",
       "text": [
        "\n",
        "1510.08887_trunc.txt\n",
        "1501.02320_trunc.txt\n",
        "1309.0482_trunc.txt"
       ]
      },
      {
       "output_type": "stream",
       "stream": "stdout",
       "text": [
        "\n",
        "1412.8604_trunc.txt\n",
        "1201.1146_trunc.txt\n",
        "1403.0740_trunc.txt\n",
        "1209.1988_trunc.txt"
       ]
      },
      {
       "output_type": "stream",
       "stream": "stdout",
       "text": [
        "\n",
        "1206.0897_trunc.txt\n",
        "1503.04455_trunc.txt\n",
        "1211.5164_trunc.txt\n",
        "1403.3280_trunc.txt"
       ]
      },
      {
       "output_type": "stream",
       "stream": "stdout",
       "text": [
        "\n",
        "1110.1462_trunc.txt\n",
        "1109.1637_trunc.txt\n",
        "1503.05392_trunc.txt"
       ]
      },
      {
       "output_type": "stream",
       "stream": "stdout",
       "text": [
        "\n",
        "1405.4846_trunc.txt\n",
        "1510.06307_trunc.txt\n",
        "1410.6033_trunc.txt\n",
        "1502.06774_trunc.txt"
       ]
      },
      {
       "output_type": "stream",
       "stream": "stdout",
       "text": [
        "\n",
        "1307.4621_trunc.txt\n",
        "1304.5881_trunc.txt\n",
        "1510.00179_trunc.txt\n",
        "1506.00034_trunc.txt"
       ]
      },
      {
       "output_type": "stream",
       "stream": "stdout",
       "text": [
        "\n",
        "1506.00414_trunc.txt\n",
        "1507.05185_trunc.txt\n",
        "1408.5087_trunc.txt\n",
        "1504.00465_trunc.txt"
       ]
      },
      {
       "output_type": "stream",
       "stream": "stdout",
       "text": [
        "\n",
        "1209.1302_trunc.txt\n",
        "1503.01587_trunc.txt\n",
        "1207.5058_trunc.txt\n",
        "1410.4462_trunc.txt"
       ]
      },
      {
       "output_type": "stream",
       "stream": "stdout",
       "text": [
        "\n",
        "1303.6451_trunc.txt\n",
        "1301.4320_trunc.txt\n",
        "1112.0529_trunc.txt\n",
        "1307.2217_trunc.txt"
       ]
      },
      {
       "output_type": "stream",
       "stream": "stdout",
       "text": [
        "\n",
        "1405.7244_trunc.txt\n",
        "1510.03966_trunc.txt\n",
        "1302.3403_trunc.txt\n",
        "1110.2961_trunc.txt"
       ]
      },
      {
       "output_type": "stream",
       "stream": "stdout",
       "text": [
        "\n",
        "1312.5658_trunc.txt\n",
        "1208.5467_trunc.txt\n",
        "1511.03551_trunc.txt\n",
        "1304.4848_trunc.txt"
       ]
      },
      {
       "output_type": "stream",
       "stream": "stdout",
       "text": [
        "\n",
        "1511.02515_trunc.txt\n",
        "1202.5096_trunc.txt\n",
        "1402.2209_trunc.txt\n",
        "1110.0811_trunc.txt"
       ]
      },
      {
       "output_type": "stream",
       "stream": "stdout",
       "text": [
        "\n",
        "1107.2574_trunc.txt\n",
        "1403.2022_trunc.txt\n",
        "1308.6394_trunc.txt\n",
        "1201.1140_trunc.txt"
       ]
      },
      {
       "output_type": "stream",
       "stream": "stdout",
       "text": [
        "\n",
        "1109.5320_trunc.txt\n",
        "1209.0899_trunc.txt\n",
        "1411.5883_trunc.txt\n",
        "1110.4961_trunc.txt"
       ]
      },
      {
       "output_type": "stream",
       "stream": "stdout",
       "text": [
        "\n",
        "1511.04220_trunc.txt\n",
        "1508.03744_trunc.txt\n",
        "1405.3224_trunc.txt\n",
        "1404.1356_trunc.txt"
       ]
      },
      {
       "output_type": "stream",
       "stream": "stdout",
       "text": [
        "\n",
        "1409.2262_trunc.txt\n",
        "1207.2340_trunc.txt\n",
        "1502.01798_trunc.txt\n",
        "1311.6238_trunc.txt"
       ]
      },
      {
       "output_type": "stream",
       "stream": "stdout",
       "text": [
        "\n",
        "1404.7397_trunc.txt\n",
        "1409.1388_trunc.txt\n",
        "1210.5165_trunc.txt\n",
        "1309.6108_trunc.txt"
       ]
      },
      {
       "output_type": "stream",
       "stream": "stdout",
       "text": [
        "\n",
        "1204.6481_trunc.txt\n",
        "1509.02237_trunc.txt\n",
        "1107.4058_trunc.txt\n",
        "1311.6327_trunc.txt"
       ]
      },
      {
       "output_type": "stream",
       "stream": "stdout",
       "text": [
        "\n",
        "1311.4981_trunc.txt\n",
        "1306.1318_trunc.txt\n",
        "1307.6522_trunc.txt\n",
        "1302.0425_trunc.txt"
       ]
      },
      {
       "output_type": "stream",
       "stream": "stdout",
       "text": [
        "\n",
        "1511.03229_trunc.txt\n",
        "1201.3239_trunc.txt\n",
        "1510.08699_trunc.txt\n",
        "1503.03613_trunc.txt"
       ]
      },
      {
       "output_type": "stream",
       "stream": "stdout",
       "text": [
        "\n",
        "1201.3611_trunc.txt\n",
        "1308.3728_trunc.txt\n",
        "1111.1307_trunc.txt\n",
        "1506.03521_trunc.txt"
       ]
      },
      {
       "output_type": "stream",
       "stream": "stdout",
       "text": [
        "\n",
        "1110.0043_trunc.txt\n",
        "1211.3313_trunc.txt\n",
        "1507.07055_trunc.txt\n",
        "1309.2819_trunc.txt"
       ]
      },
      {
       "output_type": "stream",
       "stream": "stdout",
       "text": [
        "\n",
        "1301.2725_trunc.txt\n",
        "1402.3514_trunc.txt\n",
        "1304.2696_trunc.txt\n",
        "1406.5387_trunc.txt"
       ]
      },
      {
       "output_type": "stream",
       "stream": "stdout",
       "text": [
        "\n",
        "1105.5305_trunc.txt\n",
        "1107.0864_trunc.txt\n",
        "1307.8271_trunc.txt\n",
        "1311.5179_trunc.txt"
       ]
      },
      {
       "output_type": "stream",
       "stream": "stdout",
       "text": [
        "\n",
        "1411.1350_trunc.txt\n",
        "1506.05337_trunc.txt\n",
        "1212.4906_trunc.txt\n",
        "1507.00832_trunc.txt"
       ]
      },
      {
       "output_type": "stream",
       "stream": "stdout",
       "text": [
        "\n",
        "1511.01009_trunc.txt\n",
        "1302.2213_trunc.txt\n",
        "1402.0357_trunc.txt\n",
        "1105.1304_trunc.txt"
       ]
      },
      {
       "output_type": "stream",
       "stream": "stdout",
       "text": [
        "\n",
        "1508.07636_trunc.txt\n",
        "1510.03659_trunc.txt\n",
        "1209.0304_trunc.txt\n",
        "1208.3278_trunc.txt"
       ]
      },
      {
       "output_type": "stream",
       "stream": "stdout",
       "text": [
        "\n",
        "1212.3888_trunc.txt\n",
        "1510.04638_trunc.txt\n",
        "1312.5862_trunc.txt\n",
        "1208.2733_trunc.txt"
       ]
      },
      {
       "output_type": "stream",
       "stream": "stdout",
       "text": [
        "\n",
        "1406.1336_trunc.txt\n",
        "1301.5186_trunc.txt\n",
        "1309.7824_trunc.txt\n",
        "1111.2622_trunc.txt"
       ]
      },
      {
       "output_type": "stream",
       "stream": "stdout",
       "text": [
        "\n",
        "1105.5762_trunc.txt\n",
        "1211.1082_trunc.txt\n",
        "1406.4406_trunc.txt\n",
        "1510.00967_trunc.txt"
       ]
      },
      {
       "output_type": "stream",
       "stream": "stdout",
       "text": [
        "\n",
        "1312.4596_trunc.txt\n",
        "1206.1708_trunc.txt\n",
        "1505.02613_trunc.txt\n",
        "1403.7023_trunc.txt"
       ]
      },
      {
       "output_type": "stream",
       "stream": "stdout",
       "text": [
        "\n",
        "1303.4288_trunc.txt\n",
        "1508.03387_trunc.txt\n",
        "1503.00167_trunc.txt\n",
        "1411.7713_trunc.txt"
       ]
      },
      {
       "output_type": "stream",
       "stream": "stdout",
       "text": [
        "\n",
        "1510.04027_trunc.txt\n",
        "1208.1400_trunc.txt\n",
        "1401.5551_trunc.txt\n",
        "1410.4276_trunc.txt"
       ]
      },
      {
       "output_type": "stream",
       "stream": "stdout",
       "text": [
        "\n",
        "1404.7055_trunc.txt\n",
        "1107.1736_trunc.txt\n",
        "1301.6635_trunc.txt\n",
        "1403.0873_trunc.txt"
       ]
      },
      {
       "output_type": "stream",
       "stream": "stdout",
       "text": [
        "\n",
        "1301.7161_trunc.txt\n",
        "1309.6602_trunc.txt\n",
        "1211.6915_trunc.txt\n",
        "1406.4775_trunc.txt"
       ]
      },
      {
       "output_type": "stream",
       "stream": "stdout",
       "text": [
        "\n",
        "1210.2029_trunc.txt\n",
        "1407.3152_trunc.txt\n",
        "1311.1890_trunc.txt\n",
        "1409.4553_trunc.txt"
       ]
      },
      {
       "output_type": "stream",
       "stream": "stdout",
       "text": [
        "\n",
        "1412.8344_trunc.txt\n",
        "1509.01058_trunc.txt\n",
        "1201.1623_trunc.txt\n",
        "1309.5310_trunc.txt"
       ]
      },
      {
       "output_type": "stream",
       "stream": "stdout",
       "text": [
        "\n",
        "1406.6956_trunc.txt\n",
        "1309.1262_trunc.txt\n",
        "1303.4875_trunc.txt\n",
        "1311.3492_trunc.txt"
       ]
      },
      {
       "output_type": "stream",
       "stream": "stdout",
       "text": [
        "\n",
        "1510.08547_trunc.txt\n",
        "1405.5900_trunc.txt\n",
        "1403.5483_trunc.txt\n",
        "1509.01905_trunc.txt"
       ]
      },
      {
       "output_type": "stream",
       "stream": "stdout",
       "text": [
        "\n",
        "1410.4307_trunc.txt\n",
        "1210.8245_trunc.txt\n",
        "1107.3818_trunc.txt\n",
        "1401.6145_trunc.txt"
       ]
      },
      {
       "output_type": "stream",
       "stream": "stdout",
       "text": [
        "\n",
        "1404.3441_trunc.txt\n",
        "1204.4813_trunc.txt\n",
        "1209.1156_trunc.txt\n",
        "1105.3575_trunc.txt"
       ]
      },
      {
       "output_type": "stream",
       "stream": "stdout",
       "text": [
        "\n",
        "1412.5632_trunc.txt\n",
        "1508.07929_trunc.txt\n",
        "1105.0881_trunc.txt\n",
        "1409.2830_trunc.txt"
       ]
      },
      {
       "output_type": "stream",
       "stream": "stdout",
       "text": [
        "\n",
        "1501.03659_trunc.txt\n",
        "1309.4193_trunc.txt\n",
        "1503.08562_trunc.txt\n",
        "1507.03263_trunc.txt"
       ]
      },
      {
       "output_type": "stream",
       "stream": "stdout",
       "text": [
        "\n",
        "1303.2863_trunc.txt\n",
        "1304.5747_trunc.txt\n",
        "1411.7817_trunc.txt\n",
        "1307.4602_trunc.txt"
       ]
      },
      {
       "output_type": "stream",
       "stream": "stdout",
       "text": [
        "\n",
        "1206.6128_trunc.txt\n",
        "1506.02811_trunc.txt\n",
        "1402.5763_trunc.txt\n",
        "1402.2255_trunc.txt"
       ]
      },
      {
       "output_type": "stream",
       "stream": "stdout",
       "text": [
        "\n",
        "1207.2530_trunc.txt\n",
        "1206.1898_trunc.txt\n",
        "1201.0586_trunc.txt\n",
        "1205.2508_trunc.txt"
       ]
      },
      {
       "output_type": "stream",
       "stream": "stdout",
       "text": [
        "\n",
        "1406.2845_trunc.txt\n",
        "1302.6058_trunc.txt\n",
        "1305.4825_trunc.txt\n",
        "1304.6683_trunc.txt"
       ]
      },
      {
       "output_type": "stream",
       "stream": "stdout",
       "text": [
        "\n",
        "1507.05731_trunc.txt\n",
        "1206.2380_trunc.txt\n",
        "1207.5625_trunc.txt\n",
        "1405.7481_trunc.txt"
       ]
      },
      {
       "output_type": "stream",
       "stream": "stdout",
       "text": [
        "\n",
        "1302.2882_trunc.txt\n",
        "1211.5239_trunc.txt\n",
        "1311.3998_trunc.txt\n",
        "1210.6187_trunc.txt"
       ]
      },
      {
       "output_type": "stream",
       "stream": "stdout",
       "text": [
        "\n",
        "1409.8150_trunc.txt\n",
        "1107.4219_trunc.txt\n",
        "1506.03313_trunc.txt\n",
        "1206.0847_trunc.txt"
       ]
      },
      {
       "output_type": "stream",
       "stream": "stdout",
       "text": [
        "\n",
        "1303.6447_trunc.txt\n",
        "1509.05574_trunc.txt\n",
        "1106.0617_trunc.txt\n",
        "1408.6366_trunc.txt"
       ]
      },
      {
       "output_type": "stream",
       "stream": "stdout",
       "text": [
        "\n",
        "1408.1156_trunc.txt\n",
        "1403.6015_trunc.txt\n",
        "1311.2236_trunc.txt\n",
        "1111.1067_trunc.txt"
       ]
      },
      {
       "output_type": "stream",
       "stream": "stdout",
       "text": [
        "\n",
        "1505.06298_trunc.txt\n",
        "1404.3116_trunc.txt\n",
        "1205.2536_trunc.txt\n",
        "1408.5339_trunc.txt"
       ]
      },
      {
       "output_type": "stream",
       "stream": "stdout",
       "text": [
        "\n",
        "1501.06783_trunc.txt\n",
        "1407.4905_trunc.txt\n",
        "1211.5468_trunc.txt\n",
        "1310.3578_trunc.txt"
       ]
      },
      {
       "output_type": "stream",
       "stream": "stdout",
       "text": [
        "\n",
        "1311.1067_trunc.txt\n",
        "1504.03234_trunc.txt\n",
        "1109.2408_trunc.txt\n",
        "1502.00738_trunc.txt"
       ]
      },
      {
       "output_type": "stream",
       "stream": "stdout",
       "text": [
        "\n",
        "1304.6691_trunc.txt\n",
        "1503.02214_trunc.txt\n",
        "1404.4605_trunc.txt\n",
        "1205.1481_trunc.txt"
       ]
      },
      {
       "output_type": "stream",
       "stream": "stdout",
       "text": [
        "\n",
        "1302.5168_trunc.txt\n",
        "1106.5119_trunc.txt\n",
        "1312.4663_trunc.txt\n",
        "1402.2044_trunc.txt"
       ]
      },
      {
       "output_type": "stream",
       "stream": "stdout",
       "text": [
        "\n",
        "1209.1508_trunc.txt\n",
        "1108.4126_trunc.txt\n",
        "1110.3695_trunc.txt\n",
        "1506.04692_trunc.txt"
       ]
      },
      {
       "output_type": "stream",
       "stream": "stdout",
       "text": [
        "\n",
        "1110.5679_trunc.txt\n",
        "1305.1648_trunc.txt\n",
        "1305.1751_trunc.txt\n",
        "1201.4058_trunc.txt"
       ]
      },
      {
       "output_type": "stream",
       "stream": "stdout",
       "text": [
        "\n",
        "1509.04093_trunc.txt\n",
        "1405.4258_trunc.txt\n",
        "1211.5579_trunc.txt\n",
        "1309.4667_trunc.txt"
       ]
      },
      {
       "output_type": "stream",
       "stream": "stdout",
       "text": [
        "\n",
        "1307.5243_trunc.txt\n",
        "1507.05780_trunc.txt\n",
        "1305.3095_trunc.txt\n",
        "1509.07229_trunc.txt"
       ]
      },
      {
       "output_type": "stream",
       "stream": "stdout",
       "text": [
        "\n",
        "1205.1417_trunc.txt\n",
        "1402.0958_trunc.txt\n",
        "1503.08844_trunc.txt\n",
        "1407.4376_trunc.txt"
       ]
      },
      {
       "output_type": "stream",
       "stream": "stdout",
       "text": [
        "\n",
        "1301.4292_trunc.txt\n",
        "1405.1744_trunc.txt\n",
        "1106.4461_trunc.txt\n",
        "1307.5574_trunc.txt"
       ]
      },
      {
       "output_type": "stream",
       "stream": "stdout",
       "text": [
        "\n",
        "1504.03459_trunc.txt\n",
        "1405.0182_trunc.txt\n",
        "1411.7324_trunc.txt\n",
        "1507.05313_trunc.txt"
       ]
      },
      {
       "output_type": "stream",
       "stream": "stdout",
       "text": [
        "\n",
        "1401.7278_trunc.txt\n",
        "1507.02493_trunc.txt\n",
        "1509.05861_trunc.txt\n",
        "1501.05870_trunc.txt"
       ]
      },
      {
       "output_type": "stream",
       "stream": "stdout",
       "text": [
        "\n",
        "1505.00379_trunc.txt\n",
        "1407.0873_trunc.txt\n",
        "1309.0024_trunc.txt\n",
        "1208.1211_trunc.txt"
       ]
      },
      {
       "output_type": "stream",
       "stream": "stdout",
       "text": [
        "\n",
        "1310.2523_trunc.txt\n",
        "1105.4292_trunc.txt\n",
        "1502.06197_trunc.txt\n",
        "1504.03389_trunc.txt"
       ]
      },
      {
       "output_type": "stream",
       "stream": "stdout",
       "text": [
        "\n",
        "1402.0277_trunc.txt\n",
        "1311.6636_trunc.txt\n",
        "1312.6969_trunc.txt\n",
        "1111.7248_trunc.txt"
       ]
      },
      {
       "output_type": "stream",
       "stream": "stdout",
       "text": [
        "\n",
        "1212.0707_trunc.txt\n",
        "1207.2740_trunc.txt\n",
        "1509.04508_trunc.txt\n",
        "1511.02980_trunc.txt"
       ]
      },
      {
       "output_type": "stream",
       "stream": "stdout",
       "text": [
        "\n",
        "1202.2525_trunc.txt\n",
        "1404.4884_trunc.txt\n",
        "1402.4577_trunc.txt\n",
        "1511.02381_trunc.txt"
       ]
      },
      {
       "output_type": "stream",
       "stream": "stdout",
       "text": [
        "\n",
        "1411.5715_trunc.txt\n",
        "1302.4561_trunc.txt\n",
        "1308.0641_trunc.txt\n",
        "1409.8571_trunc.txt"
       ]
      },
      {
       "output_type": "stream",
       "stream": "stdout",
       "text": [
        "\n",
        "1211.2284_trunc.txt\n",
        "1403.1699_trunc.txt\n",
        "1308.2845_trunc.txt\n",
        "1406.1779_trunc.txt"
       ]
      },
      {
       "output_type": "stream",
       "stream": "stdout",
       "text": [
        "\n",
        "1209.2978_trunc.txt\n",
        "1502.03836_trunc.txt\n",
        "1407.2176_trunc.txt\n",
        "1211.1197_trunc.txt"
       ]
      },
      {
       "output_type": "stream",
       "stream": "stdout",
       "text": [
        "\n",
        "1306.4847_trunc.txt\n",
        "1503.02339_trunc.txt\n",
        "1111.4821_trunc.txt\n",
        "1408.5907_trunc.txt"
       ]
      },
      {
       "output_type": "stream",
       "stream": "stdout",
       "text": [
        "\n",
        "1109.1516_trunc.txt\n",
        "1111.1816_trunc.txt\n",
        "1501.07858_trunc.txt\n",
        "1308.0417_trunc.txt"
       ]
      },
      {
       "output_type": "stream",
       "stream": "stdout",
       "text": [
        "\n",
        "1508.06465_trunc.txt\n",
        "1308.3602_trunc.txt\n",
        "1109.6042_trunc.txt\n",
        "1502.04620_trunc.txt"
       ]
      },
      {
       "output_type": "stream",
       "stream": "stdout",
       "text": [
        "\n",
        "1208.0570_trunc.txt\n",
        "1510.04351_trunc.txt\n",
        "1410.6172_trunc.txt\n",
        "1109.6406_trunc.txt"
       ]
      },
      {
       "output_type": "stream",
       "stream": "stdout",
       "text": [
        "\n",
        "1409.5099_trunc.txt\n",
        "1410.2150_trunc.txt\n",
        "1208.6402_trunc.txt\n",
        "1407.0482_trunc.txt"
       ]
      },
      {
       "output_type": "stream",
       "stream": "stdout",
       "text": [
        "\n",
        "1307.0584_trunc.txt\n",
        "1509.05099_trunc.txt\n",
        "1405.7173_trunc.txt\n",
        "1404.3749_trunc.txt"
       ]
      },
      {
       "output_type": "stream",
       "stream": "stdout",
       "text": [
        "\n",
        "1105.0205_trunc.txt\n",
        "1508.04070_trunc.txt\n",
        "1506.01338_trunc.txt\n",
        "1507.08298_trunc.txt"
       ]
      },
      {
       "output_type": "stream",
       "stream": "stdout",
       "text": [
        "\n",
        "1111.3120_trunc.txt\n",
        "1111.6822_trunc.txt\n",
        "1206.0827_trunc.txt\n",
        "1411.4226_trunc.txt"
       ]
      },
      {
       "output_type": "stream",
       "stream": "stdout",
       "text": [
        "\n",
        "1507.05366_trunc.txt\n",
        "1105.1404_trunc.txt\n",
        "1403.6355_trunc.txt\n",
        "1211.6537_trunc.txt"
       ]
      },
      {
       "output_type": "stream",
       "stream": "stdout",
       "text": [
        "\n",
        "1311.4500_trunc.txt\n",
        "1105.2698_trunc.txt\n",
        "1205.2948_trunc.txt\n",
        "1509.09129_trunc.txt"
       ]
      },
      {
       "output_type": "stream",
       "stream": "stdout",
       "text": [
        "\n",
        "1106.1031_trunc.txt\n",
        "1306.1320_trunc.txt\n",
        "1207.3062_trunc.txt\n",
        "1412.5844_trunc.txt"
       ]
      },
      {
       "output_type": "stream",
       "stream": "stdout",
       "text": [
        "\n",
        "1406.2083_trunc.txt\n",
        "1307.1201_trunc.txt\n",
        "1112.4735_trunc.txt\n",
        "1303.7291_trunc.txt"
       ]
      },
      {
       "output_type": "stream",
       "stream": "stdout",
       "text": [
        "\n",
        "1509.08100_trunc.txt\n",
        "1309.2136_trunc.txt\n",
        "1305.2075_trunc.txt\n",
        "1106.2791_trunc.txt"
       ]
      },
      {
       "output_type": "stream",
       "stream": "stdout",
       "text": [
        "\n",
        "1105.3552_trunc.txt\n",
        "1508.02449_trunc.txt\n",
        "1207.0484_trunc.txt"
       ]
      },
      {
       "output_type": "stream",
       "stream": "stdout",
       "text": [
        "\n",
        "1212.6088_trunc.txt\n",
        "1111.0653_trunc.txt\n",
        "1507.08473_trunc.txt\n",
        "1312.1830_trunc.txt"
       ]
      },
      {
       "output_type": "stream",
       "stream": "stdout",
       "text": [
        "\n",
        "1411.0793_trunc.txt\n",
        "1406.5663_trunc.txt\n",
        "1401.3814_trunc.txt"
       ]
      },
      {
       "output_type": "stream",
       "stream": "stdout",
       "text": [
        "\n",
        "1302.4776_trunc.txt\n",
        "1502.06144_trunc.txt\n",
        "1502.01178_trunc.txt"
       ]
      },
      {
       "output_type": "stream",
       "stream": "stdout",
       "text": [
        "\n",
        "1401.0211_trunc.txt\n",
        "1201.1076_trunc.txt\n",
        "1110.0110_trunc.txt"
       ]
      },
      {
       "output_type": "stream",
       "stream": "stdout",
       "text": [
        "\n",
        "1410.8765_trunc.txt\n",
        "1505.02212_trunc.txt\n",
        "1411.2571_trunc.txt\n",
        "1406.4421_trunc.txt"
       ]
      },
      {
       "output_type": "stream",
       "stream": "stdout",
       "text": [
        "\n",
        "1211.0517_trunc.txt\n",
        "1408.6327_trunc.txt\n",
        "1404.3763_trunc.txt\n",
        "1409.1025_trunc.txt"
       ]
      },
      {
       "output_type": "stream",
       "stream": "stdout",
       "text": [
        "\n",
        "1402.1860_trunc.txt\n",
        "1206.4765_trunc.txt\n",
        "1502.06349_trunc.txt\n",
        "1511.00420_trunc.txt"
       ]
      },
      {
       "output_type": "stream",
       "stream": "stdout",
       "text": [
        "\n",
        "1407.1517_trunc.txt\n",
        "1111.2205_trunc.txt\n",
        "1506.08256_trunc.txt\n",
        "1308.2830_trunc.txt"
       ]
      },
      {
       "output_type": "stream",
       "stream": "stdout",
       "text": [
        "\n",
        "1508.02651_trunc.txt\n",
        "1103.4220_trunc.txt\n",
        "1502.05457_trunc.txt\n",
        "1411.4086_trunc.txt"
       ]
      },
      {
       "output_type": "stream",
       "stream": "stdout",
       "text": [
        "\n",
        "1210.5881_trunc.txt\n",
        "1212.1247_trunc.txt\n",
        "1308.0346_trunc.txt\n",
        "1509.03966_trunc.txt"
       ]
      },
      {
       "output_type": "stream",
       "stream": "stdout",
       "text": [
        "\n",
        "1211.5422_trunc.txt\n",
        "1504.07081_trunc.txt\n",
        "1506.04344_trunc.txt\n",
        "1301.6413_trunc.txt"
       ]
      },
      {
       "output_type": "stream",
       "stream": "stdout",
       "text": [
        "\n",
        "1504.00595_trunc.txt\n",
        "1208.5600_trunc.txt\n",
        "1510.06301_trunc.txt\n",
        "1307.6685_trunc.txt"
       ]
      },
      {
       "output_type": "stream",
       "stream": "stdout",
       "text": [
        "\n",
        "1311.3350_trunc.txt\n",
        "1308.4077_trunc.txt\n",
        "1307.6865_trunc.txt\n",
        "1302.3447_trunc.txt"
       ]
      },
      {
       "output_type": "stream",
       "stream": "stdout",
       "text": [
        "\n",
        "1507.03895_trunc.txt\n",
        "1312.7183_trunc.txt\n",
        "1411.6419_trunc.txt\n",
        "1308.6626_trunc.txt"
       ]
      },
      {
       "output_type": "stream",
       "stream": "stdout",
       "text": [
        "\n",
        "1506.06199_trunc.txt\n",
        "1509.03860_trunc.txt\n",
        "1205.5578_trunc.txt\n",
        "1410.6843_trunc.txt"
       ]
      },
      {
       "output_type": "stream",
       "stream": "stdout",
       "text": [
        "\n",
        "1206.1401_trunc.txt\n",
        "1302.0261_trunc.txt\n",
        "1405.6417_trunc.txt\n",
        "1412.7197_trunc.txt"
       ]
      },
      {
       "output_type": "stream",
       "stream": "stdout",
       "text": [
        "\n",
        "1205.1654_trunc.txt\n",
        "1403.1994_trunc.txt\n",
        "1207.5594_trunc.txt\n",
        "1211.0813_trunc.txt"
       ]
      },
      {
       "output_type": "stream",
       "stream": "stdout",
       "text": [
        "\n",
        "1406.4901_trunc.txt\n",
        "1112.4258_trunc.txt\n",
        "1501.05242_trunc.txt"
       ]
      },
      {
       "output_type": "stream",
       "stream": "stdout",
       "text": [
        "\n",
        "1212.4966_trunc.txt\n",
        "1501.04070_trunc.txt\n",
        "1503.02878_trunc.txt"
       ]
      },
      {
       "output_type": "stream",
       "stream": "stdout",
       "text": [
        "\n",
        "1311.0811_trunc.txt\n",
        "1506.04696_trunc.txt\n",
        "1507.08566_trunc.txt\n",
        "1308.3890_trunc.txt"
       ]
      },
      {
       "output_type": "stream",
       "stream": "stdout",
       "text": [
        "\n",
        "1504.07390_trunc.txt\n",
        "1412.0459_trunc.txt\n",
        "1507.04121_trunc.txt"
       ]
      },
      {
       "output_type": "stream",
       "stream": "stdout",
       "text": [
        "\n",
        "1405.6798_trunc.txt\n",
        "1501.04712_trunc.txt\n",
        "1504.05438_trunc.txt"
       ]
      },
      {
       "output_type": "stream",
       "stream": "stdout",
       "text": [
        "\n",
        "1503.08854_trunc.txt\n",
        "1406.4777_trunc.txt\n",
        "1304.2479_trunc.txt\n",
        "1209.3394_trunc.txt"
       ]
      },
      {
       "output_type": "stream",
       "stream": "stdout",
       "text": [
        "\n",
        "1503.04098_trunc.txt\n",
        "1211.2607_trunc.txt\n",
        "1210.2071_trunc.txt\n",
        "1206.5687_trunc.txt"
       ]
      },
      {
       "output_type": "stream",
       "stream": "stdout",
       "text": [
        "\n",
        "1207.6363_trunc.txt\n",
        "1406.4584_trunc.txt\n",
        "1511.00860_trunc.txt"
       ]
      },
      {
       "output_type": "stream",
       "stream": "stdout",
       "text": [
        "\n",
        "1404.6572_trunc.txt\n",
        "1104.5136_trunc.txt\n",
        "1104.4135_trunc.txt\n",
        "1206.1711_trunc.txt"
       ]
      },
      {
       "output_type": "stream",
       "stream": "stdout",
       "text": [
        "\n",
        "1408.0361_trunc.txt\n",
        "1111.0235_trunc.txt\n",
        "1302.5221_trunc.txt\n",
        "1502.00184_trunc.txt"
       ]
      },
      {
       "output_type": "stream",
       "stream": "stdout",
       "text": [
        "\n",
        "1209.4746_trunc.txt\n",
        "1410.0255_trunc.txt\n",
        "1411.4688_trunc.txt\n",
        "1509.03410_trunc.txt"
       ]
      },
      {
       "output_type": "stream",
       "stream": "stdout",
       "text": [
        "\n",
        "1311.7039_trunc.txt\n",
        "1303.4518_trunc.txt\n",
        "1210.7192_trunc.txt"
       ]
      },
      {
       "output_type": "stream",
       "stream": "stdout",
       "text": [
        "\n",
        "1405.6535_trunc.txt\n",
        "1502.00139_trunc.txt\n",
        "1312.0416_trunc.txt"
       ]
      },
      {
       "output_type": "stream",
       "stream": "stdout",
       "text": [
        "\n",
        "1506.02222_trunc.txt\n",
        "1510.02668_trunc.txt\n",
        "1211.1547_trunc.txt\n",
        "1210.4666_trunc.txt"
       ]
      },
      {
       "output_type": "stream",
       "stream": "stdout",
       "text": [
        "\n",
        "1411.2482_trunc.txt\n",
        "1312.7867_trunc.txt\n",
        "1408.6218_trunc.txt\n",
        "1511.01863_trunc.txt"
       ]
      },
      {
       "output_type": "stream",
       "stream": "stdout",
       "text": [
        "\n",
        "1211.3087_trunc.txt\n",
        "1307.7949_trunc.txt\n",
        "1410.6273_trunc.txt\n",
        "1205.5234_trunc.txt"
       ]
      },
      {
       "output_type": "stream",
       "stream": "stdout",
       "text": [
        "\n",
        "1505.05385_trunc.txt\n",
        "1509.01877_trunc.txt\n",
        "1301.3602_trunc.txt\n",
        "1205.6644_trunc.txt"
       ]
      },
      {
       "output_type": "stream",
       "stream": "stdout",
       "text": [
        "\n",
        "1503.08458_trunc.txt\n",
        "1404.5465_trunc.txt\n",
        "1402.5297_trunc.txt\n",
        "1405.7145_trunc.txt"
       ]
      },
      {
       "output_type": "stream",
       "stream": "stdout",
       "text": [
        "\n",
        "1105.4507_trunc.txt\n",
        "1505.02607_trunc.txt\n",
        "1105.1011_trunc.txt\n",
        "1306.2193_trunc.txt"
       ]
      },
      {
       "output_type": "stream",
       "stream": "stdout",
       "text": [
        "\n",
        "1105.5578_trunc.txt\n",
        "1408.1809_trunc.txt\n",
        "1403.1302_trunc.txt\n",
        "1502.07042_trunc.txt"
       ]
      },
      {
       "output_type": "stream",
       "stream": "stdout",
       "text": [
        "\n",
        "1212.5321_trunc.txt\n",
        "1302.6103_trunc.txt\n",
        "1412.0614_trunc.txt\n",
        "1305.5198_trunc.txt"
       ]
      },
      {
       "output_type": "stream",
       "stream": "stdout",
       "text": [
        "\n",
        "1104.4049_trunc.txt\n",
        "1506.08278_trunc.txt\n",
        "1309.1913_trunc.txt\n",
        "1207.5895_trunc.txt"
       ]
      },
      {
       "output_type": "stream",
       "stream": "stdout",
       "text": [
        "\n",
        "1312.0641_trunc.txt\n",
        "1109.0898_trunc.txt\n",
        "1210.7640_trunc.txt\n",
        "1311.0412_trunc.txt"
       ]
      },
      {
       "output_type": "stream",
       "stream": "stdout",
       "text": [
        "\n",
        "1209.0285_trunc.txt\n",
        "1105.1536_trunc.txt\n",
        "1504.00461_trunc.txt\n",
        "1312.3516_trunc.txt"
       ]
      },
      {
       "output_type": "stream",
       "stream": "stdout",
       "text": [
        "\n",
        "1503.05629_trunc.txt\n",
        "1504.02689_trunc.txt\n",
        "1106.4983_trunc.txt\n",
        "1104.2190_trunc.txt"
       ]
      },
      {
       "output_type": "stream",
       "stream": "stdout",
       "text": [
        "\n",
        "1105.4995_trunc.txt\n",
        "1508.02758_trunc.txt\n",
        "1211.3301_trunc.txt\n",
        "1305.1656_trunc.txt"
       ]
      },
      {
       "output_type": "stream",
       "stream": "stdout",
       "text": [
        "\n",
        "1301.2074_trunc.txt\n",
        "1411.7049_trunc.txt\n",
        "1206.6721_trunc.txt\n",
        "1405.6408_trunc.txt"
       ]
      },
      {
       "output_type": "stream",
       "stream": "stdout",
       "text": [
        "\n",
        "1411.3875_trunc.txt\n",
        "1506.04525_trunc.txt\n",
        "1112.2502_trunc.txt\n",
        "1303.4620_trunc.txt"
       ]
      },
      {
       "output_type": "stream",
       "stream": "stdout",
       "text": [
        "\n",
        "1405.1218_trunc.txt\n",
        "1109.6440_trunc.txt\n",
        "1207.4074_trunc.txt\n",
        "1311.1027_trunc.txt"
       ]
      },
      {
       "output_type": "stream",
       "stream": "stdout",
       "text": [
        "\n",
        "1210.8338_trunc.txt\n",
        "1302.6009_trunc.txt\n",
        "1104.0341_trunc.txt\n",
        "1208.2007_trunc.txt"
       ]
      },
      {
       "output_type": "stream",
       "stream": "stdout",
       "text": [
        "\n",
        "1309.6473_trunc.txt\n",
        "1108.5266_trunc.txt\n",
        "1502.06895_trunc.txt\n",
        "1301.3289_trunc.txt"
       ]
      },
      {
       "output_type": "stream",
       "stream": "stdout",
       "text": [
        "\n",
        "1202.3483_trunc.txt\n",
        "1410.3369_trunc.txt\n",
        "1303.5046_trunc.txt\n",
        "1305.5232_trunc.txt"
       ]
      },
      {
       "output_type": "stream",
       "stream": "stdout",
       "text": [
        "\n",
        "1311.1454_trunc.txt\n",
        "1312.4349_trunc.txt\n",
        "1504.07645_trunc.txt\n",
        "1501.03588_trunc.txt"
       ]
      },
      {
       "output_type": "stream",
       "stream": "stdout",
       "text": [
        "\n",
        "1311.3969_trunc.txt\n",
        "1311.2740_trunc.txt\n",
        "1310.2880_trunc.txt"
       ]
      },
      {
       "output_type": "stream",
       "stream": "stdout",
       "text": [
        "\n",
        "1211.2060_trunc.txt\n",
        "1107.2798_trunc.txt\n",
        "1507.02018_trunc.txt"
       ]
      },
      {
       "output_type": "stream",
       "stream": "stdout",
       "text": [
        "\n",
        "1305.6239_trunc.txt\n",
        "1411.1166_trunc.txt\n",
        "1411.2309_trunc.txt"
       ]
      },
      {
       "output_type": "stream",
       "stream": "stdout",
       "text": [
        "\n",
        "1507.08394_trunc.txt\n",
        "1402.5731_trunc.txt\n",
        "1309.7376_trunc.txt"
       ]
      },
      {
       "output_type": "stream",
       "stream": "stdout",
       "text": [
        "\n",
        "1509.05453_trunc.txt\n",
        "1403.3671_trunc.txt\n",
        "1502.00043_trunc.txt"
       ]
      },
      {
       "output_type": "stream",
       "stream": "stdout",
       "text": [
        "\n",
        "1309.7752_trunc.txt\n",
        "1310.5169_trunc.txt\n",
        "1301.1499_trunc.txt"
       ]
      },
      {
       "output_type": "stream",
       "stream": "stdout",
       "text": [
        "\n",
        "1207.6461_trunc.txt\n",
        "1303.4871_trunc.txt\n",
        "1305.6156_trunc.txt"
       ]
      },
      {
       "output_type": "stream",
       "stream": "stdout",
       "text": [
        "\n",
        "1303.0268_trunc.txt\n",
        "1406.3521_trunc.txt\n",
        "1506.02984_trunc.txt"
       ]
      },
      {
       "output_type": "stream",
       "stream": "stdout",
       "text": [
        "\n",
        "1111.1876_trunc.txt\n",
        "1511.00734_trunc.txt\n",
        "1205.1210_trunc.txt\n",
        "1207.5378_trunc.txt"
       ]
      },
      {
       "output_type": "stream",
       "stream": "stdout",
       "text": [
        "\n",
        "1405.6792_trunc.txt\n",
        "1111.6086_trunc.txt\n",
        "1503.04530_trunc.txt\n",
        "1407.0204_trunc.txt"
       ]
      },
      {
       "output_type": "stream",
       "stream": "stdout",
       "text": [
        "\n",
        "1502.02049_trunc.txt\n",
        "1407.2812_trunc.txt\n",
        "1408.6731_trunc.txt\n",
        "1311.0035_trunc.txt"
       ]
      },
      {
       "output_type": "stream",
       "stream": "stdout",
       "text": [
        "\n",
        "1205.4095_trunc.txt\n",
        "1407.4372_trunc.txt\n",
        "1111.3387_trunc.txt"
       ]
      },
      {
       "output_type": "stream",
       "stream": "stdout",
       "text": [
        "\n",
        "1402.0845_trunc.txt\n",
        "1509.06673_trunc.txt\n",
        "1301.4679_trunc.txt"
       ]
      },
      {
       "output_type": "stream",
       "stream": "stdout",
       "text": [
        "\n",
        "1411.0169_trunc.txt\n",
        "1503.03673_trunc.txt\n",
        "1105.1212_trunc.txt"
       ]
      },
      {
       "output_type": "stream",
       "stream": "stdout",
       "text": [
        "\n",
        "1303.7117_trunc.txt\n",
        "1310.4526_trunc.txt\n",
        "1402.6419_trunc.txt"
       ]
      },
      {
       "output_type": "stream",
       "stream": "stdout",
       "text": [
        "\n",
        "1111.3029_trunc.txt\n",
        "1112.4530_trunc.txt\n",
        "1411.5720_trunc.txt\n",
        "1205.1617_trunc.txt"
       ]
      },
      {
       "output_type": "stream",
       "stream": "stdout",
       "text": [
        "\n",
        "1503.07368_trunc.txt\n",
        "1107.2433_trunc.txt\n",
        "1105.0889_trunc.txt\n",
        "1408.1469_trunc.txt"
       ]
      },
      {
       "output_type": "stream",
       "stream": "stdout",
       "text": [
        "\n",
        "1411.3083_trunc.txt\n",
        "1304.0175_trunc.txt\n",
        "1305.7406_trunc.txt\n",
        "1511.00507_trunc.txt"
       ]
      },
      {
       "output_type": "stream",
       "stream": "stdout",
       "text": [
        "\n",
        "1303.1743_trunc.txt\n",
        "1405.6793_trunc.txt\n",
        "1509.09167_trunc.txt\n",
        "1307.8137_trunc.txt"
       ]
      },
      {
       "output_type": "stream",
       "stream": "stdout",
       "text": [
        "\n",
        "1501.02151_trunc.txt\n",
        "1202.2212_trunc.txt\n",
        "1112.5659_trunc.txt"
       ]
      },
      {
       "output_type": "stream",
       "stream": "stdout",
       "text": [
        "\n",
        "1308.2765_trunc.txt\n",
        "1509.00899_trunc.txt\n",
        "1106.2363_trunc.txt"
       ]
      },
      {
       "output_type": "stream",
       "stream": "stdout",
       "text": [
        "\n",
        "1309.7801_trunc.txt\n",
        "1110.1248_trunc.txt\n",
        "1302.3302_trunc.txt\n",
        "1201.0310_trunc.txt"
       ]
      },
      {
       "output_type": "stream",
       "stream": "stdout",
       "text": [
        "\n",
        "1104.2939_trunc.txt\n",
        "1208.3321_trunc.txt\n",
        "1302.2408_trunc.txt\n",
        "1108.1972_trunc.txt"
       ]
      },
      {
       "output_type": "stream",
       "stream": "stdout",
       "text": [
        "\n",
        "1111.4148_trunc.txt\n",
        "1311.5000_trunc.txt\n",
        "1308.1766_trunc.txt"
       ]
      },
      {
       "output_type": "stream",
       "stream": "stdout",
       "text": [
        "\n",
        "1108.5560_trunc.txt\n",
        "1502.04654_trunc.txt\n",
        "1404.2298_trunc.txt"
       ]
      },
      {
       "output_type": "stream",
       "stream": "stdout",
       "text": [
        "\n",
        "1212.1791_trunc.txt\n",
        "1209.5356_trunc.txt\n",
        "1411.7601_trunc.txt\n",
        "1111.3563_trunc.txt"
       ]
      },
      {
       "output_type": "stream",
       "stream": "stdout",
       "text": [
        "\n",
        "1410.0661_trunc.txt\n",
        "1404.2957_trunc.txt\n",
        "1408.3386_trunc.txt\n",
        "1109.6760_trunc.txt"
       ]
      },
      {
       "output_type": "stream",
       "stream": "stdout",
       "text": [
        "\n",
        "1312.5123_trunc.txt\n",
        "1505.07072_trunc.txt\n",
        "1504.07218_trunc.txt"
       ]
      },
      {
       "output_type": "stream",
       "stream": "stdout",
       "text": [
        "\n",
        "1207.0282_trunc.txt\n",
        "1303.7090_trunc.txt\n",
        "1109.4699_trunc.txt"
       ]
      },
      {
       "output_type": "stream",
       "stream": "stdout",
       "text": [
        "\n",
        "1309.6766_trunc.txt\n",
        "1507.06597_trunc.txt\n",
        "1309.2178_trunc.txt\n",
        "1306.6222_trunc.txt"
       ]
      },
      {
       "output_type": "stream",
       "stream": "stdout",
       "text": [
        "\n",
        "1309.4632_trunc.txt\n",
        "1207.1611_trunc.txt\n",
        "1401.3408_trunc.txt"
       ]
      },
      {
       "output_type": "stream",
       "stream": "stdout",
       "text": [
        "\n",
        "1303.2874_trunc.txt\n",
        "1111.7205_trunc.txt\n",
        "1405.6257_trunc.txt\n",
        "1505.07602_trunc.txt"
       ]
      },
      {
       "output_type": "stream",
       "stream": "stdout",
       "text": [
        "\n",
        "1509.01817_trunc.txt\n",
        "1310.7138_trunc.txt\n",
        "1510.05077_trunc.txt\n",
        "1307.5286_trunc.txt"
       ]
      },
      {
       "output_type": "stream",
       "stream": "stdout",
       "text": [
        "\n",
        "1309.1754_trunc.txt\n",
        "1109.4540_trunc.txt\n",
        "1505.00662_trunc.txt"
       ]
      },
      {
       "output_type": "stream",
       "stream": "stdout",
       "text": [
        "\n",
        "1403.3306_trunc.txt\n",
        "1509.00727_trunc.txt\n",
        "1111.2730_trunc.txt"
       ]
      },
      {
       "output_type": "stream",
       "stream": "stdout",
       "text": [
        "\n",
        "1209.1533_trunc.txt\n",
        "1403.7866_trunc.txt\n",
        "1206.0459_trunc.txt\n",
        "1305.4482_trunc.txt"
       ]
      },
      {
       "output_type": "stream",
       "stream": "stdout",
       "text": [
        "\n",
        "1205.1892_trunc.txt\n",
        "1309.7759_trunc.txt\n",
        "1312.1591_trunc.txt\n",
        "1106.5485_trunc.txt"
       ]
      },
      {
       "output_type": "stream",
       "stream": "stdout",
       "text": [
        "\n",
        "1412.8434_trunc.txt\n",
        "1308.2764_trunc.txt\n",
        "1107.1971_trunc.txt"
       ]
      },
      {
       "output_type": "stream",
       "stream": "stdout",
       "text": [
        "\n",
        "1410.4787_trunc.txt\n",
        "1407.0013_trunc.txt\n",
        "1210.4402_trunc.txt\n",
        "1304.2180_trunc.txt"
       ]
      },
      {
       "output_type": "stream",
       "stream": "stdout",
       "text": [
        "\n",
        "1406.1849_trunc.txt\n",
        "1108.3552_trunc.txt\n",
        "1506.01567_trunc.txt"
       ]
      },
      {
       "output_type": "stream",
       "stream": "stdout",
       "text": [
        "\n",
        "1112.2432_trunc.txt\n",
        "1206.5862_trunc.txt\n",
        "1301.4566_trunc.txt"
       ]
      },
      {
       "output_type": "stream",
       "stream": "stdout",
       "text": [
        "\n",
        "1110.6255_trunc.txt\n",
        "1206.3125_trunc.txt\n",
        "1411.5888_trunc.txt"
       ]
      },
      {
       "output_type": "stream",
       "stream": "stdout",
       "text": [
        "\n",
        "1505.05068_trunc.txt\n",
        "1504.06384_trunc.txt\n",
        "1507.07754_trunc.txt"
       ]
      },
      {
       "output_type": "stream",
       "stream": "stdout",
       "text": [
        "\n",
        "1304.5802_trunc.txt\n",
        "1308.5626_trunc.txt\n",
        "1506.07732_trunc.txt\n",
        "1207.6228_trunc.txt"
       ]
      },
      {
       "output_type": "stream",
       "stream": "stdout",
       "text": [
        "\n",
        "1209.5240_trunc.txt\n",
        "1504.00490_trunc.txt\n",
        "1402.2786_trunc.txt"
       ]
      },
      {
       "output_type": "stream",
       "stream": "stdout",
       "text": [
        "\n",
        "1501.01617_trunc.txt\n",
        "1308.2608_trunc.txt\n",
        "1309.7816_trunc.txt"
       ]
      },
      {
       "output_type": "stream",
       "stream": "stdout",
       "text": [
        "\n",
        "1302.1158_trunc.txt\n",
        "1106.2525_trunc.txt\n",
        "1503.05077_trunc.txt"
       ]
      },
      {
       "output_type": "stream",
       "stream": "stdout",
       "text": [
        "\n",
        "1402.1754_trunc.txt\n",
        "1504.05415_trunc.txt\n",
        "1206.2790_trunc.txt\n",
        "1309.6136_trunc.txt"
       ]
      },
      {
       "output_type": "stream",
       "stream": "stdout",
       "text": [
        "\n",
        "1104.3966_trunc.txt\n",
        "1205.4123_trunc.txt\n",
        "1405.5240_trunc.txt\n",
        "1503.00378_trunc.txt"
       ]
      },
      {
       "output_type": "stream",
       "stream": "stdout",
       "text": [
        "\n",
        "1503.03414_trunc.txt\n",
        "1304.2085_trunc.txt\n",
        "1207.5998_trunc.txt\n",
        "1510.08178_trunc.txt"
       ]
      },
      {
       "output_type": "stream",
       "stream": "stdout",
       "text": [
        "\n",
        "1506.04091_trunc.txt\n",
        "1506.05536_trunc.txt\n",
        "1411.2701_trunc.txt"
       ]
      },
      {
       "output_type": "stream",
       "stream": "stdout",
       "text": [
        "\n",
        "1508.07036_trunc.txt\n",
        "1510.07105_trunc.txt\n",
        "1110.2345_trunc.txt"
       ]
      },
      {
       "output_type": "stream",
       "stream": "stdout",
       "text": [
        "\n",
        "1411.7920_trunc.txt\n",
        "1506.01782_trunc.txt\n",
        "1112.3450_trunc.txt"
       ]
      },
      {
       "output_type": "stream",
       "stream": "stdout",
       "text": [
        "\n",
        "1311.4976_trunc.txt\n",
        "1405.4537_trunc.txt\n",
        "1411.1144_trunc.txt"
       ]
      },
      {
       "output_type": "stream",
       "stream": "stdout",
       "text": [
        "\n",
        "1310.0425_trunc.txt\n",
        "1402.0125_trunc.txt\n",
        "1202.0666_trunc.txt"
       ]
      },
      {
       "output_type": "stream",
       "stream": "stdout",
       "text": [
        "\n",
        "1410.4208_trunc.txt\n",
        "1402.5107_trunc.txt\n",
        "1501.06094_trunc.txt"
       ]
      },
      {
       "output_type": "stream",
       "stream": "stdout",
       "text": [
        "\n",
        "1509.02451_trunc.txt\n",
        "1506.03131_trunc.txt\n",
        "1302.3030_trunc.txt"
       ]
      },
      {
       "output_type": "stream",
       "stream": "stdout",
       "text": [
        "\n",
        "1209.1706_trunc.txt\n",
        "1410.0979_trunc.txt\n",
        "1506.08724_trunc.txt\n",
        "1207.4819_trunc.txt"
       ]
      },
      {
       "output_type": "stream",
       "stream": "stdout",
       "text": [
        "\n",
        "1208.3552_trunc.txt\n",
        "1311.3060_trunc.txt\n",
        "1306.0256_trunc.txt"
       ]
      },
      {
       "output_type": "stream",
       "stream": "stdout",
       "text": [
        "\n",
        "1109.0741_trunc.txt\n",
        "1405.2601_trunc.txt\n",
        "1112.5506_trunc.txt\n",
        "1209.1764_trunc.txt"
       ]
      },
      {
       "output_type": "stream",
       "stream": "stdout",
       "text": [
        "\n",
        "1504.04100_trunc.txt\n",
        "1305.4571_trunc.txt\n",
        "1312.5634_trunc.txt\n",
        "1507.06739_trunc.txt"
       ]
      },
      {
       "output_type": "stream",
       "stream": "stdout",
       "text": [
        "\n",
        "1208.0721_trunc.txt\n",
        "1409.6779_trunc.txt\n",
        "1301.4804_trunc.txt"
       ]
      },
      {
       "output_type": "stream",
       "stream": "stdout",
       "text": [
        "\n",
        "1108.0757_trunc.txt\n",
        "1207.1256_trunc.txt\n",
        "1407.0731_trunc.txt"
       ]
      },
      {
       "output_type": "stream",
       "stream": "stdout",
       "text": [
        "\n",
        "1502.02373_trunc.txt\n",
        "1508.07537_trunc.txt\n",
        "1202.2396_trunc.txt"
       ]
      },
      {
       "output_type": "stream",
       "stream": "stdout",
       "text": [
        "\n",
        "1403.1876_trunc.txt\n",
        "1310.2467_trunc.txt\n",
        "1507.02074_trunc.txt"
       ]
      },
      {
       "output_type": "stream",
       "stream": "stdout",
       "text": [
        "\n",
        "1403.0547_trunc.txt\n",
        "1412.0313_trunc.txt\n",
        "1209.4177_trunc.txt\n",
        "1403.7852_trunc.txt"
       ]
      },
      {
       "output_type": "stream",
       "stream": "stdout",
       "text": [
        "\n",
        "1206.0825_trunc.txt\n",
        "1106.4739_trunc.txt\n",
        "1501.04787_trunc.txt"
       ]
      },
      {
       "output_type": "stream",
       "stream": "stdout",
       "text": [
        "\n",
        "1504.07046_trunc.txt\n",
        "1206.0937_trunc.txt\n",
        "1302.5644_trunc.txt\n",
        "1403.7063_trunc.txt"
       ]
      },
      {
       "output_type": "stream",
       "stream": "stdout",
       "text": [
        "\n",
        "1209.3357_trunc.txt\n",
        "1206.1395_trunc.txt\n",
        "1403.1669_trunc.txt\n",
        "1312.5137_trunc.txt"
       ]
      },
      {
       "output_type": "stream",
       "stream": "stdout",
       "text": [
        "\n",
        "1501.00208_trunc.txt\n",
        "1111.1077_trunc.txt\n",
        "1309.6267_trunc.txt"
       ]
      },
      {
       "output_type": "stream",
       "stream": "stdout",
       "text": [
        "\n",
        "1410.5837_trunc.txt\n",
        "1307.5962_trunc.txt\n",
        "1407.1233_trunc.txt\n",
        "1403.3414_trunc.txt"
       ]
      },
      {
       "output_type": "stream",
       "stream": "stdout",
       "text": [
        "\n",
        "1408.0424_trunc.txt\n",
        "1210.0358_trunc.txt\n",
        "1412.0753_trunc.txt"
       ]
      },
      {
       "output_type": "stream",
       "stream": "stdout",
       "text": [
        "\n",
        "1209.0542_trunc.txt\n",
        "1401.1383_trunc.txt\n",
        "1205.1984_trunc.txt"
       ]
      },
      {
       "output_type": "stream",
       "stream": "stdout",
       "text": [
        "\n",
        "1211.5272_trunc.txt\n",
        "1408.3169_trunc.txt\n",
        "1110.3572_trunc.txt"
       ]
      },
      {
       "output_type": "stream",
       "stream": "stdout",
       "text": [
        "\n",
        "1510.00290_trunc.txt\n",
        "1502.01988_trunc.txt\n",
        "1403.0609_trunc.txt"
       ]
      },
      {
       "output_type": "stream",
       "stream": "stdout",
       "text": [
        "\n",
        "1210.0771_trunc.txt\n",
        "1308.3925_trunc.txt\n",
        "1509.01291_trunc.txt"
       ]
      },
      {
       "output_type": "stream",
       "stream": "stdout",
       "text": [
        "\n",
        "1304.4257_trunc.txt\n",
        "1505.01787_trunc.txt\n",
        "1406.7114_trunc.txt"
       ]
      },
      {
       "output_type": "stream",
       "stream": "stdout",
       "text": [
        "\n",
        "1411.2936_trunc.txt\n",
        "1108.1033_trunc.txt\n",
        "1408.6323_trunc.txt"
       ]
      },
      {
       "output_type": "stream",
       "stream": "stdout",
       "text": [
        "\n",
        "1401.3424_trunc.txt\n",
        "1409.2177_trunc.txt\n",
        "1401.6044_trunc.txt"
       ]
      },
      {
       "output_type": "stream",
       "stream": "stdout",
       "text": [
        "\n",
        "1110.4168_trunc.txt\n",
        "1208.1154_trunc.txt\n",
        "1211.0459_trunc.txt"
       ]
      },
      {
       "output_type": "stream",
       "stream": "stdout",
       "text": [
        "\n",
        "1404.0396_trunc.txt\n",
        "1408.4908_trunc.txt\n",
        "1405.6210_trunc.txt"
       ]
      },
      {
       "output_type": "stream",
       "stream": "stdout",
       "text": [
        "\n",
        "1309.4029_trunc.txt\n",
        "1501.07091_trunc.txt\n",
        "1311.5768_trunc.txt"
       ]
      },
      {
       "output_type": "stream",
       "stream": "stdout",
       "text": [
        "\n",
        "1209.2669_trunc.txt\n",
        "1301.2603_trunc.txt\n",
        "1207.2079_trunc.txt"
       ]
      },
      {
       "output_type": "stream",
       "stream": "stdout",
       "text": [
        "\n",
        "1407.3397_trunc.txt\n",
        "1505.07607_trunc.txt\n",
        "1311.3092_trunc.txt"
       ]
      },
      {
       "output_type": "stream",
       "stream": "stdout",
       "text": [
        "\n",
        "1503.05911_trunc.txt\n",
        "1410.7098_trunc.txt\n",
        "1502.01488_trunc.txt"
       ]
      },
      {
       "output_type": "stream",
       "stream": "stdout",
       "text": [
        "\n",
        "1405.0384_trunc.txt\n",
        "1402.5693_trunc.txt\n",
        "1409.2344_trunc.txt"
       ]
      },
      {
       "output_type": "stream",
       "stream": "stdout",
       "text": [
        "\n",
        "1105.3561_trunc.txt\n",
        "1509.05697_trunc.txt\n",
        "1401.6959_trunc.txt"
       ]
      },
      {
       "output_type": "stream",
       "stream": "stdout",
       "text": [
        "\n",
        "1506.07212_trunc.txt\n",
        "1501.02861_trunc.txt\n",
        "1505.00991_trunc.txt"
       ]
      },
      {
       "output_type": "stream",
       "stream": "stdout",
       "text": [
        "\n",
        "1202.4863_trunc.txt\n",
        "1307.8229_trunc.txt\n",
        "1106.1151_trunc.txt"
       ]
      },
      {
       "output_type": "stream",
       "stream": "stdout",
       "text": [
        "\n",
        "1402.2918_trunc.txt\n",
        "1408.6333_trunc.txt\n",
        "1301.4240_trunc.txt"
       ]
      },
      {
       "output_type": "stream",
       "stream": "stdout",
       "text": [
        "\n",
        "1109.4960_trunc.txt\n",
        "1303.2800_trunc.txt\n",
        "1112.1868_trunc.txt"
       ]
      },
      {
       "output_type": "stream",
       "stream": "stdout",
       "text": [
        "\n",
        "1105.0015_trunc.txt\n",
        "1305.7388_trunc.txt\n",
        "1308.1147_trunc.txt"
       ]
      },
      {
       "output_type": "stream",
       "stream": "stdout",
       "text": [
        "\n",
        "1502.04643_trunc.txt\n",
        "1410.5939_trunc.txt\n",
        "1105.3369_trunc.txt"
       ]
      },
      {
       "output_type": "stream",
       "stream": "stdout",
       "text": [
        "\n",
        "1401.1026_trunc.txt\n",
        "1412.4170_trunc.txt\n",
        "1312.5594_trunc.txt"
       ]
      },
      {
       "output_type": "stream",
       "stream": "stdout",
       "text": [
        "\n",
        "1301.5259_trunc.txt\n",
        "1311.0851_trunc.txt\n",
        "1506.04991_trunc.txt"
       ]
      },
      {
       "output_type": "stream",
       "stream": "stdout",
       "text": [
        "\n",
        "1311.0662_trunc.txt\n",
        "1408.6876_trunc.txt\n",
        "1312.7401_trunc.txt"
       ]
      },
      {
       "output_type": "stream",
       "stream": "stdout",
       "text": [
        "\n",
        "1205.0880_trunc.txt\n",
        "1406.6085_trunc.txt\n",
        "1508.02973_trunc.txt"
       ]
      },
      {
       "output_type": "stream",
       "stream": "stdout",
       "text": [
        "\n",
        "1212.3866_trunc.txt\n",
        "1309.4740_trunc.txt\n",
        "1111.5876_trunc.txt\n",
        "1502.06718_trunc.txt"
       ]
      },
      {
       "output_type": "stream",
       "stream": "stdout",
       "text": [
        "\n",
        "1510.07129_trunc.txt\n",
        "1507.00171_trunc.txt\n",
        "1304.6772_trunc.txt"
       ]
      },
      {
       "output_type": "stream",
       "stream": "stdout",
       "text": [
        "\n",
        "1403.5459_trunc.txt\n",
        "1403.1124_trunc.txt\n",
        "1311.1687_trunc.txt"
       ]
      },
      {
       "output_type": "stream",
       "stream": "stdout",
       "text": [
        "\n",
        "1312.5306_trunc.txt\n",
        "1507.03652_trunc.txt\n",
        "1408.0412_trunc.txt"
       ]
      },
      {
       "output_type": "stream",
       "stream": "stdout",
       "text": [
        "\n",
        "1211.1614_trunc.txt\n",
        "1509.00114_trunc.txt\n",
        "1207.0865_trunc.txt"
       ]
      },
      {
       "output_type": "stream",
       "stream": "stdout",
       "text": [
        "\n",
        "1112.2682_trunc.txt\n",
        "1212.0463_trunc.txt\n",
        "1111.2191_trunc.txt"
       ]
      },
      {
       "output_type": "stream",
       "stream": "stdout",
       "text": [
        "\n",
        "1201.1071_trunc.txt\n",
        "1210.1066_trunc.txt\n",
        "1211.5219_trunc.txt"
       ]
      },
      {
       "output_type": "stream",
       "stream": "stdout",
       "text": [
        "\n",
        "1202.1125_trunc.txt\n",
        "1410.4593_trunc.txt\n",
        "1302.0181_trunc.txt"
       ]
      },
      {
       "output_type": "stream",
       "stream": "stdout",
       "text": [
        "\n",
        "1503.01727_trunc.txt\n",
        "1105.4042_trunc.txt\n",
        "1206.0867_trunc.txt"
       ]
      },
      {
       "output_type": "stream",
       "stream": "stdout",
       "text": [
        "\n",
        "1304.6017_trunc.txt\n",
        "1107.2802_trunc.txt\n",
        "1412.8161_trunc.txt"
       ]
      },
      {
       "output_type": "stream",
       "stream": "stdout",
       "text": [
        "\n",
        "1111.3308_trunc.txt\n",
        "1310.7479_trunc.txt\n",
        "1304.0943_trunc.txt\n",
        "1109.0838_trunc.txt"
       ]
      },
      {
       "output_type": "stream",
       "stream": "stdout",
       "text": [
        "\n",
        "1402.6806_trunc.txt\n",
        "1209.3215_trunc.txt\n",
        "1506.03481_trunc.txt"
       ]
      },
      {
       "output_type": "stream",
       "stream": "stdout",
       "text": [
        "\n",
        "1104.3664_trunc.txt\n",
        "1304.1383_trunc.txt\n",
        "1105.5036_trunc.txt"
       ]
      },
      {
       "output_type": "stream",
       "stream": "stdout",
       "text": [
        "\n",
        "1109.2694_trunc.txt\n",
        "1311.0274_trunc.txt\n",
        "1211.2582_trunc.txt"
       ]
      },
      {
       "output_type": "stream",
       "stream": "stdout",
       "text": [
        "\n",
        "1412.3972_trunc.txt\n",
        "1105.0343_trunc.txt\n",
        "1306.0842_trunc.txt"
       ]
      },
      {
       "output_type": "stream",
       "stream": "stdout",
       "text": [
        "\n",
        "1407.1347_trunc.txt\n",
        "1403.5689_trunc.txt\n",
        "1402.4296_trunc.txt"
       ]
      },
      {
       "output_type": "stream",
       "stream": "stdout",
       "text": [
        "\n",
        "1510.05439_trunc.txt\n",
        "1411.2636_trunc.txt\n",
        "1103.4029_trunc.txt"
       ]
      },
      {
       "output_type": "stream",
       "stream": "stdout",
       "text": [
        "\n",
        "1508.04175_trunc.txt\n",
        "1501.02103_trunc.txt\n",
        "1406.6031_trunc.txt"
       ]
      },
      {
       "output_type": "stream",
       "stream": "stdout",
       "text": [
        "\n",
        "1207.4951_trunc.txt\n",
        "1306.3494_trunc.txt\n",
        "1306.5505_trunc.txt"
       ]
      },
      {
       "output_type": "stream",
       "stream": "stdout",
       "text": [
        "\n",
        "1505.02288_trunc.txt\n",
        "1106.4333_trunc.txt\n",
        "1407.5158_trunc.txt"
       ]
      },
      {
       "output_type": "stream",
       "stream": "stdout",
       "text": [
        "\n",
        "1506.03382_trunc.txt\n",
        "1507.01760_trunc.txt\n",
        "1207.3757_trunc.txt"
       ]
      },
      {
       "output_type": "stream",
       "stream": "stdout",
       "text": [
        "\n",
        "1503.00946_trunc.txt\n",
        "1506.00671_trunc.txt\n",
        "1412.7392_trunc.txt"
       ]
      },
      {
       "output_type": "stream",
       "stream": "stdout",
       "text": [
        "\n",
        "1410.2597_trunc.txt\n",
        "1506.01842_trunc.txt\n",
        "1204.5399_trunc.txt"
       ]
      },
      {
       "output_type": "stream",
       "stream": "stdout",
       "text": [
        "\n",
        "1503.04985_trunc.txt\n",
        "1109.4003_trunc.txt\n",
        "1305.4836_trunc.txt"
       ]
      },
      {
       "output_type": "stream",
       "stream": "stdout",
       "text": [
        "\n",
        "1211.2671_trunc.txt\n",
        "1302.4552_trunc.txt\n",
        "1406.4261_trunc.txt"
       ]
      },
      {
       "output_type": "stream",
       "stream": "stdout",
       "text": [
        "\n",
        "1307.7624_trunc.txt\n",
        "1506.00669_trunc.txt\n",
        "1302.3407_trunc.txt"
       ]
      },
      {
       "output_type": "stream",
       "stream": "stdout",
       "text": [
        "\n",
        "1406.3372_trunc.txt\n",
        "1302.0262_trunc.txt\n",
        "1206.0710_trunc.txt"
       ]
      },
      {
       "output_type": "stream",
       "stream": "stdout",
       "text": [
        "\n",
        "1302.2489_trunc.txt\n",
        "1301.2708_trunc.txt\n",
        "1411.6716_trunc.txt"
       ]
      },
      {
       "output_type": "stream",
       "stream": "stdout",
       "text": [
        "\n",
        "1502.01752_trunc.txt\n",
        "1502.01999_trunc.txt\n",
        "1106.5826_trunc.txt"
       ]
      },
      {
       "output_type": "stream",
       "stream": "stdout",
       "text": [
        "\n",
        "1406.5933_trunc.txt\n",
        "1109.4564_trunc.txt\n",
        "1307.7650_trunc.txt"
       ]
      },
      {
       "output_type": "stream",
       "stream": "stdout",
       "text": [
        "\n",
        "1301.3581_trunc.txt\n",
        "1508.01264_trunc.txt\n",
        "1508.03712_trunc.txt"
       ]
      },
      {
       "output_type": "stream",
       "stream": "stdout",
       "text": [
        "\n",
        "1509.00049_trunc.txt\n",
        "1402.2986_trunc.txt\n",
        "1211.0835_trunc.txt"
       ]
      },
      {
       "output_type": "stream",
       "stream": "stdout",
       "text": [
        "\n",
        "1410.1231_trunc.txt\n",
        "1111.5867_trunc.txt\n",
        "1408.4755_trunc.txt\n",
        "1501.06202_trunc.txt"
       ]
      },
      {
       "output_type": "stream",
       "stream": "stdout",
       "text": [
        "\n",
        "1407.3410_trunc.txt\n",
        "1504.06441_trunc.txt\n",
        "1202.0943_trunc.txt"
       ]
      },
      {
       "output_type": "stream",
       "stream": "stdout",
       "text": [
        "\n",
        "1211.5513_trunc.txt\n",
        "1311.2483_trunc.txt\n",
        "1409.7548_trunc.txt"
       ]
      },
      {
       "output_type": "stream",
       "stream": "stdout",
       "text": [
        "\n",
        "1109.4180_trunc.txt\n",
        "1207.5910_trunc.txt\n",
        "1409.1331_trunc.txt"
       ]
      },
      {
       "output_type": "stream",
       "stream": "stdout",
       "text": [
        "\n",
        "1308.2836_trunc.txt\n",
        "1406.5638_trunc.txt\n",
        "1205.4159_trunc.txt"
       ]
      },
      {
       "output_type": "stream",
       "stream": "stdout",
       "text": [
        "\n",
        "1501.06260_trunc.txt\n",
        "1402.0092_trunc.txt\n",
        "1407.4446_trunc.txt"
       ]
      },
      {
       "output_type": "stream",
       "stream": "stdout",
       "text": [
        "\n",
        "1304.3345_trunc.txt\n",
        "1505.02965_trunc.txt\n",
        "1410.0996_trunc.txt"
       ]
      },
      {
       "output_type": "stream",
       "stream": "stdout",
       "text": [
        "\n",
        "1201.4579_trunc.txt\n",
        "1310.6713_trunc.txt\n",
        "1206.0677_trunc.txt"
       ]
      },
      {
       "output_type": "stream",
       "stream": "stdout",
       "text": [
        "\n",
        "1206.7101_trunc.txt\n",
        "1506.03345_trunc.txt\n",
        "1404.6875_trunc.txt\n",
        "1210.1092_trunc.txt"
       ]
      },
      {
       "output_type": "stream",
       "stream": "stdout",
       "text": [
        "\n",
        "1509.07566_trunc.txt\n",
        "1108.5116_trunc.txt\n",
        "1309.6699_trunc.txt"
       ]
      },
      {
       "output_type": "stream",
       "stream": "stdout",
       "text": [
        "\n",
        "1306.2814_trunc.txt\n",
        "1305.5270_trunc.txt\n",
        "1407.7820_trunc.txt"
       ]
      },
      {
       "output_type": "stream",
       "stream": "stdout",
       "text": [
        "\n",
        "1304.2847_trunc.txt\n",
        "1508.02757_trunc.txt\n",
        "1509.07983_trunc.txt"
       ]
      },
      {
       "output_type": "stream",
       "stream": "stdout",
       "text": [
        "\n",
        "1210.3060_trunc.txt\n",
        "1412.5136_trunc.txt\n",
        "1410.3533_trunc.txt"
       ]
      },
      {
       "output_type": "stream",
       "stream": "stdout",
       "text": [
        "\n",
        "1206.2425_trunc.txt\n",
        "1403.7868_trunc.txt\n",
        "1211.3460_trunc.txt"
       ]
      },
      {
       "output_type": "stream",
       "stream": "stdout",
       "text": [
        "\n",
        "1506.03762_trunc.txt\n",
        "1306.6430_trunc.txt\n",
        "1403.3762_trunc.txt"
       ]
      },
      {
       "output_type": "stream",
       "stream": "stdout",
       "text": [
        "\n",
        "1212.3709_trunc.txt\n",
        "1409.1419_trunc.txt\n",
        "1308.6306_trunc.txt\n",
        "1504.06185_trunc.txt"
       ]
      },
      {
       "output_type": "stream",
       "stream": "stdout",
       "text": [
        "\n",
        "1105.2879_trunc.txt\n",
        "1303.5180_trunc.txt\n",
        "1507.00513_trunc.txt\n",
        "1508.00936_trunc.txt"
       ]
      },
      {
       "output_type": "stream",
       "stream": "stdout",
       "text": [
        "\n",
        "1405.3229_trunc.txt\n",
        "1503.05436_trunc.txt\n",
        "1501.01366_trunc.txt\n",
        "1408.5604_trunc.txt"
       ]
      },
      {
       "output_type": "stream",
       "stream": "stdout",
       "text": [
        "\n",
        "1505.02948_trunc.txt\n",
        "1410.6020_trunc.txt\n",
        "1207.3847_trunc.txt\n",
        "1501.03704_trunc.txt"
       ]
      },
      {
       "output_type": "stream",
       "stream": "stdout",
       "text": [
        "\n",
        "1106.4729_trunc.txt\n",
        "1305.3486_trunc.txt\n",
        "1309.3197_trunc.txt\n",
        "1504.04599_trunc.txt"
       ]
      },
      {
       "output_type": "stream",
       "stream": "stdout",
       "text": [
        "\n",
        "1210.0390_trunc.txt\n",
        "1503.05509_trunc.txt\n",
        "1305.4496_trunc.txt\n",
        "1502.02355_trunc.txt"
       ]
      },
      {
       "output_type": "stream",
       "stream": "stdout",
       "text": [
        "\n",
        "1506.07368_trunc.txt\n",
        "1307.7721_trunc.txt\n",
        "1407.1195_trunc.txt\n",
        "1507.01615_trunc.txt"
       ]
      },
      {
       "output_type": "stream",
       "stream": "stdout",
       "text": [
        "\n",
        "1509.07409_trunc.txt\n",
        "1207.0327_trunc.txt\n",
        "1401.2897_trunc.txt"
       ]
      },
      {
       "output_type": "stream",
       "stream": "stdout",
       "text": [
        "\n",
        "1304.1761_trunc.txt\n",
        "1401.5571_trunc.txt\n",
        "1111.3159_trunc.txt"
       ]
      },
      {
       "output_type": "stream",
       "stream": "stdout",
       "text": [
        "\n",
        "1506.00847_trunc.txt\n",
        "1312.1900_trunc.txt\n",
        "1212.5429_trunc.txt"
       ]
      },
      {
       "output_type": "stream",
       "stream": "stdout",
       "text": [
        "\n",
        "1312.2903_trunc.txt\n",
        "1303.6856_trunc.txt\n",
        "1307.2223_trunc.txt"
       ]
      },
      {
       "output_type": "stream",
       "stream": "stdout",
       "text": [
        "\n",
        "1112.0391_trunc.txt\n",
        "1301.3558_trunc.txt\n",
        "1510.04740_trunc.txt"
       ]
      },
      {
       "output_type": "stream",
       "stream": "stdout",
       "text": [
        "\n",
        "1402.1920_trunc.txt\n",
        "1205.3703_trunc.txt\n",
        "1205.4692_trunc.txt\n",
        "1504.03144_trunc.txt"
       ]
      },
      {
       "output_type": "stream",
       "stream": "stdout",
       "text": [
        "\n",
        "1105.4680_trunc.txt\n",
        "1505.08049_trunc.txt\n",
        "1401.6926_trunc.txt"
       ]
      },
      {
       "output_type": "stream",
       "stream": "stdout",
       "text": [
        "\n",
        "1503.03212_trunc.txt\n",
        "1207.5615_trunc.txt\n",
        "1501.05071_trunc.txt"
       ]
      },
      {
       "output_type": "stream",
       "stream": "stdout",
       "text": [
        "\n",
        "1506.04775_trunc.txt\n",
        "1205.5050_trunc.txt\n",
        "1509.07040_trunc.txt"
       ]
      },
      {
       "output_type": "stream",
       "stream": "stdout",
       "text": [
        "\n",
        "1403.2578_trunc.txt\n",
        "1510.08240_trunc.txt\n",
        "1403.7589_trunc.txt"
       ]
      },
      {
       "output_type": "stream",
       "stream": "stdout",
       "text": [
        "\n",
        "1510.03547_trunc.txt\n",
        "1507.06370_trunc.txt\n",
        "1507.07664_trunc.txt"
       ]
      },
      {
       "output_type": "stream",
       "stream": "stdout",
       "text": [
        "\n",
        "1111.1162_trunc.txt\n",
        "1510.06085_trunc.txt\n",
        "1212.5332_trunc.txt"
       ]
      },
      {
       "output_type": "stream",
       "stream": "stdout",
       "text": [
        "\n",
        "1508.00655_trunc.txt\n",
        "1306.3930_trunc.txt\n",
        "1104.4289_trunc.txt"
       ]
      },
      {
       "output_type": "stream",
       "stream": "stdout",
       "text": [
        "\n",
        "1401.0993_trunc.txt\n",
        "1211.5372_trunc.txt\n",
        "1302.1809_trunc.txt"
       ]
      },
      {
       "output_type": "stream",
       "stream": "stdout",
       "text": [
        "\n",
        "1205.6617_trunc.txt\n",
        "1402.1876_trunc.txt\n",
        "1509.02019_trunc.txt\n",
        "1506.08521_trunc.txt"
       ]
      },
      {
       "output_type": "stream",
       "stream": "stdout",
       "text": [
        "\n",
        "1505.00990_trunc.txt\n",
        "1410.2118_trunc.txt\n",
        "1202.4962_trunc.txt\n",
        "1502.07523_trunc.txt"
       ]
      },
      {
       "output_type": "stream",
       "stream": "stdout",
       "text": [
        "\n",
        "1201.0400_trunc.txt\n",
        "1508.01101_trunc.txt\n",
        "1211.7103_trunc.txt\n",
        "1310.4489_trunc.txt"
       ]
      },
      {
       "output_type": "stream",
       "stream": "stdout",
       "text": [
        "\n",
        "1201.4129_trunc.txt\n",
        "1410.8570_trunc.txt\n",
        "1308.2853_trunc.txt\n",
        "1403.1088_trunc.txt"
       ]
      },
      {
       "output_type": "stream",
       "stream": "stdout",
       "text": [
        "\n",
        "1511.02775_trunc.txt\n",
        "1411.6719_trunc.txt\n",
        "1502.04237_trunc.txt\n",
        "1409.4317_trunc.txt"
       ]
      },
      {
       "output_type": "stream",
       "stream": "stdout",
       "text": [
        "\n",
        "1304.5846_trunc.txt\n",
        "1201.6211_trunc.txt\n",
        "1504.01702_trunc.txt\n",
        "1108.2720_trunc.txt"
       ]
      },
      {
       "output_type": "stream",
       "stream": "stdout",
       "text": [
        "\n",
        "1406.7173_trunc.txt\n",
        "1308.5830_trunc.txt\n",
        "1507.07495_trunc.txt"
       ]
      },
      {
       "output_type": "stream",
       "stream": "stdout",
       "text": [
        "\n",
        "1210.8050_trunc.txt\n",
        "1308.1195_trunc.txt\n",
        "1404.5609_trunc.txt"
       ]
      },
      {
       "output_type": "stream",
       "stream": "stdout",
       "text": [
        "\n",
        "1304.0217_trunc.txt\n",
        "1405.4270_trunc.txt\n",
        "1509.01708_trunc.txt"
       ]
      },
      {
       "output_type": "stream",
       "stream": "stdout",
       "text": [
        "\n",
        "1509.05581_trunc.txt\n",
        "1507.05343_trunc.txt\n",
        "1201.5871_trunc.txt"
       ]
      },
      {
       "output_type": "stream",
       "stream": "stdout",
       "text": [
        "\n",
        "1312.2315_trunc.txt\n",
        "1312.7129_trunc.txt\n",
        "1110.4025_trunc.txt"
       ]
      },
      {
       "output_type": "stream",
       "stream": "stdout",
       "text": [
        "\n",
        "1510.05014_trunc.txt\n",
        "1201.1166_trunc.txt\n",
        "1401.3034_trunc.txt\n",
        "1509.09286_trunc.txt"
       ]
      },
      {
       "output_type": "stream",
       "stream": "stdout",
       "text": [
        "\n",
        "1410.5686_trunc.txt\n",
        "1301.7567_trunc.txt\n",
        "1508.04216_trunc.txt\n",
        "1412.2619_trunc.txt"
       ]
      },
      {
       "output_type": "stream",
       "stream": "stdout",
       "text": [
        "\n",
        "1404.4235_trunc.txt\n",
        "1309.7622_trunc.txt\n",
        "1309.1412_trunc.txt"
       ]
      },
      {
       "output_type": "stream",
       "stream": "stdout",
       "text": [
        "\n",
        "1510.03970_trunc.txt\n",
        "1506.03765_trunc.txt\n",
        "1403.4613_trunc.txt"
       ]
      },
      {
       "output_type": "stream",
       "stream": "stdout",
       "text": [
        "\n",
        "1109.1244_trunc.txt\n",
        "1412.4451_trunc.txt\n",
        "1404.3046_trunc.txt\n",
        "1505.05691_trunc.txt"
       ]
      },
      {
       "output_type": "stream",
       "stream": "stdout",
       "text": [
        "\n",
        "1510.01307_trunc.txt\n",
        "1105.0204_trunc.txt\n",
        "1301.6376_trunc.txt\n",
        "1303.0518_trunc.txt"
       ]
      },
      {
       "output_type": "stream",
       "stream": "stdout",
       "text": [
        "\n",
        "1506.02196_trunc.txt\n",
        "1510.08986_trunc.txt\n",
        "1411.4626_trunc.txt\n",
        "1506.00515_trunc.txt"
       ]
      },
      {
       "output_type": "stream",
       "stream": "stdout",
       "text": [
        "\n",
        "1312.2799_trunc.txt\n",
        "1505.01583_trunc.txt\n",
        "1110.5509_trunc.txt\n",
        "1211.3292_trunc.txt"
       ]
      },
      {
       "output_type": "stream",
       "stream": "stdout",
       "text": [
        "\n",
        "1311.4175_trunc.txt\n",
        "1503.04549_trunc.txt\n",
        "1309.5003_trunc.txt\n",
        "1210.1136_trunc.txt"
       ]
      },
      {
       "output_type": "stream",
       "stream": "stdout",
       "text": [
        "\n",
        "1502.01269_trunc.txt\n",
        "1309.1392_trunc.txt\n",
        "1508.06558_trunc.txt\n",
        "1409.1771_trunc.txt"
       ]
      },
      {
       "output_type": "stream",
       "stream": "stdout",
       "text": [
        "\n",
        "1401.2188_trunc.txt\n",
        "1411.4691_trunc.txt\n",
        "1112.1450_trunc.txt\n",
        "1409.7675_trunc.txt"
       ]
      },
      {
       "output_type": "stream",
       "stream": "stdout",
       "text": [
        "\n",
        "1309.4864_trunc.txt\n",
        "1308.5036_trunc.txt\n",
        "1207.5938_trunc.txt\n",
        "1505.01461_trunc.txt"
       ]
      },
      {
       "output_type": "stream",
       "stream": "stdout",
       "text": [
        "\n",
        "1109.6493_trunc.txt\n",
        "1506.02326_trunc.txt\n",
        "1309.6024_trunc.txt"
       ]
      },
      {
       "output_type": "stream",
       "stream": "stdout",
       "text": [
        "\n",
        "1212.5860_trunc.txt\n",
        "1201.0341_trunc.txt\n",
        "1107.1404_trunc.txt"
       ]
      },
      {
       "output_type": "stream",
       "stream": "stdout",
       "text": [
        "\n",
        "1312.2968_trunc.txt\n",
        "1311.7118_trunc.txt\n",
        "1208.5584_trunc.txt"
       ]
      },
      {
       "output_type": "stream",
       "stream": "stdout",
       "text": [
        "\n",
        "1104.1767_trunc.txt\n",
        "1407.5341_trunc.txt\n",
        "1406.7718_trunc.txt"
       ]
      },
      {
       "output_type": "stream",
       "stream": "stdout",
       "text": [
        "\n",
        "1503.01245_trunc.txt\n",
        "1209.1031_trunc.txt\n",
        "1306.3609_trunc.txt"
       ]
      },
      {
       "output_type": "stream",
       "stream": "stdout",
       "text": [
        "\n",
        "1307.1067_trunc.txt\n",
        "1312.3120_trunc.txt\n",
        "1406.1230_trunc.txt"
       ]
      },
      {
       "output_type": "stream",
       "stream": "stdout",
       "text": [
        "\n",
        "1502.01750_trunc.txt\n",
        "1304.3877_trunc.txt\n",
        "1109.0524_trunc.txt"
       ]
      },
      {
       "output_type": "stream",
       "stream": "stdout",
       "text": [
        "\n",
        "1411.0894_trunc.txt\n",
        "1511.01437_trunc.txt\n",
        "1411.2944_trunc.txt"
       ]
      },
      {
       "output_type": "stream",
       "stream": "stdout",
       "text": [
        "\n",
        "1411.0183_trunc.txt\n",
        "1503.05033_trunc.txt\n",
        "1510.05677_trunc.txt"
       ]
      },
      {
       "output_type": "stream",
       "stream": "stdout",
       "text": [
        "\n",
        "1303.3716_trunc.txt\n",
        "1302.4607_trunc.txt\n",
        "1201.6551_trunc.txt"
       ]
      },
      {
       "output_type": "stream",
       "stream": "stdout",
       "text": [
        "\n",
        "1401.3084_trunc.txt\n",
        "1405.6677_trunc.txt\n",
        "1410.4773_trunc.txt"
       ]
      },
      {
       "output_type": "stream",
       "stream": "stdout",
       "text": [
        "\n",
        "1112.4951_trunc.txt\n",
        "1307.6188_trunc.txt\n",
        "1105.5231_trunc.txt"
       ]
      },
      {
       "output_type": "stream",
       "stream": "stdout",
       "text": [
        "\n",
        "1307.7931_trunc.txt\n",
        "1505.07925_trunc.txt\n",
        "1306.1754_trunc.txt"
       ]
      },
      {
       "output_type": "stream",
       "stream": "stdout",
       "text": [
        "\n",
        "1503.00677_trunc.txt\n",
        "1111.6174_trunc.txt\n",
        "1107.3258_trunc.txt"
       ]
      },
      {
       "output_type": "stream",
       "stream": "stdout",
       "text": [
        "\n",
        "1210.6516_trunc.txt\n",
        "1309.6790_trunc.txt\n",
        "1402.2997_trunc.txt"
       ]
      },
      {
       "output_type": "stream",
       "stream": "stdout",
       "text": [
        "\n",
        "1306.2671_trunc.txt\n",
        "1207.6745_trunc.txt\n",
        "1104.5617_trunc.txt"
       ]
      },
      {
       "output_type": "stream",
       "stream": "stdout",
       "text": [
        "\n",
        "1406.6670_trunc.txt\n",
        "1211.4157_trunc.txt\n",
        "1504.02658_trunc.txt"
       ]
      },
      {
       "output_type": "stream",
       "stream": "stdout",
       "text": [
        "\n",
        "1502.01533_trunc.txt\n",
        "1104.2504_trunc.txt\n",
        "1401.2267_trunc.txt"
       ]
      },
      {
       "output_type": "stream",
       "stream": "stdout",
       "text": [
        "\n",
        "1410.4719_trunc.txt\n",
        "1508.03808_trunc.txt\n",
        "1111.7061_trunc.txt"
       ]
      },
      {
       "output_type": "stream",
       "stream": "stdout",
       "text": [
        "\n",
        "1106.1497_trunc.txt\n",
        "1311.5066_trunc.txt\n",
        "1206.2662_trunc.txt"
       ]
      },
      {
       "output_type": "stream",
       "stream": "stdout",
       "text": [
        "\n",
        "1411.3686_trunc.txt\n",
        "1311.6293_trunc.txt\n",
        "1506.04576_trunc.txt"
       ]
      },
      {
       "output_type": "stream",
       "stream": "stdout",
       "text": [
        "\n",
        "1106.4763_trunc.txt\n",
        "1510.01290_trunc.txt\n",
        "1202.4437_trunc.txt\n",
        "1502.06287_trunc.txt"
       ]
      },
      {
       "output_type": "stream",
       "stream": "stdout",
       "text": [
        "\n",
        "1506.01367_trunc.txt\n",
        "1307.5990_trunc.txt\n",
        "1405.5103_trunc.txt\n",
        "1406.4543_trunc.txt"
       ]
      },
      {
       "output_type": "stream",
       "stream": "stdout",
       "text": [
        "\n",
        "1109.1172_trunc.txt\n",
        "1501.03430_trunc.txt\n",
        "1109.2884_trunc.txt\n",
        "1212.0945_trunc.txt"
       ]
      },
      {
       "output_type": "stream",
       "stream": "stdout",
       "text": [
        "\n",
        "1408.3525_trunc.txt\n",
        "1205.4645_trunc.txt\n",
        "1406.0052_trunc.txt\n",
        "1509.04413_trunc.txt"
       ]
      },
      {
       "output_type": "stream",
       "stream": "stdout",
       "text": [
        "\n",
        "1207.3136_trunc.txt\n",
        "1303.3518_trunc.txt\n",
        "1302.5831_trunc.txt\n",
        "1401.6882_trunc.txt"
       ]
      },
      {
       "output_type": "stream",
       "stream": "stdout",
       "text": [
        "\n",
        "1311.1959_trunc.txt\n",
        "1411.6669_trunc.txt\n",
        "1303.0727_trunc.txt\n",
        "1403.5194_trunc.txt"
       ]
      },
      {
       "output_type": "stream",
       "stream": "stdout",
       "text": [
        "\n",
        "1207.0662_trunc.txt\n",
        "1404.6640_trunc.txt\n",
        "1503.06388_trunc.txt\n",
        "1509.08362_trunc.txt"
       ]
      },
      {
       "output_type": "stream",
       "stream": "stdout",
       "text": [
        "\n",
        "1403.7664_trunc.txt\n",
        "1201.1089_trunc.txt\n",
        "1201.2014_trunc.txt\n",
        "1306.1868_trunc.txt"
       ]
      },
      {
       "output_type": "stream",
       "stream": "stdout",
       "text": [
        "\n",
        "1408.3979_trunc.txt\n",
        "1411.2681_trunc.txt\n",
        "1205.5856_trunc.txt\n",
        "1305.1229_trunc.txt"
       ]
      },
      {
       "output_type": "stream",
       "stream": "stdout",
       "text": [
        "\n",
        "1106.2920_trunc.txt\n",
        "1404.6224_trunc.txt\n",
        "1307.5965_trunc.txt\n",
        "1301.4873_trunc.txt"
       ]
      },
      {
       "output_type": "stream",
       "stream": "stdout",
       "text": [
        "\n",
        "1309.0609_trunc.txt\n",
        "1502.02398_trunc.txt\n",
        "1211.1530_trunc.txt\n",
        "1409.0292_trunc.txt"
       ]
      },
      {
       "output_type": "stream",
       "stream": "stdout",
       "text": [
        "\n",
        "1312.5103_trunc.txt\n",
        "1201.0470_trunc.txt\n",
        "1506.08022_trunc.txt\n",
        "1407.1212_trunc.txt"
       ]
      },
      {
       "output_type": "stream",
       "stream": "stdout",
       "text": [
        "\n",
        "1110.5138_trunc.txt\n",
        "1504.05229_trunc.txt\n",
        "1508.05249_trunc.txt\n",
        "1307.6332_trunc.txt"
       ]
      },
      {
       "output_type": "stream",
       "stream": "stdout",
       "text": [
        "\n",
        "1407.5272_trunc.txt\n",
        "1304.5929_trunc.txt\n",
        "1406.6348_trunc.txt\n",
        "1302.2345_trunc.txt"
       ]
      },
      {
       "output_type": "stream",
       "stream": "stdout",
       "text": [
        "\n",
        "1211.0373_trunc.txt\n",
        "1509.08869_trunc.txt\n",
        "1211.5281_trunc.txt\n",
        "1406.0812_trunc.txt"
       ]
      },
      {
       "output_type": "stream",
       "stream": "stdout",
       "text": [
        "\n",
        "1507.07412_trunc.txt\n",
        "1308.6221_trunc.txt\n",
        "1105.1361_trunc.txt\n",
        "1507.02061_trunc.txt"
       ]
      },
      {
       "output_type": "stream",
       "stream": "stdout",
       "text": [
        "\n",
        "1412.4736_trunc.txt\n",
        "1209.6503_trunc.txt\n",
        "1405.2399_trunc.txt\n",
        "1110.2295_trunc.txt"
       ]
      },
      {
       "output_type": "stream",
       "stream": "stdout",
       "text": [
        "\n",
        "1401.0903_trunc.txt\n",
        "1312.7186_trunc.txt\n",
        "1411.4074_trunc.txt\n",
        "1206.0648_trunc.txt"
       ]
      },
      {
       "output_type": "stream",
       "stream": "stdout",
       "text": [
        "\n",
        "1303.1285_trunc.txt\n",
        "1405.2106_trunc.txt\n",
        "1403.6295_trunc.txt"
       ]
      },
      {
       "output_type": "stream",
       "stream": "stdout",
       "text": [
        "\n",
        "1310.5304_trunc.txt\n",
        "1408.4224_trunc.txt\n",
        "1304.2902_trunc.txt"
       ]
      },
      {
       "output_type": "stream",
       "stream": "stdout",
       "text": [
        "\n",
        "1505.01247_trunc.txt\n",
        "1105.4540_trunc.txt\n",
        "1503.06492_trunc.txt\n",
        "1511.03738_trunc.txt"
       ]
      },
      {
       "output_type": "stream",
       "stream": "stdout",
       "text": [
        "\n",
        "1312.6966_trunc.txt\n",
        "1110.3238_trunc.txt\n",
        "1111.2778_trunc.txt\n",
        "1304.6789_trunc.txt"
       ]
      },
      {
       "output_type": "stream",
       "stream": "stdout",
       "text": [
        "\n",
        "1507.00123_trunc.txt\n",
        "1209.3672_trunc.txt\n",
        "1107.1944_trunc.txt\n",
        "1111.6701_trunc.txt"
       ]
      },
      {
       "output_type": "stream",
       "stream": "stdout",
       "text": [
        "\n",
        "1208.1811_trunc.txt\n",
        "1502.04189_trunc.txt\n",
        "1402.2043_trunc.txt\n",
        "1408.0881_trunc.txt"
       ]
      },
      {
       "output_type": "stream",
       "stream": "stdout",
       "text": [
        "\n",
        "1503.09011_trunc.txt\n",
        "1211.2998_trunc.txt\n",
        "1312.2574_trunc.txt\n",
        "1202.0193_trunc.txt"
       ]
      },
      {
       "output_type": "stream",
       "stream": "stdout",
       "text": [
        "\n",
        "1306.1322_trunc.txt\n",
        "1410.5082_trunc.txt\n",
        "1507.01175_trunc.txt\n",
        "1210.3240_trunc.txt"
       ]
      },
      {
       "output_type": "stream",
       "stream": "stdout",
       "text": [
        "\n",
        "1206.4766_trunc.txt\n",
        "1306.1728_trunc.txt\n",
        "1304.3073_trunc.txt\n",
        "1412.2143_trunc.txt"
       ]
      },
      {
       "output_type": "stream",
       "stream": "stdout",
       "text": [
        "\n",
        "1309.6536_trunc.txt\n",
        "1309.1309_trunc.txt\n",
        "1211.3729_trunc.txt\n",
        "1509.06403_trunc.txt"
       ]
      },
      {
       "output_type": "stream",
       "stream": "stdout",
       "text": [
        "\n",
        "1210.3680_trunc.txt\n",
        "1107.1270_trunc.txt\n",
        "1112.5389_trunc.txt\n",
        "1411.1329_trunc.txt"
       ]
      },
      {
       "output_type": "stream",
       "stream": "stdout",
       "text": [
        "\n",
        "1308.5256_trunc.txt\n",
        "1309.5923_trunc.txt\n",
        "1508.03416_trunc.txt\n",
        "1202.3878_trunc.txt"
       ]
      },
      {
       "output_type": "stream",
       "stream": "stdout",
       "text": [
        "\n",
        "1404.0202_trunc.txt\n",
        "1507.08726_trunc.txt\n",
        "1401.2823_trunc.txt\n",
        "1404.1214_trunc.txt"
       ]
      },
      {
       "output_type": "stream",
       "stream": "stdout",
       "text": [
        "\n",
        "1509.02872_trunc.txt\n",
        "1407.4546_trunc.txt\n",
        "1210.1058_trunc.txt\n",
        "1304.4362_trunc.txt"
       ]
      },
      {
       "output_type": "stream",
       "stream": "stdout",
       "text": [
        "\n",
        "1207.5654_trunc.txt\n",
        "1509.02650_trunc.txt\n",
        "1309.7754_trunc.txt\n",
        "1405.0782_trunc.txt"
       ]
      },
      {
       "output_type": "stream",
       "stream": "stdout",
       "text": [
        "\n",
        "1311.6186_trunc.txt\n",
        "1106.6002_trunc.txt\n",
        "1411.3145_trunc.txt\n",
        "1310.2532_trunc.txt"
       ]
      },
      {
       "output_type": "stream",
       "stream": "stdout",
       "text": [
        "\n",
        "1503.03188_trunc.txt\n",
        "1206.1831_trunc.txt\n",
        "1202.1377_trunc.txt\n",
        "1409.6008_trunc.txt"
       ]
      },
      {
       "output_type": "stream",
       "stream": "stdout",
       "text": [
        "\n",
        "1301.0533_trunc.txt\n",
        "1111.3054_trunc.txt\n",
        "1504.03506_trunc.txt\n",
        "1511.01975_trunc.txt"
       ]
      },
      {
       "output_type": "stream",
       "stream": "stdout",
       "text": [
        "\n",
        "1205.6283_trunc.txt\n",
        "1407.7165_trunc.txt\n",
        "1412.0442_trunc.txt\n",
        "1210.6678_trunc.txt"
       ]
      },
      {
       "output_type": "stream",
       "stream": "stdout",
       "text": [
        "\n",
        "1312.6978_trunc.txt\n",
        "1306.2194_trunc.txt\n",
        "1109.3714_trunc.txt\n",
        "1504.04580_trunc.txt"
       ]
      },
      {
       "output_type": "stream",
       "stream": "stdout",
       "text": [
        "\n",
        "1107.5552_trunc.txt\n",
        "1201.2617_trunc.txt\n",
        "1301.6465_trunc.txt\n",
        "1202.4267_trunc.txt"
       ]
      },
      {
       "output_type": "stream",
       "stream": "stdout",
       "text": [
        "\n",
        "1212.0478_trunc.txt\n",
        "1303.4600_trunc.txt\n",
        "1407.3968_trunc.txt\n",
        "1303.2209_trunc.txt"
       ]
      },
      {
       "output_type": "stream",
       "stream": "stdout",
       "text": [
        "\n",
        "1504.01823_trunc.txt\n",
        "1311.1138_trunc.txt\n",
        "1411.1805_trunc.txt\n",
        "1312.2809_trunc.txt"
       ]
      },
      {
       "output_type": "stream",
       "stream": "stdout",
       "text": [
        "\n",
        "1306.4867_trunc.txt\n",
        "1410.2113_trunc.txt\n",
        "1310.2484_trunc.txt\n",
        "1405.6693_trunc.txt"
       ]
      },
      {
       "output_type": "stream",
       "stream": "stdout",
       "text": [
        "\n",
        "1412.7138_trunc.txt\n",
        "1309.4652_trunc.txt\n",
        "1109.4371_trunc.txt\n",
        "1105.3625_trunc.txt"
       ]
      },
      {
       "output_type": "stream",
       "stream": "stdout",
       "text": [
        "\n",
        "1309.2983_trunc.txt\n",
        "1401.7898_trunc.txt\n",
        "1210.0291_trunc.txt\n",
        "1303.7152_trunc.txt"
       ]
      },
      {
       "output_type": "stream",
       "stream": "stdout",
       "text": [
        "\n",
        "1305.4126_trunc.txt\n",
        "1301.3190_trunc.txt\n",
        "1201.3828_trunc.txt\n",
        "1105.2424_trunc.txt"
       ]
      },
      {
       "output_type": "stream",
       "stream": "stdout",
       "text": [
        "\n",
        "1510.01064_trunc.txt\n",
        "1505.03018_trunc.txt\n",
        "1402.0099_trunc.txt\n",
        "1507.03558_trunc.txt"
       ]
      },
      {
       "output_type": "stream",
       "stream": "stdout",
       "text": [
        "\n",
        "1408.0938_trunc.txt\n",
        "1506.08159_trunc.txt\n",
        "1104.0581_trunc.txt\n",
        "1110.3817_trunc.txt"
       ]
      },
      {
       "output_type": "stream",
       "stream": "stdout",
       "text": [
        "\n",
        "1506.06422_trunc.txt\n",
        "1309.6013_trunc.txt\n",
        "1109.5298_trunc.txt\n",
        "1302.3071_trunc.txt"
       ]
      },
      {
       "output_type": "stream",
       "stream": "stdout",
       "text": [
        "\n",
        "1405.6628_trunc.txt\n",
        "1312.7001_trunc.txt\n",
        "1210.5750_trunc.txt\n",
        "1206.0917_trunc.txt"
       ]
      },
      {
       "output_type": "stream",
       "stream": "stdout",
       "text": [
        "\n",
        "1312.3352_trunc.txt\n",
        "1411.4281_trunc.txt\n",
        "1506.07974_trunc.txt\n",
        "1306.0325_trunc.txt"
       ]
      },
      {
       "output_type": "stream",
       "stream": "stdout",
       "text": [
        "\n",
        "1201.1461_trunc.txt\n",
        "1408.5621_trunc.txt\n",
        "1206.0313_trunc.txt\n",
        "1312.5219_trunc.txt"
       ]
      },
      {
       "output_type": "stream",
       "stream": "stdout",
       "text": [
        "\n",
        "1311.2902_trunc.txt\n",
        "1312.2726_trunc.txt\n",
        "1506.04136_trunc.txt\n",
        "1412.1711_trunc.txt"
       ]
      },
      {
       "output_type": "stream",
       "stream": "stdout",
       "text": [
        "\n",
        "1312.5839_trunc.txt\n",
        "1106.1916_trunc.txt\n",
        "1510.08873_trunc.txt\n",
        "1205.5044_trunc.txt"
       ]
      },
      {
       "output_type": "stream",
       "stream": "stdout",
       "text": [
        "\n",
        "1307.7666_trunc.txt\n",
        "1305.1212_trunc.txt\n",
        "1412.2129_trunc.txt\n",
        "1507.07669_trunc.txt"
       ]
      },
      {
       "output_type": "stream",
       "stream": "stdout",
       "text": [
        "\n",
        "1406.3960_trunc.txt\n",
        "1506.08450_trunc.txt\n",
        "1111.5950_trunc.txt"
       ]
      },
      {
       "output_type": "stream",
       "stream": "stdout",
       "text": [
        "\n",
        "1508.00947_trunc.txt\n",
        "1508.01922_trunc.txt\n",
        "1405.0928_trunc.txt"
       ]
      },
      {
       "output_type": "stream",
       "stream": "stdout",
       "text": [
        "\n",
        "1112.0504_trunc.txt\n",
        "1402.0248_trunc.txt\n",
        "1308.3374_trunc.txt"
       ]
      },
      {
       "output_type": "stream",
       "stream": "stdout",
       "text": [
        "\n",
        "1104.2808_trunc.txt\n",
        "1306.4408_trunc.txt\n",
        "1309.4686_trunc.txt"
       ]
      },
      {
       "output_type": "stream",
       "stream": "stdout",
       "text": [
        "\n",
        "1109.5278_trunc.txt\n",
        "1509.00571_trunc.txt\n",
        "1507.01454_trunc.txt"
       ]
      },
      {
       "output_type": "stream",
       "stream": "stdout",
       "text": [
        "\n",
        "1503.08195_trunc.txt\n",
        "1305.3235_trunc.txt\n",
        "1310.3222_trunc.txt\n",
        "1312.0531_trunc.txt"
       ]
      },
      {
       "output_type": "stream",
       "stream": "stdout",
       "text": [
        "\n",
        "1206.6378_trunc.txt\n",
        "1412.5816_trunc.txt\n",
        "1401.7819_trunc.txt\n",
        "1412.1567_trunc.txt"
       ]
      },
      {
       "output_type": "stream",
       "stream": "stdout",
       "text": [
        "\n",
        "1511.03803_trunc.txt\n",
        "1206.2700_trunc.txt\n",
        "1310.6515_trunc.txt\n",
        "1202.1838_trunc.txt"
       ]
      },
      {
       "output_type": "stream",
       "stream": "stdout",
       "text": [
        "\n",
        "1109.2560_trunc.txt\n",
        "1508.00144_trunc.txt\n",
        "1403.4494_trunc.txt\n",
        "1506.03909_trunc.txt"
       ]
      },
      {
       "output_type": "stream",
       "stream": "stdout",
       "text": [
        "\n",
        "1111.3210_trunc.txt\n",
        "1509.01060_trunc.txt\n",
        "1410.6869_trunc.txt\n",
        "1106.2068_trunc.txt"
       ]
      },
      {
       "output_type": "stream",
       "stream": "stdout",
       "text": [
        "\n",
        "1105.0490_trunc.txt\n",
        "1306.5806_trunc.txt\n",
        "1505.07414_trunc.txt\n",
        "1408.4643_trunc.txt"
       ]
      },
      {
       "output_type": "stream",
       "stream": "stdout",
       "text": [
        "\n",
        "1403.3931_trunc.txt\n",
        "1303.5613_trunc.txt\n",
        "1407.6092_trunc.txt\n",
        "1507.05442_trunc.txt"
       ]
      },
      {
       "output_type": "stream",
       "stream": "stdout",
       "text": [
        "\n",
        "1211.5733_trunc.txt\n",
        "1111.3486_trunc.txt\n",
        "1105.6368_trunc.txt\n",
        "1312.2788_trunc.txt"
       ]
      },
      {
       "output_type": "stream",
       "stream": "stdout",
       "text": [
        "\n",
        "1507.03315_trunc.txt\n",
        "1408.1381_trunc.txt\n",
        "1507.00827_trunc.txt\n",
        "1410.1242_trunc.txt"
       ]
      },
      {
       "output_type": "stream",
       "stream": "stdout",
       "text": [
        "\n",
        "1301.6080_trunc.txt\n",
        "1108.3438_trunc.txt\n",
        "1503.07307_trunc.txt\n",
        "1306.5786_trunc.txt"
       ]
      },
      {
       "output_type": "stream",
       "stream": "stdout",
       "text": [
        "\n",
        "1105.1430_trunc.txt\n",
        "1503.07423_trunc.txt\n",
        "1507.08140_trunc.txt\n",
        "1503.04022_trunc.txt"
       ]
      },
      {
       "output_type": "stream",
       "stream": "stdout",
       "text": [
        "\n",
        "1311.0594_trunc.txt\n",
        "1508.07448_trunc.txt\n",
        "1411.0858_trunc.txt\n",
        "1210.4762_trunc.txt"
       ]
      },
      {
       "output_type": "stream",
       "stream": "stdout",
       "text": [
        "\n",
        "1304.0682_trunc.txt\n",
        "1211.5479_trunc.txt\n",
        "1201.0155_trunc.txt\n",
        "1412.0607_trunc.txt"
       ]
      },
      {
       "output_type": "stream",
       "stream": "stdout",
       "text": [
        "\n",
        "1402.0743_trunc.txt\n",
        "1411.7420_trunc.txt\n",
        "1310.8207_trunc.txt\n",
        "1302.4887_trunc.txt"
       ]
      },
      {
       "output_type": "stream",
       "stream": "stdout",
       "text": [
        "\n",
        "1504.02852_trunc.txt\n",
        "1211.2291_trunc.txt\n",
        "1406.2206_trunc.txt\n",
        "1405.1326_trunc.txt"
       ]
      },
      {
       "output_type": "stream",
       "stream": "stdout",
       "text": [
        "\n",
        "1405.5786_trunc.txt\n",
        "1210.0864_trunc.txt\n",
        "1210.2314_trunc.txt\n",
        "1106.4223_trunc.txt"
       ]
      },
      {
       "output_type": "stream",
       "stream": "stdout",
       "text": [
        "\n",
        "1505.02475_trunc.txt\n",
        "1212.3267_trunc.txt\n",
        "1503.05459_trunc.txt\n",
        "1305.7477_trunc.txt"
       ]
      },
      {
       "output_type": "stream",
       "stream": "stdout",
       "text": [
        "\n",
        "1309.5914_trunc.txt\n",
        "1503.04161_trunc.txt\n",
        "1507.05021_trunc.txt\n",
        "1304.3918_trunc.txt"
       ]
      },
      {
       "output_type": "stream",
       "stream": "stdout",
       "text": [
        "\n",
        "1501.03694_trunc.txt\n",
        "1402.1380_trunc.txt\n",
        "1510.00137_trunc.txt"
       ]
      },
      {
       "output_type": "stream",
       "stream": "stdout",
       "text": [
        "\n",
        "1303.3216_trunc.txt\n",
        "1401.3020_trunc.txt\n",
        "1109.0078_trunc.txt"
       ]
      },
      {
       "output_type": "stream",
       "stream": "stdout",
       "text": [
        "\n",
        "1205.2976_trunc.txt\n",
        "1205.6055_trunc.txt\n",
        "1410.2447_trunc.txt"
       ]
      },
      {
       "output_type": "stream",
       "stream": "stdout",
       "text": [
        "\n",
        "1412.5139_trunc.txt\n",
        "1501.00518_trunc.txt\n",
        "1305.4269_trunc.txt"
       ]
      },
      {
       "output_type": "stream",
       "stream": "stdout",
       "text": [
        "\n",
        "1304.1295_trunc.txt\n",
        "1311.2742_trunc.txt\n",
        "1501.03013_trunc.txt"
       ]
      },
      {
       "output_type": "stream",
       "stream": "stdout",
       "text": [
        "\n",
        "1306.3768_trunc.txt\n",
        "1201.0646_trunc.txt\n",
        "1507.06792_trunc.txt"
       ]
      },
      {
       "output_type": "stream",
       "stream": "stdout",
       "text": [
        "\n",
        "1505.00579_trunc.txt\n",
        "1112.3745_trunc.txt\n",
        "1202.0258_trunc.txt"
       ]
      },
      {
       "output_type": "stream",
       "stream": "stdout",
       "text": [
        "\n",
        "1410.5550_trunc.txt\n",
        "1402.2594_trunc.txt\n",
        "1308.5312_trunc.txt"
       ]
      },
      {
       "output_type": "stream",
       "stream": "stdout",
       "text": [
        "\n",
        "1106.3520_trunc.txt\n",
        "1207.1056_trunc.txt\n",
        "1304.4304_trunc.txt\n",
        "1309.7503_trunc.txt"
       ]
      },
      {
       "output_type": "stream",
       "stream": "stdout",
       "text": [
        "\n",
        "1301.7026_trunc.txt\n",
        "1112.2855_trunc.txt\n",
        "1506.02174_trunc.txt\n",
        "1407.4596_trunc.txt"
       ]
      },
      {
       "output_type": "stream",
       "stream": "stdout",
       "text": [
        "\n",
        "1405.7091_trunc.txt\n",
        "1211.1073_trunc.txt\n",
        "1211.2979_trunc.txt\n",
        "1211.2780_trunc.txt"
       ]
      },
      {
       "output_type": "stream",
       "stream": "stdout",
       "text": [
        "\n",
        "1401.2205_trunc.txt\n",
        "1210.5073_trunc.txt\n",
        "1305.5812_trunc.txt\n",
        "1312.5448_trunc.txt"
       ]
      },
      {
       "output_type": "stream",
       "stream": "stdout",
       "text": [
        "\n",
        "1201.3283_trunc.txt\n",
        "1301.2242_trunc.txt\n",
        "1507.06348_trunc.txt\n",
        "1307.1077_trunc.txt"
       ]
      },
      {
       "output_type": "stream",
       "stream": "stdout",
       "text": [
        "\n",
        "1202.1928_trunc.txt\n",
        "1407.4229_trunc.txt\n",
        "1210.8268_trunc.txt\n",
        "1207.5899_trunc.txt"
       ]
      },
      {
       "output_type": "stream",
       "stream": "stdout",
       "text": [
        "\n",
        "1205.1482_trunc.txt\n",
        "1106.6251_trunc.txt\n",
        "1412.1411_trunc.txt\n",
        "1507.07089_trunc.txt"
       ]
      },
      {
       "output_type": "stream",
       "stream": "stdout",
       "text": [
        "\n",
        "1110.4700_trunc.txt\n",
        "1406.0067_trunc.txt\n",
        "1511.04066_trunc.txt\n",
        "1211.1174_trunc.txt"
       ]
      },
      {
       "output_type": "stream",
       "stream": "stdout",
       "text": [
        "\n",
        "1212.3721_trunc.txt\n",
        "1510.03267_trunc.txt\n",
        "1104.0166_trunc.txt\n",
        "1410.6879_trunc.txt"
       ]
      },
      {
       "output_type": "stream",
       "stream": "stdout",
       "text": [
        "\n",
        "1107.3797_trunc.txt\n",
        "1507.02904_trunc.txt\n",
        "1511.01478_trunc.txt\n",
        "1205.6367_trunc.txt"
       ]
      },
      {
       "output_type": "stream",
       "stream": "stdout",
       "text": [
        "\n",
        "1506.00458_trunc.txt\n",
        "1501.06241_trunc.txt\n",
        "1308.5738_trunc.txt\n",
        "1406.6419_trunc.txt"
       ]
      },
      {
       "output_type": "stream",
       "stream": "stdout",
       "text": [
        "\n",
        "1207.1687_trunc.txt\n",
        "1111.4591_trunc.txt\n",
        "1410.7600_trunc.txt\n",
        "1504.00606_trunc.txt"
       ]
      },
      {
       "output_type": "stream",
       "stream": "stdout",
       "text": [
        "\n",
        "1404.2405_trunc.txt\n",
        "1108.5395_trunc.txt\n",
        "1210.0770_trunc.txt\n",
        "1507.05935_trunc.txt"
       ]
      },
      {
       "output_type": "stream",
       "stream": "stdout",
       "text": [
        "\n",
        "1105.6322_trunc.txt\n",
        "1408.3205_trunc.txt\n",
        "1505.03772_trunc.txt\n",
        "1307.6835_trunc.txt"
       ]
      },
      {
       "output_type": "stream",
       "stream": "stdout",
       "text": [
        "\n",
        "1505.01957_trunc.txt\n",
        "1305.5150_trunc.txt\n",
        "1212.0243_trunc.txt\n",
        "1312.6967_trunc.txt"
       ]
      },
      {
       "output_type": "stream",
       "stream": "stdout",
       "text": [
        "\n",
        "1404.3239_trunc.txt\n",
        "1405.3029_trunc.txt\n",
        "1501.06502_trunc.txt\n",
        "1205.4219_trunc.txt"
       ]
      },
      {
       "output_type": "stream",
       "stream": "stdout",
       "text": [
        "\n",
        "1407.5014_trunc.txt\n",
        "1506.04133_trunc.txt\n",
        "1510.00486_trunc.txt\n",
        "1510.02451_trunc.txt"
       ]
      },
      {
       "output_type": "stream",
       "stream": "stdout",
       "text": [
        "\n",
        "1403.3278_trunc.txt\n",
        "1105.3007_trunc.txt\n",
        "1309.3233_trunc.txt"
       ]
      },
      {
       "output_type": "stream",
       "stream": "stdout",
       "text": [
        "\n",
        "1206.4768_trunc.txt\n",
        "1403.1665_trunc.txt\n",
        "1210.2482_trunc.txt"
       ]
      },
      {
       "output_type": "stream",
       "stream": "stdout",
       "text": [
        "\n",
        "1408.3221_trunc.txt\n",
        "1409.6013_trunc.txt\n",
        "1507.06245_trunc.txt"
       ]
      },
      {
       "output_type": "stream",
       "stream": "stdout",
       "text": [
        "\n",
        "1201.0708_trunc.txt\n",
        "1109.3704_trunc.txt\n",
        "1310.6581_trunc.txt"
       ]
      },
      {
       "output_type": "stream",
       "stream": "stdout",
       "text": [
        "\n",
        "1210.0312_trunc.txt\n",
        "1401.0967_trunc.txt\n",
        "1111.0446_trunc.txt"
       ]
      },
      {
       "output_type": "stream",
       "stream": "stdout",
       "text": [
        "\n",
        "1205.1950_trunc.txt\n",
        "1402.2238_trunc.txt\n",
        "1107.0614_trunc.txt"
       ]
      },
      {
       "output_type": "stream",
       "stream": "stdout",
       "text": [
        "\n",
        "1509.09225_trunc.txt\n",
        "1503.05852_trunc.txt\n",
        "1104.4396_trunc.txt\n",
        "1406.0476_trunc.txt"
       ]
      },
      {
       "output_type": "stream",
       "stream": "stdout",
       "text": [
        "\n",
        "1308.2955_trunc.txt\n",
        "1412.2984_trunc.txt\n",
        "1401.1264_trunc.txt\n",
        "1205.1964_trunc.txt"
       ]
      },
      {
       "output_type": "stream",
       "stream": "stdout",
       "text": [
        "\n",
        "1412.7468_trunc.txt\n",
        "1511.03977_trunc.txt\n",
        "1210.3749_trunc.txt\n",
        "1401.0609_trunc.txt"
       ]
      },
      {
       "output_type": "stream",
       "stream": "stdout",
       "text": [
        "\n",
        "1111.2298_trunc.txt\n",
        "1412.0379_trunc.txt\n",
        "1110.5454_trunc.txt\n",
        "1401.5398_trunc.txt"
       ]
      },
      {
       "output_type": "stream",
       "stream": "stdout",
       "text": [
        "\n",
        "1107.2980_trunc.txt\n",
        "1306.0040_trunc.txt\n",
        "1104.1242_trunc.txt\n",
        "1304.3559_trunc.txt"
       ]
      },
      {
       "output_type": "stream",
       "stream": "stdout",
       "text": [
        "\n",
        "1402.1918_trunc.txt\n",
        "1408.5724_trunc.txt\n",
        "1405.6030_trunc.txt\n",
        "1310.8110_trunc.txt"
       ]
      },
      {
       "output_type": "stream",
       "stream": "stdout",
       "text": [
        "\n",
        "1507.00710_trunc.txt\n",
        "1402.0966_trunc.txt\n",
        "1412.5875_trunc.txt\n",
        "1301.5802_trunc.txt"
       ]
      },
      {
       "output_type": "stream",
       "stream": "stdout",
       "text": [
        "\n",
        "1303.4767_trunc.txt\n",
        "1310.6025_trunc.txt\n",
        "1405.0374_trunc.txt\n",
        "1307.6610_trunc.txt"
       ]
      },
      {
       "output_type": "stream",
       "stream": "stdout",
       "text": [
        "\n",
        "1104.1801_trunc.txt\n",
        "1404.3094_trunc.txt\n",
        "1509.04821_trunc.txt\n",
        "1509.04704_trunc.txt"
       ]
      },
      {
       "output_type": "stream",
       "stream": "stdout",
       "text": [
        "\n",
        "1106.1638_trunc.txt\n",
        "1509.04388_trunc.txt\n",
        "1207.6614_trunc.txt\n",
        "1103.5991_trunc.txt"
       ]
      },
      {
       "output_type": "stream",
       "stream": "stdout",
       "text": [
        "\n",
        "1112.3149_trunc.txt\n",
        "1409.8621_trunc.txt\n",
        "1209.4188_trunc.txt\n",
        "1410.7845_trunc.txt"
       ]
      },
      {
       "output_type": "stream",
       "stream": "stdout",
       "text": [
        "\n",
        "1509.03119_trunc.txt\n",
        "1105.1976_trunc.txt\n",
        "1508.05904_trunc.txt\n",
        "1411.5310_trunc.txt"
       ]
      },
      {
       "output_type": "stream",
       "stream": "stdout",
       "text": [
        "\n",
        "1206.2496_trunc.txt\n",
        "1405.6061_trunc.txt\n",
        "1212.4093_trunc.txt\n",
        "1505.04898_trunc.txt"
       ]
      },
      {
       "output_type": "stream",
       "stream": "stdout",
       "text": [
        "\n",
        "1105.5662_trunc.txt\n",
        "1311.3755_trunc.txt\n",
        "1412.5262_trunc.txt\n",
        "1508.01928_trunc.txt"
       ]
      },
      {
       "output_type": "stream",
       "stream": "stdout",
       "text": [
        "\n",
        "1312.3525_trunc.txt\n",
        "1504.04814_trunc.txt\n",
        "1504.07333_trunc.txt\n",
        "1305.1385_trunc.txt"
       ]
      },
      {
       "output_type": "stream",
       "stream": "stdout",
       "text": [
        "\n",
        "1403.0217_trunc.txt\n",
        "1205.1920_trunc.txt\n",
        "1106.2775_trunc.txt\n",
        "1302.5251_trunc.txt"
       ]
      },
      {
       "output_type": "stream",
       "stream": "stdout",
       "text": [
        "\n",
        "1410.4682_trunc.txt\n",
        "1105.0019_trunc.txt\n",
        "1304.7178_trunc.txt\n",
        "1208.2635_trunc.txt"
       ]
      },
      {
       "output_type": "stream",
       "stream": "stdout",
       "text": [
        "\n",
        "1412.6185_trunc.txt\n",
        "1309.4981_trunc.txt\n",
        "1409.7602_trunc.txt\n",
        "1312.2277_trunc.txt"
       ]
      },
      {
       "output_type": "stream",
       "stream": "stdout",
       "text": [
        "\n",
        "1201.5833_trunc.txt\n",
        "1209.2544_trunc.txt\n",
        "1402.6257_trunc.txt\n",
        "1407.3254_trunc.txt"
       ]
      },
      {
       "output_type": "stream",
       "stream": "stdout",
       "text": [
        "\n",
        "1509.01906_trunc.txt\n",
        "1412.6966_trunc.txt\n",
        "1301.5328_trunc.txt\n",
        "1212.5627_trunc.txt"
       ]
      },
      {
       "output_type": "stream",
       "stream": "stdout",
       "text": [
        "\n",
        "1410.8729_trunc.txt\n",
        "1409.8542_trunc.txt\n",
        "1410.2266_trunc.txt\n",
        "1307.5982_trunc.txt"
       ]
      },
      {
       "output_type": "stream",
       "stream": "stdout",
       "text": [
        "\n",
        "1303.7437_trunc.txt\n",
        "1309.3376_trunc.txt\n",
        "1109.3732_trunc.txt\n",
        "1306.4158_trunc.txt"
       ]
      },
      {
       "output_type": "stream",
       "stream": "stdout",
       "text": [
        "\n",
        "1301.5288_trunc.txt\n",
        "1211.6539_trunc.txt\n",
        "1112.0939_trunc.txt\n",
        "1502.06134_trunc.txt"
       ]
      },
      {
       "output_type": "stream",
       "stream": "stdout",
       "text": [
        "\n",
        "1211.3434_trunc.txt\n",
        "1103.5594_trunc.txt\n",
        "1508.04812_trunc.txt\n",
        "1506.08826_trunc.txt"
       ]
      },
      {
       "output_type": "stream",
       "stream": "stdout",
       "text": [
        "\n",
        "1502.05990_trunc.txt\n",
        "1402.3230_trunc.txt\n",
        "1304.5690_trunc.txt"
       ]
      },
      {
       "output_type": "stream",
       "stream": "stdout",
       "text": [
        "\n",
        "1402.0699_trunc.txt\n",
        "1503.02106_trunc.txt\n",
        "1107.0417_trunc.txt"
       ]
      },
      {
       "output_type": "stream",
       "stream": "stdout",
       "text": [
        "\n",
        "1409.5009_trunc.txt\n",
        "1406.6897_trunc.txt\n",
        "1205.6711_trunc.txt"
       ]
      },
      {
       "output_type": "stream",
       "stream": "stdout",
       "text": [
        "\n",
        "1106.0321_trunc.txt\n",
        "1307.4666_trunc.txt\n",
        "1308.4180_trunc.txt"
       ]
      },
      {
       "output_type": "stream",
       "stream": "stdout",
       "text": [
        "\n",
        "1312.6354_trunc.txt\n",
        "1202.2277_trunc.txt\n",
        "1503.01271_trunc.txt\n",
        "1107.2487_trunc.txt"
       ]
      },
      {
       "output_type": "stream",
       "stream": "stdout",
       "text": [
        "\n",
        "1509.03258_trunc.txt\n",
        "1305.6430_trunc.txt\n",
        "1201.6161_trunc.txt"
       ]
      },
      {
       "output_type": "stream",
       "stream": "stdout",
       "text": [
        "\n",
        "1508.01964_trunc.txt\n",
        "1401.7241_trunc.txt\n",
        "1410.0503_trunc.txt\n",
        "1407.2724_trunc.txt"
       ]
      },
      {
       "output_type": "stream",
       "stream": "stdout",
       "text": [
        "\n",
        "1302.0115_trunc.txt\n",
        "1402.2628_trunc.txt\n",
        "1407.0185_trunc.txt\n",
        "1210.4654_trunc.txt"
       ]
      },
      {
       "output_type": "stream",
       "stream": "stdout",
       "text": [
        "\n",
        "1406.0437_trunc.txt\n",
        "1110.0108_trunc.txt\n",
        "1312.4674_trunc.txt\n",
        "1405.6531_trunc.txt"
       ]
      },
      {
       "output_type": "stream",
       "stream": "stdout",
       "text": [
        "\n",
        "1506.00691_trunc.txt\n",
        "1107.0147_trunc.txt\n",
        "1409.5015_trunc.txt\n",
        "1112.1977_trunc.txt"
       ]
      },
      {
       "output_type": "stream",
       "stream": "stdout",
       "text": [
        "\n",
        "1403.3231_trunc.txt\n",
        "1405.6796_trunc.txt\n",
        "1111.1272_trunc.txt\n",
        "1206.0613_trunc.txt"
       ]
      },
      {
       "output_type": "stream",
       "stream": "stdout",
       "text": [
        "\n",
        "1304.0580_trunc.txt\n",
        "1407.7194_trunc.txt\n",
        "1404.5557_trunc.txt\n",
        "1406.3994_trunc.txt"
       ]
      },
      {
       "output_type": "stream",
       "stream": "stdout",
       "text": [
        "\n",
        "1107.1025_trunc.txt\n",
        "1108.0373_trunc.txt\n",
        "1310.1800_trunc.txt\n",
        "1511.00253_trunc.txt"
       ]
      },
      {
       "output_type": "stream",
       "stream": "stdout",
       "text": [
        "\n",
        "1401.1137_trunc.txt\n",
        "1507.07235_trunc.txt\n",
        "1307.0366_trunc.txt\n",
        "1305.0355_trunc.txt"
       ]
      },
      {
       "output_type": "stream",
       "stream": "stdout",
       "text": [
        "\n",
        "1108.1494_trunc.txt\n",
        "1506.02676_trunc.txt\n",
        "1210.5663_trunc.txt\n",
        "1206.4091_trunc.txt"
       ]
      },
      {
       "output_type": "stream",
       "stream": "stdout",
       "text": [
        "\n",
        "1305.6408_trunc.txt\n",
        "1206.1753_trunc.txt\n",
        "1403.4827_trunc.txt\n",
        "1407.0726_trunc.txt"
       ]
      },
      {
       "output_type": "stream",
       "stream": "stdout",
       "text": [
        "\n",
        "1209.3628_trunc.txt\n",
        "1306.2035_trunc.txt\n",
        "1106.0972_trunc.txt\n",
        "1502.00235_trunc.txt"
       ]
      },
      {
       "output_type": "stream",
       "stream": "stdout",
       "text": [
        "\n",
        "1507.01772_trunc.txt\n",
        "1303.6149_trunc.txt\n",
        "1201.0868_trunc.txt\n",
        "1506.03537_trunc.txt"
       ]
      },
      {
       "output_type": "stream",
       "stream": "stdout",
       "text": [
        "\n",
        "1209.6534_trunc.txt\n",
        "1112.4310_trunc.txt\n",
        "1401.7893_trunc.txt\n",
        "1404.3827_trunc.txt"
       ]
      },
      {
       "output_type": "stream",
       "stream": "stdout",
       "text": [
        "\n",
        "1412.2557_trunc.txt\n",
        "1403.3758_trunc.txt\n",
        "1402.5662_trunc.txt\n",
        "1411.0229_trunc.txt"
       ]
      },
      {
       "output_type": "stream",
       "stream": "stdout",
       "text": [
        "\n",
        "1411.7687_trunc.txt\n",
        "1311.3753_trunc.txt\n",
        "1407.1065_trunc.txt\n",
        "1206.2459_trunc.txt"
       ]
      },
      {
       "output_type": "stream",
       "stream": "stdout",
       "text": [
        "\n",
        "1412.1563_trunc.txt\n",
        "1402.1700_trunc.txt\n",
        "1507.00421_trunc.txt\n",
        "1409.8557_trunc.txt"
       ]
      },
      {
       "output_type": "stream",
       "stream": "stdout",
       "text": [
        "\n",
        "1509.03025_trunc.txt\n",
        "1504.06745_trunc.txt\n",
        "1403.3275_trunc.txt\n",
        "1211.3343_trunc.txt"
       ]
      },
      {
       "output_type": "stream",
       "stream": "stdout",
       "text": [
        "\n",
        "1510.08534_trunc.txt\n",
        "1311.2791_trunc.txt\n",
        "1406.6592_trunc.txt\n",
        "1506.01557_trunc.txt"
       ]
      },
      {
       "output_type": "stream",
       "stream": "stdout",
       "text": [
        "\n",
        "1510.01670_trunc.txt\n",
        "1112.2271_trunc.txt\n",
        "1112.0708_trunc.txt\n",
        "1410.8290_trunc.txt"
       ]
      },
      {
       "output_type": "stream",
       "stream": "stdout",
       "text": [
        "\n",
        "1310.7149_trunc.txt\n",
        "1207.2831_trunc.txt\n",
        "1310.8240_trunc.txt\n",
        "1501.00312_trunc.txt"
       ]
      },
      {
       "output_type": "stream",
       "stream": "stdout",
       "text": [
        "\n",
        "1410.5014_trunc.txt\n",
        "1105.2128_trunc.txt\n",
        "1409.5928_trunc.txt\n",
        "1302.3543_trunc.txt"
       ]
      },
      {
       "output_type": "stream",
       "stream": "stdout",
       "text": [
        "\n",
        "1505.01394_trunc.txt\n",
        "1202.4294_trunc.txt\n",
        "1505.00675_trunc.txt\n",
        "1206.0457_trunc.txt"
       ]
      },
      {
       "output_type": "stream",
       "stream": "stdout",
       "text": [
        "\n",
        "1108.3479_trunc.txt\n",
        "1301.0958_trunc.txt\n",
        "1511.02112_trunc.txt\n",
        "1507.08254_trunc.txt"
       ]
      },
      {
       "output_type": "stream",
       "stream": "stdout",
       "text": [
        "\n",
        "1308.2927_trunc.txt\n",
        "1302.0122_trunc.txt\n",
        "1308.3201_trunc.txt\n",
        "1302.2677_trunc.txt"
       ]
      },
      {
       "output_type": "stream",
       "stream": "stdout",
       "text": [
        "\n",
        "1206.2966_trunc.txt\n",
        "1510.02399_trunc.txt\n",
        "1504.00600_trunc.txt\n",
        "1406.6569_trunc.txt"
       ]
      },
      {
       "output_type": "stream",
       "stream": "stdout",
       "text": [
        "\n",
        "1506.02578_trunc.txt\n",
        "1506.00054_trunc.txt\n",
        "1503.02390_trunc.txt\n",
        "1509.07601_trunc.txt"
       ]
      },
      {
       "output_type": "stream",
       "stream": "stdout",
       "text": [
        "\n",
        "1201.6052_trunc.txt\n",
        "1303.1927_trunc.txt\n",
        "1401.0844_trunc.txt\n",
        "1409.3301_trunc.txt"
       ]
      },
      {
       "output_type": "stream",
       "stream": "stdout",
       "text": [
        "\n",
        "1106.5758_trunc.txt\n",
        "1311.2657_trunc.txt\n",
        "1111.0483_trunc.txt\n",
        "1404.0788_trunc.txt"
       ]
      },
      {
       "output_type": "stream",
       "stream": "stdout",
       "text": [
        "\n",
        "1306.5603_trunc.txt\n",
        "1109.6176_trunc.txt\n",
        "1305.4446_trunc.txt\n",
        "1407.8300_trunc.txt"
       ]
      },
      {
       "output_type": "stream",
       "stream": "stdout",
       "text": [
        "\n",
        "1510.02330_trunc.txt\n",
        "1302.4198_trunc.txt\n",
        "1509.06121_trunc.txt\n",
        "1108.5939_trunc.txt"
       ]
      },
      {
       "output_type": "stream",
       "stream": "stdout",
       "text": [
        "\n",
        "1304.2186_trunc.txt\n",
        "1309.6287_trunc.txt\n",
        "1208.2015_trunc.txt\n",
        "1405.5995_trunc.txt"
       ]
      },
      {
       "output_type": "stream",
       "stream": "stdout",
       "text": [
        "\n",
        "1504.03381_trunc.txt\n",
        "1507.04090_trunc.txt\n",
        "1403.6782_trunc.txt\n",
        "1502.07989_trunc.txt"
       ]
      },
      {
       "output_type": "stream",
       "stream": "stdout",
       "text": [
        "\n",
        "1403.6752_trunc.txt\n",
        "1402.2966_trunc.txt\n",
        "1404.7105_trunc.txt\n",
        "1406.6959_trunc.txt"
       ]
      },
      {
       "output_type": "stream",
       "stream": "stdout",
       "text": [
        "\n",
        "1504.00002_trunc.txt\n",
        "1409.7441_trunc.txt\n",
        "1202.2723_trunc.txt\n",
        "1208.1864_trunc.txt"
       ]
      },
      {
       "output_type": "stream",
       "stream": "stdout",
       "text": [
        "\n",
        "1504.01227_trunc.txt\n",
        "1205.6607_trunc.txt\n",
        "1109.6846_trunc.txt\n",
        "1507.07050_trunc.txt"
       ]
      },
      {
       "output_type": "stream",
       "stream": "stdout",
       "text": [
        "\n",
        "1412.4605_trunc.txt\n",
        "1501.07761_trunc.txt\n",
        "1106.5834_trunc.txt\n",
        "1205.4146_trunc.txt"
       ]
      },
      {
       "output_type": "stream",
       "stream": "stdout",
       "text": [
        "\n",
        "1207.1934_trunc.txt\n",
        "1202.4283_trunc.txt\n",
        "1509.00351_trunc.txt\n",
        "1109.4533_trunc.txt"
       ]
      },
      {
       "output_type": "stream",
       "stream": "stdout",
       "text": [
        "\n",
        "1205.5920_trunc.txt\n",
        "1411.3984_trunc.txt\n",
        "1304.8036_trunc.txt\n",
        "1410.4329_trunc.txt"
       ]
      },
      {
       "output_type": "stream",
       "stream": "stdout",
       "text": [
        "\n",
        "1506.03172_trunc.txt\n",
        "1302.3452_trunc.txt\n",
        "1206.1194_trunc.txt\n",
        "1504.01081_trunc.txt"
       ]
      },
      {
       "output_type": "stream",
       "stream": "stdout",
       "text": [
        "\n",
        "1110.2058_trunc.txt\n",
        "1408.5820_trunc.txt\n",
        "1205.5039_trunc.txt\n",
        "1509.08535_trunc.txt"
       ]
      },
      {
       "output_type": "stream",
       "stream": "stdout",
       "text": [
        "\n",
        "1410.6966_trunc.txt\n",
        "1210.2879_trunc.txt\n",
        "1410.7165_trunc.txt\n",
        "1311.7049_trunc.txt"
       ]
      },
      {
       "output_type": "stream",
       "stream": "stdout",
       "text": [
        "\n",
        "1210.1059_trunc.txt\n",
        "1207.3840_trunc.txt\n",
        "1104.2677_trunc.txt\n",
        "1111.6230_trunc.txt"
       ]
      },
      {
       "output_type": "stream",
       "stream": "stdout",
       "text": [
        "\n",
        "1509.03459_trunc.txt\n",
        "1508.03323_trunc.txt\n",
        "1304.4786_trunc.txt\n",
        "1204.6452_trunc.txt"
       ]
      },
      {
       "output_type": "stream",
       "stream": "stdout",
       "text": [
        "\n",
        "1209.0952_trunc.txt\n",
        "1106.2790_trunc.txt\n",
        "1501.01732_trunc.txt\n",
        "1212.1788_trunc.txt"
       ]
      },
      {
       "output_type": "stream",
       "stream": "stdout",
       "text": [
        "\n",
        "1105.5004_trunc.txt\n",
        "1307.5706_trunc.txt\n",
        "1308.1815_trunc.txt\n",
        "1506.04430_trunc.txt"
       ]
      },
      {
       "output_type": "stream",
       "stream": "stdout",
       "text": [
        "\n",
        "1507.07653_trunc.txt\n",
        "1403.6532_trunc.txt\n",
        "1405.6545_trunc.txt\n",
        "1407.3395_trunc.txt"
       ]
      },
      {
       "output_type": "stream",
       "stream": "stdout",
       "text": [
        "\n",
        "1402.3835_trunc.txt\n",
        "1301.4867_trunc.txt\n",
        "1301.0768_trunc.txt\n",
        "1506.07722_trunc.txt"
       ]
      },
      {
       "output_type": "stream",
       "stream": "stdout",
       "text": [
        "\n",
        "1310.3240_trunc.txt\n",
        "1409.7127_trunc.txt\n",
        "1501.07440_trunc.txt\n",
        "1301.6256_trunc.txt"
       ]
      },
      {
       "output_type": "stream",
       "stream": "stdout",
       "text": [
        "\n",
        "1211.5018_trunc.txt\n",
        "1503.01504_trunc.txt\n",
        "1307.5992_trunc.txt\n",
        "1201.0058_trunc.txt"
       ]
      },
      {
       "output_type": "stream",
       "stream": "stdout",
       "text": [
        "\n",
        "1112.4413_trunc.txt\n",
        "1406.0526_trunc.txt\n",
        "1201.4469_trunc.txt\n",
        "1211.5194_trunc.txt"
       ]
      },
      {
       "output_type": "stream",
       "stream": "stdout",
       "text": [
        "\n",
        "1509.06418_trunc.txt\n",
        "1209.4957_trunc.txt\n",
        "1111.7077_trunc.txt\n",
        "1311.5366_trunc.txt"
       ]
      },
      {
       "output_type": "stream",
       "stream": "stdout",
       "text": [
        "\n",
        "1507.02608_trunc.txt\n",
        "1305.5029_trunc.txt\n",
        "1508.02489_trunc.txt\n",
        "1311.2628_trunc.txt"
       ]
      },
      {
       "output_type": "stream",
       "stream": "stdout",
       "text": [
        "\n",
        "1306.6557_trunc.txt\n",
        "1407.3495_trunc.txt\n",
        "1212.1200_trunc.txt\n",
        "1306.0254_trunc.txt"
       ]
      },
      {
       "output_type": "stream",
       "stream": "stdout",
       "text": [
        "\n",
        "1409.3642_trunc.txt\n",
        "1412.3442_trunc.txt\n",
        "1112.1241_trunc.txt\n",
        "1305.4227_trunc.txt"
       ]
      },
      {
       "output_type": "stream",
       "stream": "stdout",
       "text": [
        "\n",
        "1302.0581_trunc.txt\n",
        "1405.3388_trunc.txt\n",
        "1504.03084_trunc.txt\n",
        "1107.1345_trunc.txt"
       ]
      },
      {
       "output_type": "stream",
       "stream": "stdout",
       "text": [
        "\n",
        "1106.2014_trunc.txt\n",
        "1508.02043_trunc.txt\n",
        "1407.3289_trunc.txt\n",
        "1404.4646_trunc.txt"
       ]
      },
      {
       "output_type": "stream",
       "stream": "stdout",
       "text": [
        "\n",
        "1201.0418_trunc.txt\n",
        "1403.7993_trunc.txt\n",
        "1409.6219_trunc.txt\n",
        "1108.1945_trunc.txt"
       ]
      },
      {
       "output_type": "stream",
       "stream": "stdout",
       "text": [
        "\n",
        "1207.2067_trunc.txt\n",
        "1303.6379_trunc.txt\n",
        "1401.1267_trunc.txt"
       ]
      },
      {
       "output_type": "stream",
       "stream": "stdout",
       "text": [
        "\n",
        "1509.04819_trunc.txt\n",
        "1308.1334_trunc.txt\n",
        "1107.0312_trunc.txt"
       ]
      },
      {
       "output_type": "stream",
       "stream": "stdout",
       "text": [
        "\n",
        "1503.05968_trunc.txt\n",
        "1108.0129_trunc.txt\n",
        "1503.04493_trunc.txt"
       ]
      },
      {
       "output_type": "stream",
       "stream": "stdout",
       "text": [
        "\n",
        "1505.04195_trunc.txt\n",
        "1311.5354_trunc.txt\n",
        "1212.1885_trunc.txt"
       ]
      },
      {
       "output_type": "stream",
       "stream": "stdout",
       "text": [
        "\n",
        "1503.03467_trunc.txt\n",
        "1202.5093_trunc.txt\n",
        "1509.07747_trunc.txt\n",
        "1206.5070_trunc.txt"
       ]
      },
      {
       "output_type": "stream",
       "stream": "stdout",
       "text": [
        "\n",
        "1307.6501_trunc.txt\n",
        "1509.05017_trunc.txt\n",
        "1312.3378_trunc.txt\n",
        "1508.01819_trunc.txt"
       ]
      },
      {
       "output_type": "stream",
       "stream": "stdout",
       "text": [
        "\n",
        "1109.3336_trunc.txt\n",
        "1304.2986_trunc.txt\n",
        "1112.3777_trunc.txt\n",
        "1107.2576_trunc.txt"
       ]
      },
      {
       "output_type": "stream",
       "stream": "stdout",
       "text": [
        "\n",
        "1304.4781_trunc.txt\n",
        "1501.00046_trunc.txt\n",
        "1309.6488_trunc.txt\n",
        "1402.6550_trunc.txt"
       ]
      },
      {
       "output_type": "stream",
       "stream": "stdout",
       "text": [
        "\n",
        "1407.3625_trunc.txt\n",
        "1402.0142_trunc.txt\n",
        "1502.00301_trunc.txt\n",
        "1405.7728_trunc.txt"
       ]
      },
      {
       "output_type": "stream",
       "stream": "stdout",
       "text": [
        "\n",
        "1104.5246_trunc.txt\n",
        "1501.02559_trunc.txt\n",
        "1406.4689_trunc.txt\n",
        "1312.3937_trunc.txt"
       ]
      },
      {
       "output_type": "stream",
       "stream": "stdout",
       "text": [
        "\n",
        "1104.1541_trunc.txt\n",
        "1503.07236_trunc.txt\n",
        "1305.2073_trunc.txt\n",
        "1311.2038_trunc.txt"
       ]
      },
      {
       "output_type": "stream",
       "stream": "stdout",
       "text": [
        "\n",
        "1509.08451_trunc.txt\n",
        "1405.7129_trunc.txt\n",
        "1411.2158_trunc.txt\n",
        "1311.3118_trunc.txt"
       ]
      },
      {
       "output_type": "stream",
       "stream": "stdout",
       "text": [
        "\n",
        "1308.0931_trunc.txt\n",
        "1206.6053_trunc.txt\n",
        "1406.2240_trunc.txt\n",
        "1507.05270_trunc.txt"
       ]
      },
      {
       "output_type": "stream",
       "stream": "stdout",
       "text": [
        "\n",
        "1510.04124_trunc.txt\n",
        "1501.02389_trunc.txt\n",
        "1105.6351_trunc.txt\n",
        "1201.2591_trunc.txt"
       ]
      },
      {
       "output_type": "stream",
       "stream": "stdout",
       "text": [
        "\n",
        "1204.5291_trunc.txt\n",
        "1411.3825_trunc.txt\n",
        "1207.5548_trunc.txt\n",
        "1302.0082_trunc.txt"
       ]
      },
      {
       "output_type": "stream",
       "stream": "stdout",
       "text": [
        "\n",
        "1205.2911_trunc.txt\n",
        "1206.2620_trunc.txt\n",
        "1410.4755_trunc.txt\n",
        "1211.2071_trunc.txt"
       ]
      },
      {
       "output_type": "stream",
       "stream": "stdout",
       "text": [
        "\n",
        "1509.03466_trunc.txt\n",
        "1406.5863_trunc.txt\n",
        "1412.4857_trunc.txt\n",
        "1511.00028_trunc.txt"
       ]
      },
      {
       "output_type": "stream",
       "stream": "stdout",
       "text": [
        "\n",
        "1404.2355_trunc.txt\n",
        "1206.1365_trunc.txt\n",
        "1404.4414_trunc.txt\n",
        "1209.4875_trunc.txt"
       ]
      },
      {
       "output_type": "stream",
       "stream": "stdout",
       "text": [
        "\n",
        "1509.09103_trunc.txt\n",
        "1310.3720_trunc.txt\n",
        "1301.4183_trunc.txt\n",
        "1410.2346_trunc.txt"
       ]
      },
      {
       "output_type": "stream",
       "stream": "stdout",
       "text": [
        "\n",
        "1106.1056_trunc.txt\n",
        "1206.2493_trunc.txt\n",
        "1301.1717_trunc.txt\n",
        "1409.2090_trunc.txt"
       ]
      },
      {
       "output_type": "stream",
       "stream": "stdout",
       "text": [
        "\n",
        "1301.7212_trunc.txt\n",
        "1503.00466_trunc.txt\n",
        "1108.3136_trunc.txt\n",
        "1205.2123_trunc.txt"
       ]
      },
      {
       "output_type": "stream",
       "stream": "stdout",
       "text": [
        "\n",
        "1504.00476_trunc.txt\n",
        "1104.4220_trunc.txt\n",
        "1311.0737_trunc.txt\n",
        "1312.1653_trunc.txt"
       ]
      },
      {
       "output_type": "stream",
       "stream": "stdout",
       "text": [
        "\n",
        "1401.3257_trunc.txt\n",
        "1202.1964_trunc.txt\n",
        "1307.3730_trunc.txt\n",
        "1501.00478_trunc.txt"
       ]
      },
      {
       "output_type": "stream",
       "stream": "stdout",
       "text": [
        "\n",
        "1211.2917_trunc.txt\n",
        "1208.5501_trunc.txt\n",
        "1409.0055_trunc.txt\n",
        "1407.4909_trunc.txt"
       ]
      },
      {
       "output_type": "stream",
       "stream": "stdout",
       "text": [
        "\n",
        "1305.2476_trunc.txt\n",
        "1306.3301_trunc.txt\n",
        "1307.5976_trunc.txt"
       ]
      },
      {
       "output_type": "stream",
       "stream": "stdout",
       "text": [
        "\n",
        "1109.6759_trunc.txt\n",
        "1404.3203_trunc.txt\n",
        "1403.6179_trunc.txt"
       ]
      },
      {
       "output_type": "stream",
       "stream": "stdout",
       "text": [
        "\n",
        "1111.7247_trunc.txt\n",
        "1104.2224_trunc.txt\n",
        "1501.00438_trunc.txt"
       ]
      },
      {
       "output_type": "stream",
       "stream": "stdout",
       "text": [
        "\n",
        "1311.1894_trunc.txt\n",
        "1108.1766_trunc.txt\n",
        "1104.0554_trunc.txt"
       ]
      },
      {
       "output_type": "stream",
       "stream": "stdout",
       "text": [
        "\n",
        "1507.08645_trunc.txt\n",
        "1207.2231_trunc.txt\n",
        "1408.4747_trunc.txt\n",
        "1312.4497_trunc.txt"
       ]
      },
      {
       "output_type": "stream",
       "stream": "stdout",
       "text": [
        "\n",
        "1405.0110_trunc.txt\n",
        "1412.7103_trunc.txt\n",
        "1307.1565_trunc.txt\n",
        "1303.6146_trunc.txt"
       ]
      },
      {
       "output_type": "stream",
       "stream": "stdout",
       "text": [
        "\n",
        "1312.1054_trunc.txt\n",
        "1408.0788_trunc.txt\n",
        "1211.0457_trunc.txt\n",
        "1502.04071_trunc.txt"
       ]
      },
      {
       "output_type": "stream",
       "stream": "stdout",
       "text": [
        "\n",
        "1401.6801_trunc.txt\n",
        "1505.08134_trunc.txt\n",
        "1505.07915_trunc.txt\n",
        "1501.01840_trunc.txt"
       ]
      },
      {
       "output_type": "stream",
       "stream": "stdout",
       "text": [
        "\n",
        "1306.4943_trunc.txt\n",
        "1501.02513_trunc.txt\n",
        "1211.4372_trunc.txt\n",
        "1310.1990_trunc.txt"
       ]
      },
      {
       "output_type": "stream",
       "stream": "stdout",
       "text": [
        "\n",
        "1406.1643_trunc.txt\n",
        "1505.05257_trunc.txt\n",
        "1502.03300_trunc.txt\n",
        "1211.2481_trunc.txt"
       ]
      },
      {
       "output_type": "stream",
       "stream": "stdout",
       "text": [
        "\n",
        "1112.0528_trunc.txt\n",
        "1111.1044_trunc.txt\n",
        "1412.1605_trunc.txt\n",
        "1208.5384_trunc.txt"
       ]
      },
      {
       "output_type": "stream",
       "stream": "stdout",
       "text": [
        "\n",
        "1501.00622_trunc.txt\n",
        "1304.7914_trunc.txt\n",
        "1106.2674_trunc.txt\n",
        "1511.01752_trunc.txt"
       ]
      },
      {
       "output_type": "stream",
       "stream": "stdout",
       "text": [
        "\n",
        "1504.02267_trunc.txt\n",
        "1308.1768_trunc.txt\n",
        "1403.2085_trunc.txt\n",
        "1201.6115_trunc.txt"
       ]
      },
      {
       "output_type": "stream",
       "stream": "stdout",
       "text": [
        "\n",
        "1112.2093_trunc.txt\n",
        "1307.0067_trunc.txt\n",
        "1507.00070_trunc.txt\n",
        "1502.01997_trunc.txt"
       ]
      },
      {
       "output_type": "stream",
       "stream": "stdout",
       "text": [
        "\n",
        "1504.05087_trunc.txt\n",
        "1411.6314_trunc.txt\n",
        "1411.4708_trunc.txt\n",
        "1508.01146_trunc.txt"
       ]
      },
      {
       "output_type": "stream",
       "stream": "stdout",
       "text": [
        "\n",
        "1403.3109_trunc.txt\n",
        "1104.0040_trunc.txt\n",
        "1506.01391_trunc.txt\n",
        "1504.08070_trunc.txt"
       ]
      },
      {
       "output_type": "stream",
       "stream": "stdout",
       "text": [
        "\n",
        "1409.6495_trunc.txt\n",
        "1405.7483_trunc.txt\n",
        "1205.6086_trunc.txt\n",
        "1209.5923_trunc.txt"
       ]
      },
      {
       "output_type": "stream",
       "stream": "stdout",
       "text": [
        "\n",
        "1309.5192_trunc.txt\n",
        "1206.4340_trunc.txt\n",
        "1406.6668_trunc.txt\n",
        "1310.4914_trunc.txt"
       ]
      },
      {
       "output_type": "stream",
       "stream": "stdout",
       "text": [
        "\n",
        "1209.2085_trunc.txt\n",
        "1309.7837_trunc.txt\n",
        "1410.7091_trunc.txt\n",
        "1107.3493_trunc.txt"
       ]
      },
      {
       "output_type": "stream",
       "stream": "stdout",
       "text": [
        "\n",
        "1302.2023_trunc.txt\n",
        "1410.4743_trunc.txt\n",
        "1410.6698_trunc.txt\n",
        "1510.08683_trunc.txt"
       ]
      },
      {
       "output_type": "stream",
       "stream": "stdout",
       "text": [
        "\n",
        "1202.0391_trunc.txt\n",
        "1508.03606_trunc.txt\n",
        "1301.0802_trunc.txt\n",
        "1301.3017_trunc.txt"
       ]
      },
      {
       "output_type": "stream",
       "stream": "stdout",
       "text": [
        "\n",
        "1410.3450_trunc.txt\n",
        "1405.6676_trunc.txt\n",
        "1508.03283_trunc.txt\n",
        "1306.1154_trunc.txt"
       ]
      },
      {
       "output_type": "stream",
       "stream": "stdout",
       "text": [
        "\n",
        "1212.0325_trunc.txt\n",
        "1109.3142_trunc.txt\n",
        "1305.6099_trunc.txt\n",
        "1506.00834_trunc.txt"
       ]
      },
      {
       "output_type": "stream",
       "stream": "stdout",
       "text": [
        "\n",
        "1108.3410_trunc.txt\n",
        "1207.2386_trunc.txt\n",
        "1508.00506_trunc.txt\n",
        "1111.0723_trunc.txt"
       ]
      },
      {
       "output_type": "stream",
       "stream": "stdout",
       "text": [
        "\n",
        "1110.4539_trunc.txt\n",
        "1404.6298_trunc.txt\n",
        "1204.5357_trunc.txt\n",
        "1311.2799_trunc.txt"
       ]
      },
      {
       "output_type": "stream",
       "stream": "stdout",
       "text": [
        "\n",
        "1211.4221_trunc.txt\n",
        "1412.1414_trunc.txt\n",
        "1312.2794_trunc.txt\n",
        "1402.3093_trunc.txt"
       ]
      },
      {
       "output_type": "stream",
       "stream": "stdout",
       "text": [
        "\n",
        "1201.2577_trunc.txt\n",
        "1207.6432_trunc.txt\n",
        "1304.3656_trunc.txt\n",
        "1510.08539_trunc.txt"
       ]
      },
      {
       "output_type": "stream",
       "stream": "stdout",
       "text": [
        "\n",
        "1412.7216_trunc.txt\n",
        "1207.5902_trunc.txt\n",
        "1207.6076_trunc.txt\n",
        "1401.0062_trunc.txt"
       ]
      },
      {
       "output_type": "stream",
       "stream": "stdout",
       "text": [
        "\n",
        "1506.02194_trunc.txt\n",
        "1403.7068_trunc.txt\n",
        "1506.03620_trunc.txt\n",
        "1104.3328_trunc.txt"
       ]
      },
      {
       "output_type": "stream",
       "stream": "stdout",
       "text": [
        "\n",
        "1504.06523_trunc.txt\n",
        "1301.1208_trunc.txt\n",
        "1507.06710_trunc.txt\n",
        "1208.3538_trunc.txt"
       ]
      },
      {
       "output_type": "stream",
       "stream": "stdout",
       "text": [
        "\n",
        "1111.1916_trunc.txt\n",
        "1301.5873_trunc.txt\n",
        "1403.5710_trunc.txt\n",
        "1402.0830_trunc.txt"
       ]
      },
      {
       "output_type": "stream",
       "stream": "stdout",
       "text": [
        "\n",
        "1312.1005_trunc.txt\n",
        "1302.2331_trunc.txt\n",
        "1311.2445_trunc.txt\n",
        "1405.6584_trunc.txt"
       ]
      },
      {
       "output_type": "stream",
       "stream": "stdout",
       "text": [
        "\n",
        "1409.1333_trunc.txt\n",
        "1410.4578_trunc.txt\n",
        "1212.1384_trunc.txt\n",
        "1505.06794_trunc.txt"
       ]
      },
      {
       "output_type": "stream",
       "stream": "stdout",
       "text": [
        "\n",
        "1303.3482_trunc.txt\n",
        "1211.2359_trunc.txt\n",
        "1406.1939_trunc.txt\n",
        "1511.01017_trunc.txt"
       ]
      },
      {
       "output_type": "stream",
       "stream": "stdout",
       "text": [
        "\n",
        "1403.0349_trunc.txt\n",
        "1510.04654_trunc.txt\n",
        "1105.3288_trunc.txt\n",
        "1104.4210_trunc.txt"
       ]
      },
      {
       "output_type": "stream",
       "stream": "stdout",
       "text": [
        "\n",
        "1112.6235_trunc.txt\n",
        "1304.4609_trunc.txt\n",
        "1212.4899_trunc.txt\n",
        "1509.09048_trunc.txt"
       ]
      },
      {
       "output_type": "stream",
       "stream": "stdout",
       "text": [
        "\n",
        "1107.2702_trunc.txt\n",
        "1209.5075_trunc.txt\n",
        "1104.3770_trunc.txt\n",
        "1404.3152_trunc.txt"
       ]
      },
      {
       "output_type": "stream",
       "stream": "stdout",
       "text": [
        "\n",
        "1407.0158_trunc.txt\n",
        "1312.1706_trunc.txt\n",
        "1308.2408_trunc.txt\n",
        "1404.7552_trunc.txt"
       ]
      },
      {
       "output_type": "stream",
       "stream": "stdout",
       "text": [
        "\n",
        "1207.5367_trunc.txt\n",
        "1506.02887_trunc.txt\n",
        "1403.2899_trunc.txt\n",
        "1402.2243_trunc.txt"
       ]
      },
      {
       "output_type": "stream",
       "stream": "stdout",
       "text": [
        "\n",
        "1105.5065_trunc.txt\n",
        "1506.07509_trunc.txt\n",
        "1112.2509_trunc.txt\n",
        "1507.06128_trunc.txt"
       ]
      },
      {
       "output_type": "stream",
       "stream": "stdout",
       "text": [
        "\n",
        "1108.3112_trunc.txt\n",
        "1409.6833_trunc.txt\n",
        "1208.4892_trunc.txt\n",
        "1510.01188_trunc.txt"
       ]
      },
      {
       "output_type": "stream",
       "stream": "stdout",
       "text": [
        "\n",
        "1207.5578_trunc.txt\n",
        "1212.2562_trunc.txt\n",
        "1503.07791_trunc.txt\n",
        "1506.02886_trunc.txt"
       ]
      },
      {
       "output_type": "stream",
       "stream": "stdout",
       "text": [
        "\n",
        "1312.2240_trunc.txt\n",
        "1311.1797_trunc.txt\n",
        "1304.1598_trunc.txt\n",
        "1208.3920_trunc.txt"
       ]
      },
      {
       "output_type": "stream",
       "stream": "stdout",
       "text": [
        "\n",
        "1307.3375_trunc.txt\n",
        "1402.0722_trunc.txt\n",
        "1107.4512_trunc.txt\n",
        "1411.1660_trunc.txt"
       ]
      },
      {
       "output_type": "stream",
       "stream": "stdout",
       "text": [
        "\n",
        "1406.6625_trunc.txt\n",
        "1508.05538_trunc.txt\n",
        "1106.6104_trunc.txt\n",
        "1309.2585_trunc.txt"
       ]
      },
      {
       "output_type": "stream",
       "stream": "stdout",
       "text": [
        "\n",
        "1310.5791_trunc.txt\n",
        "1307.6836_trunc.txt\n",
        "1206.3911_trunc.txt\n",
        "1407.1004_trunc.txt"
       ]
      },
      {
       "output_type": "stream",
       "stream": "stdout",
       "text": [
        "\n",
        "1111.2680_trunc.txt\n",
        "1506.00089_trunc.txt\n",
        "1212.6906_trunc.txt\n",
        "1306.0113_trunc.txt"
       ]
      },
      {
       "output_type": "stream",
       "stream": "stdout",
       "text": [
        "\n",
        "1302.0654_trunc.txt\n",
        "1306.5824_trunc.txt\n",
        "1206.2743_trunc.txt\n",
        "1111.5866_trunc.txt"
       ]
      },
      {
       "output_type": "stream",
       "stream": "stdout",
       "text": [
        "\n",
        "1507.08266_trunc.txt\n",
        "1211.0811_trunc.txt\n",
        "1304.5113_trunc.txt\n",
        "1211.2548_trunc.txt"
       ]
      },
      {
       "output_type": "stream",
       "stream": "stdout",
       "text": [
        "\n",
        "1501.00177_trunc.txt\n",
        "1407.3961_trunc.txt\n",
        "1411.3317_trunc.txt\n",
        "1205.2947_trunc.txt"
       ]
      },
      {
       "output_type": "stream",
       "stream": "stdout",
       "text": [
        "\n",
        "1411.7565_trunc.txt\n",
        "1108.5341_trunc.txt\n",
        "1304.3969_trunc.txt\n",
        "1301.3617_trunc.txt"
       ]
      },
      {
       "output_type": "stream",
       "stream": "stdout",
       "text": [
        "\n",
        "1302.1611_trunc.txt\n",
        "1509.01384_trunc.txt\n",
        "1303.4956_trunc.txt\n",
        "1206.2557_trunc.txt"
       ]
      },
      {
       "output_type": "stream",
       "stream": "stdout",
       "text": [
        "\n",
        "1501.04206_trunc.txt\n",
        "1108.1851_trunc.txt\n",
        "1510.09219_trunc.txt\n",
        "1405.5027_trunc.txt"
       ]
      },
      {
       "output_type": "stream",
       "stream": "stdout",
       "text": [
        "\n",
        "1104.0861_trunc.txt\n",
        "1110.6427_trunc.txt\n",
        "1307.6044_trunc.txt\n",
        "1312.7402_trunc.txt"
       ]
      },
      {
       "output_type": "stream",
       "stream": "stdout",
       "text": [
        "\n",
        "1411.0862_trunc.txt\n",
        "1409.1012_trunc.txt\n",
        "1211.0806_trunc.txt\n",
        "1104.2365_trunc.txt"
       ]
      },
      {
       "output_type": "stream",
       "stream": "stdout",
       "text": [
        "\n",
        "1412.1530_trunc.txt\n",
        "1508.02933_trunc.txt\n",
        "1204.6054_trunc.txt\n",
        "1508.01090_trunc.txt"
       ]
      },
      {
       "output_type": "stream",
       "stream": "stdout",
       "text": [
        "\n",
        "1506.01831_trunc.txt\n",
        "1504.02693_trunc.txt\n",
        "1411.6590_trunc.txt\n",
        "1509.06310_trunc.txt"
       ]
      },
      {
       "output_type": "stream",
       "stream": "stdout",
       "text": [
        "\n",
        "1506.00859_trunc.txt\n",
        "1510.02551_trunc.txt\n",
        "1510.08440_trunc.txt\n",
        "1411.1015_trunc.txt"
       ]
      },
      {
       "output_type": "stream",
       "stream": "stdout",
       "text": [
        "\n",
        "1407.3206_trunc.txt\n",
        "1405.1533_trunc.txt\n",
        "1405.1478_trunc.txt\n",
        "1108.3968_trunc.txt"
       ]
      },
      {
       "output_type": "stream",
       "stream": "stdout",
       "text": [
        "\n",
        "1306.3092_trunc.txt\n",
        "1505.06644_trunc.txt\n",
        "1303.6690_trunc.txt\n",
        "1312.5911_trunc.txt"
       ]
      },
      {
       "output_type": "stream",
       "stream": "stdout",
       "text": [
        "\n",
        "1201.2716_trunc.txt\n",
        "1304.5939_trunc.txt\n",
        "1107.4468_trunc.txt\n",
        "1403.1903_trunc.txt"
       ]
      },
      {
       "output_type": "stream",
       "stream": "stdout",
       "text": [
        "\n",
        "1305.4232_trunc.txt\n",
        "1510.04195_trunc.txt\n",
        "1107.0935_trunc.txt\n",
        "1508.04178_trunc.txt"
       ]
      },
      {
       "output_type": "stream",
       "stream": "stdout",
       "text": [
        "\n",
        "1404.5886_trunc.txt\n",
        "1401.4849_trunc.txt\n",
        "1312.7150_trunc.txt\n",
        "1310.7918_trunc.txt"
       ]
      },
      {
       "output_type": "stream",
       "stream": "stdout",
       "text": [
        "\n",
        "1304.2460_trunc.txt\n",
        "1303.3738_trunc.txt\n",
        "1312.3302_trunc.txt\n",
        "1306.3690_trunc.txt"
       ]
      },
      {
       "output_type": "stream",
       "stream": "stdout",
       "text": [
        "\n",
        "1510.08029_trunc.txt\n",
        "1504.01369_trunc.txt\n",
        "1411.0393_trunc.txt\n",
        "1201.2395_trunc.txt"
       ]
      },
      {
       "output_type": "stream",
       "stream": "stdout",
       "text": [
        "\n",
        "1410.1094_trunc.txt\n",
        "1508.04217_trunc.txt\n",
        "1402.4773_trunc.txt\n",
        "1303.2910_trunc.txt"
       ]
      },
      {
       "output_type": "stream",
       "stream": "stdout",
       "text": [
        "\n",
        "1305.0274_trunc.txt\n",
        "1201.0872_trunc.txt\n",
        "1304.7046_trunc.txt\n",
        "1407.5798_trunc.txt"
       ]
      },
      {
       "output_type": "stream",
       "stream": "stdout",
       "text": [
        "\n",
        "1503.05748_trunc.txt\n",
        "1502.02336_trunc.txt\n",
        "1406.5706_trunc.txt\n",
        "1104.4389_trunc.txt"
       ]
      },
      {
       "output_type": "stream",
       "stream": "stdout",
       "text": [
        "\n",
        "1502.07102_trunc.txt\n",
        "1112.1392_trunc.txt\n",
        "1112.6363_trunc.txt\n",
        "1412.0391_trunc.txt"
       ]
      },
      {
       "output_type": "stream",
       "stream": "stdout",
       "text": [
        "\n",
        "1306.2419_trunc.txt\n",
        "1403.0265_trunc.txt\n",
        "1312.6661_trunc.txt\n",
        "1111.1041_trunc.txt"
       ]
      },
      {
       "output_type": "stream",
       "stream": "stdout",
       "text": [
        "\n",
        "1407.1751_trunc.txt\n",
        "1302.6102_trunc.txt\n",
        "1405.7511_trunc.txt\n",
        "1511.03982_trunc.txt"
       ]
      },
      {
       "output_type": "stream",
       "stream": "stdout",
       "text": [
        "\n",
        "1403.6922_trunc.txt\n",
        "1401.4883_trunc.txt\n",
        "1508.05847_trunc.txt\n",
        "1212.4942_trunc.txt"
       ]
      },
      {
       "output_type": "stream",
       "stream": "stdout",
       "text": [
        "\n",
        "1205.2446_trunc.txt\n",
        "1403.6769_trunc.txt\n",
        "1505.04778_trunc.txt\n",
        "1111.4504_trunc.txt"
       ]
      },
      {
       "output_type": "stream",
       "stream": "stdout",
       "text": [
        "\n",
        "1406.5580_trunc.txt\n",
        "1405.0579_trunc.txt\n",
        "1309.0485_trunc.txt\n",
        "1108.0921_trunc.txt"
       ]
      },
      {
       "output_type": "stream",
       "stream": "stdout",
       "text": [
        "\n",
        "1508.04720_trunc.txt\n",
        "1509.05457_trunc.txt\n",
        "1409.1429_trunc.txt\n",
        "1504.02654_trunc.txt"
       ]
      },
      {
       "output_type": "stream",
       "stream": "stdout",
       "text": [
        "\n",
        "1311.1981_trunc.txt\n",
        "1506.07296_trunc.txt\n",
        "1404.1839_trunc.txt\n",
        "1306.2003_trunc.txt"
       ]
      },
      {
       "output_type": "stream",
       "stream": "stdout",
       "text": [
        "\n",
        "1304.0828_trunc.txt\n",
        "1406.1629_trunc.txt\n",
        "1206.0963_trunc.txt\n",
        "1511.03641_trunc.txt"
       ]
      },
      {
       "output_type": "stream",
       "stream": "stdout",
       "text": [
        "\n",
        "1411.2687_trunc.txt\n",
        "1502.06644_trunc.txt\n",
        "1312.2974_trunc.txt\n",
        "1502.06781_trunc.txt"
       ]
      },
      {
       "output_type": "stream",
       "stream": "stdout",
       "text": [
        "\n",
        "1411.0515_trunc.txt\n",
        "1307.8369_trunc.txt\n",
        "1303.6841_trunc.txt\n",
        "1503.07643_trunc.txt"
       ]
      },
      {
       "output_type": "stream",
       "stream": "stdout",
       "text": [
        "\n",
        "1405.0352_trunc.txt\n",
        "1302.3203_trunc.txt\n",
        "1406.0266_trunc.txt\n",
        "1303.0238_trunc.txt"
       ]
      },
      {
       "output_type": "stream",
       "stream": "stdout",
       "text": [
        "\n",
        "1309.4889_trunc.txt\n",
        "1302.1281_trunc.txt\n",
        "1504.07972_trunc.txt\n",
        "1302.1674_trunc.txt"
       ]
      },
      {
       "output_type": "stream",
       "stream": "stdout",
       "text": [
        "\n",
        "1303.2814_trunc.txt\n",
        "1112.1788_trunc.txt\n",
        "1505.00261_trunc.txt\n",
        "1509.01604_trunc.txt"
       ]
      },
      {
       "output_type": "stream",
       "stream": "stdout",
       "text": [
        "\n",
        "1412.7890_trunc.txt\n",
        "1105.4563_trunc.txt\n",
        "1104.4410_trunc.txt\n",
        "1412.8285_trunc.txt"
       ]
      },
      {
       "output_type": "stream",
       "stream": "stdout",
       "text": [
        "\n",
        "1206.0304_trunc.txt\n",
        "1503.07642_trunc.txt\n",
        "1308.3568_trunc.txt\n",
        "1502.06590_trunc.txt"
       ]
      },
      {
       "output_type": "stream",
       "stream": "stdout",
       "text": [
        "\n",
        "1105.3423_trunc.txt\n",
        "1507.08727_trunc.txt\n",
        "1311.0587_trunc.txt\n",
        "1307.4101_trunc.txt"
       ]
      },
      {
       "output_type": "stream",
       "stream": "stdout",
       "text": [
        "\n",
        "1502.05017_trunc.txt\n",
        "1211.4732_trunc.txt\n",
        "1104.4252_trunc.txt\n",
        "1406.2721_trunc.txt"
       ]
      },
      {
       "output_type": "stream",
       "stream": "stdout",
       "text": [
        "\n",
        "1105.4847_trunc.txt\n",
        "1501.01320_trunc.txt\n",
        "1210.2489_trunc.txt\n",
        "1201.4831_trunc.txt"
       ]
      },
      {
       "output_type": "stream",
       "stream": "stdout",
       "text": [
        "\n",
        "1409.8565_trunc.txt\n",
        "1406.4175_trunc.txt\n",
        "1506.00827_trunc.txt\n",
        "1409.2051_trunc.txt"
       ]
      },
      {
       "output_type": "stream",
       "stream": "stdout",
       "text": [
        "\n",
        "1309.3700_trunc.txt\n",
        "1310.8092_trunc.txt\n",
        "1504.07078_trunc.txt\n",
        "1206.0576_trunc.txt"
       ]
      },
      {
       "output_type": "stream",
       "stream": "stdout",
       "text": [
        "\n",
        "1301.7745_trunc.txt\n",
        "1208.1823_trunc.txt\n",
        "1503.02817_trunc.txt\n",
        "1502.01866_trunc.txt"
       ]
      },
      {
       "output_type": "stream",
       "stream": "stdout",
       "text": [
        "\n",
        "1508.02473_trunc.txt\n",
        "1510.06946_trunc.txt\n",
        "1505.07981_trunc.txt\n",
        "1201.1155_trunc.txt"
       ]
      },
      {
       "output_type": "stream",
       "stream": "stdout",
       "text": [
        "\n",
        "1206.5637_trunc.txt\n",
        "1201.5507_trunc.txt\n",
        "1410.1931_trunc.txt\n",
        "1401.8104_trunc.txt"
       ]
      },
      {
       "output_type": "stream",
       "stream": "stdout",
       "text": [
        "\n",
        "1505.04215_trunc.txt\n",
        "1409.2121_trunc.txt\n",
        "1312.0142_trunc.txt\n",
        "1112.3729_trunc.txt"
       ]
      },
      {
       "output_type": "stream",
       "stream": "stdout",
       "text": [
        "\n",
        "1210.5835_trunc.txt\n",
        "1206.0406_trunc.txt\n",
        "1307.7054_trunc.txt\n",
        "1209.5183_trunc.txt"
       ]
      },
      {
       "output_type": "stream",
       "stream": "stdout",
       "text": [
        "\n",
        "1501.06930_trunc.txt\n",
        "1311.6765_trunc.txt\n",
        "1506.03621_trunc.txt\n",
        "1405.2322_trunc.txt"
       ]
      },
      {
       "output_type": "stream",
       "stream": "stdout",
       "text": [
        "\n",
        "1206.0871_trunc.txt\n",
        "1407.7166_trunc.txt\n",
        "1409.6203_trunc.txt\n",
        "1211.5507_trunc.txt"
       ]
      },
      {
       "output_type": "stream",
       "stream": "stdout",
       "text": [
        "\n",
        "1111.0537_trunc.txt\n",
        "1506.03430_trunc.txt\n",
        "1403.2695_trunc.txt\n",
        "1302.0895_trunc.txt"
       ]
      },
      {
       "output_type": "stream",
       "stream": "stdout",
       "text": [
        "\n",
        "1112.0716_trunc.txt\n",
        "1507.03003_trunc.txt\n",
        "1502.05510_trunc.txt\n",
        "1105.1646_trunc.txt"
       ]
      },
      {
       "output_type": "stream",
       "stream": "stdout",
       "text": [
        "\n",
        "1108.0920_trunc.txt\n",
        "1302.0163_trunc.txt\n",
        "1403.3374_trunc.txt\n",
        "1112.6411_trunc.txt"
       ]
      },
      {
       "output_type": "stream",
       "stream": "stdout",
       "text": [
        "\n",
        "1202.4850_trunc.txt\n",
        "1311.3190_trunc.txt\n",
        "1206.1675_trunc.txt\n",
        "1211.2265_trunc.txt"
       ]
      },
      {
       "output_type": "stream",
       "stream": "stdout",
       "text": [
        "\n",
        "1310.4132_trunc.txt\n",
        "1505.05114_trunc.txt\n",
        "1312.5119_trunc.txt\n",
        "1205.4181_trunc.txt"
       ]
      },
      {
       "output_type": "stream",
       "stream": "stdout",
       "text": [
        "\n",
        "1307.0470_trunc.txt\n",
        "1108.5781_trunc.txt\n",
        "1108.1647_trunc.txt\n",
        "1411.6428_trunc.txt"
       ]
      },
      {
       "output_type": "stream",
       "stream": "stdout",
       "text": [
        "\n",
        "1210.3516_trunc.txt\n",
        "1107.2387_trunc.txt\n",
        "1112.2381_trunc.txt\n",
        "1104.3969_trunc.txt"
       ]
      },
      {
       "output_type": "stream",
       "stream": "stdout",
       "text": [
        "\n",
        "1502.02120_trunc.txt\n",
        "1505.06417_trunc.txt\n",
        "1505.02605_trunc.txt\n",
        "1505.03350_trunc.txt"
       ]
      },
      {
       "output_type": "stream",
       "stream": "stdout",
       "text": [
        "\n",
        "1509.06311_trunc.txt\n",
        "1404.2910_trunc.txt\n",
        "1309.3663_trunc.txt\n",
        "1410.4945_trunc.txt"
       ]
      },
      {
       "output_type": "stream",
       "stream": "stdout",
       "text": [
        "\n",
        "1406.7773_trunc.txt\n",
        "1404.4452_trunc.txt\n",
        "1309.1915_trunc.txt\n",
        "1509.03882_trunc.txt"
       ]
      },
      {
       "output_type": "stream",
       "stream": "stdout",
       "text": [
        "\n",
        "1507.06115_trunc.txt\n",
        "1506.06162_trunc.txt\n",
        "1306.1294_trunc.txt\n",
        "1502.02069_trunc.txt"
       ]
      },
      {
       "output_type": "stream",
       "stream": "stdout",
       "text": [
        "\n",
        "1403.5537_trunc.txt\n",
        "1212.3647_trunc.txt\n",
        "1510.07123_trunc.txt"
       ]
      },
      {
       "output_type": "stream",
       "stream": "stdout",
       "text": [
        "\n",
        "1501.02497_trunc.txt\n",
        "1506.08163_trunc.txt\n",
        "1308.5534_trunc.txt"
       ]
      },
      {
       "output_type": "stream",
       "stream": "stdout",
       "text": [
        "\n",
        "1312.3046_trunc.txt\n",
        "1309.7807_trunc.txt\n",
        "1205.3324_trunc.txt"
       ]
      },
      {
       "output_type": "stream",
       "stream": "stdout",
       "text": [
        "\n",
        "1305.6000_trunc.txt\n",
        "1307.4953_trunc.txt\n",
        "1112.4434_trunc.txt"
       ]
      },
      {
       "output_type": "stream",
       "stream": "stdout",
       "text": [
        "\n",
        "1112.3228_trunc.txt\n",
        "1209.0012_trunc.txt\n",
        "1312.4366_trunc.txt"
       ]
      },
      {
       "output_type": "stream",
       "stream": "stdout",
       "text": [
        "\n",
        "1210.2601_trunc.txt\n",
        "1403.2363_trunc.txt\n",
        "1207.5659_trunc.txt"
       ]
      },
      {
       "output_type": "stream",
       "stream": "stdout",
       "text": [
        "\n",
        "1407.5565_trunc.txt\n",
        "1404.4093_trunc.txt\n",
        "1410.3544_trunc.txt"
       ]
      },
      {
       "output_type": "stream",
       "stream": "stdout",
       "text": [
        "\n",
        "1504.08363_trunc.txt\n",
        "1401.2597_trunc.txt\n",
        "1110.6623_trunc.txt"
       ]
      },
      {
       "output_type": "stream",
       "stream": "stdout",
       "text": [
        "\n",
        "1106.4710_trunc.txt\n",
        "1211.6451_trunc.txt\n",
        "1301.4321_trunc.txt"
       ]
      },
      {
       "output_type": "stream",
       "stream": "stdout",
       "text": [
        "\n",
        "1402.0302_trunc.txt\n",
        "1405.0480_trunc.txt\n",
        "1210.1563_trunc.txt"
       ]
      },
      {
       "output_type": "stream",
       "stream": "stdout",
       "text": [
        "\n",
        "1207.5322_trunc.txt\n",
        "1209.4947_trunc.txt\n",
        "1510.06319_trunc.txt"
       ]
      },
      {
       "output_type": "stream",
       "stream": "stdout",
       "text": [
        "\n",
        "1207.4447_trunc.txt\n",
        "1504.04472_trunc.txt\n",
        "1307.2342_trunc.txt"
       ]
      },
      {
       "output_type": "stream",
       "stream": "stdout",
       "text": [
        "\n",
        "1511.04033_trunc.txt\n",
        "1303.4121_trunc.txt\n",
        "1405.6044_trunc.txt"
       ]
      },
      {
       "output_type": "stream",
       "stream": "stdout",
       "text": [
        "\n",
        "1510.04977_trunc.txt\n",
        "1503.05289_trunc.txt\n",
        "1510.05247_trunc.txt"
       ]
      },
      {
       "output_type": "stream",
       "stream": "stdout",
       "text": [
        "\n",
        "1312.1200_trunc.txt\n",
        "1309.6933_trunc.txt\n",
        "1305.3068_trunc.txt"
       ]
      },
      {
       "output_type": "stream",
       "stream": "stdout",
       "text": [
        "\n",
        "1201.0327_trunc.txt\n",
        "1305.0630_trunc.txt\n",
        "1107.2168_trunc.txt"
       ]
      },
      {
       "output_type": "stream",
       "stream": "stdout",
       "text": [
        "\n",
        "1309.5413_trunc.txt\n",
        "1511.03463_trunc.txt\n",
        "1409.6496_trunc.txt"
       ]
      },
      {
       "output_type": "stream",
       "stream": "stdout",
       "text": [
        "\n",
        "1412.5059_trunc.txt\n",
        "1110.3556_trunc.txt\n",
        "1311.5187_trunc.txt"
       ]
      },
      {
       "output_type": "stream",
       "stream": "stdout",
       "text": [
        "\n",
        "1301.6624_trunc.txt\n",
        "1111.3866_trunc.txt\n",
        "1111.6323_trunc.txt"
       ]
      },
      {
       "output_type": "stream",
       "stream": "stdout",
       "text": [
        "\n",
        "1206.6904_trunc.txt\n",
        "1507.05315_trunc.txt\n",
        "1106.3352_trunc.txt\n",
        "1207.3994_trunc.txt"
       ]
      },
      {
       "output_type": "stream",
       "stream": "stdout",
       "text": [
        "\n",
        "1105.2988_trunc.txt\n",
        "1404.6989_trunc.txt\n",
        "1208.6581_trunc.txt\n",
        "1306.6295_trunc.txt"
       ]
      },
      {
       "output_type": "stream",
       "stream": "stdout",
       "text": [
        "\n",
        "1504.01294_trunc.txt\n",
        "1303.6744_trunc.txt\n",
        "1304.6521_trunc.txt"
       ]
      },
      {
       "output_type": "stream",
       "stream": "stdout",
       "text": [
        "\n",
        "1109.5000_trunc.txt\n",
        "1407.8083_trunc.txt\n",
        "1109.4777_trunc.txt"
       ]
      },
      {
       "output_type": "stream",
       "stream": "stdout",
       "text": [
        "\n",
        "1507.05952_trunc.txt\n",
        "1404.3188_trunc.txt\n",
        "1405.6057_trunc.txt"
       ]
      },
      {
       "output_type": "stream",
       "stream": "stdout",
       "text": [
        "\n",
        "1301.6647_trunc.txt\n",
        "1405.6231_trunc.txt\n",
        "1412.6020_trunc.txt"
       ]
      },
      {
       "output_type": "stream",
       "stream": "stdout",
       "text": [
        "\n",
        "1301.0676_trunc.txt\n",
        "1404.4210_trunc.txt\n",
        "1206.7020_trunc.txt"
       ]
      },
      {
       "output_type": "stream",
       "stream": "stdout",
       "text": [
        "\n",
        "1210.5235_trunc.txt\n",
        "1509.00130_trunc.txt\n",
        "1312.3091_trunc.txt"
       ]
      },
      {
       "output_type": "stream",
       "stream": "stdout",
       "text": [
        "\n",
        "1310.1969_trunc.txt\n",
        "1206.6536_trunc.txt\n",
        "1305.0617_trunc.txt"
       ]
      },
      {
       "output_type": "stream",
       "stream": "stdout",
       "text": [
        "\n",
        "1410.4231_trunc.txt\n",
        "1412.2314_trunc.txt\n",
        "1210.2440_trunc.txt"
       ]
      },
      {
       "output_type": "stream",
       "stream": "stdout",
       "text": [
        "\n",
        "1202.2395_trunc.txt\n",
        "1207.5967_trunc.txt\n",
        "1410.0346_trunc.txt"
       ]
      },
      {
       "output_type": "stream",
       "stream": "stdout",
       "text": [
        "\n",
        "1105.0121_trunc.txt\n",
        "1503.00226_trunc.txt\n",
        "1302.5202_trunc.txt"
       ]
      },
      {
       "output_type": "stream",
       "stream": "stdout",
       "text": [
        "\n",
        "1207.5960_trunc.txt\n",
        "1308.0810_trunc.txt\n",
        "1211.5220_trunc.txt"
       ]
      },
      {
       "output_type": "stream",
       "stream": "stdout",
       "text": [
        "\n",
        "1311.6435_trunc.txt\n",
        "1110.6796_trunc.txt\n",
        "1506.03832_trunc.txt"
       ]
      },
      {
       "output_type": "stream",
       "stream": "stdout",
       "text": [
        "\n",
        "1510.09072_trunc.txt\n",
        "1408.2998_trunc.txt\n",
        "1311.5301_trunc.txt"
       ]
      },
      {
       "output_type": "stream",
       "stream": "stdout",
       "text": [
        "\n",
        "1303.4890_trunc.txt\n",
        "1502.04733_trunc.txt\n",
        "1408.2581_trunc.txt"
       ]
      },
      {
       "output_type": "stream",
       "stream": "stdout",
       "text": [
        "\n",
        "1310.4678_trunc.txt\n",
        "1509.02551_trunc.txt\n",
        "1206.3627_trunc.txt"
       ]
      },
      {
       "output_type": "stream",
       "stream": "stdout",
       "text": [
        "\n",
        "1212.6757_trunc.txt\n",
        "1507.04228_trunc.txt\n",
        "1407.0249_trunc.txt"
       ]
      },
      {
       "output_type": "stream",
       "stream": "stdout",
       "text": [
        "\n",
        "1403.4134_trunc.txt\n",
        "1306.2056_trunc.txt\n",
        "1509.03880_trunc.txt"
       ]
      },
      {
       "output_type": "stream",
       "stream": "stdout",
       "text": [
        "\n",
        "1112.5634_trunc.txt\n",
        "1502.01173_trunc.txt\n",
        "1412.7794_trunc.txt"
       ]
      },
      {
       "output_type": "stream",
       "stream": "stdout",
       "text": [
        "\n",
        "1207.7098_trunc.txt\n",
        "1209.2013_trunc.txt\n",
        "1201.1171_trunc.txt"
       ]
      },
      {
       "output_type": "stream",
       "stream": "stdout",
       "text": [
        "\n",
        "1409.5291_trunc.txt\n",
        "1407.2904_trunc.txt\n",
        "1209.5543_trunc.txt"
       ]
      },
      {
       "output_type": "stream",
       "stream": "stdout",
       "text": [
        "\n",
        "1405.7210_trunc.txt\n",
        "1306.4790_trunc.txt\n",
        "1112.0840_trunc.txt"
       ]
      },
      {
       "output_type": "stream",
       "stream": "stdout",
       "text": [
        "\n",
        "1411.0800_trunc.txt\n",
        "1412.1716_trunc.txt\n",
        "1307.6338_trunc.txt\n",
        "1109.0343_trunc.txt"
       ]
      },
      {
       "output_type": "stream",
       "stream": "stdout",
       "text": [
        "\n",
        "1304.7668_trunc.txt\n",
        "1502.07300_trunc.txt\n",
        "1302.0924_trunc.txt\n",
        "1304.8087_trunc.txt"
       ]
      },
      {
       "output_type": "stream",
       "stream": "stdout",
       "text": [
        "\n",
        "1310.7838_trunc.txt\n",
        "1109.5909_trunc.txt\n",
        "1311.1595_trunc.txt\n",
        "1202.2211_trunc.txt"
       ]
      },
      {
       "output_type": "stream",
       "stream": "stdout",
       "text": [
        "\n",
        "1206.0823_trunc.txt\n",
        "1210.4711_trunc.txt\n",
        "1402.0346_trunc.txt\n",
        "1507.07673_trunc.txt"
       ]
      },
      {
       "output_type": "stream",
       "stream": "stdout",
       "text": [
        "\n",
        "1310.0847_trunc.txt\n",
        "1304.2592_trunc.txt\n",
        "1406.0148_trunc.txt\n",
        "1504.02191_trunc.txt"
       ]
      },
      {
       "output_type": "stream",
       "stream": "stdout",
       "text": [
        "\n",
        "1205.0417_trunc.txt\n",
        "1404.0198_trunc.txt\n",
        "1404.2787_trunc.txt\n",
        "1302.4211_trunc.txt"
       ]
      },
      {
       "output_type": "stream",
       "stream": "stdout",
       "text": [
        "\n",
        "1409.8269_trunc.txt\n",
        "1510.04514_trunc.txt\n",
        "1212.4239_trunc.txt\n",
        "1312.4691_trunc.txt"
       ]
      },
      {
       "output_type": "stream",
       "stream": "stdout",
       "text": [
        "\n",
        "1108.5533_trunc.txt\n",
        "1108.2401_trunc.txt\n",
        "1202.1212_trunc.txt\n",
        "1412.1926_trunc.txt"
       ]
      },
      {
       "output_type": "stream",
       "stream": "stdout",
       "text": [
        "\n",
        "1105.2322_trunc.txt\n",
        "1110.4985_trunc.txt\n",
        "1302.5892_trunc.txt\n",
        "1302.7099_trunc.txt"
       ]
      },
      {
       "output_type": "stream",
       "stream": "stdout",
       "text": [
        "\n",
        "1110.3777_trunc.txt\n",
        "1510.04222_trunc.txt\n",
        "1104.2637_trunc.txt\n",
        "1201.5521_trunc.txt"
       ]
      },
      {
       "output_type": "stream",
       "stream": "stdout",
       "text": [
        "\n",
        "1308.2809_trunc.txt\n",
        "1407.3747_trunc.txt\n",
        "1310.7270_trunc.txt\n",
        "1510.06419_trunc.txt"
       ]
      },
      {
       "output_type": "stream",
       "stream": "stdout",
       "text": [
        "\n",
        "1210.7447_trunc.txt\n",
        "1509.09273_trunc.txt\n",
        "1507.03984_trunc.txt\n",
        "1210.5830_trunc.txt"
       ]
      },
      {
       "output_type": "stream",
       "stream": "stdout",
       "text": [
        "\n",
        "1407.0215_trunc.txt\n",
        "1502.05032_trunc.txt\n",
        "1109.4668_trunc.txt\n",
        "1212.5311_trunc.txt"
       ]
      },
      {
       "output_type": "stream",
       "stream": "stdout",
       "text": [
        "\n",
        "1308.6761_trunc.txt\n",
        "1109.5587_trunc.txt\n",
        "1401.3987_trunc.txt\n",
        "1105.6154_trunc.txt"
       ]
      },
      {
       "output_type": "stream",
       "stream": "stdout",
       "text": [
        "\n",
        "1312.0308_trunc.txt\n",
        "1510.08694_trunc.txt\n",
        "1207.0893_trunc.txt\n",
        "1502.07181_trunc.txt"
       ]
      },
      {
       "output_type": "stream",
       "stream": "stdout",
       "text": [
        "\n",
        "1403.7867_trunc.txt\n",
        "1510.06963_trunc.txt\n",
        "1112.6151_trunc.txt\n",
        "1403.6195_trunc.txt"
       ]
      },
      {
       "output_type": "stream",
       "stream": "stdout",
       "text": [
        "\n",
        "1112.1529_trunc.txt\n",
        "1301.6585_trunc.txt\n",
        "1209.0703_trunc.txt\n",
        "1510.02903_trunc.txt"
       ]
      },
      {
       "output_type": "stream",
       "stream": "stdout",
       "text": [
        "\n",
        "1211.1309_trunc.txt\n",
        "1412.8016_trunc.txt\n",
        "1404.2825_trunc.txt\n",
        "1307.5971_trunc.txt"
       ]
      },
      {
       "output_type": "stream",
       "stream": "stdout",
       "text": [
        "\n",
        "1412.3092_trunc.txt\n",
        "1410.5028_trunc.txt\n",
        "1404.6000_trunc.txt\n",
        "1311.7217_trunc.txt"
       ]
      },
      {
       "output_type": "stream",
       "stream": "stdout",
       "text": [
        "\n",
        "1403.5361_trunc.txt\n",
        "1211.5488_trunc.txt\n",
        "1212.3556_trunc.txt\n",
        "1409.8363_trunc.txt"
       ]
      },
      {
       "output_type": "stream",
       "stream": "stdout",
       "text": [
        "\n",
        "1508.01661_trunc.txt\n",
        "1107.3284_trunc.txt\n",
        "1410.2639_trunc.txt\n",
        "1304.5943_trunc.txt"
       ]
      },
      {
       "output_type": "stream",
       "stream": "stdout",
       "text": [
        "\n",
        "1507.08436_trunc.txt\n",
        "1310.1030_trunc.txt\n",
        "1402.0844_trunc.txt\n",
        "1312.7857_trunc.txt"
       ]
      },
      {
       "output_type": "stream",
       "stream": "stdout",
       "text": [
        "\n",
        "1105.2640_trunc.txt\n",
        "1306.5899_trunc.txt\n",
        "1112.0905_trunc.txt\n",
        "1505.07260_trunc.txt"
       ]
      },
      {
       "output_type": "stream",
       "stream": "stdout",
       "text": [
        "\n",
        "1105.1896_trunc.txt\n",
        "1403.2660_trunc.txt\n",
        "1510.05461_trunc.txt\n",
        "1211.3215_trunc.txt"
       ]
      },
      {
       "output_type": "stream",
       "stream": "stdout",
       "text": [
        "\n",
        "1202.2035_trunc.txt\n",
        "1112.2759_trunc.txt\n",
        "1406.4765_trunc.txt\n",
        "1407.8225_trunc.txt"
       ]
      },
      {
       "output_type": "stream",
       "stream": "stdout",
       "text": [
        "\n",
        "1409.6019_trunc.txt\n",
        "1202.1399_trunc.txt\n",
        "1506.02155_trunc.txt\n",
        "1206.3520_trunc.txt"
       ]
      },
      {
       "output_type": "stream",
       "stream": "stdout",
       "text": [
        "\n",
        "1304.0282_trunc.txt\n",
        "1406.3334_trunc.txt\n",
        "1208.0687_trunc.txt\n",
        "1211.1847_trunc.txt"
       ]
      },
      {
       "output_type": "stream",
       "stream": "stdout",
       "text": [
        "\n",
        "1312.7827_trunc.txt\n",
        "1211.5420_trunc.txt\n",
        "1404.3304_trunc.txt\n",
        "1507.06506_trunc.txt"
       ]
      },
      {
       "output_type": "stream",
       "stream": "stdout",
       "text": [
        "\n",
        "1412.2817_trunc.txt\n",
        "1504.03177_trunc.txt\n",
        "1506.04709_trunc.txt\n",
        "1105.3816_trunc.txt"
       ]
      },
      {
       "output_type": "stream",
       "stream": "stdout",
       "text": [
        "\n",
        "1209.0633_trunc.txt\n",
        "1410.0180_trunc.txt\n",
        "1111.5568_trunc.txt\n",
        "1403.1762_trunc.txt"
       ]
      },
      {
       "output_type": "stream",
       "stream": "stdout",
       "text": [
        "\n",
        "1201.6307_trunc.txt\n",
        "1405.2292_trunc.txt\n",
        "1304.0423_trunc.txt\n",
        "1112.3914_trunc.txt"
       ]
      },
      {
       "output_type": "stream",
       "stream": "stdout",
       "text": [
        "\n",
        "1503.03100_trunc.txt\n",
        "1112.5635_trunc.txt\n",
        "1312.7439_trunc.txt\n",
        "1107.2261_trunc.txt"
       ]
      },
      {
       "output_type": "stream",
       "stream": "stdout",
       "text": [
        "\n",
        "1301.1898_trunc.txt\n",
        "1410.4931_trunc.txt\n",
        "1503.08337_trunc.txt\n",
        "1104.0763_trunc.txt"
       ]
      },
      {
       "output_type": "stream",
       "stream": "stdout",
       "text": [
        "\n",
        "1505.02023_trunc.txt\n",
        "1307.2297_trunc.txt\n",
        "1504.06079_trunc.txt\n",
        "1205.7060_trunc.txt"
       ]
      },
      {
       "output_type": "stream",
       "stream": "stdout",
       "text": [
        "\n",
        "1306.1678_trunc.txt\n",
        "1502.03722_trunc.txt\n",
        "1109.3607_trunc.txt\n",
        "1308.5875_trunc.txt"
       ]
      },
      {
       "output_type": "stream",
       "stream": "stdout",
       "text": [
        "\n",
        "1211.0801_trunc.txt\n",
        "1508.01967_trunc.txt\n",
        "1307.7682_trunc.txt\n",
        "1503.08357_trunc.txt"
       ]
      },
      {
       "output_type": "stream",
       "stream": "stdout",
       "text": [
        "\n",
        "1308.1359_trunc.txt\n",
        "1111.4180_trunc.txt\n",
        "1106.3830_trunc.txt\n",
        "1211.3930_trunc.txt"
       ]
      },
      {
       "output_type": "stream",
       "stream": "stdout",
       "text": [
        "\n",
        "1107.4476_trunc.txt\n",
        "1201.5517_trunc.txt\n",
        "1108.2883_trunc.txt\n",
        "1412.0446_trunc.txt"
       ]
      },
      {
       "output_type": "stream",
       "stream": "stdout",
       "text": [
        "\n",
        "1506.00088_trunc.txt\n",
        "1201.0238_trunc.txt\n",
        "1502.02323_trunc.txt\n",
        "1405.0321_trunc.txt"
       ]
      },
      {
       "output_type": "stream",
       "stream": "stdout",
       "text": [
        "\n",
        "1112.4565_trunc.txt\n",
        "1205.5508_trunc.txt\n",
        "1409.1787_trunc.txt\n",
        "1410.1368_trunc.txt"
       ]
      },
      {
       "output_type": "stream",
       "stream": "stdout",
       "text": [
        "\n",
        "1109.0961_trunc.txt\n",
        "1209.6267_trunc.txt\n",
        "1207.3772_trunc.txt\n",
        "1507.08441_trunc.txt"
       ]
      },
      {
       "output_type": "stream",
       "stream": "stdout",
       "text": [
        "\n",
        "1210.0686_trunc.txt\n",
        "1405.3524_trunc.txt\n",
        "1210.4139_trunc.txt\n",
        "1301.7644_trunc.txt"
       ]
      },
      {
       "output_type": "stream",
       "stream": "stdout",
       "text": [
        "\n",
        "1403.3920_trunc.txt\n",
        "1412.3731_trunc.txt\n",
        "1403.7889_trunc.txt\n",
        "1311.2234_trunc.txt"
       ]
      },
      {
       "output_type": "stream",
       "stream": "stdout",
       "text": [
        "\n",
        "1507.06145_trunc.txt\n",
        "1508.07530_trunc.txt\n",
        "1504.01281_trunc.txt\n",
        "1304.2995_trunc.txt"
       ]
      },
      {
       "output_type": "stream",
       "stream": "stdout",
       "text": [
        "\n",
        "1209.5170_trunc.txt\n",
        "1303.2236_trunc.txt\n",
        "1511.00926_trunc.txt\n",
        "1206.1874_trunc.txt"
       ]
      },
      {
       "output_type": "stream",
       "stream": "stdout",
       "text": [
        "\n",
        "1312.6974_trunc.txt\n",
        "1104.3074_trunc.txt\n",
        "1401.2272_trunc.txt\n",
        "1507.00065_trunc.txt"
       ]
      },
      {
       "output_type": "stream",
       "stream": "stdout",
       "text": [
        "\n",
        "1311.4030_trunc.txt\n",
        "1503.00163_trunc.txt\n",
        "1401.7801_trunc.txt\n",
        "1505.00369_trunc.txt"
       ]
      },
      {
       "output_type": "stream",
       "stream": "stdout",
       "text": [
        "\n",
        "1211.2970_trunc.txt\n",
        "1111.5927_trunc.txt\n",
        "1110.1364_trunc.txt\n",
        "1503.07003_trunc.txt"
       ]
      },
      {
       "output_type": "stream",
       "stream": "stdout",
       "text": [
        "\n",
        "1211.3230_trunc.txt\n",
        "1505.01665_trunc.txt\n",
        "1410.2477_trunc.txt\n",
        "1505.00003_trunc.txt"
       ]
      },
      {
       "output_type": "stream",
       "stream": "stdout",
       "text": [
        "\n",
        "1211.2121_trunc.txt\n",
        "1209.4280_trunc.txt\n",
        "1506.00816_trunc.txt\n",
        "1211.2522_trunc.txt"
       ]
      },
      {
       "output_type": "stream",
       "stream": "stdout",
       "text": [
        "\n",
        "1408.4527_trunc.txt\n",
        "1105.3280_trunc.txt\n",
        "1112.2868_trunc.txt\n",
        "1506.04599_trunc.txt"
       ]
      },
      {
       "output_type": "stream",
       "stream": "stdout",
       "text": [
        "\n",
        "1407.3971_trunc.txt\n",
        "1201.0277_trunc.txt\n",
        "1502.04977_trunc.txt\n",
        "1411.6160_trunc.txt"
       ]
      },
      {
       "output_type": "stream",
       "stream": "stdout",
       "text": [
        "\n",
        "1401.0087_trunc.txt\n",
        "1302.1916_trunc.txt\n",
        "1406.6519_trunc.txt\n",
        "1110.2544_trunc.txt"
       ]
      },
      {
       "output_type": "stream",
       "stream": "stdout",
       "text": [
        "\n",
        "1303.1698_trunc.txt\n",
        "1107.5592_trunc.txt\n",
        "1302.4605_trunc.txt\n",
        "1309.5979_trunc.txt"
       ]
      },
      {
       "output_type": "stream",
       "stream": "stdout",
       "text": [
        "\n",
        "1402.5596_trunc.txt\n",
        "1305.5673_trunc.txt\n",
        "1108.1179_trunc.txt\n",
        "1201.6216_trunc.txt"
       ]
      },
      {
       "output_type": "stream",
       "stream": "stdout",
       "text": [
        "\n",
        "1502.07409_trunc.txt\n",
        "1105.6145_trunc.txt\n",
        "1507.04313_trunc.txt\n",
        "1108.4130_trunc.txt"
       ]
      },
      {
       "output_type": "stream",
       "stream": "stdout",
       "text": [
        "\n",
        "1408.6937_trunc.txt\n",
        "1506.01478_trunc.txt\n",
        "1404.3051_trunc.txt\n",
        "1106.4149_trunc.txt"
       ]
      },
      {
       "output_type": "stream",
       "stream": "stdout",
       "text": [
        "\n",
        "1105.1475_trunc.txt\n",
        "1503.06482_trunc.txt\n",
        "1306.4391_trunc.txt\n",
        "1307.6701_trunc.txt"
       ]
      },
      {
       "output_type": "stream",
       "stream": "stdout",
       "text": [
        "\n",
        "1111.2247_trunc.txt\n",
        "1310.5559_trunc.txt\n",
        "1205.0953_trunc.txt\n",
        "1207.6868_trunc.txt"
       ]
      },
      {
       "output_type": "stream",
       "stream": "stdout",
       "text": [
        "\n",
        "1402.5584_trunc.txt\n",
        "1506.01606_trunc.txt\n",
        "1306.0623_trunc.txt\n",
        "1502.04890_trunc.txt"
       ]
      },
      {
       "output_type": "stream",
       "stream": "stdout",
       "text": [
        "\n",
        "1210.7850_trunc.txt\n",
        "1411.3427_trunc.txt\n",
        "1402.0369_trunc.txt\n",
        "1110.4944_trunc.txt"
       ]
      },
      {
       "output_type": "stream",
       "stream": "stdout",
       "text": [
        "\n",
        "1510.03502_trunc.txt\n",
        "1306.1452_trunc.txt\n",
        "1105.3039_trunc.txt\n",
        "1206.4762_trunc.txt"
       ]
      },
      {
       "output_type": "stream",
       "stream": "stdout",
       "text": [
        "\n",
        "1211.5442_trunc.txt\n",
        "1109.5002_trunc.txt\n",
        "1111.6410_trunc.txt\n",
        "1402.1004_trunc.txt"
       ]
      },
      {
       "output_type": "stream",
       "stream": "stdout",
       "text": [
        "\n",
        "1205.6659_trunc.txt\n",
        "1103.5679_trunc.txt\n",
        "1509.07269_trunc.txt\n",
        "1510.03679_trunc.txt"
       ]
      },
      {
       "output_type": "stream",
       "stream": "stdout",
       "text": [
        "\n",
        "1211.7046_trunc.txt\n",
        "1507.07443_trunc.txt\n",
        "1409.0752_trunc.txt\n",
        "1411.4681_trunc.txt"
       ]
      },
      {
       "output_type": "stream",
       "stream": "stdout",
       "text": [
        "\n",
        "1404.6392_trunc.txt\n",
        "1206.2385_trunc.txt\n",
        "1209.4173_trunc.txt\n",
        "1408.2156_trunc.txt"
       ]
      },
      {
       "output_type": "stream",
       "stream": "stdout",
       "text": [
        "\n",
        "1302.1232_trunc.txt\n",
        "1306.5393_trunc.txt\n",
        "1302.0151_trunc.txt\n",
        "1401.3146_trunc.txt"
       ]
      },
      {
       "output_type": "stream",
       "stream": "stdout",
       "text": [
        "\n",
        "1401.0398_trunc.txt\n",
        "1304.7366_trunc.txt\n",
        "1311.1738_trunc.txt\n",
        "1312.4087_trunc.txt"
       ]
      },
      {
       "output_type": "stream",
       "stream": "stdout",
       "text": [
        "\n",
        "1504.04696_trunc.txt\n",
        "1509.01042_trunc.txt\n",
        "1412.4222_trunc.txt\n",
        "1312.6102_trunc.txt"
       ]
      },
      {
       "output_type": "stream",
       "stream": "stdout",
       "text": [
        "\n",
        "1107.5481_trunc.txt\n",
        "1312.2780_trunc.txt\n",
        "1212.6788_trunc.txt\n",
        "1205.6248_trunc.txt"
       ]
      },
      {
       "output_type": "stream",
       "stream": "stdout",
       "text": [
        "\n",
        "1112.3427_trunc.txt\n",
        "1302.0114_trunc.txt\n",
        "1310.7462_trunc.txt\n",
        "1110.3854_trunc.txt"
       ]
      },
      {
       "output_type": "stream",
       "stream": "stdout",
       "text": [
        "\n",
        "1507.04528_trunc.txt\n",
        "1509.02017_trunc.txt\n",
        "1508.05503_trunc.txt\n",
        "1211.2137_trunc.txt"
       ]
      },
      {
       "output_type": "stream",
       "stream": "stdout",
       "text": [
        "\n",
        "1508.03002_trunc.txt\n",
        "1510.07074_trunc.txt\n",
        "1509.00137_trunc.txt"
       ]
      },
      {
       "output_type": "stream",
       "stream": "stdout",
       "text": [
        "\n",
        "1402.2755_trunc.txt\n",
        "1503.06910_trunc.txt\n",
        "1509.04910_trunc.txt\n",
        "1505.04242_trunc.txt"
       ]
      },
      {
       "output_type": "stream",
       "stream": "stdout",
       "text": [
        "\n",
        "1304.0593_trunc.txt\n",
        "1402.2620_trunc.txt\n",
        "1205.4259_trunc.txt\n",
        "1407.0335_trunc.txt"
       ]
      },
      {
       "output_type": "stream",
       "stream": "stdout",
       "text": [
        "\n",
        "1206.1904_trunc.txt\n",
        "1502.04874_trunc.txt\n",
        "1506.01495_trunc.txt\n",
        "1309.7804_trunc.txt"
       ]
      },
      {
       "output_type": "stream",
       "stream": "stdout",
       "text": [
        "\n",
        "1211.7114_trunc.txt\n",
        "1109.3994_trunc.txt\n",
        "1109.4174_trunc.txt\n",
        "1510.01355_trunc.txt"
       ]
      },
      {
       "output_type": "stream",
       "stream": "stdout",
       "text": [
        "\n",
        "1504.08177_trunc.txt\n",
        "1109.2628_trunc.txt\n",
        "1404.6841_trunc.txt\n",
        "1206.6913_trunc.txt"
       ]
      },
      {
       "output_type": "stream",
       "stream": "stdout",
       "text": [
        "\n",
        "1403.7713_trunc.txt\n",
        "1310.1630_trunc.txt\n",
        "1303.6042_trunc.txt\n",
        "1509.08185_trunc.txt"
       ]
      },
      {
       "output_type": "stream",
       "stream": "stdout",
       "text": [
        "\n",
        "1404.1310_trunc.txt\n",
        "1206.5628_trunc.txt\n",
        "1407.8246_trunc.txt\n",
        "1306.5510_trunc.txt"
       ]
      },
      {
       "output_type": "stream",
       "stream": "stdout",
       "text": [
        "\n",
        "1410.3155_trunc.txt\n",
        "1404.5126_trunc.txt\n",
        "1104.5326_trunc.txt\n",
        "1210.0807_trunc.txt"
       ]
      },
      {
       "output_type": "stream",
       "stream": "stdout",
       "text": [
        "\n",
        "1305.0179_trunc.txt\n",
        "1108.2722_trunc.txt\n",
        "1310.0707_trunc.txt\n",
        "1306.1324_trunc.txt"
       ]
      },
      {
       "output_type": "stream",
       "stream": "stdout",
       "text": [
        "\n",
        "1402.0686_trunc.txt\n",
        "1503.05160_trunc.txt\n",
        "1502.05460_trunc.txt\n",
        "1306.6042_trunc.txt"
       ]
      },
      {
       "output_type": "stream",
       "stream": "stdout",
       "text": [
        "\n",
        "1509.01903_trunc.txt\n",
        "1212.3524_trunc.txt\n",
        "1104.3618_trunc.txt\n",
        "1304.1390_trunc.txt"
       ]
      },
      {
       "output_type": "stream",
       "stream": "stdout",
       "text": [
        "\n",
        "1412.7739_trunc.txt\n",
        "1504.08031_trunc.txt\n",
        "1208.6403_trunc.txt\n",
        "1110.0561_trunc.txt"
       ]
      },
      {
       "output_type": "stream",
       "stream": "stdout",
       "text": [
        "\n",
        "1212.5397_trunc.txt\n",
        "1409.5353_trunc.txt\n",
        "1207.2450_trunc.txt\n",
        "1210.0376_trunc.txt"
       ]
      },
      {
       "output_type": "stream",
       "stream": "stdout",
       "text": [
        "\n",
        "1508.00249_trunc.txt\n",
        "1104.4595_trunc.txt\n",
        "1402.3535_trunc.txt\n",
        "1406.7728_trunc.txt"
       ]
      },
      {
       "output_type": "stream",
       "stream": "stdout",
       "text": [
        "\n",
        "1412.8690_trunc.txt\n",
        "1106.2246_trunc.txt\n",
        "1508.06505_trunc.txt\n",
        "1106.0721_trunc.txt"
       ]
      },
      {
       "output_type": "stream",
       "stream": "stdout",
       "text": [
        "\n",
        "1209.0736_trunc.txt\n",
        "1406.2796_trunc.txt\n",
        "1302.0098_trunc.txt\n",
        "1506.08155_trunc.txt"
       ]
      },
      {
       "output_type": "stream",
       "stream": "stdout",
       "text": [
        "\n",
        "1205.4795_trunc.txt\n",
        "1106.4293_trunc.txt\n",
        "1211.4742_trunc.txt\n",
        "1404.4032_trunc.txt"
       ]
      },
      {
       "output_type": "stream",
       "stream": "stdout",
       "text": [
        "\n",
        "1509.00172_trunc.txt\n",
        "1505.04228_trunc.txt\n",
        "1410.8597_trunc.txt\n",
        "1502.01106_trunc.txt"
       ]
      },
      {
       "output_type": "stream",
       "stream": "stdout",
       "text": [
        "\n",
        "1307.1962_trunc.txt\n",
        "1410.7874_trunc.txt\n",
        "1510.05526_trunc.txt\n",
        "1210.5918_trunc.txt"
       ]
      },
      {
       "output_type": "stream",
       "stream": "stdout",
       "text": [
        "\n",
        "1501.00811_trunc.txt\n",
        "1201.1493_trunc.txt\n",
        "1406.1037_trunc.txt\n",
        "1110.2501_trunc.txt"
       ]
      },
      {
       "output_type": "stream",
       "stream": "stdout",
       "text": [
        "\n",
        "1207.4988_trunc.txt\n",
        "1301.3451_trunc.txt\n",
        "1310.2559_trunc.txt\n",
        "1407.1225_trunc.txt"
       ]
      },
      {
       "output_type": "stream",
       "stream": "stdout",
       "text": [
        "\n",
        "1110.0356_trunc.txt\n",
        "1109.4204_trunc.txt\n",
        "1507.07106_trunc.txt\n",
        "1404.4002_trunc.txt"
       ]
      },
      {
       "output_type": "stream",
       "stream": "stdout",
       "text": [
        "\n",
        "1504.04901_trunc.txt\n",
        "1206.0262_trunc.txt\n",
        "1209.2303_trunc.txt"
       ]
      },
      {
       "output_type": "stream",
       "stream": "stdout",
       "text": [
        "\n",
        "1405.2881_trunc.txt\n",
        "1412.8340_trunc.txt\n",
        "1404.4730_trunc.txt"
       ]
      },
      {
       "output_type": "stream",
       "stream": "stdout",
       "text": [
        "\n",
        "1201.2462_trunc.txt\n",
        "1401.7899_trunc.txt\n",
        "1505.01585_trunc.txt\n",
        "1507.06352_trunc.txt"
       ]
      },
      {
       "output_type": "stream",
       "stream": "stdout",
       "text": [
        "\n",
        "1307.6512_trunc.txt\n",
        "1112.4519_trunc.txt\n",
        "1303.3365_trunc.txt\n",
        "1408.0722_trunc.txt"
       ]
      },
      {
       "output_type": "stream",
       "stream": "stdout",
       "text": [
        "\n",
        "1304.4300_trunc.txt\n",
        "1505.04243_trunc.txt\n",
        "1408.5355_trunc.txt\n",
        "1506.03198_trunc.txt"
       ]
      },
      {
       "output_type": "stream",
       "stream": "stdout",
       "text": [
        "\n",
        "1212.1182_trunc.txt\n",
        "1402.1267_trunc.txt\n",
        "1409.3601_trunc.txt\n",
        "1401.4007_trunc.txt"
       ]
      },
      {
       "output_type": "stream",
       "stream": "stdout",
       "text": [
        "\n",
        "1504.00534_trunc.txt\n",
        "1404.4917_trunc.txt\n",
        "1106.4228_trunc.txt\n",
        "1307.4765_trunc.txt"
       ]
      },
      {
       "output_type": "stream",
       "stream": "stdout",
       "text": [
        "\n",
        "1202.2849_trunc.txt\n",
        "1502.05522_trunc.txt\n",
        "1208.3553_trunc.txt\n",
        "1205.6040_trunc.txt"
       ]
      },
      {
       "output_type": "stream",
       "stream": "stdout",
       "text": [
        "\n",
        "1109.1986_trunc.txt\n",
        "1506.03113_trunc.txt\n",
        "1206.1024_trunc.txt\n",
        "1106.4386_trunc.txt"
       ]
      },
      {
       "output_type": "stream",
       "stream": "stdout",
       "text": [
        "\n",
        "1511.04125_trunc.txt\n",
        "1511.00730_trunc.txt\n",
        "1510.04064_trunc.txt"
       ]
      },
      {
       "output_type": "stream",
       "stream": "stdout",
       "text": [
        "\n",
        "1510.04342_trunc.txt\n",
        "1103.4977_trunc.txt\n",
        "1307.2546_trunc.txt"
       ]
      },
      {
       "output_type": "stream",
       "stream": "stdout",
       "text": [
        "\n",
        "1210.7911_trunc.txt\n",
        "1105.3018_trunc.txt\n",
        "1111.1418_trunc.txt\n",
        "1310.5523_trunc.txt"
       ]
      },
      {
       "output_type": "stream",
       "stream": "stdout",
       "text": [
        "\n",
        "1503.05526_trunc.txt\n",
        "1207.2118_trunc.txt\n",
        "1402.2424_trunc.txt\n",
        "1507.04793_trunc.txt"
       ]
      },
      {
       "output_type": "stream",
       "stream": "stdout",
       "text": [
        "\n",
        "1412.0620_trunc.txt\n",
        "1306.1438_trunc.txt\n",
        "1412.2632_trunc.txt\n",
        "1311.7513_trunc.txt"
       ]
      },
      {
       "output_type": "stream",
       "stream": "stdout",
       "text": [
        "\n",
        "1506.00673_trunc.txt\n",
        "1508.06958_trunc.txt\n",
        "1205.6043_trunc.txt\n",
        "1109.0320_trunc.txt"
       ]
      },
      {
       "output_type": "stream",
       "stream": "stdout",
       "text": [
        "\n",
        "1301.5874_trunc.txt\n",
        "1505.02589_trunc.txt\n",
        "1510.08661_trunc.txt\n",
        "1408.0324_trunc.txt"
       ]
      },
      {
       "output_type": "stream",
       "stream": "stdout",
       "text": [
        "\n",
        "1403.1388_trunc.txt\n",
        "1306.1587_trunc.txt\n",
        "1409.6337_trunc.txt\n",
        "1202.3570_trunc.txt"
       ]
      },
      {
       "output_type": "stream",
       "stream": "stdout",
       "text": [
        "\n",
        "1509.06442_trunc.txt\n",
        "1411.2391_trunc.txt\n",
        "1501.02201_trunc.txt\n",
        "1404.0122_trunc.txt"
       ]
      },
      {
       "output_type": "stream",
       "stream": "stdout",
       "text": [
        "\n",
        "1502.00320_trunc.txt\n",
        "1212.2800_trunc.txt\n",
        "1110.5927_trunc.txt\n",
        "1301.2534_trunc.txt"
       ]
      },
      {
       "output_type": "stream",
       "stream": "stdout",
       "text": [
        "\n",
        "1312.7452_trunc.txt\n",
        "1405.6672_trunc.txt\n",
        "1406.0267_trunc.txt\n",
        "1108.1783_trunc.txt"
       ]
      },
      {
       "output_type": "stream",
       "stream": "stdout",
       "text": [
        "\n",
        "1403.2954_trunc.txt\n",
        "1309.5936_trunc.txt\n",
        "1312.6348_trunc.txt\n",
        "1509.02473_trunc.txt"
       ]
      },
      {
       "output_type": "stream",
       "stream": "stdout",
       "text": [
        "\n",
        "1302.3082_trunc.txt\n",
        "1508.04742_trunc.txt\n",
        "1310.4661_trunc.txt\n",
        "1201.0175_trunc.txt"
       ]
      },
      {
       "output_type": "stream",
       "stream": "stdout",
       "text": [
        "\n",
        "1302.2044_trunc.txt\n",
        "1307.8300_trunc.txt\n",
        "1406.5540_trunc.txt\n",
        "1303.1690_trunc.txt"
       ]
      },
      {
       "output_type": "stream",
       "stream": "stdout",
       "text": [
        "\n",
        "1409.6885_trunc.txt\n",
        "1503.07187_trunc.txt\n",
        "1306.3373_trunc.txt\n",
        "1302.2043_trunc.txt"
       ]
      },
      {
       "output_type": "stream",
       "stream": "stdout",
       "text": [
        "\n",
        "1407.6514_trunc.txt\n",
        "1207.2411_trunc.txt\n",
        "1103.6172_trunc.txt\n",
        "1508.03852_trunc.txt"
       ]
      },
      {
       "output_type": "stream",
       "stream": "stdout",
       "text": [
        "\n",
        "1304.3378_trunc.txt\n",
        "1207.2453_trunc.txt\n",
        "1312.5556_trunc.txt\n",
        "1312.5894_trunc.txt"
       ]
      },
      {
       "output_type": "stream",
       "stream": "stdout",
       "text": [
        "\n",
        "1109.3250_trunc.txt\n",
        "1504.07072_trunc.txt\n",
        "1109.1612_trunc.txt\n",
        "1511.02609_trunc.txt"
       ]
      },
      {
       "output_type": "stream",
       "stream": "stdout",
       "text": [
        "\n",
        "1509.07636_trunc.txt\n",
        "1404.4408_trunc.txt\n",
        "1410.4354_trunc.txt\n",
        "1406.2280_trunc.txt"
       ]
      },
      {
       "output_type": "stream",
       "stream": "stdout",
       "text": [
        "\n",
        "1411.1437_trunc.txt\n",
        "1509.02811_trunc.txt\n",
        "1311.1400_trunc.txt\n",
        "1311.3765_trunc.txt"
       ]
      },
      {
       "output_type": "stream",
       "stream": "stdout",
       "text": [
        "\n",
        "1306.5883_trunc.txt\n",
        "1305.3897_trunc.txt\n",
        "1506.01744_trunc.txt\n",
        "1505.05314_trunc.txt"
       ]
      },
      {
       "output_type": "stream",
       "stream": "stdout",
       "text": [
        "\n",
        "1307.1123_trunc.txt\n",
        "1405.1595_trunc.txt\n",
        "1406.6638_trunc.txt"
       ]
      },
      {
       "output_type": "stream",
       "stream": "stdout",
       "text": [
        "\n",
        "1211.2117_trunc.txt\n",
        "1304.6746_trunc.txt\n",
        "1503.03626_trunc.txt"
       ]
      },
      {
       "output_type": "stream",
       "stream": "stdout",
       "text": [
        "\n",
        "1308.2403_trunc.txt\n",
        "1503.05324_trunc.txt\n",
        "1107.3046_trunc.txt"
       ]
      },
      {
       "output_type": "stream",
       "stream": "stdout",
       "text": [
        "\n",
        "1110.4620_trunc.txt\n",
        "1405.6555_trunc.txt\n",
        "1305.1118_trunc.txt\n",
        "1105.3672_trunc.txt"
       ]
      },
      {
       "output_type": "stream",
       "stream": "stdout",
       "text": [
        "\n",
        "1302.0110_trunc.txt\n",
        "1506.08047_trunc.txt\n",
        "1207.6437_trunc.txt\n",
        "1207.2883_trunc.txt"
       ]
      },
      {
       "output_type": "stream",
       "stream": "stdout",
       "text": [
        "\n",
        "1201.5990_trunc.txt\n",
        "1409.4685_trunc.txt\n",
        "1510.08226_trunc.txt\n",
        "1303.6466_trunc.txt"
       ]
      },
      {
       "output_type": "stream",
       "stream": "stdout",
       "text": [
        "\n",
        "1401.5408_trunc.txt\n",
        "1402.2823_trunc.txt\n",
        "1407.6461_trunc.txt\n",
        "1309.3399_trunc.txt"
       ]
      },
      {
       "output_type": "stream",
       "stream": "stdout",
       "text": [
        "\n",
        "1403.1345_trunc.txt\n",
        "1103.5399_trunc.txt\n",
        "1304.6237_trunc.txt\n",
        "1106.4490_trunc.txt"
       ]
      },
      {
       "output_type": "stream",
       "stream": "stdout",
       "text": [
        "\n",
        "1311.2336_trunc.txt\n",
        "1210.8094_trunc.txt\n",
        "1307.1185_trunc.txt\n",
        "1403.2845_trunc.txt"
       ]
      },
      {
       "output_type": "stream",
       "stream": "stdout",
       "text": [
        "\n",
        "1411.7581_trunc.txt\n",
        "1312.1938_trunc.txt\n",
        "1106.2627_trunc.txt\n",
        "1111.2532_trunc.txt"
       ]
      },
      {
       "output_type": "stream",
       "stream": "stdout",
       "text": [
        "\n",
        "1511.03592_trunc.txt\n",
        "1105.0770_trunc.txt\n",
        "1411.7346_trunc.txt\n",
        "1211.2264_trunc.txt"
       ]
      },
      {
       "output_type": "stream",
       "stream": "stdout",
       "text": [
        "\n",
        "1310.4164_trunc.txt\n",
        "1206.6367_trunc.txt\n",
        "1304.1733_trunc.txt\n",
        "1410.1448_trunc.txt"
       ]
      },
      {
       "output_type": "stream",
       "stream": "stdout",
       "text": [
        "\n",
        "1207.0242_trunc.txt\n",
        "1103.5381_trunc.txt\n",
        "1404.1256_trunc.txt\n",
        "1311.1899_trunc.txt"
       ]
      },
      {
       "output_type": "stream",
       "stream": "stdout",
       "text": [
        "\n",
        "1310.7643_trunc.txt\n",
        "1205.5473_trunc.txt\n",
        "1303.0458_trunc.txt\n",
        "1401.4827_trunc.txt"
       ]
      },
      {
       "output_type": "stream",
       "stream": "stdout",
       "text": [
        "\n",
        "1401.1674_trunc.txt\n",
        "1109.0392_trunc.txt\n",
        "1401.5272_trunc.txt\n",
        "1511.02705_trunc.txt"
       ]
      },
      {
       "output_type": "stream",
       "stream": "stdout",
       "text": [
        "\n",
        "1111.0641_trunc.txt\n",
        "1108.1510_trunc.txt\n",
        "1507.01296_trunc.txt\n",
        "1509.03938_trunc.txt"
       ]
      },
      {
       "output_type": "stream",
       "stream": "stdout",
       "text": [
        "\n",
        "1303.6349_trunc.txt\n",
        "1306.0818_trunc.txt\n",
        "1410.0112_trunc.txt\n",
        "1407.5241_trunc.txt"
       ]
      },
      {
       "output_type": "stream",
       "stream": "stdout",
       "text": [
        "\n",
        "1312.5442_trunc.txt\n",
        "1503.08060_trunc.txt\n",
        "1502.04985_trunc.txt\n",
        "1201.6611_trunc.txt"
       ]
      },
      {
       "output_type": "stream",
       "stream": "stdout",
       "text": [
        "\n",
        "1211.0808_trunc.txt\n",
        "1308.5343_trunc.txt\n",
        "1403.1922_trunc.txt\n",
        "1107.3442_trunc.txt"
       ]
      },
      {
       "output_type": "stream",
       "stream": "stdout",
       "text": [
        "\n",
        "1410.1000_trunc.txt\n",
        "1311.5832_trunc.txt\n",
        "1510.07153_trunc.txt\n",
        "1202.3482_trunc.txt"
       ]
      },
      {
       "output_type": "stream",
       "stream": "stdout",
       "text": [
        "\n",
        "1503.04304_trunc.txt\n",
        "1409.0727_trunc.txt\n",
        "1410.4029_trunc.txt\n",
        "1312.3625_trunc.txt"
       ]
      },
      {
       "output_type": "stream",
       "stream": "stdout",
       "text": [
        "\n",
        "1502.06338_trunc.txt\n",
        "1506.01833_trunc.txt\n",
        "1310.0807_trunc.txt"
       ]
      },
      {
       "output_type": "stream",
       "stream": "stdout",
       "text": [
        "\n",
        "1406.1568_trunc.txt\n",
        "1312.0020_trunc.txt\n",
        "1504.07054_trunc.txt\n",
        "1311.2645_trunc.txt"
       ]
      },
      {
       "output_type": "stream",
       "stream": "stdout",
       "text": [
        "\n",
        "1312.2050_trunc.txt\n",
        "1108.6032_trunc.txt\n",
        "1412.4912_trunc.txt\n",
        "1106.5241_trunc.txt"
       ]
      },
      {
       "output_type": "stream",
       "stream": "stdout",
       "text": [
        "\n",
        "1111.2546_trunc.txt\n",
        "1206.5761_trunc.txt\n",
        "1509.08892_trunc.txt\n",
        "1407.0067_trunc.txt"
       ]
      },
      {
       "output_type": "stream",
       "stream": "stdout",
       "text": [
        "\n",
        "1212.6232_trunc.txt\n",
        "1304.6627_trunc.txt\n",
        "1408.2951_trunc.txt\n",
        "1211.0130_trunc.txt"
       ]
      },
      {
       "output_type": "stream",
       "stream": "stdout",
       "text": [
        "\n",
        "1110.1265_trunc.txt\n",
        "1507.07357_trunc.txt\n",
        "1207.2064_trunc.txt\n",
        "1308.0642_trunc.txt"
       ]
      },
      {
       "output_type": "stream",
       "stream": "stdout",
       "text": [
        "\n",
        "1509.04632_trunc.txt\n",
        "1502.02501_trunc.txt\n",
        "1112.3055_trunc.txt\n",
        "1505.06101_trunc.txt"
       ]
      },
      {
       "output_type": "stream",
       "stream": "stdout",
       "text": [
        "\n",
        "1511.04144_trunc.txt\n",
        "1305.3671_trunc.txt\n",
        "1202.4198_trunc.txt\n",
        "1411.0288_trunc.txt"
       ]
      },
      {
       "output_type": "stream",
       "stream": "stdout",
       "text": [
        "\n",
        "1401.7001_trunc.txt\n",
        "1210.0103_trunc.txt\n",
        "1410.4097_trunc.txt\n",
        "1410.7605_trunc.txt"
       ]
      },
      {
       "output_type": "stream",
       "stream": "stdout",
       "text": [
        "\n",
        "1211.2664_trunc.txt\n",
        "1501.00049_trunc.txt\n",
        "1502.06952_trunc.txt\n",
        "1311.0072_trunc.txt"
       ]
      },
      {
       "output_type": "stream",
       "stream": "stdout",
       "text": [
        "\n",
        "1411.7650_trunc.txt\n",
        "1505.05461_trunc.txt\n",
        "1406.7698_trunc.txt\n",
        "1108.1498_trunc.txt"
       ]
      },
      {
       "output_type": "stream",
       "stream": "stdout",
       "text": [
        "\n",
        "1108.1536_trunc.txt\n",
        "1408.3768_trunc.txt\n",
        "1509.05720_trunc.txt\n",
        "1509.05569_trunc.txt"
       ]
      },
      {
       "output_type": "stream",
       "stream": "stdout",
       "text": [
        "\n",
        "1210.3851_trunc.txt\n",
        "1301.6921_trunc.txt\n",
        "1411.6622_trunc.txt\n",
        "1107.1638_trunc.txt"
       ]
      },
      {
       "output_type": "stream",
       "stream": "stdout",
       "text": [
        "\n",
        "1412.2821_trunc.txt\n",
        "1110.1228_trunc.txt\n",
        "1105.6027_trunc.txt\n",
        "56.9138920307\n"
       ]
      }
     ],
     "prompt_number": 36
    },
    {
     "cell_type": "code",
     "collapsed": false,
     "input": [
      "arxiv_wordsindoc = {}\n",
      "fp = None\n",
      "txt = ''\n",
      "tokens = []\n",
      "tokenizer = RegexpTokenizer(ur'\\w+')\n",
      "\n",
      "for f in articles:\n",
      "    # import text\n",
      "    fp = codecs.open(path_arxiv+f, 'r', \"utf-8\", errors=\"ignore\")\n",
      "    txt = fp.read()\n",
      "    \n",
      "    tokens = tokenizer.tokenize(txt)\n",
      "    \n",
      "    arxiv_wordsindoc[f] = len(tokens)\n",
      "    #print(f)"
     ],
     "language": "python",
     "metadata": {},
     "outputs": [],
     "prompt_number": 8
    },
    {
     "cell_type": "code",
     "collapsed": false,
     "input": [
      "compare = pickle.load(open('../clean/test_data_objects/arxiv_wordsindoc.p', 'r'))\n",
      "compare == arxiv_wordsindoc\n",
      "                         \n",
      "                         "
     ],
     "language": "python",
     "metadata": {},
     "outputs": [
      {
       "metadata": {},
       "output_type": "pyout",
       "prompt_number": 9,
       "text": [
        "True"
       ]
      }
     ],
     "prompt_number": 9
    },
    {
     "cell_type": "code",
     "collapsed": false,
     "input": [
      "#pickle.dump(arxiv_sep_byfile, open('./data_objects/arxiv_sep_byfile.p', 'w'))\n",
      "#pickle.dump(arxiv_wordsindoc, open('./data_objects/arxiv_wordsindoc.p', 'w'))\n",
      "#pickle.dump(arxiv_sep_byword, open('./data_objects/arxiv_sep_byword.p', 'w'))"
     ],
     "language": "python",
     "metadata": {},
     "outputs": [],
     "prompt_number": 47
    },
    {
     "cell_type": "code",
     "collapsed": false,
     "input": [
      "# let's find the number of documents that each word occurs in\n",
      "arxiv_sep_byword = {}\n",
      "\n",
      "# initialize dictionary\n",
      "for word in concepts:\n",
      "    arxiv_sep_byword[word] = 0\n",
      "\n",
      "for f in arxiv_sep_byfile:\n",
      "    for word in arxiv_sep_byfile[f]:\n",
      "        arxiv_sep_byword[word] += 1\n",
      "    "
     ],
     "language": "python",
     "metadata": {},
     "outputs": [],
     "prompt_number": 3
    },
    {
     "cell_type": "code",
     "collapsed": false,
     "input": [
      "arxiv_sep_byfile[articles[1]]"
     ],
     "language": "python",
     "metadata": {},
     "outputs": [
      {
       "metadata": {},
       "output_type": "pyout",
       "prompt_number": 5,
       "text": [
        "{'conditional variance': 1,\n",
        " 'continuous-time stochastic process': 1,\n",
        " 'estimator': 2,\n",
        " 'graphical model': 1,\n",
        " 'least squares': 1,\n",
        " 'linear model': 1,\n",
        " 'maximum likelihood': 1,\n",
        " 'probability': 3,\n",
        " 'stochastic': 5,\n",
        " 'stochastic differential equation': 3,\n",
        " 'stochastic process': 1,\n",
        " 'variance': 1,\n",
        " 'white noise': 1}"
       ]
      }
     ],
     "prompt_number": 5
    }
   ],
   "metadata": {}
  }
 ]
}