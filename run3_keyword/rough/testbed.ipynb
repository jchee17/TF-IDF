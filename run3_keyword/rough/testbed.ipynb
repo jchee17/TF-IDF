{
 "metadata": {
  "name": ""
 },
 "nbformat": 3,
 "nbformat_minor": 0,
 "worksheets": [
  {
   "cells": [
    {
     "cell_type": "code",
     "collapsed": false,
     "input": [
      "import os\n",
      "import re\n",
      "import codecs\n",
      "import timeit\n",
      "import string\n",
      "import pickle\n",
      "from nltk.tokenize import RegexpTokenizer\n",
      "\n",
      "path_arxiv = '/home/jerry/Data/Hopper_Project/ptm_data/arxiv_processed_trunc/'\n",
      "articles = os.listdir(path_arxiv)\n",
      "\n",
      "concepts = pickle.load(open('./data_objects/u_master-concepts.p', 'r'))\n",
      "\n",
      "#arxiv_sep_byfile = pickle.load(open('./data_objects/arxiv_sep_byfile.p' ,'r'))\n",
      "#arxiv_wordsindoc = pickle.load(open('./data_objects/arxiv_wordsindoc.p', 'r'))"
     ],
     "language": "python",
     "metadata": {},
     "outputs": [],
     "prompt_number": 1
    },
    {
     "cell_type": "code",
     "collapsed": false,
     "input": [
      "def create_regex(keyword):\n",
      "    re_keyword = ur''\n",
      "    re_keyword = re.sub(ur\"[\u2013]\", u\"[- \u2013]\", keyword)\n",
      "    #re_keyword = ur'\\b' + re.sub(ur'[-\\\u2013 ]', ur'[-\\\u2013 ]', re.escape(keyword)) + ur'\\b'\n",
      "    #re_concepts[keyword.lower()] = re_keyword.lower()\n",
      "    return(re_keyword)"
     ],
     "language": "python",
     "metadata": {},
     "outputs": [],
     "prompt_number": 36
    },
    {
     "cell_type": "code",
     "collapsed": false,
     "input": [
      "k = re.escape(u'apple pear')\n",
      "print(k)\n",
      "\n",
      "r = create_regex(u'apple pear')\n",
      "print(r)"
     ],
     "language": "python",
     "metadata": {},
     "outputs": [
      {
       "output_type": "stream",
       "stream": "stdout",
       "text": [
        "apple\\ pear\n",
        "apple pear\n"
       ]
      }
     ],
     "prompt_number": 41
    },
    {
     "cell_type": "code",
     "collapsed": false,
     "input": [
      "txt = u'apsodjkf oiwjerlskjdf paowielkjsdf oiwjer apple pear'"
     ],
     "language": "python",
     "metadata": {},
     "outputs": [],
     "prompt_number": 42
    },
    {
     "cell_type": "code",
     "collapsed": false,
     "input": [
      "re.findall(r, txt, re.UNICODE)"
     ],
     "language": "python",
     "metadata": {},
     "outputs": [
      {
       "metadata": {},
       "output_type": "pyout",
       "prompt_number": 43,
       "text": [
        "[u'apple pear']"
       ]
      }
     ],
     "prompt_number": 43
    },
    {
     "cell_type": "code",
     "collapsed": false,
     "input": [
      "print(re.escape('apple pear'))"
     ],
     "language": "python",
     "metadata": {},
     "outputs": [
      {
       "output_type": "stream",
       "stream": "stdout",
       "text": [
        "apple\\ pear\n"
       ]
      }
     ],
     "prompt_number": 45
    }
   ],
   "metadata": {}
  }
 ]
}