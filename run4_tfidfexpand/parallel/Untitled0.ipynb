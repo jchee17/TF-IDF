{
 "metadata": {
  "name": ""
 },
 "nbformat": 3,
 "nbformat_minor": 0,
 "worksheets": [
  {
   "cells": [
    {
     "cell_type": "markdown",
     "metadata": {},
     "source": [
      "http://chriskiehl.com/article/parallelism-in-one-line/\n",
      "\n",
      "http://toastdriven.com/blog/2008/nov/11/brief-introduction-multiprocessing/\n",
      "\n",
      "http://stackoverflow.com/questions/15414027/multiprocessing-pool-makes-numpy-matrix-multiplication-slower\n"
     ]
    }
   ],
   "metadata": {}
  }
 ]
}