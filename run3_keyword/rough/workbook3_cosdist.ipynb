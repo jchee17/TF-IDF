{
 "metadata": {
  "name": ""
 },
 "nbformat": 3,
 "nbformat_minor": 0,
 "worksheets": [
  {
   "cells": [
    {
     "cell_type": "code",
     "collapsed": false,
     "input": [
      "import math\n",
      "import pickle\n",
      "from __future__ import division\n",
      "\n",
      "# magnitude of a list of numbers\n",
      "def magnitude(v):\n",
      "    return math.sqrt(sum(i*i for i in v))\n",
      "\n",
      "# normalizes a list of numbers\n",
      "def normalize(v):\n",
      "    vmag = magnitude(v)\n",
      "    if vmag == 0:\n",
      "        print(\"vmag is zero\")\n",
      "        return 0\n",
      "    else:\n",
      "        return [ i/vmag for i in v ]\n",
      "\n",
      "# dot product of two list of numbers\n",
      "def dot_product(u,v):\n",
      "    return sum(u[i]*v[i] for i in range(len(u)))\n",
      "\n",
      "# normalize the tf-idf vectors in a dict\n",
      "def normalize_dict(dictionary, path_save):\n",
      "    norm = []\n",
      "    dict_norm = {}\n",
      "    \n",
      "    for f, val in dictionary.iteritems():\n",
      "        norm = normalize(val)\n",
      "        dict_norm[f] = norm\n",
      "        \n",
      "    #pickle.dump(dict_norm, open(path_save+dict_norm+\"_norm.p\", 'w'))\n",
      "    return dict_norm\n",
      "\n",
      "# compute cosine distances between two corpuses\n",
      "def cosine_distance(dict_concepts, dict_articles, path_save):\n",
      "    cos_dist = {}\n",
      "    \n",
      "    for f, f_val in dict_articles.iteritems():\n",
      "        cos_dist[f] = {keyword:dot_product(keyword_val, f_val)\n",
      "                       for keyword, keyword_val \n",
      "                       in dict_concepts.iteritems()}\n",
      "        \n",
      "    #pickle.dump(cos_dist, open(path_save+cos_dist+'.p', 'w'))\n",
      "    return cos_dist\n",
      "\n",
      "\n"
     ],
     "language": "python",
     "metadata": {},
     "outputs": []
    }
   ],
   "metadata": {}
  }
 ]
}