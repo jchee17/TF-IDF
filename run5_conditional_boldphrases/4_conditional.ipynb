{
 "metadata": {
  "name": ""
 },
 "nbformat": 3,
 "nbformat_minor": 0,
 "worksheets": [
  {
   "cells": [
    {
     "cell_type": "code",
     "collapsed": false,
     "input": [
      "def compute_conditional_cos(cos_dist, doc_term_articles, title_concepts):\n",
      "    \"\"\" sets cos_dist score to zero if title of a concept \n",
      "        not present in the article \"\"\"\n",
      "    num_docs = cos_dist.shape[0]\n",
      "    num_concepts = cos_dist.shape[1]\n",
      "    num_vocab = doc_term_articles.shape[1]\n",
      "    \n",
      "    cond_cos_dist = np.copy(cos_dist)\n",
      "    \n",
      "    titleIdx = 0\n",
      "    for j in range(num_concepts):\n",
      "        titleIdx = title_concept[j]\n",
      "        \n",
      "        for i in range(num_docs):\n",
      "            if doc_term_articles[i, titleIdx] == 0:\n",
      "                # set cond count to 0\n",
      "                cond_cos_dist[i,j] = 0\n",
      "        \n",
      "    return cond_cos_dist\n",
      "\n",
      "            "
     ],
     "language": "python",
     "metadata": {},
     "outputs": [],
     "prompt_number": 1
    }
   ],
   "metadata": {}
  }
 ]
}