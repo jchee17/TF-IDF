{
 "metadata": {
  "name": ""
 },
 "nbformat": 3,
 "nbformat_minor": 0,
 "worksheets": [
  {
   "cells": [
    {
     "cell_type": "code",
     "collapsed": false,
     "input": [
      "import os\n",
      "import random\n",
      "import pickle\n",
      "import math\n",
      "import re\n",
      "import webbrowser\n",
      "\n",
      "# load pickled items\n",
      "doc_comparisons = pickle.load(open('./data_objects/doc_comparisons.p', 'r'))\n",
      "doc_comparisons_old = pickle.load(open('../testing/doc_comparisons.p', 'r'))"
     ],
     "language": "python",
     "metadata": {},
     "outputs": [],
     "prompt_number": 12
    },
    {
     "cell_type": "code",
     "collapsed": false,
     "input": [
      "# matrix to hold differences in vectors\n",
      "difference = {}\n",
      "dc = 0\n",
      "dc_old = 0\n",
      "\n",
      "# lets compare the dictionaries\n",
      "# find the common articles\n",
      "for f in doc_comparisons:\n",
      "    if (f in doc_comparisons_old.keys()):\n",
      "        #difference[f] = 0\n",
      "        print(f)\n",
      "        #for key in doc_comparisons[f]:\n",
      "        #    dc = doc_comparisons[f][key]\n",
      "        #    dc_old = doc_comparisons_old[f][key]\n",
      "        #    difference[f] += math.fabs(dc - dc_old)"
     ],
     "language": "python",
     "metadata": {},
     "outputs": [
      {
       "output_type": "stream",
       "stream": "stdout",
       "text": [
        "1206.6927_trunc.txt\n",
        "1406.0345_trunc.txt\n",
        "1412.4182_trunc.txt\n",
        "1505.02913_trunc.txt\n",
        "1404.0646_trunc.txt\n",
        "1403.5113_trunc.txt\n",
        "1407.1114_trunc.txt\n",
        "1504.03796_trunc.txt\n",
        "1411.1469_trunc.txt\n",
        "1405.6655_trunc.txt\n",
        "1105.1697_trunc.txt\n",
        "1211.2630_trunc.txt\n",
        "1305.0539_trunc.txt\n",
        "1107.2353_trunc.txt\n",
        "1307.3369_trunc.txt\n",
        "1210.6950_trunc.txt\n",
        "1105.2135_trunc.txt\n",
        "1202.0786_trunc.txt\n",
        "1204.4677_trunc.txt\n",
        "1508.05476_trunc.txt\n",
        "1311.0562_trunc.txt\n",
        "1407.3939_trunc.txt\n",
        "1306.1493_trunc.txt\n",
        "1503.03879_trunc.txt\n",
        "1207.6313_trunc.txt\n",
        "1403.0735_trunc.txt\n",
        "1211.3224_trunc.txt\n",
        "1105.0014_trunc.txt\n",
        "1502.00560_trunc.txt\n",
        "1303.1288_trunc.txt\n"
       ]
      }
     ],
     "prompt_number": 14
    },
    {
     "cell_type": "code",
     "collapsed": false,
     "input": [
      "# function to take in a arxiv paper name and output the top k wiki concepts\n",
      "\n",
      "def relevant_concepts(arxiv_doc, doc_comparisons, k):\n",
      "    print(\"\\nTop concepts in document {}:\".format(arxiv_doc))\n",
      "    \n",
      "    # check if arxiv_doc in doc_comparsions\n",
      "    if arxiv_doc in doc_comparisons.keys(): \n",
      "        scores = doc_comparisons[arxiv_doc]\n",
      "        sorted_words = sorted(scores.items(), key=lambda x : x[1], reverse = True)\n",
      "        for concept, score in sorted_words[:k]:\n",
      "            print(\"\\tConcept: {}, cosine sim: {}\".format(concept, round(score, 5)))\n",
      "    \n",
      "    else:\n",
      "        print(\"\\tError: input doc not in doc_comparisons\")\n",
      "        \n",
      "def show_doc_text(arxiv_doc):\n",
      "    f = open('/home/jerry/Data/Hopper_Project/ptm_data/arxiv_processed_trunc/' + arxiv_doc, 'r')\n",
      "    text = f.read()\n",
      "    f.close()\n",
      "    print('\\n' + 'Title: ' + arxiv_doc + '\\n\\n' + text)\n",
      "\n",
      "def show_doc_pdf(arxiv_doc):\n",
      "    # first get the article id from string input\n",
      "    id_string = re.sub('\\_trunc.txt', '', arxiv_doc)\n",
      "    webbrowser.open('http://arxiv.org/abs/' + id_string)\n",
      "    #webbrowser.open('http://arxiv.org/pdf/' + id_string + '.pdf')"
     ],
     "language": "python",
     "metadata": {},
     "outputs": [],
     "prompt_number": 17
    },
    {
     "cell_type": "code",
     "collapsed": false,
     "input": [
      "relevant_concepts('1412.4182_trunc.txt', doc_comparisons, 5)"
     ],
     "language": "python",
     "metadata": {},
     "outputs": [
      {
       "output_type": "stream",
       "stream": "stdout",
       "text": [
        "\n",
        "Top concepts in document 1412.4182_trunc.txt:\n",
        "\tConcept: bayesian_inference.txt, cosine sim: 0.17812\n",
        "\tConcept: design_of_experiments.txt, cosine sim: 0.17646\n",
        "\tConcept: statistical_model.txt, cosine sim: 0.14174\n",
        "\tConcept: loss_function.txt, cosine sim: 0.13347\n",
        "\tConcept: statistical_inference.txt, cosine sim: 0.13219\n"
       ]
      }
     ],
     "prompt_number": 20
    },
    {
     "cell_type": "code",
     "collapsed": false,
     "input": [
      "relevant_concepts('1412.4182_trunc.txt', doc_comparisons_old, 5)"
     ],
     "language": "python",
     "metadata": {},
     "outputs": [
      {
       "output_type": "stream",
       "stream": "stdout",
       "text": [
        "\n",
        "Top concepts in document 1412.4182_trunc.txt:\n",
        "\tConcept: loss_function.txt, cosine sim: 0.1548\n",
        "\tConcept: mathematical_statistics.txt, cosine sim: 0.11095\n",
        "\tConcept: design_of_experiments.txt, cosine sim: 0.1069\n",
        "\tConcept: maximum_a_posteriori_estimation.txt, cosine sim: 0.10155\n",
        "\tConcept: bayesian_inference.txt, cosine sim: 0.10038\n"
       ]
      }
     ],
     "prompt_number": 21
    }
   ],
   "metadata": {}
  }
 ]
}