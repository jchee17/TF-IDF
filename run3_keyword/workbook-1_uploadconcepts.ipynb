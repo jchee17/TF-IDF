{
 "metadata": {
  "name": ""
 },
 "nbformat": 3,
 "nbformat_minor": 0,
 "worksheets": [
  {
   "cells": [
    {
     "cell_type": "markdown",
     "metadata": {},
     "source": [
      "upload the new concept lists that matt's given me. "
     ]
    },
    {
     "cell_type": "code",
     "collapsed": false,
     "input": [
      "import pickle\n",
      "# take in each concept list and save as a python list, \n",
      "# converting to lower case\n",
      "\n",
      "# read in concepts \n",
      "# IMPORTANT: NEVER modify a list as you're iteration\n",
      "# over it!!!\n",
      "\n",
      "\n",
      "def concept_list(concept_name):\n",
      "    concept_file = open(\"./concepts/\"+concept_name, \"r\")\n",
      "    concepts = concept_file.readlines()\n",
      "    concepts_cp = list(concepts)\n",
      "    tmp_str = \"\"\n",
      "\n",
      "    for word in concepts_cp:\n",
      "        tmp_str = word\n",
      "        tmp_str = tmp_str.strip(\"\\n\")\n",
      "        tmp_str = tmp_str.lower()\n",
      "    \n",
      "        concepts.remove(word)\n",
      "        concepts.append(tmp_str)\n",
      "        \n",
      "    #return concepts\n",
      "    \n",
      "    pickle.dump(concepts, open('./data_objects/'+concept_name+'.p', 'w'))\n",
      "    "
     ],
     "language": "python",
     "metadata": {},
     "outputs": [],
     "prompt_number": 11
    },
    {
     "cell_type": "code",
     "collapsed": false,
     "input": [
      "numberTheory_concepts = concept_list(\"numberTheory-concepts\")\n",
      "opt_concepts = concept_list(\"opt-concepts\")\n",
      "prob_concepts = concept_list(\"prob-concepts\")\n",
      "stat_concepts = concept_list(\"stat-concepts\")"
     ],
     "language": "python",
     "metadata": {},
     "outputs": [],
     "prompt_number": 4
    },
    {
     "cell_type": "code",
     "collapsed": false,
     "input": [
      "concept_list(\"numberTheory-concepts\")\n",
      "concept_list(\"opt-concepts\")\n",
      "concept_list(\"prob-concepts\")\n",
      "concept_list(\"stat-concepts\")"
     ],
     "language": "python",
     "metadata": {},
     "outputs": [],
     "prompt_number": 12
    }
   ],
   "metadata": {}
  }
 ]
}