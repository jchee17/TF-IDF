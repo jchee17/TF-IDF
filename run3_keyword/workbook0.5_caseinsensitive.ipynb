{
 "metadata": {
  "name": ""
 },
 "nbformat": 3,
 "nbformat_minor": 0,
 "worksheets": [
  {
   "cells": [
    {
     "cell_type": "markdown",
     "metadata": {},
     "source": [
      "Re-do tf-idf scores, this time case insensitive using python default string"
     ]
    },
    {
     "cell_type": "code",
     "collapsed": false,
     "input": [
      "import os\n",
      "import re\n",
      "import timeit\n",
      "import string\n",
      "import pickle\n",
      "from nltk.tokenize import RegexpTokenizer\n",
      "\n",
      "path_arxiv = '/home/jerry/Data/Hopper_Project/ptm_data/arxiv_processed_trunc/'\n",
      "articles = os.listdir(path_arxiv)\n",
      "\n",
      "#concepts = pickle.load(open('./data_objects/concepts.p', 'r'))\n",
      "\n",
      "#arxiv_sep_byfile = pickle.load(open('./data_objects/arxiv_sep_byfile.p' ,'r'))\n",
      "#arxiv_wordsindoc = pickle.load(open('./data_objects/arxiv_wordsindoc.p', 'r'))"
     ],
     "language": "python",
     "metadata": {},
     "outputs": [],
     "prompt_number": 2
    },
    {
     "cell_type": "code",
     "collapsed": false,
     "input": [
      "numTh = pickle.load(open('./data_objects/numberTheory-concepts.p' ,'r'))\n",
      "opt = pickle.load(open('./data_objects/opt-concepts.p', 'r'))\n",
      "prob = pickle.load(open('./data_objects/prob-concepts.p', 'r'))\n",
      "stat = pickle.load(open('./data_objects/stat-concepts.p', 'r'))\n",
      "\n",
      "concepts = numTh + opt + prob + stat\n",
      "\n",
      "# remove '' from concepts\n",
      "while '' in concepts:\n",
      "    concepts.remove('')\n",
      "\n",
      "pickle.dump(concepts, open('./data_objects/master-concepts.p', 'w'))"
     ],
     "language": "python",
     "metadata": {},
     "outputs": [],
     "prompt_number": 24
    },
    {
     "cell_type": "code",
     "collapsed": false,
     "input": [
      "fp = None\n",
      "txt = ''\n",
      "arxiv_sep_byfile = {}\n",
      "\n",
      "start_time = timeit.default_timer()\n",
      "\n",
      "for f in articles:\n",
      "    # import text\n",
      "    fp = open(path_arxiv+f, 'r')\n",
      "    txt = fp.read()\n",
      "    txt = txt.lower()\n",
      "    \n",
      "    # create sub dictionary\n",
      "    arxiv_sep_byfile[f] = {}\n",
      "    \n",
      "    for word in concepts:\n",
      "        if word in txt:\n",
      "            arxiv_sep_byfile[f][word] = txt.count(word)\n",
      "            \n",
      "    print(f)\n",
      "\n",
      "elapsed = timeit.default_timer() - start_time\n",
      "print(elapsed)"
     ],
     "language": "python",
     "metadata": {},
     "outputs": [
      {
       "output_type": "stream",
       "stream": "stdout",
       "text": [
        "1309.4864_trunc.txt\n",
        "1405.1595_trunc.txt\n",
        "1206.5862_trunc.txt\n",
        "1304.4304_trunc.txt"
       ]
      },
      {
       "output_type": "stream",
       "stream": "stdout",
       "text": [
        "\n",
        "1212.5156_trunc.txt\n",
        "1509.00130_trunc.txt\n",
        "1506.08155_trunc.txt"
       ]
      },
      {
       "output_type": "stream",
       "stream": "stdout",
       "text": [
        "\n",
        "1207.6745_trunc.txt\n",
        "1401.0062_trunc.txt\n",
        "1406.6638_trunc.txt"
       ]
      },
      {
       "output_type": "stream",
       "stream": "stdout",
       "text": [
        "\n",
        "1404.4002_trunc.txt\n",
        "1304.0593_trunc.txt\n",
        "1409.6779_trunc.txt"
       ]
      },
      {
       "output_type": "stream",
       "stream": "stdout",
       "text": [
        "\n",
        "1305.1385_trunc.txt\n",
        "1501.00208_trunc.txt\n",
        "1211.4221_trunc.txt"
       ]
      },
      {
       "output_type": "stream",
       "stream": "stdout",
       "text": [
        "\n",
        "1305.5198_trunc.txt\n",
        "1305.1648_trunc.txt\n",
        "1209.1156_trunc.txt"
       ]
      },
      {
       "output_type": "stream",
       "stream": "stdout",
       "text": [
        "\n",
        "1403.7889_trunc.txt\n",
        "1507.01296_trunc.txt\n",
        "1405.7728_trunc.txt"
       ]
      },
      {
       "output_type": "stream",
       "stream": "stdout",
       "text": [
        "\n",
        "1309.5413_trunc.txt\n",
        "1206.0613_trunc.txt\n",
        "1506.08450_trunc.txt"
       ]
      },
      {
       "output_type": "stream",
       "stream": "stdout",
       "text": [
        "\n",
        "1506.07722_trunc.txt\n",
        "1211.3301_trunc.txt\n",
        "1311.0562_trunc.txt"
       ]
      },
      {
       "output_type": "stream",
       "stream": "stdout",
       "text": [
        "\n",
        "1306.1754_trunc.txt\n",
        "1206.5687_trunc.txt\n",
        "1105.1976_trunc.txt"
       ]
      },
      {
       "output_type": "stream",
       "stream": "stdout",
       "text": [
        "\n",
        "1310.5743_trunc.txt\n",
        "1508.02043_trunc.txt\n",
        "1211.2763_trunc.txt"
       ]
      },
      {
       "output_type": "stream",
       "stream": "stdout",
       "text": [
        "\n",
        "1401.5408_trunc.txt\n",
        "1309.7503_trunc.txt\n",
        "1304.5113_trunc.txt"
       ]
      },
      {
       "output_type": "stream",
       "stream": "stdout",
       "text": [
        "\n",
        "1206.1401_trunc.txt\n",
        "1511.01975_trunc.txt\n",
        "1503.06910_trunc.txt"
       ]
      },
      {
       "output_type": "stream",
       "stream": "stdout",
       "text": [
        "\n",
        "1408.2581_trunc.txt\n",
        "1201.2014_trunc.txt\n",
        "1502.06338_trunc.txt"
       ]
      },
      {
       "output_type": "stream",
       "stream": "stdout",
       "text": [
        "\n",
        "1507.07495_trunc.txt\n",
        "1311.3768_trunc.txt\n",
        "1504.02267_trunc.txt"
       ]
      },
      {
       "output_type": "stream",
       "stream": "stdout",
       "text": [
        "\n",
        "1403.2085_trunc.txt\n",
        "1412.4857_trunc.txt\n",
        "1312.3378_trunc.txt"
       ]
      },
      {
       "output_type": "stream",
       "stream": "stdout",
       "text": [
        "\n",
        "1303.4121_trunc.txt\n",
        "1406.4543_trunc.txt\n",
        "1405.4270_trunc.txt"
       ]
      },
      {
       "output_type": "stream",
       "stream": "stdout",
       "text": [
        "\n",
        "1407.1751_trunc.txt\n",
        "1505.00991_trunc.txt\n",
        "1109.4699_trunc.txt"
       ]
      },
      {
       "output_type": "stream",
       "stream": "stdout",
       "text": [
        "\n",
        "1401.1397_trunc.txt\n",
        "1206.0068_trunc.txt\n",
        "1108.3112_trunc.txt"
       ]
      },
      {
       "output_type": "stream",
       "stream": "stdout",
       "text": [
        "\n",
        "1408.3525_trunc.txt\n",
        "1405.0928_trunc.txt\n",
        "1511.04125_trunc.txt"
       ]
      },
      {
       "output_type": "stream",
       "stream": "stdout",
       "text": [
        "\n",
        "1409.8542_trunc.txt\n",
        "1410.4097_trunc.txt\n",
        "1508.00936_trunc.txt"
       ]
      },
      {
       "output_type": "stream",
       "stream": "stdout",
       "text": [
        "\n",
        "1511.00507_trunc.txt\n",
        "1304.0217_trunc.txt\n",
        "1209.5240_trunc.txt"
       ]
      },
      {
       "output_type": "stream",
       "stream": "stdout",
       "text": [
        "\n",
        "1508.02449_trunc.txt\n",
        "1304.3378_trunc.txt\n",
        "1112.5634_trunc.txt"
       ]
      },
      {
       "output_type": "stream",
       "stream": "stdout",
       "text": [
        "\n",
        "1210.0312_trunc.txt\n",
        "1105.2879_trunc.txt\n",
        "1308.3602_trunc.txt"
       ]
      },
      {
       "output_type": "stream",
       "stream": "stdout",
       "text": [
        "\n",
        "1201.3239_trunc.txt\n",
        "1212.2562_trunc.txt\n",
        "1505.03018_trunc.txt"
       ]
      },
      {
       "output_type": "stream",
       "stream": "stdout",
       "text": [
        "\n",
        "1109.1517_trunc.txt\n",
        "1305.0179_trunc.txt\n",
        "1408.5604_trunc.txt"
       ]
      },
      {
       "output_type": "stream",
       "stream": "stdout",
       "text": [
        "\n",
        "1502.04985_trunc.txt\n",
        "1507.05366_trunc.txt\n",
        "1507.01279_trunc.txt"
       ]
      },
      {
       "output_type": "stream",
       "stream": "stdout",
       "text": [
        "\n",
        "1401.7001_trunc.txt\n",
        "1306.5510_trunc.txt\n",
        "1405.7511_trunc.txt"
       ]
      },
      {
       "output_type": "stream",
       "stream": "stdout",
       "text": [
        "\n",
        "1210.7640_trunc.txt\n",
        "1403.3280_trunc.txt\n",
        "1506.02676_trunc.txt"
       ]
      },
      {
       "output_type": "stream",
       "stream": "stdout",
       "text": [
        "\n",
        "1509.06418_trunc.txt\n",
        "1404.1310_trunc.txt\n",
        "1410.5686_trunc.txt"
       ]
      },
      {
       "output_type": "stream",
       "stream": "stdout",
       "text": [
        "\n",
        "1412.0459_trunc.txt\n",
        "1312.1706_trunc.txt\n",
        "1510.05439_trunc.txt"
       ]
      },
      {
       "output_type": "stream",
       "stream": "stdout",
       "text": [
        "\n",
        "1406.6959_trunc.txt\n",
        "1310.4526_trunc.txt\n",
        "1407.1517_trunc.txt"
       ]
      },
      {
       "output_type": "stream",
       "stream": "stdout",
       "text": [
        "\n",
        "1311.0412_trunc.txt\n",
        "1105.3575_trunc.txt\n",
        "1201.1623_trunc.txt"
       ]
      },
      {
       "output_type": "stream",
       "stream": "stdout",
       "text": [
        "\n",
        "1407.6092_trunc.txt\n",
        "1505.02613_trunc.txt\n",
        "1412.7197_trunc.txt"
       ]
      },
      {
       "output_type": "stream",
       "stream": "stdout",
       "text": [
        "\n",
        "1207.7098_trunc.txt\n",
        "1402.2620_trunc.txt\n",
        "1510.05677_trunc.txt"
       ]
      },
      {
       "output_type": "stream",
       "stream": "stdout",
       "text": [
        "\n",
        "1208.5584_trunc.txt\n",
        "1104.5617_trunc.txt\n",
        "1309.5192_trunc.txt"
       ]
      },
      {
       "output_type": "stream",
       "stream": "stdout",
       "text": [
        "\n",
        "1506.01606_trunc.txt\n",
        "1310.6581_trunc.txt\n",
        "1211.5272_trunc.txt"
       ]
      },
      {
       "output_type": "stream",
       "stream": "stdout",
       "text": [
        "\n",
        "1408.2156_trunc.txt\n",
        "1205.2976_trunc.txt\n",
        "1407.8246_trunc.txt"
       ]
      },
      {
       "output_type": "stream",
       "stream": "stdout",
       "text": [
        "\n",
        "1310.0807_trunc.txt\n",
        "1410.6966_trunc.txt\n",
        "1503.07187_trunc.txt"
       ]
      },
      {
       "output_type": "stream",
       "stream": "stdout",
       "text": [
        "\n",
        "1506.02578_trunc.txt\n",
        "1212.6088_trunc.txt\n",
        "1301.5873_trunc.txt"
       ]
      },
      {
       "output_type": "stream",
       "stream": "stdout",
       "text": [
        "\n",
        "1406.0266_trunc.txt\n",
        "1111.1162_trunc.txt\n",
        "1503.05436_trunc.txt"
       ]
      },
      {
       "output_type": "stream",
       "stream": "stdout",
       "text": [
        "\n",
        "1202.4962_trunc.txt\n",
        "1509.08100_trunc.txt\n",
        "1210.0358_trunc.txt"
       ]
      },
      {
       "output_type": "stream",
       "stream": "stdout",
       "text": [
        "\n",
        "1509.02564_trunc.txt\n",
        "1211.5372_trunc.txt\n",
        "1106.3352_trunc.txt"
       ]
      },
      {
       "output_type": "stream",
       "stream": "stdout",
       "text": [
        "\n",
        "1205.0417_trunc.txt\n",
        "1405.6672_trunc.txt\n",
        "1104.1767_trunc.txt"
       ]
      },
      {
       "output_type": "stream",
       "stream": "stdout",
       "text": [
        "\n",
        "1211.5468_trunc.txt\n",
        "1303.3216_trunc.txt\n",
        "1208.1400_trunc.txt"
       ]
      },
      {
       "output_type": "stream",
       "stream": "stdout",
       "text": [
        "\n",
        "1406.6519_trunc.txt\n",
        "1405.2292_trunc.txt\n",
        "1501.03588_trunc.txt"
       ]
      },
      {
       "output_type": "stream",
       "stream": "stdout",
       "text": [
        "\n",
        "1105.6368_trunc.txt\n",
        "1110.0043_trunc.txt\n",
        "1211.0811_trunc.txt"
       ]
      },
      {
       "output_type": "stream",
       "stream": "stdout",
       "text": [
        "\n",
        "1406.1629_trunc.txt\n",
        "1111.2778_trunc.txt\n",
        "1312.7001_trunc.txt"
       ]
      },
      {
       "output_type": "stream",
       "stream": "stdout",
       "text": [
        "\n",
        "1406.4777_trunc.txt\n",
        "1412.0391_trunc.txt\n",
        "1505.06417_trunc.txt"
       ]
      },
      {
       "output_type": "stream",
       "stream": "stdout",
       "text": [
        "\n",
        "1310.8110_trunc.txt\n",
        "1309.7837_trunc.txt\n",
        "1406.5580_trunc.txt"
       ]
      },
      {
       "output_type": "stream",
       "stream": "stdout",
       "text": [
        "\n",
        "1205.7060_trunc.txt\n",
        "1402.2997_trunc.txt\n",
        "1408.0722_trunc.txt"
       ]
      },
      {
       "output_type": "stream",
       "stream": "stdout",
       "text": [
        "\n",
        "1110.0356_trunc.txt\n",
        "1412.2619_trunc.txt\n",
        "1410.8765_trunc.txt"
       ]
      },
      {
       "output_type": "stream",
       "stream": "stdout",
       "text": [
        "\n",
        "1510.08178_trunc.txt\n",
        "1404.7105_trunc.txt\n",
        "1309.7754_trunc.txt"
       ]
      },
      {
       "output_type": "stream",
       "stream": "stdout",
       "text": [
        "\n",
        "1209.0703_trunc.txt\n",
        "1411.3427_trunc.txt\n",
        "1507.04090_trunc.txt"
       ]
      },
      {
       "output_type": "stream",
       "stream": "stdout",
       "text": [
        "\n",
        "1402.0966_trunc.txt\n",
        "1207.5578_trunc.txt\n",
        "1505.01665_trunc.txt"
       ]
      },
      {
       "output_type": "stream",
       "stream": "stdout",
       "text": [
        "\n",
        "1305.2073_trunc.txt\n",
        "1412.8340_trunc.txt\n",
        "1504.02852_trunc.txt"
       ]
      },
      {
       "output_type": "stream",
       "stream": "stdout",
       "text": [
        "\n",
        "1107.4219_trunc.txt\n",
        "1208.5501_trunc.txt\n",
        "1504.08031_trunc.txt"
       ]
      },
      {
       "output_type": "stream",
       "stream": "stdout",
       "text": [
        "\n",
        "1401.0683_trunc.txt\n",
        "1303.0268_trunc.txt\n",
        "1504.06523_trunc.txt"
       ]
      },
      {
       "output_type": "stream",
       "stream": "stdout",
       "text": [
        "\n",
        "1401.2188_trunc.txt\n",
        "1311.4548_trunc.txt\n",
        "1509.07601_trunc.txt"
       ]
      },
      {
       "output_type": "stream",
       "stream": "stdout",
       "text": [
        "\n",
        "1509.02650_trunc.txt\n",
        "1302.0336_trunc.txt\n",
        "1502.05032_trunc.txt"
       ]
      },
      {
       "output_type": "stream",
       "stream": "stdout",
       "text": [
        "\n",
        "1303.5046_trunc.txt\n",
        "1406.6897_trunc.txt\n",
        "1401.3146_trunc.txt"
       ]
      },
      {
       "output_type": "stream",
       "stream": "stdout",
       "text": [
        "\n",
        "1510.04654_trunc.txt\n",
        "1112.0311_trunc.txt\n",
        "1406.2083_trunc.txt"
       ]
      },
      {
       "output_type": "stream",
       "stream": "stdout",
       "text": [
        "\n",
        "1210.3680_trunc.txt\n",
        "1403.5689_trunc.txt\n",
        "1511.03641_trunc.txt"
       ]
      },
      {
       "output_type": "stream",
       "stream": "stdout",
       "text": [
        "\n",
        "1404.5557_trunc.txt\n",
        "1211.6539_trunc.txt\n",
        "1210.4402_trunc.txt"
       ]
      },
      {
       "output_type": "stream",
       "stream": "stdout",
       "text": [
        "\n",
        "1509.02019_trunc.txt\n",
        "1507.03315_trunc.txt\n",
        "1301.6080_trunc.txt"
       ]
      },
      {
       "output_type": "stream",
       "stream": "stdout",
       "text": [
        "\n",
        "1407.4546_trunc.txt\n",
        "1104.2637_trunc.txt\n",
        "1112.0528_trunc.txt"
       ]
      },
      {
       "output_type": "stream",
       "stream": "stdout",
       "text": [
        "\n",
        "1407.0067_trunc.txt\n",
        "1403.7664_trunc.txt\n",
        "1502.01866_trunc.txt"
       ]
      },
      {
       "output_type": "stream",
       "stream": "stdout",
       "text": [
        "\n",
        "1310.2467_trunc.txt\n",
        "1407.3206_trunc.txt\n",
        "1303.6744_trunc.txt"
       ]
      },
      {
       "output_type": "stream",
       "stream": "stdout",
       "text": [
        "\n",
        "1210.7257_trunc.txt\n",
        "1409.2830_trunc.txt\n",
        "1509.05453_trunc.txt"
       ]
      },
      {
       "output_type": "stream",
       "stream": "stdout",
       "text": [
        "\n",
        "1111.1876_trunc.txt\n",
        "1403.3671_trunc.txt\n",
        "1508.02758_trunc.txt"
       ]
      },
      {
       "output_type": "stream",
       "stream": "stdout",
       "text": [
        "\n",
        "1412.6185_trunc.txt\n",
        "1306.5806_trunc.txt\n",
        "1403.1922_trunc.txt"
       ]
      },
      {
       "output_type": "stream",
       "stream": "stdout",
       "text": [
        "\n",
        "1504.04814_trunc.txt\n",
        "1509.01708_trunc.txt\n",
        "1504.00476_trunc.txt"
       ]
      },
      {
       "output_type": "stream",
       "stream": "stdout",
       "text": [
        "\n",
        "1406.6419_trunc.txt\n",
        "1104.0338_trunc.txt\n",
        "1211.3434_trunc.txt"
       ]
      },
      {
       "output_type": "stream",
       "stream": "stdout",
       "text": [
        "\n",
        "1303.3118_trunc.txt\n",
        "1108.3552_trunc.txt\n",
        "1405.6798_trunc.txt"
       ]
      },
      {
       "output_type": "stream",
       "stream": "stdout",
       "text": [
        "\n",
        "1305.0539_trunc.txt\n",
        "1308.1359_trunc.txt\n",
        "1308.6306_trunc.txt"
       ]
      },
      {
       "output_type": "stream",
       "stream": "stdout",
       "text": [
        "\n",
        "1511.00860_trunc.txt\n",
        "1506.01338_trunc.txt\n",
        "1406.1779_trunc.txt"
       ]
      },
      {
       "output_type": "stream",
       "stream": "stdout",
       "text": [
        "\n",
        "1405.6676_trunc.txt\n",
        "1501.00046_trunc.txt\n",
        "1111.3387_trunc.txt"
       ]
      },
      {
       "output_type": "stream",
       "stream": "stdout",
       "text": [
        "\n",
        "1105.0015_trunc.txt\n",
        "1502.01173_trunc.txt\n",
        "1401.5398_trunc.txt"
       ]
      },
      {
       "output_type": "stream",
       "stream": "stdout",
       "text": [
        "\n",
        "1111.2298_trunc.txt\n",
        "1501.00442_trunc.txt\n",
        "1504.07333_trunc.txt"
       ]
      },
      {
       "output_type": "stream",
       "stream": "stdout",
       "text": [
        "\n",
        "1307.6685_trunc.txt\n",
        "1107.2702_trunc.txt\n",
        "1207.0625_trunc.txt"
       ]
      },
      {
       "output_type": "stream",
       "stream": "stdout",
       "text": [
        "\n",
        "1301.4954_trunc.txt\n",
        "1206.0897_trunc.txt\n",
        "1303.3716_trunc.txt"
       ]
      },
      {
       "output_type": "stream",
       "stream": "stdout",
       "text": [
        "\n",
        "1309.6473_trunc.txt\n",
        "1211.5239_trunc.txt\n",
        "1403.5194_trunc.txt"
       ]
      },
      {
       "output_type": "stream",
       "stream": "stdout",
       "text": [
        "\n",
        "1207.5960_trunc.txt\n",
        "1405.3388_trunc.txt\n",
        "1509.04508_trunc.txt"
       ]
      },
      {
       "output_type": "stream",
       "stream": "stdout",
       "text": [
        "\n",
        "1308.0810_trunc.txt\n",
        "1405.0352_trunc.txt\n",
        "1501.06094_trunc.txt"
       ]
      },
      {
       "output_type": "stream",
       "stream": "stdout",
       "text": [
        "\n",
        "1309.0609_trunc.txt\n",
        "1110.5679_trunc.txt\n",
        "1212.0478_trunc.txt"
       ]
      },
      {
       "output_type": "stream",
       "stream": "stdout",
       "text": [
        "\n",
        "1206.3627_trunc.txt\n",
        "1205.4181_trunc.txt\n",
        "1501.05242_trunc.txt"
       ]
      },
      {
       "output_type": "stream",
       "stream": "stdout",
       "text": [
        "\n",
        "1412.2143_trunc.txt\n",
        "1205.5044_trunc.txt\n",
        "1505.08134_trunc.txt"
       ]
      },
      {
       "output_type": "stream",
       "stream": "stdout",
       "text": [
        "\n",
        "1410.0979_trunc.txt\n",
        "1205.4259_trunc.txt\n",
        "1505.03118_trunc.txt"
       ]
      },
      {
       "output_type": "stream",
       "stream": "stdout",
       "text": [
        "\n",
        "1405.6628_trunc.txt\n",
        "1504.01369_trunc.txt\n",
        "1504.02654_trunc.txt"
       ]
      },
      {
       "output_type": "stream",
       "stream": "stdout",
       "text": [
        "\n",
        "1308.0642_trunc.txt\n",
        "1106.5758_trunc.txt\n",
        "1205.0953_trunc.txt"
       ]
      },
      {
       "output_type": "stream",
       "stream": "stdout",
       "text": [
        "\n",
        "1503.05909_trunc.txt\n",
        "1405.3907_trunc.txt\n",
        "1307.8369_trunc.txt"
       ]
      },
      {
       "output_type": "stream",
       "stream": "stdout",
       "text": [
        "\n",
        "1302.4211_trunc.txt\n",
        "1504.07072_trunc.txt\n",
        "1509.03938_trunc.txt"
       ]
      },
      {
       "output_type": "stream",
       "stream": "stdout",
       "text": [
        "\n",
        "1106.2014_trunc.txt\n",
        "1502.05990_trunc.txt\n",
        "1108.5116_trunc.txt"
       ]
      },
      {
       "output_type": "stream",
       "stream": "stdout",
       "text": [
        "\n",
        "1206.1874_trunc.txt\n",
        "1402.0125_trunc.txt\n",
        "1409.6833_trunc.txt"
       ]
      },
      {
       "output_type": "stream",
       "stream": "stdout",
       "text": [
        "\n",
        "1505.01585_trunc.txt\n",
        "1506.01842_trunc.txt\n",
        "1302.6363_trunc.txt"
       ]
      },
      {
       "output_type": "stream",
       "stream": "stdout",
       "text": [
        "\n",
        "1411.7346_trunc.txt\n",
        "1411.2687_trunc.txt\n",
        "1510.05014_trunc.txt"
       ]
      },
      {
       "output_type": "stream",
       "stream": "stdout",
       "text": [
        "\n",
        "1312.2809_trunc.txt\n",
        "1304.0682_trunc.txt\n",
        "1409.8621_trunc.txt"
       ]
      },
      {
       "output_type": "stream",
       "stream": "stdout",
       "text": [
        "\n",
        "1312.6466_trunc.txt\n",
        "1404.3418_trunc.txt\n",
        "1501.02103_trunc.txt"
       ]
      },
      {
       "output_type": "stream",
       "stream": "stdout",
       "text": [
        "\n",
        "1507.02074_trunc.txt\n",
        "1508.02651_trunc.txt\n",
        "1409.7685_trunc.txt"
       ]
      },
      {
       "output_type": "stream",
       "stream": "stdout",
       "text": [
        "\n",
        "1206.5070_trunc.txt\n",
        "1111.3866_trunc.txt\n",
        "1501.02513_trunc.txt"
       ]
      },
      {
       "output_type": "stream",
       "stream": "stdout",
       "text": [
        "\n",
        "1307.6835_trunc.txt\n",
        "1206.1753_trunc.txt\n",
        "1201.6211_trunc.txt"
       ]
      },
      {
       "output_type": "stream",
       "stream": "stdout",
       "text": [
        "\n",
        "1509.04632_trunc.txt\n",
        "1105.1011_trunc.txt\n",
        "1406.6227_trunc.txt"
       ]
      },
      {
       "output_type": "stream",
       "stream": "stdout",
       "text": [
        "\n",
        "1410.6869_trunc.txt\n",
        "1409.6203_trunc.txt\n",
        "1401.8104_trunc.txt"
       ]
      },
      {
       "output_type": "stream",
       "stream": "stdout",
       "text": [
        "\n",
        "1312.7402_trunc.txt\n",
        "1106.6251_trunc.txt\n",
        "1411.0793_trunc.txt"
       ]
      },
      {
       "output_type": "stream",
       "stream": "stdout",
       "text": [
        "\n",
        "1401.3408_trunc.txt\n",
        "1404.7397_trunc.txt\n",
        "1109.2628_trunc.txt"
       ]
      },
      {
       "output_type": "stream",
       "stream": "stdout",
       "text": [
        "\n",
        "1205.1964_trunc.txt\n",
        "1408.3205_trunc.txt\n",
        "1404.2355_trunc.txt"
       ]
      },
      {
       "output_type": "stream",
       "stream": "stdout",
       "text": [
        "\n",
        "1509.05569_trunc.txt\n",
        "1308.1334_trunc.txt\n",
        "1303.3365_trunc.txt"
       ]
      },
      {
       "output_type": "stream",
       "stream": "stdout",
       "text": [
        "\n",
        "1211.2630_trunc.txt\n",
        "1209.0899_trunc.txt\n",
        "1205.5473_trunc.txt"
       ]
      },
      {
       "output_type": "stream",
       "stream": "stdout",
       "text": [
        "\n",
        "1410.4307_trunc.txt\n",
        "1304.3345_trunc.txt\n",
        "1507.00710_trunc.txt"
       ]
      },
      {
       "output_type": "stream",
       "stream": "stdout",
       "text": [
        "\n",
        "1503.04525_trunc.txt\n",
        "1403.6585_trunc.txt\n",
        "1405.0604_trunc.txt"
       ]
      },
      {
       "output_type": "stream",
       "stream": "stdout",
       "text": [
        "\n",
        "1502.03722_trunc.txt\n",
        "1211.4732_trunc.txt\n",
        "1503.06236_trunc.txt"
       ]
      },
      {
       "output_type": "stream",
       "stream": "stdout",
       "text": [
        "\n",
        "1503.07236_trunc.txt\n",
        "1205.1654_trunc.txt\n",
        "1210.0807_trunc.txt"
       ]
      },
      {
       "output_type": "stream",
       "stream": "stdout",
       "text": [
        "\n",
        "1210.2071_trunc.txt\n",
        "1508.05847_trunc.txt\n",
        "1502.00342_trunc.txt"
       ]
      },
      {
       "output_type": "stream",
       "stream": "stdout",
       "text": [
        "\n",
        "1403.6355_trunc.txt\n",
        "1305.3671_trunc.txt\n",
        "1301.3190_trunc.txt"
       ]
      },
      {
       "output_type": "stream",
       "stream": "stdout",
       "text": [
        "\n",
        "1309.6790_trunc.txt\n",
        "1306.1868_trunc.txt\n",
        "1410.3450_trunc.txt"
       ]
      },
      {
       "output_type": "stream",
       "stream": "stdout",
       "text": [
        "\n",
        "1104.3770_trunc.txt\n",
        "1410.4787_trunc.txt\n",
        "1406.2206_trunc.txt"
       ]
      },
      {
       "output_type": "stream",
       "stream": "stdout",
       "text": [
        "\n",
        "1406.7114_trunc.txt\n",
        "1408.3979_trunc.txt\n",
        "1408.0361_trunc.txt"
       ]
      },
      {
       "output_type": "stream",
       "stream": "stdout",
       "text": [
        "\n",
        "1106.4739_trunc.txt\n",
        "1206.2743_trunc.txt\n",
        "1304.6521_trunc.txt"
       ]
      },
      {
       "output_type": "stream",
       "stream": "stdout",
       "text": [
        "\n",
        "1104.1244_trunc.txt\n",
        "1307.5706_trunc.txt\n",
        "1301.5288_trunc.txt"
       ]
      },
      {
       "output_type": "stream",
       "stream": "stdout",
       "text": [
        "\n",
        "1305.1229_trunc.txt\n",
        "1309.6766_trunc.txt\n",
        "1211.2780_trunc.txt"
       ]
      },
      {
       "output_type": "stream",
       "stream": "stdout",
       "text": [
        "\n",
        "1503.05324_trunc.txt\n",
        "1311.1738_trunc.txt\n",
        "1201.6161_trunc.txt"
       ]
      },
      {
       "output_type": "stream",
       "stream": "stdout",
       "text": [
        "\n",
        "1404.0202_trunc.txt\n",
        "1401.6145_trunc.txt\n",
        "1407.0204_trunc.txt"
       ]
      },
      {
       "output_type": "stream",
       "stream": "stdout",
       "text": [
        "\n",
        "1506.00054_trunc.txt\n",
        "1502.02398_trunc.txt\n",
        "1207.3847_trunc.txt"
       ]
      },
      {
       "output_type": "stream",
       "stream": "stdout",
       "text": [
        "\n",
        "1311.4175_trunc.txt\n",
        "1303.1285_trunc.txt\n",
        "1304.1237_trunc.txt"
       ]
      },
      {
       "output_type": "stream",
       "stream": "stdout",
       "text": [
        "\n",
        "1303.6451_trunc.txt\n",
        "1301.5186_trunc.txt\n",
        "1407.1200_trunc.txt"
       ]
      },
      {
       "output_type": "stream",
       "stream": "stdout",
       "text": [
        "\n",
        "1209.2669_trunc.txt\n",
        "1511.01017_trunc.txt\n",
        "1111.3159_trunc.txt"
       ]
      },
      {
       "output_type": "stream",
       "stream": "stdout",
       "text": [
        "\n",
        "1412.0442_trunc.txt\n",
        "1108.3988_trunc.txt\n",
        "1506.01782_trunc.txt"
       ]
      },
      {
       "output_type": "stream",
       "stream": "stdout",
       "text": [
        "\n",
        "1303.3740_trunc.txt\n",
        "1407.1195_trunc.txt\n",
        "1307.0366_trunc.txt"
       ]
      },
      {
       "output_type": "stream",
       "stream": "stdout",
       "text": [
        "\n",
        "1205.2911_trunc.txt\n",
        "1411.0393_trunc.txt\n",
        "1304.7178_trunc.txt"
       ]
      },
      {
       "output_type": "stream",
       "stream": "stdout",
       "text": [
        "\n",
        "1301.0533_trunc.txt\n",
        "1210.5830_trunc.txt\n",
        "1505.00990_trunc.txt"
       ]
      },
      {
       "output_type": "stream",
       "stream": "stdout",
       "text": [
        "\n",
        "1311.3060_trunc.txt\n",
        "1511.03803_trunc.txt\n",
        "1510.05461_trunc.txt"
       ]
      },
      {
       "output_type": "stream",
       "stream": "stdout",
       "text": [
        "\n",
        "1302.6102_trunc.txt\n",
        "1506.07296_trunc.txt\n",
        "1109.6493_trunc.txt"
       ]
      },
      {
       "output_type": "stream",
       "stream": "stdout",
       "text": [
        "\n",
        "1205.4219_trunc.txt\n",
        "1404.6298_trunc.txt\n",
        "1504.03177_trunc.txt"
       ]
      },
      {
       "output_type": "stream",
       "stream": "stdout",
       "text": [
        "\n",
        "1409.5291_trunc.txt\n",
        "1107.1971_trunc.txt\n",
        "1405.6408_trunc.txt"
       ]
      },
      {
       "output_type": "stream",
       "stream": "stdout",
       "text": [
        "\n",
        "1207.2740_trunc.txt\n",
        "1205.5433_trunc.txt\n",
        "1304.8036_trunc.txt"
       ]
      },
      {
       "output_type": "stream",
       "stream": "stdout",
       "text": [
        "\n",
        "1506.04576_trunc.txt\n",
        "1108.6032_trunc.txt\n",
        "1105.5305_trunc.txt"
       ]
      },
      {
       "output_type": "stream",
       "stream": "stdout",
       "text": [
        "\n",
        "1209.2978_trunc.txt\n",
        "1311.0737_trunc.txt\n",
        "1111.0537_trunc.txt"
       ]
      },
      {
       "output_type": "stream",
       "stream": "stdout",
       "text": [
        "\n",
        "1212.5627_trunc.txt\n",
        "1410.4773_trunc.txt\n",
        "1509.01042_trunc.txt"
       ]
      },
      {
       "output_type": "stream",
       "stream": "stdout",
       "text": [
        "\n",
        "1209.4875_trunc.txt\n",
        "1205.4094_trunc.txt\n",
        "1312.7150_trunc.txt"
       ]
      },
      {
       "output_type": "stream",
       "stream": "stdout",
       "text": [
        "\n",
        "1407.4373_trunc.txt\n",
        "1403.0735_trunc.txt\n",
        "1408.6618_trunc.txt"
       ]
      },
      {
       "output_type": "stream",
       "stream": "stdout",
       "text": [
        "\n",
        "1407.0241_trunc.txt\n",
        "1506.03486_trunc.txt\n",
        "1212.6757_trunc.txt"
       ]
      },
      {
       "output_type": "stream",
       "stream": "stdout",
       "text": [
        "\n",
        "1401.5551_trunc.txt\n",
        "1503.05509_trunc.txt\n",
        "1504.02191_trunc.txt"
       ]
      },
      {
       "output_type": "stream",
       "stream": "stdout",
       "text": [
        "\n",
        "1510.04968_trunc.txt\n",
        "1307.2546_trunc.txt\n",
        "1511.00253_trunc.txt"
       ]
      },
      {
       "output_type": "stream",
       "stream": "stdout",
       "text": [
        "\n",
        "1108.5781_trunc.txt\n",
        "1511.03592_trunc.txt\n",
        "1209.0304_trunc.txt"
       ]
      },
      {
       "output_type": "stream",
       "stream": "stdout",
       "text": [
        "\n",
        "1510.05261_trunc.txt\n",
        "1301.5874_trunc.txt\n",
        "1504.07046_trunc.txt"
       ]
      },
      {
       "output_type": "stream",
       "stream": "stdout",
       "text": [
        "\n",
        "1210.3516_trunc.txt\n",
        "1108.3479_trunc.txt\n",
        "1104.4389_trunc.txt"
       ]
      },
      {
       "output_type": "stream",
       "stream": "stdout",
       "text": [
        "\n",
        "1405.3229_trunc.txt\n",
        "1402.1267_trunc.txt\n",
        "1109.5998_trunc.txt"
       ]
      },
      {
       "output_type": "stream",
       "stream": "stdout",
       "text": [
        "\n",
        "1308.3201_trunc.txt\n",
        "1503.07642_trunc.txt\n",
        "1509.00571_trunc.txt"
       ]
      },
      {
       "output_type": "stream",
       "stream": "stdout",
       "text": [
        "\n",
        "1310.5523_trunc.txt\n",
        "1211.3224_trunc.txt\n",
        "1209.0633_trunc.txt"
       ]
      },
      {
       "output_type": "stream",
       "stream": "stdout",
       "text": [
        "\n",
        "1410.1000_trunc.txt\n",
        "1411.5310_trunc.txt\n",
        "1407.8225_trunc.txt"
       ]
      },
      {
       "output_type": "stream",
       "stream": "stdout",
       "text": [
        "\n",
        "1403.6803_trunc.txt\n",
        "1409.4553_trunc.txt\n",
        "1405.6030_trunc.txt"
       ]
      },
      {
       "output_type": "stream",
       "stream": "stdout",
       "text": [
        "\n",
        "1508.01661_trunc.txt\n",
        "1507.08266_trunc.txt\n",
        "1112.3745_trunc.txt"
       ]
      },
      {
       "output_type": "stream",
       "stream": "stdout",
       "text": [
        "\n",
        "1403.1088_trunc.txt\n",
        "1508.03808_trunc.txt\n",
        "1507.01454_trunc.txt"
       ]
      },
      {
       "output_type": "stream",
       "stream": "stdout",
       "text": [
        "\n",
        "1406.5933_trunc.txt\n",
        "1510.08240_trunc.txt\n",
        "1511.01957_trunc.txt"
       ]
      },
      {
       "output_type": "stream",
       "stream": "stdout",
       "text": [
        "\n",
        "1210.0376_trunc.txt\n",
        "1103.5991_trunc.txt\n",
        "1208.1864_trunc.txt"
       ]
      },
      {
       "output_type": "stream",
       "stream": "stdout",
       "text": [
        "\n",
        "1411.4691_trunc.txt\n",
        "1406.1037_trunc.txt\n",
        "1403.3231_trunc.txt"
       ]
      },
      {
       "output_type": "stream",
       "stream": "stdout",
       "text": [
        "\n",
        "1304.0423_trunc.txt\n",
        "1407.3254_trunc.txt\n",
        "1505.02913_trunc.txt"
       ]
      },
      {
       "output_type": "stream",
       "stream": "stdout",
       "text": [
        "\n",
        "1506.08163_trunc.txt\n",
        "1210.7850_trunc.txt\n",
        "1206.0825_trunc.txt"
       ]
      },
      {
       "output_type": "stream",
       "stream": "stdout",
       "text": [
        "\n",
        "1109.0961_trunc.txt\n",
        "1505.07602_trunc.txt\n",
        "1201.0872_trunc.txt"
       ]
      },
      {
       "output_type": "stream",
       "stream": "stdout",
       "text": [
        "\n",
        "1403.6752_trunc.txt\n",
        "1304.0580_trunc.txt\n",
        "1310.7918_trunc.txt"
       ]
      },
      {
       "output_type": "stream",
       "stream": "stdout",
       "text": [
        "\n",
        "1509.01817_trunc.txt\n",
        "1508.01922_trunc.txt\n",
        "1404.4917_trunc.txt"
       ]
      },
      {
       "output_type": "stream",
       "stream": "stdout",
       "text": [
        "\n",
        "1411.7920_trunc.txt\n",
        "1505.07915_trunc.txt\n",
        "1411.7650_trunc.txt"
       ]
      },
      {
       "output_type": "stream",
       "stream": "stdout",
       "text": [
        "\n",
        "1411.1166_trunc.txt\n",
        "1404.6841_trunc.txt\n",
        "1410.4934_trunc.txt"
       ]
      },
      {
       "output_type": "stream",
       "stream": "stdout",
       "text": [
        "\n",
        "1208.0721_trunc.txt\n",
        "1104.2808_trunc.txt\n",
        "1409.5928_trunc.txt"
       ]
      },
      {
       "output_type": "stream",
       "stream": "stdout",
       "text": [
        "\n",
        "1510.04342_trunc.txt\n",
        "1301.0958_trunc.txt\n",
        "1307.4666_trunc.txt"
       ]
      },
      {
       "output_type": "stream",
       "stream": "stdout",
       "text": [
        "\n",
        "1505.05691_trunc.txt\n",
        "1307.5962_trunc.txt\n",
        "1111.4591_trunc.txt"
       ]
      },
      {
       "output_type": "stream",
       "stream": "stdout",
       "text": [
        "\n",
        "1408.4527_trunc.txt\n",
        "1411.3145_trunc.txt\n",
        "1211.3292_trunc.txt"
       ]
      },
      {
       "output_type": "stream",
       "stream": "stdout",
       "text": [
        "\n",
        "1207.1934_trunc.txt\n",
        "1312.7401_trunc.txt\n",
        "1211.0373_trunc.txt"
       ]
      },
      {
       "output_type": "stream",
       "stream": "stdout",
       "text": [
        "\n",
        "1307.1962_trunc.txt\n",
        "1104.1541_trunc.txt\n",
        "1410.0503_trunc.txt"
       ]
      },
      {
       "output_type": "stream",
       "stream": "stdout",
       "text": [
        "\n",
        "1103.5399_trunc.txt\n",
        "1508.00506_trunc.txt\n",
        "1306.6295_trunc.txt"
       ]
      },
      {
       "output_type": "stream",
       "stream": "stdout",
       "text": [
        "\n",
        "1312.1900_trunc.txt\n",
        "1506.06199_trunc.txt\n",
        "1408.5355_trunc.txt"
       ]
      },
      {
       "output_type": "stream",
       "stream": "stdout",
       "text": [
        "\n",
        "1308.2853_trunc.txt\n",
        "1105.4042_trunc.txt\n",
        "1401.2267_trunc.txt"
       ]
      },
      {
       "output_type": "stream",
       "stream": "stdout",
       "text": [
        "\n",
        "1206.2966_trunc.txt\n",
        "1107.4512_trunc.txt\n",
        "1502.05522_trunc.txt"
       ]
      },
      {
       "output_type": "stream",
       "stream": "stdout",
       "text": [
        "\n",
        "1108.0481_trunc.txt\n",
        "1405.4537_trunc.txt\n",
        "1108.1510_trunc.txt"
       ]
      },
      {
       "output_type": "stream",
       "stream": "stdout",
       "text": [
        "\n",
        "1105.5231_trunc.txt\n",
        "1207.4447_trunc.txt\n",
        "1504.06441_trunc.txt"
       ]
      },
      {
       "output_type": "stream",
       "stream": "stdout",
       "text": [
        "\n",
        "1105.2322_trunc.txt\n",
        "1309.0024_trunc.txt\n",
        "1506.03198_trunc.txt"
       ]
      },
      {
       "output_type": "stream",
       "stream": "stdout",
       "text": [
        "\n",
        "1311.6636_trunc.txt\n",
        "1407.3289_trunc.txt\n",
        "1410.4755_trunc.txt"
       ]
      },
      {
       "output_type": "stream",
       "stream": "stdout",
       "text": [
        "\n",
        "1506.08724_trunc.txt\n",
        "1510.02551_trunc.txt\n",
        "1503.03188_trunc.txt"
       ]
      },
      {
       "output_type": "stream",
       "stream": "stdout",
       "text": [
        "\n",
        "1308.5875_trunc.txt\n",
        "1104.2365_trunc.txt\n",
        "1306.1678_trunc.txt"
       ]
      },
      {
       "output_type": "stream",
       "stream": "stdout",
       "text": [
        "\n",
        "1105.0019_trunc.txt\n",
        "1111.2730_trunc.txt\n",
        "1403.6573_trunc.txt"
       ]
      },
      {
       "output_type": "stream",
       "stream": "stdout",
       "text": [
        "\n",
        "1503.00226_trunc.txt\n",
        "1207.6614_trunc.txt\n",
        "1507.05731_trunc.txt"
       ]
      },
      {
       "output_type": "stream",
       "stream": "stdout",
       "text": [
        "\n",
        "1503.07307_trunc.txt\n",
        "1304.2592_trunc.txt\n",
        "1311.0811_trunc.txt"
       ]
      },
      {
       "output_type": "stream",
       "stream": "stdout",
       "text": [
        "\n",
        "1502.07181_trunc.txt\n",
        "1408.2287_trunc.txt\n",
        "1411.6622_trunc.txt"
       ]
      },
      {
       "output_type": "stream",
       "stream": "stdout",
       "text": [
        "\n",
        "1310.2880_trunc.txt\n",
        "1301.5259_trunc.txt\n",
        "1412.0313_trunc.txt"
       ]
      },
      {
       "output_type": "stream",
       "stream": "stdout",
       "text": [
        "\n",
        "1105.1475_trunc.txt\n",
        "1403.1388_trunc.txt\n",
        "1402.5763_trunc.txt"
       ]
      },
      {
       "output_type": "stream",
       "stream": "stdout",
       "text": [
        "\n",
        "1511.03463_trunc.txt\n",
        "1306.3494_trunc.txt\n",
        "1503.04304_trunc.txt"
       ]
      },
      {
       "output_type": "stream",
       "stream": "stdout",
       "text": [
        "\n",
        "1312.1938_trunc.txt\n",
        "1411.2482_trunc.txt\n",
        "1207.0327_trunc.txt"
       ]
      },
      {
       "output_type": "stream",
       "stream": "stdout",
       "text": [
        "\n",
        "1104.1801_trunc.txt\n",
        "1412.1711_trunc.txt\n",
        "1107.1025_trunc.txt"
       ]
      },
      {
       "output_type": "stream",
       "stream": "stdout",
       "text": [
        "\n",
        "1410.4578_trunc.txt\n",
        "1510.02399_trunc.txt\n",
        "1211.2481_trunc.txt"
       ]
      },
      {
       "output_type": "stream",
       "stream": "stdout",
       "text": [
        "\n",
        "1406.2240_trunc.txt\n",
        "1309.5923_trunc.txt\n",
        "1507.07235_trunc.txt"
       ]
      },
      {
       "output_type": "stream",
       "stream": "stdout",
       "text": [
        "\n",
        "1110.4025_trunc.txt\n",
        "1207.5938_trunc.txt\n",
        "1311.4976_trunc.txt"
       ]
      },
      {
       "output_type": "stream",
       "stream": "stdout",
       "text": [
        "\n",
        "1506.04775_trunc.txt\n",
        "1202.4198_trunc.txt\n",
        "1504.00465_trunc.txt"
       ]
      },
      {
       "output_type": "stream",
       "stream": "stdout",
       "text": [
        "\n",
        "1406.6592_trunc.txt\n",
        "1403.0609_trunc.txt\n",
        "1207.5615_trunc.txt"
       ]
      },
      {
       "output_type": "stream",
       "stream": "stdout",
       "text": [
        "\n",
        "1304.3559_trunc.txt\n",
        "1508.00144_trunc.txt\n",
        "1107.1638_trunc.txt"
       ]
      },
      {
       "output_type": "stream",
       "stream": "stdout",
       "text": [
        "\n",
        "1404.4452_trunc.txt\n",
        "1404.3116_trunc.txt\n",
        "1301.4183_trunc.txt"
       ]
      },
      {
       "output_type": "stream",
       "stream": "stdout",
       "text": [
        "\n",
        "1312.7867_trunc.txt\n",
        "1105.4847_trunc.txt\n",
        "1408.6731_trunc.txt"
       ]
      },
      {
       "output_type": "stream",
       "stream": "stdout",
       "text": [
        "\n",
        "1307.6338_trunc.txt\n",
        "1412.2129_trunc.txt\n",
        "1409.7602_trunc.txt"
       ]
      },
      {
       "output_type": "stream",
       "stream": "stdout",
       "text": [
        "\n",
        "1402.5596_trunc.txt\n",
        "1212.3524_trunc.txt\n",
        "1209.4746_trunc.txt"
       ]
      },
      {
       "output_type": "stream",
       "stream": "stdout",
       "text": [
        "\n",
        "1109.6176_trunc.txt\n",
        "1311.7513_trunc.txt\n",
        "1211.0919_trunc.txt"
       ]
      },
      {
       "output_type": "stream",
       "stream": "stdout",
       "text": [
        "\n",
        "1209.4188_trunc.txt\n",
        "1511.04066_trunc.txt\n",
        "1206.1024_trunc.txt"
       ]
      },
      {
       "output_type": "stream",
       "stream": "stdout",
       "text": [
        "\n",
        "1308.2836_trunc.txt\n",
        "1202.3307_trunc.txt\n",
        "1505.05314_trunc.txt"
       ]
      },
      {
       "output_type": "stream",
       "stream": "stdout",
       "text": [
        "\n",
        "1312.4087_trunc.txt\n",
        "1508.06958_trunc.txt\n",
        "1409.1771_trunc.txt"
       ]
      },
      {
       "output_type": "stream",
       "stream": "stdout",
       "text": [
        "\n",
        "1211.1847_trunc.txt\n",
        "1306.3609_trunc.txt\n",
        "1206.6378_trunc.txt"
       ]
      },
      {
       "output_type": "stream",
       "stream": "stdout",
       "text": [
        "\n",
        "1111.0446_trunc.txt\n",
        "1302.2677_trunc.txt\n",
        "1206.6904_trunc.txt"
       ]
      },
      {
       "output_type": "stream",
       "stream": "stdout",
       "text": [
        "\n",
        "1402.0099_trunc.txt\n",
        "1505.04228_trunc.txt\n",
        "1112.1977_trunc.txt"
       ]
      },
      {
       "output_type": "stream",
       "stream": "stdout",
       "text": [
        "\n",
        "1308.6394_trunc.txt\n",
        "1105.1430_trunc.txt\n",
        "1304.0175_trunc.txt"
       ]
      },
      {
       "output_type": "stream",
       "stream": "stdout",
       "text": [
        "\n",
        "1308.2608_trunc.txt\n",
        "1501.01366_trunc.txt\n",
        "1206.2557_trunc.txt"
       ]
      },
      {
       "output_type": "stream",
       "stream": "stdout",
       "text": [
        "\n",
        "1209.1988_trunc.txt\n",
        "1208.3278_trunc.txt\n",
        "1412.5632_trunc.txt"
       ]
      },
      {
       "output_type": "stream",
       "stream": "stdout",
       "text": [
        "\n",
        "1406.1568_trunc.txt\n",
        "1310.7320_trunc.txt\n",
        "1509.03025_trunc.txt"
       ]
      },
      {
       "output_type": "stream",
       "stream": "stdout",
       "text": [
        "\n",
        "1411.6419_trunc.txt\n",
        "1110.2544_trunc.txt\n",
        "1411.6160_trunc.txt"
       ]
      },
      {
       "output_type": "stream",
       "stream": "stdout",
       "text": [
        "\n",
        "1311.3190_trunc.txt\n",
        "1410.5550_trunc.txt\n",
        "1302.3030_trunc.txt"
       ]
      },
      {
       "output_type": "stream",
       "stream": "stdout",
       "text": [
        "\n",
        "1104.0166_trunc.txt\n",
        "1109.6042_trunc.txt\n",
        "1405.6693_trunc.txt"
       ]
      },
      {
       "output_type": "stream",
       "stream": "stdout",
       "text": [
        "\n",
        "1205.6617_trunc.txt\n",
        "1210.4672_trunc.txt\n",
        "1411.0858_trunc.txt"
       ]
      },
      {
       "output_type": "stream",
       "stream": "stdout",
       "text": [
        "\n",
        "1304.2995_trunc.txt\n",
        "1207.4819_trunc.txt\n",
        "1308.2809_trunc.txt"
       ]
      },
      {
       "output_type": "stream",
       "stream": "stdout",
       "text": [
        "\n",
        "1212.3647_trunc.txt\n",
        "1503.01504_trunc.txt\n",
        "1111.3120_trunc.txt"
       ]
      },
      {
       "output_type": "stream",
       "stream": "stdout",
       "text": [
        "\n",
        "1306.3373_trunc.txt\n",
        "1502.06197_trunc.txt\n",
        "1211.2979_trunc.txt"
       ]
      },
      {
       "output_type": "stream",
       "stream": "stdout",
       "text": [
        "\n",
        "1210.4139_trunc.txt\n",
        "1104.2224_trunc.txt\n",
        "1507.00832_trunc.txt"
       ]
      },
      {
       "output_type": "stream",
       "stream": "stdout",
       "text": [
        "\n",
        "1412.3442_trunc.txt\n",
        "1202.2212_trunc.txt\n",
        "1405.6584_trunc.txt"
       ]
      },
      {
       "output_type": "stream",
       "stream": "stdout",
       "text": [
        "\n",
        "1402.2823_trunc.txt\n",
        "1509.00368_trunc.txt\n",
        "1501.05836_trunc.txt"
       ]
      },
      {
       "output_type": "stream",
       "stream": "stdout",
       "text": [
        "\n",
        "1202.4267_trunc.txt\n",
        "1306.0818_trunc.txt\n",
        "1106.3520_trunc.txt"
       ]
      },
      {
       "output_type": "stream",
       "stream": "stdout",
       "text": [
        "\n",
        "1106.2775_trunc.txt\n",
        "1402.0357_trunc.txt\n",
        "1207.5594_trunc.txt"
       ]
      },
      {
       "output_type": "stream",
       "stream": "stdout",
       "text": [
        "\n",
        "1505.01957_trunc.txt\n",
        "1205.1950_trunc.txt\n",
        "1304.6789_trunc.txt"
       ]
      },
      {
       "output_type": "stream",
       "stream": "stdout",
       "text": [
        "\n",
        "1504.03084_trunc.txt\n",
        "1311.3753_trunc.txt\n",
        "1210.0291_trunc.txt"
       ]
      },
      {
       "output_type": "stream",
       "stream": "stdout",
       "text": [
        "\n",
        "1205.6043_trunc.txt\n",
        "1411.4708_trunc.txt\n",
        "1103.5381_trunc.txt"
       ]
      },
      {
       "output_type": "stream",
       "stream": "stdout",
       "text": [
        "\n",
        "1311.3998_trunc.txt\n",
        "1504.00461_trunc.txt\n",
        "1510.04124_trunc.txt"
       ]
      },
      {
       "output_type": "stream",
       "stream": "stdout",
       "text": [
        "\n",
        "1511.00028_trunc.txt\n",
        "1306.5461_trunc.txt\n",
        "1309.5936_trunc.txt"
       ]
      },
      {
       "output_type": "stream",
       "stream": "stdout",
       "text": [
        "\n",
        "1404.6392_trunc.txt\n",
        "1309.6287_trunc.txt\n",
        "1204.4677_trunc.txt"
       ]
      },
      {
       "output_type": "stream",
       "stream": "stdout",
       "text": [
        "\n",
        "1412.8434_trunc.txt\n",
        "1402.5662_trunc.txt\n",
        "1111.7248_trunc.txt"
       ]
      },
      {
       "output_type": "stream",
       "stream": "stdout",
       "text": [
        "\n",
        "1105.3369_trunc.txt\n",
        "1404.0198_trunc.txt\n",
        "1407.3395_trunc.txt"
       ]
      },
      {
       "output_type": "stream",
       "stream": "stdout",
       "text": [
        "\n",
        "1202.4283_trunc.txt\n",
        "1508.02489_trunc.txt\n",
        "1509.05790_trunc.txt"
       ]
      },
      {
       "output_type": "stream",
       "stream": "stdout",
       "text": [
        "\n",
        "1206.1675_trunc.txt\n",
        "1112.4530_trunc.txt\n",
        "1211.3461_trunc.txt"
       ]
      },
      {
       "output_type": "stream",
       "stream": "stdout",
       "text": [
        "\n",
        "1311.2236_trunc.txt\n",
        "1505.07072_trunc.txt\n",
        "1207.2340_trunc.txt"
       ]
      },
      {
       "output_type": "stream",
       "stream": "stdout",
       "text": [
        "\n",
        "1111.1077_trunc.txt\n",
        "1303.3518_trunc.txt\n",
        "1206.2662_trunc.txt"
       ]
      },
      {
       "output_type": "stream",
       "stream": "stdout",
       "text": [
        "\n",
        "1506.03765_trunc.txt\n",
        "1408.6440_trunc.txt\n",
        "1412.2632_trunc.txt"
       ]
      },
      {
       "output_type": "stream",
       "stream": "stdout",
       "text": [
        "\n",
        "1305.4126_trunc.txt\n",
        "1506.07368_trunc.txt\n",
        "1409.7482_trunc.txt"
       ]
      },
      {
       "output_type": "stream",
       "stream": "stdout",
       "text": [
        "\n",
        "1108.2477_trunc.txt\n",
        "1407.2904_trunc.txt\n",
        "1307.5965_trunc.txt"
       ]
      },
      {
       "output_type": "stream",
       "stream": "stdout",
       "text": [
        "\n",
        "1509.05457_trunc.txt\n",
        "1202.5093_trunc.txt\n",
        "1305.0274_trunc.txt"
       ]
      },
      {
       "output_type": "stream",
       "stream": "stdout",
       "text": [
        "\n",
        "1510.07105_trunc.txt\n",
        "1412.4170_trunc.txt\n",
        "1209.0736_trunc.txt"
       ]
      },
      {
       "output_type": "stream",
       "stream": "stdout",
       "text": [
        "\n",
        "1302.6103_trunc.txt\n",
        "1506.03382_trunc.txt\n",
        "1306.5505_trunc.txt"
       ]
      },
      {
       "output_type": "stream",
       "stream": "stdout",
       "text": [
        "\n",
        "1506.03537_trunc.txt\n",
        "1304.4609_trunc.txt\n",
        "1107.3442_trunc.txt"
       ]
      },
      {
       "output_type": "stream",
       "stream": "stdout",
       "text": [
        "\n",
        "1212.5321_trunc.txt\n",
        "1409.6495_trunc.txt\n",
        "1205.5856_trunc.txt"
       ]
      },
      {
       "output_type": "stream",
       "stream": "stdout",
       "text": [
        "\n",
        "1112.3914_trunc.txt\n",
        "1508.04905_trunc.txt\n",
        "1309.1309_trunc.txt"
       ]
      },
      {
       "output_type": "stream",
       "stream": "stdout",
       "text": [
        "\n",
        "1306.6430_trunc.txt\n",
        "1311.4500_trunc.txt\n",
        "1306.0256_trunc.txt"
       ]
      },
      {
       "output_type": "stream",
       "stream": "stdout",
       "text": [
        "\n",
        "1508.02473_trunc.txt\n",
        "1111.7205_trunc.txt\n",
        "1504.03234_trunc.txt"
       ]
      },
      {
       "output_type": "stream",
       "stream": "stdout",
       "text": [
        "\n",
        "1511.02112_trunc.txt\n",
        "1109.0078_trunc.txt\n",
        "1408.6333_trunc.txt"
       ]
      },
      {
       "output_type": "stream",
       "stream": "stdout",
       "text": [
        "\n",
        "1406.7698_trunc.txt\n",
        "1308.1147_trunc.txt\n",
        "1510.08440_trunc.txt"
       ]
      },
      {
       "output_type": "stream",
       "stream": "stdout",
       "text": [
        "\n",
        "1311.2740_trunc.txt\n",
        "1212.5397_trunc.txt\n",
        "1510.01670_trunc.txt"
       ]
      },
      {
       "output_type": "stream",
       "stream": "stdout",
       "text": [
        "\n",
        "1106.4223_trunc.txt\n",
        "1503.04098_trunc.txt\n",
        "1505.04778_trunc.txt"
       ]
      },
      {
       "output_type": "stream",
       "stream": "stdout",
       "text": [
        "\n",
        "1408.1809_trunc.txt\n",
        "1212.1384_trunc.txt\n",
        "1410.4329_trunc.txt"
       ]
      },
      {
       "output_type": "stream",
       "stream": "stdout",
       "text": [
        "\n",
        "1109.1637_trunc.txt\n",
        "1108.0373_trunc.txt\n",
        "1507.03003_trunc.txt"
       ]
      },
      {
       "output_type": "stream",
       "stream": "stdout",
       "text": [
        "\n",
        "1406.4406_trunc.txt\n",
        "1409.1419_trunc.txt\n",
        "1504.08070_trunc.txt"
       ]
      },
      {
       "output_type": "stream",
       "stream": "stdout",
       "text": [
        "\n",
        "1303.4620_trunc.txt\n",
        "1304.3073_trunc.txt\n",
        "1503.03212_trunc.txt"
       ]
      },
      {
       "output_type": "stream",
       "stream": "stdout",
       "text": [
        "\n",
        "1112.3427_trunc.txt\n",
        "1112.0939_trunc.txt\n",
        "1403.1665_trunc.txt"
       ]
      },
      {
       "output_type": "stream",
       "stream": "stdout",
       "text": [
        "\n",
        "1411.7565_trunc.txt\n",
        "1111.4180_trunc.txt\n",
        "1510.06963_trunc.txt"
       ]
      },
      {
       "output_type": "stream",
       "stream": "stdout",
       "text": [
        "\n",
        "1403.6179_trunc.txt\n",
        "1307.7054_trunc.txt\n",
        "1305.5812_trunc.txt"
       ]
      },
      {
       "output_type": "stream",
       "stream": "stdout",
       "text": [
        "\n",
        "1406.1643_trunc.txt\n",
        "1505.02965_trunc.txt\n",
        "1411.4226_trunc.txt"
       ]
      },
      {
       "output_type": "stream",
       "stream": "stdout",
       "text": [
        "\n",
        "1205.6607_trunc.txt\n",
        "1108.3136_trunc.txt\n",
        "1209.0285_trunc.txt"
       ]
      },
      {
       "output_type": "stream",
       "stream": "stdout",
       "text": [
        "\n",
        "1104.0763_trunc.txt\n",
        "1402.4773_trunc.txt\n",
        "1507.06739_trunc.txt"
       ]
      },
      {
       "output_type": "stream",
       "stream": "stdout",
       "text": [
        "\n",
        "1202.3570_trunc.txt\n",
        "1111.6323_trunc.txt\n",
        "1312.7129_trunc.txt"
       ]
      },
      {
       "output_type": "stream",
       "stream": "stdout",
       "text": [
        "\n",
        "1207.2067_trunc.txt\n",
        "1106.4228_trunc.txt\n",
        "1503.02106_trunc.txt"
       ]
      },
      {
       "output_type": "stream",
       "stream": "stdout",
       "text": [
        "\n",
        "1503.05526_trunc.txt\n",
        "1301.7625_trunc.txt\n",
        "1110.0811_trunc.txt"
       ]
      },
      {
       "output_type": "stream",
       "stream": "stdout",
       "text": [
        "\n",
        "1205.4818_trunc.txt\n",
        "1405.6531_trunc.txt\n",
        "1206.5637_trunc.txt"
       ]
      },
      {
       "output_type": "stream",
       "stream": "stdout",
       "text": [
        "\n",
        "1502.07300_trunc.txt\n",
        "1510.01858_trunc.txt"
       ]
      },
      {
       "output_type": "stream",
       "stream": "stdout",
       "text": [
        "\n",
        "1402.0844_trunc.txt\n",
        "1312.5911_trunc.txt\n",
        "1211.2300_trunc.txt"
       ]
      },
      {
       "output_type": "stream",
       "stream": "stdout",
       "text": [
        "\n",
        "1511.03551_trunc.txt\n",
        "1510.07153_trunc.txt\n",
        "1307.7949_trunc.txt"
       ]
      },
      {
       "output_type": "stream",
       "stream": "stdout",
       "text": [
        "\n",
        "1411.2944_trunc.txt\n",
        "1301.4240_trunc.txt\n",
        "1407.4446_trunc.txt"
       ]
      },
      {
       "output_type": "stream",
       "stream": "stdout",
       "text": [
        "\n",
        "1509.00049_trunc.txt\n",
        "1108.5939_trunc.txt\n",
        "1405.6210_trunc.txt"
       ]
      },
      {
       "output_type": "stream",
       "stream": "stdout",
       "text": [
        "\n",
        "1106.2467_trunc.txt\n",
        "1304.7366_trunc.txt\n",
        "1306.4790_trunc.txt"
       ]
      },
      {
       "output_type": "stream",
       "stream": "stdout",
       "text": [
        "\n",
        "1504.05289_trunc.txt\n",
        "1507.05952_trunc.txt\n",
        "1501.03694_trunc.txt"
       ]
      },
      {
       "output_type": "stream",
       "stream": "stdout",
       "text": [
        "\n",
        "1406.5863_trunc.txt\n",
        "1501.07761_trunc.txt\n",
        "1501.04787_trunc.txt"
       ]
      },
      {
       "output_type": "stream",
       "stream": "stdout",
       "text": [
        "\n",
        "1205.6659_trunc.txt\n",
        "1109.4668_trunc.txt\n",
        "1212.5332_trunc.txt"
       ]
      },
      {
       "output_type": "stream",
       "stream": "stdout",
       "text": [
        "\n",
        "1505.01461_trunc.txt\n",
        "1309.1412_trunc.txt\n",
        "1309.6536_trunc.txt"
       ]
      },
      {
       "output_type": "stream",
       "stream": "stdout",
       "text": [
        "\n",
        "1403.3109_trunc.txt\n",
        "1206.0871_trunc.txt\n",
        "1208.2007_trunc.txt"
       ]
      },
      {
       "output_type": "stream",
       "stream": "stdout",
       "text": [
        "\n",
        "1212.1791_trunc.txt\n",
        "1311.5179_trunc.txt\n",
        "1305.6430_trunc.txt"
       ]
      },
      {
       "output_type": "stream",
       "stream": "stdout",
       "text": [
        "\n",
        "1407.6514_trunc.txt\n",
        "1510.06301_trunc.txt\n",
        "1205.6275_trunc.txt"
       ]
      },
      {
       "output_type": "stream",
       "stream": "stdout",
       "text": [
        "\n",
        "1304.5802_trunc.txt\n",
        "1307.5992_trunc.txt\n",
        "1308.6221_trunc.txt"
       ]
      },
      {
       "output_type": "stream",
       "stream": "stdout",
       "text": [
        "\n",
        "1206.5761_trunc.txt\n",
        "1309.7759_trunc.txt\n",
        "1310.6025_trunc.txt"
       ]
      },
      {
       "output_type": "stream",
       "stream": "stdout",
       "text": [
        "\n",
        "1411.0900_trunc.txt\n",
        "1307.5990_trunc.txt"
       ]
      },
      {
       "output_type": "stream",
       "stream": "stdout",
       "text": [
        "\n",
        "1305.3897_trunc.txt\n",
        "1207.0187_trunc.txt\n",
        "1208.1154_trunc.txt"
       ]
      },
      {
       "output_type": "stream",
       "stream": "stdout",
       "text": [
        "\n",
        "1104.4135_trunc.txt\n",
        "1408.6366_trunc.txt\n",
        "1309.7807_trunc.txt"
       ]
      },
      {
       "output_type": "stream",
       "stream": "stdout",
       "text": [
        "\n",
        "1206.0459_trunc.txt\n",
        "1507.07357_trunc.txt\n",
        "1209.3672_trunc.txt"
       ]
      },
      {
       "output_type": "stream",
       "stream": "stdout",
       "text": [
        "\n",
        "1510.09219_trunc.txt\n",
        "1301.4566_trunc.txt\n",
        "1401.6578_trunc.txt"
       ]
      },
      {
       "output_type": "stream",
       "stream": "stdout",
       "text": [
        "\n",
        "1302.3447_trunc.txt\n",
        "1504.06079_trunc.txt\n",
        "1509.02473_trunc.txt"
       ]
      },
      {
       "output_type": "stream",
       "stream": "stdout",
       "text": [
        "\n",
        "1205.5508_trunc.txt\n",
        "1302.3000_trunc.txt\n",
        "1405.1478_trunc.txt"
       ]
      },
      {
       "output_type": "stream",
       "stream": "stdout",
       "text": [
        "\n",
        "1207.6432_trunc.txt\n",
        "1511.00734_trunc.txt\n",
        "1307.2342_trunc.txt"
       ]
      },
      {
       "output_type": "stream",
       "stream": "stdout",
       "text": [
        "\n",
        "1509.09048_trunc.txt\n",
        "1105.0889_trunc.txt\n",
        "1307.0584_trunc.txt"
       ]
      },
      {
       "output_type": "stream",
       "stream": "stdout",
       "text": [
        "\n",
        "1106.4333_trunc.txt\n",
        "1105.3561_trunc.txt\n",
        "1207.6076_trunc.txt"
       ]
      },
      {
       "output_type": "stream",
       "stream": "stdout",
       "text": [
        "\n",
        "1104.2939_trunc.txt\n",
        "1108.5533_trunc.txt\n",
        "1208.3553_trunc.txt"
       ]
      },
      {
       "output_type": "stream",
       "stream": "stdout",
       "text": [
        "\n",
        "1305.4227_trunc.txt\n",
        "1509.03459_trunc.txt\n",
        "1304.0282_trunc.txt"
       ]
      },
      {
       "output_type": "stream",
       "stream": "stdout",
       "text": [
        "\n",
        "1410.7845_trunc.txt\n",
        "1204.5399_trunc.txt\n",
        "1302.3082_trunc.txt"
       ]
      },
      {
       "output_type": "stream",
       "stream": "stdout",
       "text": [
        "\n",
        "1408.6937_trunc.txt\n",
        "1311.3492_trunc.txt\n",
        "1311.3092_trunc.txt"
       ]
      },
      {
       "output_type": "stream",
       "stream": "stdout",
       "text": [
        "\n",
        "1304.1761_trunc.txt\n",
        "1506.04599_trunc.txt\n",
        "1508.00219_trunc.txt"
       ]
      },
      {
       "output_type": "stream",
       "stream": "stdout",
       "text": [
        "\n",
        "1110.6084_trunc.txt\n",
        "1210.7192_trunc.txt\n",
        "1112.3729_trunc.txt"
       ]
      },
      {
       "output_type": "stream",
       "stream": "stdout",
       "text": [
        "\n",
        "1309.2178_trunc.txt\n",
        "1207.4951_trunc.txt\n",
        "1310.5764_trunc.txt"
       ]
      },
      {
       "output_type": "stream",
       "stream": "stdout",
       "text": [
        "\n",
        "1406.1849_trunc.txt\n",
        "1303.6841_trunc.txt\n",
        "1307.7682_trunc.txt"
       ]
      },
      {
       "output_type": "stream",
       "stream": "stdout",
       "text": [
        "\n",
        "1305.6156_trunc.txt\n",
        "1401.7801_trunc.txt\n",
        "1309.7804_trunc.txt"
       ]
      },
      {
       "output_type": "stream",
       "stream": "stdout",
       "text": [
        "\n",
        "1405.6535_trunc.txt\n",
        "1507.07669_trunc.txt\n",
        "1305.6408_trunc.txt"
       ]
      },
      {
       "output_type": "stream",
       "stream": "stdout",
       "text": [
        "\n",
        "1508.03002_trunc.txt\n",
        "1407.3747_trunc.txt\n",
        "1410.0180_trunc.txt"
       ]
      },
      {
       "output_type": "stream",
       "stream": "stdout",
       "text": [
        "\n",
        "1205.4159_trunc.txt\n",
        "1303.5613_trunc.txt"
       ]
      },
      {
       "output_type": "stream",
       "stream": "stdout",
       "text": [
        "\n",
        "1307.6501_trunc.txt\n",
        "1406.4421_trunc.txt\n",
        "1311.1797_trunc.txt"
       ]
      },
      {
       "output_type": "stream",
       "stream": "stdout",
       "text": [
        "\n",
        "1409.6496_trunc.txt\n",
        "1404.2910_trunc.txt\n",
        "1402.0142_trunc.txt"
       ]
      },
      {
       "output_type": "stream",
       "stream": "stdout",
       "text": [
        "\n",
        "1505.00003_trunc.txt\n",
        "1302.6748_trunc.txt\n",
        "1504.04901_trunc.txt"
       ]
      },
      {
       "output_type": "stream",
       "stream": "stdout",
       "text": [
        "\n",
        "1510.06419_trunc.txt\n",
        "1110.2345_trunc.txt\n",
        "1406.4689_trunc.txt"
       ]
      },
      {
       "output_type": "stream",
       "stream": "stdout",
       "text": [
        "\n",
        "1510.02330_trunc.txt\n",
        "1310.2523_trunc.txt\n",
        "1407.0013_trunc.txt"
       ]
      },
      {
       "output_type": "stream",
       "stream": "stdout",
       "text": [
        "\n",
        "1402.2424_trunc.txt\n",
        "1211.5733_trunc.txt\n",
        "1407.4229_trunc.txt"
       ]
      },
      {
       "output_type": "stream",
       "stream": "stdout",
       "text": [
        "\n",
        "1502.00184_trunc.txt\n",
        "1411.0288_trunc.txt"
       ]
      },
      {
       "output_type": "stream",
       "stream": "stdout",
       "text": [
        "\n",
        "1506.00414_trunc.txt\n",
        "1207.0282_trunc.txt\n",
        "1210.5663_trunc.txt"
       ]
      },
      {
       "output_type": "stream",
       "stream": "stdout",
       "text": [
        "\n",
        "1412.4182_trunc.txt\n",
        "1403.2363_trunc.txt\n",
        "1202.3483_trunc.txt"
       ]
      },
      {
       "output_type": "stream",
       "stream": "stdout",
       "text": [
        "\n",
        "1507.07055_trunc.txt\n",
        "1505.05461_trunc.txt\n",
        "1207.0865_trunc.txt"
       ]
      },
      {
       "output_type": "stream",
       "stream": "stdout",
       "text": [
        "\n",
        "1510.01188_trunc.txt\n",
        "1310.5304_trunc.txt\n",
        "1308.3304_trunc.txt"
       ]
      },
      {
       "output_type": "stream",
       "stream": "stdout",
       "text": [
        "\n",
        "1409.5099_trunc.txt\n",
        "1306.4864_trunc.txt\n",
        "1409.0292_trunc.txt"
       ]
      },
      {
       "output_type": "stream",
       "stream": "stdout",
       "text": [
        "\n",
        "1409.8269_trunc.txt\n",
        "1410.1368_trunc.txt\n",
        "1112.2868_trunc.txt"
       ]
      },
      {
       "output_type": "stream",
       "stream": "stdout",
       "text": [
        "\n",
        "1209.4173_trunc.txt\n",
        "1311.2038_trunc.txt\n",
        "1211.3230_trunc.txt"
       ]
      },
      {
       "output_type": "stream",
       "stream": "stdout",
       "text": [
        "\n",
        "1105.1304_trunc.txt\n",
        "1312.6661_trunc.txt\n",
        "1401.0993_trunc.txt"
       ]
      },
      {
       "output_type": "stream",
       "stream": "stdout",
       "text": [
        "\n",
        "1508.04720_trunc.txt\n",
        "1412.0620_trunc.txt\n",
        "1411.6860_trunc.txt"
       ]
      },
      {
       "output_type": "stream",
       "stream": "stdout",
       "text": [
        "\n",
        "1408.1239_trunc.txt\n",
        "1403.6195_trunc.txt\n",
        "1105.1896_trunc.txt"
       ]
      },
      {
       "output_type": "stream",
       "stream": "stdout",
       "text": [
        "\n",
        "1405.6044_trunc.txt\n",
        "1310.3222_trunc.txt\n",
        "1207.4074_trunc.txt"
       ]
      },
      {
       "output_type": "stream",
       "stream": "stdout",
       "text": [
        "\n",
        "1108.1536_trunc.txt\n",
        "1104.4210_trunc.txt\n",
        "1511.02729_trunc.txt"
       ]
      },
      {
       "output_type": "stream",
       "stream": "stdout",
       "text": [
        "\n",
        "1205.2947_trunc.txt\n",
        "1502.01999_trunc.txt\n",
        "1506.03521_trunc.txt"
       ]
      },
      {
       "output_type": "stream",
       "stream": "stdout",
       "text": [
        "\n",
        "1109.6406_trunc.txt\n",
        "1504.00865_trunc.txt\n",
        "1210.5918_trunc.txt"
       ]
      },
      {
       "output_type": "stream",
       "stream": "stdout",
       "text": [
        "\n",
        "1402.0092_trunc.txt\n",
        "1402.1700_trunc.txt\n",
        "1401.7278_trunc.txt"
       ]
      },
      {
       "output_type": "stream",
       "stream": "stdout",
       "text": [
        "\n",
        "1405.7129_trunc.txt\n",
        "1309.1913_trunc.txt"
       ]
      },
      {
       "output_type": "stream",
       "stream": "stdout",
       "text": [
        "\n",
        "1308.4180_trunc.txt\n",
        "1408.0324_trunc.txt\n",
        "1504.01281_trunc.txt"
       ]
      },
      {
       "output_type": "stream",
       "stream": "stdout",
       "text": [
        "\n",
        "1405.6057_trunc.txt\n",
        "1410.0112_trunc.txt\n",
        "1306.3092_trunc.txt"
       ]
      },
      {
       "output_type": "stream",
       "stream": "stdout",
       "text": [
        "\n",
        "1406.1440_trunc.txt\n",
        "1304.4786_trunc.txt\n",
        "1210.0103_trunc.txt"
       ]
      },
      {
       "output_type": "stream",
       "stream": "stdout",
       "text": [
        "\n",
        "1303.6042_trunc.txt\n",
        "1302.6058_trunc.txt\n",
        "1312.5448_trunc.txt"
       ]
      },
      {
       "output_type": "stream",
       "stream": "stdout",
       "text": [
        "\n",
        "1309.5056_trunc.txt\n",
        "1408.2566_trunc.txt\n",
        "1207.4988_trunc.txt"
       ]
      },
      {
       "output_type": "stream",
       "stream": "stdout",
       "text": [
        "\n",
        "1508.04070_trunc.txt\n",
        "1410.0891_trunc.txt\n",
        "1305.4482_trunc.txt"
       ]
      },
      {
       "output_type": "stream",
       "stream": "stdout",
       "text": [
        "\n",
        "1509.05720_trunc.txt\n",
        "1402.2594_trunc.txt\n",
        "1303.4890_trunc.txt"
       ]
      },
      {
       "output_type": "stream",
       "stream": "stdout",
       "text": [
        "\n",
        "1406.5936_trunc.txt\n",
        "1201.1089_trunc.txt\n",
        "1205.6711_trunc.txt"
       ]
      },
      {
       "output_type": "stream",
       "stream": "stdout",
       "text": [
        "\n",
        "1311.1687_trunc.txt\n",
        "1312.6974_trunc.txt\n",
        "1508.03283_trunc.txt"
       ]
      },
      {
       "output_type": "stream",
       "stream": "stdout",
       "text": [
        "\n",
        "1105.1310_trunc.txt\n",
        "1505.01247_trunc.txt\n",
        "1511.01009_trunc.txt"
       ]
      },
      {
       "output_type": "stream",
       "stream": "stdout",
       "text": [
        "\n",
        "1410.8729_trunc.txt\n",
        "1503.07791_trunc.txt\n",
        "1507.04189_trunc.txt"
       ]
      },
      {
       "output_type": "stream",
       "stream": "stdout",
       "text": [
        "\n",
        "1503.05852_trunc.txt\n",
        "1303.6146_trunc.txt\n",
        "1109.1612_trunc.txt"
       ]
      },
      {
       "output_type": "stream",
       "stream": "stdout",
       "text": [
        "\n",
        "1211.0130_trunc.txt\n",
        "1301.6647_trunc.txt\n",
        "1205.6055_trunc.txt"
       ]
      },
      {
       "output_type": "stream",
       "stream": "stdout",
       "text": [
        "\n",
        "1111.0653_trunc.txt\n",
        "1404.2957_trunc.txt\n",
        "1403.3374_trunc.txt"
       ]
      },
      {
       "output_type": "stream",
       "stream": "stdout",
       "text": [
        "\n",
        "1404.6000_trunc.txt\n",
        "1403.6922_trunc.txt\n",
        "1508.06465_trunc.txt"
       ]
      },
      {
       "output_type": "stream",
       "stream": "stdout",
       "text": [
        "\n",
        "1211.2060_trunc.txt\n",
        "1110.2058_trunc.txt\n",
        "1201.1578_trunc.txt"
       ]
      },
      {
       "output_type": "stream",
       "stream": "stdout",
       "text": [
        "\n",
        "1407.4949_trunc.txt\n",
        "1301.3602_trunc.txt\n",
        "1210.1058_trunc.txt"
       ]
      },
      {
       "output_type": "stream",
       "stream": "stdout",
       "text": [
        "\n",
        "1211.5690_trunc.txt\n",
        "1410.4462_trunc.txt"
       ]
      },
      {
       "output_type": "stream",
       "stream": "stdout",
       "text": [
        "\n",
        "1405.4451_trunc.txt\n",
        "1107.3542_trunc.txt\n",
        "1310.0150_trunc.txt"
       ]
      },
      {
       "output_type": "stream",
       "stream": "stdout",
       "text": [
        "\n",
        "1211.7114_trunc.txt\n",
        "1301.6256_trunc.txt\n",
        "1211.3313_trunc.txt"
       ]
      },
      {
       "output_type": "stream",
       "stream": "stdout",
       "text": [
        "\n",
        "1307.5231_trunc.txt\n",
        "1502.00320_trunc.txt\n",
        "1402.6806_trunc.txt"
       ]
      },
      {
       "output_type": "stream",
       "stream": "stdout",
       "text": [
        "\n",
        "1509.07229_trunc.txt\n",
        "1312.6978_trunc.txt\n",
        "1509.03882_trunc.txt"
       ]
      },
      {
       "output_type": "stream",
       "stream": "stdout",
       "text": [
        "\n",
        "1107.2387_trunc.txt\n",
        "1409.0727_trunc.txt\n",
        "1106.0617_trunc.txt"
       ]
      },
      {
       "output_type": "stream",
       "stream": "stdout",
       "text": [
        "\n",
        "1310.6515_trunc.txt\n",
        "1209.3628_trunc.txt\n",
        "1211.1547_trunc.txt"
       ]
      },
      {
       "output_type": "stream",
       "stream": "stdout",
       "text": [
        "\n",
        "1508.01902_trunc.txt\n",
        "1106.4490_trunc.txt\n",
        "1502.01750_trunc.txt"
       ]
      },
      {
       "output_type": "stream",
       "stream": "stdout",
       "text": [
        "\n",
        "1105.0205_trunc.txt\n",
        "1105.1320_trunc.txt\n",
        "1407.2724_trunc.txt"
       ]
      },
      {
       "output_type": "stream",
       "stream": "stdout",
       "text": [
        "\n",
        "1105.5820_trunc.txt\n",
        "1110.0108_trunc.txt\n",
        "1511.00926_trunc.txt"
       ]
      },
      {
       "output_type": "stream",
       "stream": "stdout",
       "text": [
        "\n",
        "1306.0325_trunc.txt\n",
        "1306.5311_trunc.txt"
       ]
      },
      {
       "output_type": "stream",
       "stream": "stdout",
       "text": [
        "\n",
        "1306.4943_trunc.txt\n",
        "1502.07102_trunc.txt\n",
        "1508.02933_trunc.txt"
       ]
      },
      {
       "output_type": "stream",
       "stream": "stdout",
       "text": [
        "\n",
        "1507.08473_trunc.txt\n",
        "1105.6351_trunc.txt\n",
        "1110.0110_trunc.txt"
       ]
      },
      {
       "output_type": "stream",
       "stream": "stdout",
       "text": [
        "\n",
        "1109.2560_trunc.txt\n",
        "1403.1903_trunc.txt"
       ]
      },
      {
       "output_type": "stream",
       "stream": "stdout",
       "text": [
        "\n",
        "1201.0708_trunc.txt\n",
        "1411.6669_trunc.txt\n",
        "1202.2035_trunc.txt"
       ]
      },
      {
       "output_type": "stream",
       "stream": "stdout",
       "text": [
        "\n",
        "1211.2284_trunc.txt\n",
        "1207.3994_trunc.txt\n",
        "1110.0561_trunc.txt"
       ]
      },
      {
       "output_type": "stream",
       "stream": "stdout",
       "text": [
        "\n",
        "1309.6136_trunc.txt\n",
        "1109.5000_trunc.txt\n",
        "1411.5888_trunc.txt"
       ]
      },
      {
       "output_type": "stream",
       "stream": "stdout",
       "text": [
        "\n",
        "1410.6843_trunc.txt\n",
        "1501.03659_trunc.txt"
       ]
      },
      {
       "output_type": "stream",
       "stream": "stdout",
       "text": [
        "\n",
        "1408.4908_trunc.txt\n",
        "1406.6766_trunc.txt\n",
        "1504.07645_trunc.txt"
       ]
      },
      {
       "output_type": "stream",
       "stream": "stdout",
       "text": [
        "\n",
        "1312.4349_trunc.txt\n",
        "1404.3397_trunc.txt\n",
        "1410.5082_trunc.txt"
       ]
      },
      {
       "output_type": "stream",
       "stream": "stdout",
       "text": [
        "\n",
        "1510.08699_trunc.txt\n",
        "1506.03481_trunc.txt\n",
        "1312.7439_trunc.txt"
       ]
      },
      {
       "output_type": "stream",
       "stream": "stdout",
       "text": [
        "\n",
        "1405.6417_trunc.txt\n",
        "1201.6307_trunc.txt\n",
        "1406.0541_trunc.txt"
       ]
      },
      {
       "output_type": "stream",
       "stream": "stdout",
       "text": [
        "\n",
        "1504.04696_trunc.txt\n",
        "1205.2508_trunc.txt\n",
        "1301.1717_trunc.txt"
       ]
      },
      {
       "output_type": "stream",
       "stream": "stdout",
       "text": [
        "\n",
        "1411.0183_trunc.txt\n",
        "1301.5328_trunc.txt\n",
        "1502.07131_trunc.txt"
       ]
      },
      {
       "output_type": "stream",
       "stream": "stdout",
       "text": [
        "\n",
        "1302.0114_trunc.txt\n",
        "1501.01320_trunc.txt\n",
        "1304.0943_trunc.txt"
       ]
      },
      {
       "output_type": "stream",
       "stream": "stdout",
       "text": [
        "\n",
        "1412.7890_trunc.txt\n",
        "1508.07929_trunc.txt\n",
        "1406.7773_trunc.txt"
       ]
      },
      {
       "output_type": "stream",
       "stream": "stdout",
       "text": [
        "\n",
        "1310.7838_trunc.txt\n",
        "1401.6044_trunc.txt\n",
        "1301.2242_trunc.txt"
       ]
      },
      {
       "output_type": "stream",
       "stream": "stdout",
       "text": [
        "\n",
        "1311.1890_trunc.txt\n",
        "1307.8271_trunc.txt\n",
        "1108.3968_trunc.txt"
       ]
      },
      {
       "output_type": "stream",
       "stream": "stdout",
       "text": [
        "\n",
        "1209.5908_trunc.txt\n",
        "1510.04195_trunc.txt\n",
        "1509.07409_trunc.txt"
       ]
      },
      {
       "output_type": "stream",
       "stream": "stdout",
       "text": [
        "\n",
        "1507.05185_trunc.txt\n",
        "1109.0392_trunc.txt\n",
        "1410.6879_trunc.txt"
       ]
      },
      {
       "output_type": "stream",
       "stream": "stdout",
       "text": [
        "\n",
        "1410.6698_trunc.txt\n",
        "1111.1067_trunc.txt\n",
        "1304.8087_trunc.txt"
       ]
      },
      {
       "output_type": "stream",
       "stream": "stdout",
       "text": [
        "\n",
        "1106.5119_trunc.txt\n",
        "1411.4626_trunc.txt\n",
        "1503.03879_trunc.txt"
       ]
      },
      {
       "output_type": "stream",
       "stream": "stdout",
       "text": [
        "\n",
        "1502.01269_trunc.txt\n",
        "1507.05021_trunc.txt\n",
        "1205.1617_trunc.txt"
       ]
      },
      {
       "output_type": "stream",
       "stream": "stdout",
       "text": [
        "\n",
        "1303.3738_trunc.txt\n",
        "1206.0827_trunc.txt\n",
        "1311.2669_trunc.txt"
       ]
      },
      {
       "output_type": "stream",
       "stream": "stdout",
       "text": [
        "\n",
        "1107.2753_trunc.txt\n",
        "1211.4742_trunc.txt\n",
        "1212.6232_trunc.txt"
       ]
      },
      {
       "output_type": "stream",
       "stream": "stdout",
       "text": [
        "\n",
        "1409.1331_trunc.txt\n",
        "1503.05392_trunc.txt\n",
        "1109.3336_trunc.txt"
       ]
      },
      {
       "output_type": "stream",
       "stream": "stdout",
       "text": [
        "\n",
        "1509.08083_trunc.txt\n",
        "1507.06597_trunc.txt\n",
        "1404.6875_trunc.txt"
       ]
      },
      {
       "output_type": "stream",
       "stream": "stdout",
       "text": [
        "\n",
        "1405.0379_trunc.txt\n",
        "1405.6257_trunc.txt\n",
        "1309.6024_trunc.txt"
       ]
      },
      {
       "output_type": "stream",
       "stream": "stdout",
       "text": [
        "\n",
        "1308.6626_trunc.txt\n",
        "1408.6218_trunc.txt\n",
        "1105.4540_trunc.txt"
       ]
      },
      {
       "output_type": "stream",
       "stream": "stdout",
       "text": [
        "\n",
        "1206.1365_trunc.txt\n",
        "1407.5565_trunc.txt\n",
        "1205.4095_trunc.txt"
       ]
      },
      {
       "output_type": "stream",
       "stream": "stdout",
       "text": [
        "\n",
        "1509.04093_trunc.txt\n",
        "1211.3509_trunc.txt\n",
        "1107.3284_trunc.txt"
       ]
      },
      {
       "output_type": "stream",
       "stream": "stdout",
       "text": [
        "\n",
        "1108.5266_trunc.txt\n",
        "1109.5002_trunc.txt\n",
        "1406.2721_trunc.txt"
       ]
      },
      {
       "output_type": "stream",
       "stream": "stdout",
       "text": [
        "\n",
        "1105.0014_trunc.txt\n",
        "1211.1073_trunc.txt\n",
        "1205.0638_trunc.txt"
       ]
      },
      {
       "output_type": "stream",
       "stream": "stdout",
       "text": [
        "\n",
        "1112.0504_trunc.txt\n",
        "1506.05337_trunc.txt\n",
        "1206.5628_trunc.txt"
       ]
      },
      {
       "output_type": "stream",
       "stream": "stdout",
       "text": [
        "\n",
        "1506.04136_trunc.txt\n",
        "1206.0867_trunc.txt\n",
        "1510.04740_trunc.txt"
       ]
      },
      {
       "output_type": "stream",
       "stream": "stdout",
       "text": [
        "\n",
        "1305.7388_trunc.txt\n",
        "1410.6296_trunc.txt"
       ]
      },
      {
       "output_type": "stream",
       "stream": "stdout",
       "text": [
        "\n",
        "1509.09225_trunc.txt\n",
        "1309.7824_trunc.txt\n",
        "1311.0072_trunc.txt"
       ]
      },
      {
       "output_type": "stream",
       "stream": "stdout",
       "text": [
        "\n",
        "1109.0898_trunc.txt\n",
        "1206.0262_trunc.txt\n",
        "1109.4540_trunc.txt"
       ]
      },
      {
       "output_type": "stream",
       "stream": "stdout",
       "text": [
        "\n",
        "1301.2708_trunc.txt\n",
        "1110.1846_trunc.txt\n",
        "1303.7090_trunc.txt"
       ]
      },
      {
       "output_type": "stream",
       "stream": "stdout",
       "text": [
        "\n",
        "1107.1404_trunc.txt\n",
        "1508.02757_trunc.txt\n",
        "1509.00426_trunc.txt"
       ]
      },
      {
       "output_type": "stream",
       "stream": "stdout",
       "text": [
        "\n",
        "1504.03438_trunc.txt\n",
        "1208.5600_trunc.txt\n",
        "1412.5262_trunc.txt"
       ]
      },
      {
       "output_type": "stream",
       "stream": "stdout",
       "text": [
        "\n",
        "1305.4836_trunc.txt\n",
        "1410.3369_trunc.txt\n",
        "1201.6115_trunc.txt"
       ]
      },
      {
       "output_type": "stream",
       "stream": "stdout",
       "text": [
        "\n",
        "1108.2401_trunc.txt\n",
        "1403.2022_trunc.txt\n",
        "1111.3210_trunc.txt"
       ]
      },
      {
       "output_type": "stream",
       "stream": "stdout",
       "text": [
        "\n",
        "1309.6138_trunc.txt\n",
        "1312.7840_trunc.txt\n",
        "1211.4372_trunc.txt"
       ]
      },
      {
       "output_type": "stream",
       "stream": "stdout",
       "text": [
        "\n",
        "1104.2190_trunc.txt\n",
        "1502.07523_trunc.txt\n",
        "1503.01245_trunc.txt"
       ]
      },
      {
       "output_type": "stream",
       "stream": "stdout",
       "text": [
        "\n",
        "1504.02689_trunc.txt\n",
        "1506.02194_trunc.txt\n",
        "1111.6086_trunc.txt"
       ]
      },
      {
       "output_type": "stream",
       "stream": "stdout",
       "text": [
        "\n",
        "1408.5621_trunc.txt\n",
        "1112.0391_trunc.txt\n",
        "1306.3301_trunc.txt"
       ]
      },
      {
       "output_type": "stream",
       "stream": "stdout",
       "text": [
        "\n",
        "1205.4146_trunc.txt\n",
        "1409.4317_trunc.txt\n",
        "1507.02608_trunc.txt"
       ]
      },
      {
       "output_type": "stream",
       "stream": "stdout",
       "text": [
        "\n",
        "1405.2106_trunc.txt\n",
        "1407.1004_trunc.txt\n",
        "1409.3301_trunc.txt"
       ]
      },
      {
       "output_type": "stream",
       "stream": "stdout",
       "text": [
        "\n",
        "1303.6690_trunc.txt\n",
        "1301.6635_trunc.txt\n",
        "1410.2639_trunc.txt\n",
        "1303.4871_trunc.txt"
       ]
      },
      {
       "output_type": "stream",
       "stream": "stdout",
       "text": [
        "\n",
        "1406.0476_trunc.txt\n",
        "1111.3029_trunc.txt\n",
        "1207.2883_trunc.txt"
       ]
      },
      {
       "output_type": "stream",
       "stream": "stdout",
       "text": [
        "\n",
        "1406.6085_trunc.txt\n",
        "1507.07050_trunc.txt\n",
        "1206.0576_trunc.txt"
       ]
      },
      {
       "output_type": "stream",
       "stream": "stdout",
       "text": [
        "\n",
        "1410.7165_trunc.txt\n",
        "1302.3403_trunc.txt\n",
        "1308.6780_trunc.txt"
       ]
      },
      {
       "output_type": "stream",
       "stream": "stdout",
       "text": [
        "\n",
        "1306.4158_trunc.txt\n",
        "1409.2344_trunc.txt\n",
        "1507.07664_trunc.txt"
       ]
      },
      {
       "output_type": "stream",
       "stream": "stdout",
       "text": [
        "\n",
        "1404.0646_trunc.txt\n",
        "1312.4691_trunc.txt\n",
        "1310.6713_trunc.txt"
       ]
      },
      {
       "output_type": "stream",
       "stream": "stdout",
       "text": [
        "\n",
        "1104.5136_trunc.txt\n",
        "1304.5939_trunc.txt\n",
        "1403.0265_trunc.txt"
       ]
      },
      {
       "output_type": "stream",
       "stream": "stdout",
       "text": [
        "\n",
        "1206.0648_trunc.txt\n",
        "1401.1026_trunc.txt\n",
        "1108.5560_trunc.txt"
       ]
      },
      {
       "output_type": "stream",
       "stream": "stdout",
       "text": [
        "\n",
        "1308.2764_trunc.txt\n",
        "1105.6027_trunc.txt"
       ]
      },
      {
       "output_type": "stream",
       "stream": "stdout",
       "text": [
        "\n",
        "1303.1743_trunc.txt\n",
        "1206.4091_trunc.txt\n",
        "1206.2620_trunc.txt"
       ]
      },
      {
       "output_type": "stream",
       "stream": "stdout",
       "text": [
        "\n",
        "1210.8094_trunc.txt\n",
        "1504.05087_trunc.txt\n",
        "1301.7567_trunc.txt"
       ]
      },
      {
       "output_type": "stream",
       "stream": "stdout",
       "text": [
        "\n",
        "1110.4985_trunc.txt\n",
        "1409.8571_trunc.txt\n",
        "1305.2436_trunc.txt"
       ]
      },
      {
       "output_type": "stream",
       "stream": "stdout",
       "text": [
        "\n",
        "1410.8290_trunc.txt\n",
        "1205.1892_trunc.txt\n",
        "1507.01772_trunc.txt"
       ]
      },
      {
       "output_type": "stream",
       "stream": "stdout",
       "text": [
        "\n",
        "1107.1736_trunc.txt\n",
        "1505.04243_trunc.txt\n",
        "1205.1481_trunc.txt"
       ]
      },
      {
       "output_type": "stream",
       "stream": "stdout",
       "text": [
        "\n",
        "1308.3728_trunc.txt\n",
        "1412.1530_trunc.txt\n",
        "1506.02326_trunc.txt"
       ]
      },
      {
       "output_type": "stream",
       "stream": "stdout",
       "text": [
        "\n",
        "1311.5187_trunc.txt\n",
        "1111.1308_trunc.txt\n",
        "1109.3607_trunc.txt"
       ]
      },
      {
       "output_type": "stream",
       "stream": "stdout",
       "text": [
        "\n",
        "1403.3762_trunc.txt\n",
        "1412.0607_trunc.txt\n",
        "1402.1004_trunc.txt"
       ]
      },
      {
       "output_type": "stream",
       "stream": "stdout",
       "text": [
        "\n",
        "1207.6313_trunc.txt\n",
        "1502.07042_trunc.txt\n",
        "1202.2849_trunc.txt"
       ]
      },
      {
       "output_type": "stream",
       "stream": "stdout",
       "text": [
        "\n",
        "1503.04493_trunc.txt\n",
        "1108.1972_trunc.txt\n",
        "1209.4177_trunc.txt"
       ]
      },
      {
       "output_type": "stream",
       "stream": "stdout",
       "text": [
        "\n",
        "1409.6013_trunc.txt\n",
        "1112.5506_trunc.txt\n",
        "1401.5272_trunc.txt"
       ]
      },
      {
       "output_type": "stream",
       "stream": "stdout",
       "text": [
        "\n",
        "1507.01524_trunc.txt\n",
        "1312.1054_trunc.txt\n",
        "1202.1212_trunc.txt"
       ]
      },
      {
       "output_type": "stream",
       "stream": "stdout",
       "text": [
        "\n",
        "1202.2211_trunc.txt\n",
        "1509.00114_trunc.txt\n",
        "1401.6926_trunc.txt"
       ]
      },
      {
       "output_type": "stream",
       "stream": "stdout",
       "text": [
        "\n",
        "1308.3890_trunc.txt\n",
        "1407.4596_trunc.txt\n",
        "1506.04709_trunc.txt"
       ]
      },
      {
       "output_type": "stream",
       "stream": "stdout",
       "text": [
        "\n",
        "1112.4951_trunc.txt\n",
        "1505.05189_trunc.txt\n",
        "1506.07212_trunc.txt"
       ]
      },
      {
       "output_type": "stream",
       "stream": "stdout",
       "text": [
        "\n",
        "1207.5998_trunc.txt\n",
        "1508.07036_trunc.txt\n",
        "1411.4688_trunc.txt"
       ]
      },
      {
       "output_type": "stream",
       "stream": "stdout",
       "text": [
        "\n",
        "1502.04654_trunc.txt\n",
        "1511.02609_trunc.txt\n",
        "1201.2617_trunc.txt"
       ]
      },
      {
       "output_type": "stream",
       "stream": "stdout",
       "text": [
        "\n",
        "1302.0098_trunc.txt\n",
        "1310.7270_trunc.txt\n",
        "1107.5481_trunc.txt"
       ]
      },
      {
       "output_type": "stream",
       "stream": "stdout",
       "text": [
        "\n",
        "1509.03860_trunc.txt\n",
        "1304.6017_trunc.txt\n",
        "1206.4768_trunc.txt"
       ]
      },
      {
       "output_type": "stream",
       "stream": "stdout",
       "text": [
        "\n",
        "1212.6549_trunc.txt\n",
        "1212.3151_trunc.txt\n",
        "1310.8240_trunc.txt"
       ]
      },
      {
       "output_type": "stream",
       "stream": "stdout",
       "text": [
        "\n",
        "1408.3386_trunc.txt\n",
        "1211.5513_trunc.txt\n",
        "1106.4763_trunc.txt"
       ]
      },
      {
       "output_type": "stream",
       "stream": "stdout",
       "text": [
        "\n",
        "1210.0686_trunc.txt\n",
        "1312.7452_trunc.txt\n",
        "1205.3324_trunc.txt"
       ]
      },
      {
       "output_type": "stream",
       "stream": "stdout",
       "text": [
        "\n",
        "1501.02559_trunc.txt\n",
        "1311.5768_trunc.txt\n",
        "1312.1830_trunc.txt"
       ]
      },
      {
       "output_type": "stream",
       "stream": "stdout",
       "text": [
        "\n",
        "1201.1171_trunc.txt\n",
        "1312.6969_trunc.txt\n",
        "1405.0182_trunc.txt"
       ]
      },
      {
       "output_type": "stream",
       "stream": "stdout",
       "text": [
        "\n",
        "1508.07537_trunc.txt\n",
        "1407.7166_trunc.txt\n",
        "1212.5860_trunc.txt"
       ]
      },
      {
       "output_type": "stream",
       "stream": "stdout",
       "text": [
        "\n",
        "1408.5724_trunc.txt\n",
        "1408.1234_trunc.txt\n",
        "1205.0880_trunc.txt"
       ]
      },
      {
       "output_type": "stream",
       "stream": "stdout",
       "text": [
        "\n",
        "1105.1361_trunc.txt\n",
        "1205.2948_trunc.txt\n",
        "1410.2118_trunc.txt"
       ]
      },
      {
       "output_type": "stream",
       "stream": "stdout",
       "text": [
        "\n",
        "1406.3372_trunc.txt\n",
        "1410.2150_trunc.txt\n",
        "1201.5517_trunc.txt"
       ]
      },
      {
       "output_type": "stream",
       "stream": "stdout",
       "text": [
        "\n",
        "1209.2085_trunc.txt\n",
        "1412.0379_trunc.txt\n",
        "1305.4446_trunc.txt"
       ]
      },
      {
       "output_type": "stream",
       "stream": "stdout",
       "text": [
        "\n",
        "1308.0417_trunc.txt\n",
        "1501.00438_trunc.txt\n",
        "1510.06319_trunc.txt"
       ]
      },
      {
       "output_type": "stream",
       "stream": "stdout",
       "text": [
        "\n",
        "1403.0873_trunc.txt\n",
        "1507.07443_trunc.txt\n",
        "1503.03673_trunc.txt"
       ]
      },
      {
       "output_type": "stream",
       "stream": "stdout",
       "text": [
        "\n",
        "1508.03387_trunc.txt\n",
        "1410.5014_trunc.txt\n",
        "1401.3020_trunc.txt"
       ]
      },
      {
       "output_type": "stream",
       "stream": "stdout",
       "text": [
        "\n",
        "1407.0873_trunc.txt\n",
        "1210.5073_trunc.txt\n",
        "1502.02323_trunc.txt"
       ]
      },
      {
       "output_type": "stream",
       "stream": "stdout",
       "text": [
        "\n",
        "1107.0614_trunc.txt\n",
        "1509.07747_trunc.txt\n",
        "1505.06298_trunc.txt"
       ]
      },
      {
       "output_type": "stream",
       "stream": "stdout",
       "text": [
        "\n",
        "1409.1012_trunc.txt\n",
        "1308.5256_trunc.txt\n",
        "1312.0531_trunc.txt"
       ]
      },
      {
       "output_type": "stream",
       "stream": "stdout",
       "text": [
        "\n",
        "1506.03345_trunc.txt\n",
        "1510.02232_trunc.txt\n",
        "1411.5883_trunc.txt"
       ]
      },
      {
       "output_type": "stream",
       "stream": "stdout",
       "text": [
        "\n",
        "1311.7039_trunc.txt\n",
        "1511.02980_trunc.txt\n",
        "1304.6627_trunc.txt"
       ]
      },
      {
       "output_type": "stream",
       "stream": "stdout",
       "text": [
        "\n",
        "1412.7138_trunc.txt\n",
        "1507.03652_trunc.txt\n",
        "1510.08694_trunc.txt"
       ]
      },
      {
       "output_type": "stream",
       "stream": "stdout",
       "text": [
        "\n",
        "1310.1990_trunc.txt\n",
        "1503.08854_trunc.txt\n",
        "1408.3768_trunc.txt"
       ]
      },
      {
       "output_type": "stream",
       "stream": "stdout",
       "text": [
        "\n",
        "1407.0731_trunc.txt\n",
        "1107.4468_trunc.txt\n",
        "1502.00139_trunc.txt"
       ]
      },
      {
       "output_type": "stream",
       "stream": "stdout",
       "text": [
        "\n",
        "1508.06505_trunc.txt\n",
        "1508.04175_trunc.txt\n",
        "1503.07003_trunc.txt"
       ]
      },
      {
       "output_type": "stream",
       "stream": "stdout",
       "text": [
        "\n",
        "1411.1144_trunc.txt\n",
        "1110.1248_trunc.txt\n",
        "1304.0828_trunc.txt"
       ]
      },
      {
       "output_type": "stream",
       "stream": "stdout",
       "text": [
        "\n",
        "1411.7601_trunc.txt\n",
        "1311.2902_trunc.txt\n",
        "1403.7589_trunc.txt"
       ]
      },
      {
       "output_type": "stream",
       "stream": "stdout",
       "text": [
        "\n",
        "1307.7721_trunc.txt\n",
        "1506.08521_trunc.txt\n",
        "1506.04344_trunc.txt"
       ]
      },
      {
       "output_type": "stream",
       "stream": "stdout",
       "text": [
        "\n",
        "1412.5875_trunc.txt\n",
        "1204.6054_trunc.txt\n",
        "1309.3233_trunc.txt"
       ]
      },
      {
       "output_type": "stream",
       "stream": "stdout",
       "text": [
        "\n",
        "1206.3520_trunc.txt\n",
        "1309.7622_trunc.txt\n",
        "1411.3317_trunc.txt"
       ]
      },
      {
       "output_type": "stream",
       "stream": "stdout",
       "text": [
        "\n",
        "1402.0686_trunc.txt\n",
        "1507.05343_trunc.txt\n",
        "1105.5004_trunc.txt"
       ]
      },
      {
       "output_type": "stream",
       "stream": "stdout",
       "text": [
        "\n",
        "1205.5050_trunc.txt\n",
        "1308.2955_trunc.txt\n",
        "1302.1158_trunc.txt"
       ]
      },
      {
       "output_type": "stream",
       "stream": "stdout",
       "text": [
        "\n",
        "1401.0087_trunc.txt\n",
        "1201.6216_trunc.txt\n",
        "1301.5802_trunc.txt"
       ]
      },
      {
       "output_type": "stream",
       "stream": "stdout",
       "text": [
        "\n",
        "1207.3062_trunc.txt\n",
        "1108.2720_trunc.txt\n",
        "1401.3034_trunc.txt"
       ]
      },
      {
       "output_type": "stream",
       "stream": "stdout",
       "text": [
        "\n",
        "1510.08683_trunc.txt\n",
        "1505.02288_trunc.txt\n",
        "1301.4873_trunc.txt"
       ]
      },
      {
       "output_type": "stream",
       "stream": "stdout",
       "text": [
        "\n",
        "1508.02201_trunc.txt\n",
        "1111.0235_trunc.txt\n",
        "1301.2732_trunc.txt"
       ]
      },
      {
       "output_type": "stream",
       "stream": "stdout",
       "text": [
        "\n",
        "1111.2247_trunc.txt\n",
        "1210.8050_trunc.txt\n",
        "1303.6447_trunc.txt"
       ]
      },
      {
       "output_type": "stream",
       "stream": "stdout",
       "text": [
        "\n",
        "1303.1927_trunc.txt\n",
        "1109.5587_trunc.txt\n",
        "1212.1788_trunc.txt"
       ]
      },
      {
       "output_type": "stream",
       "stream": "stdout",
       "text": [
        "\n",
        "1311.0274_trunc.txt\n",
        "1109.6846_trunc.txt\n",
        "1111.1041_trunc.txt"
       ]
      },
      {
       "output_type": "stream",
       "stream": "stdout",
       "text": [
        "\n",
        "1403.7868_trunc.txt\n",
        "1503.04549_trunc.txt\n",
        "1410.4719_trunc.txt"
       ]
      },
      {
       "output_type": "stream",
       "stream": "stdout",
       "text": [
        "\n",
        "1209.0012_trunc.txt\n",
        "1506.04091_trunc.txt\n",
        "1501.06260_trunc.txt"
       ]
      },
      {
       "output_type": "stream",
       "stream": "stdout",
       "text": [
        "\n",
        "1211.5194_trunc.txt\n",
        "1407.3152_trunc.txt\n",
        "1509.01604_trunc.txt"
       ]
      },
      {
       "output_type": "stream",
       "stream": "stdout",
       "text": [
        "\n",
        "1504.01702_trunc.txt\n",
        "1506.04133_trunc.txt\n",
        "1409.6337_trunc.txt"
       ]
      },
      {
       "output_type": "stream",
       "stream": "stdout",
       "text": [
        "\n",
        "1303.7437_trunc.txt\n",
        "1405.7173_trunc.txt\n",
        "1511.03229_trunc.txt"
       ]
      },
      {
       "output_type": "stream",
       "stream": "stdout",
       "text": [
        "\n",
        "1312.3525_trunc.txt\n",
        "1503.08340_trunc.txt\n",
        "1503.01587_trunc.txt"
       ]
      },
      {
       "output_type": "stream",
       "stream": "stdout",
       "text": [
        "\n",
        "1202.2395_trunc.txt\n",
        "1312.4366_trunc.txt\n",
        "1311.1400_trunc.txt"
       ]
      },
      {
       "output_type": "stream",
       "stream": "stdout",
       "text": [
        "\n",
        "1105.1536_trunc.txt\n",
        "1306.2419_trunc.txt\n",
        "1407.3491_trunc.txt"
       ]
      },
      {
       "output_type": "stream",
       "stream": "stdout",
       "text": [
        "\n",
        "1502.01106_trunc.txt\n",
        "1206.0916_trunc.txt\n",
        "1312.6967_trunc.txt"
       ]
      },
      {
       "output_type": "stream",
       "stream": "stdout",
       "text": [
        "\n",
        "1405.1164_trunc.txt\n",
        "1306.0113_trunc.txt\n",
        "1302.1809_trunc.txt"
       ]
      },
      {
       "output_type": "stream",
       "stream": "stdout",
       "text": [
        "\n",
        "1106.2525_trunc.txt\n",
        "1412.5059_trunc.txt\n",
        "1405.5027_trunc.txt"
       ]
      },
      {
       "output_type": "stream",
       "stream": "stdout",
       "text": [
        "\n",
        "1311.7049_trunc.txt\n",
        "1509.07983_trunc.txt\n",
        "1510.08226_trunc.txt"
       ]
      },
      {
       "output_type": "stream",
       "stream": "stdout",
       "text": [
        "\n",
        "1506.01495_trunc.txt\n",
        "1108.0129_trunc.txt\n",
        "1209.5923_trunc.txt"
       ]
      },
      {
       "output_type": "stream",
       "stream": "stdout",
       "text": [
        "\n",
        "1510.02451_trunc.txt\n",
        "1411.7049_trunc.txt\n",
        "1401.7241_trunc.txt"
       ]
      },
      {
       "output_type": "stream",
       "stream": "stdout",
       "text": [
        "\n",
        "1402.1380_trunc.txt\n",
        "1403.1994_trunc.txt\n",
        "1402.2044_trunc.txt"
       ]
      },
      {
       "output_type": "stream",
       "stream": "stdout",
       "text": [
        "\n",
        "1405.4258_trunc.txt\n",
        "1302.4198_trunc.txt\n",
        "1405.1744_trunc.txt"
       ]
      },
      {
       "output_type": "stream",
       "stream": "stdout",
       "text": [
        "\n",
        "1104.0861_trunc.txt\n",
        "1211.6451_trunc.txt\n",
        "1312.5114_trunc.txt"
       ]
      },
      {
       "output_type": "stream",
       "stream": "stdout",
       "text": [
        "\n",
        "1201.0058_trunc.txt\n",
        "1508.00249_trunc.txt\n",
        "1211.0517_trunc.txt"
       ]
      },
      {
       "output_type": "stream",
       "stream": "stdout",
       "text": [
        "\n",
        "1511.01437_trunc.txt\n",
        "1503.01271_trunc.txt\n",
        "1406.5387_trunc.txt"
       ]
      },
      {
       "output_type": "stream",
       "stream": "stdout",
       "text": [
        "\n",
        "1509.01906_trunc.txt\n",
        "1510.06946_trunc.txt\n",
        "1405.0480_trunc.txt"
       ]
      },
      {
       "output_type": "stream",
       "stream": "stdout",
       "text": [
        "\n",
        "1207.6461_trunc.txt\n",
        "1202.0193_trunc.txt\n",
        "1311.3755_trunc.txt"
       ]
      },
      {
       "output_type": "stream",
       "stream": "stdout",
       "text": [
        "\n",
        "1206.2790_trunc.txt\n",
        "1510.09072_trunc.txt\n",
        "1109.2884_trunc.txt"
       ]
      },
      {
       "output_type": "stream",
       "stream": "stdout",
       "text": [
        "\n",
        "1310.2559_trunc.txt\n",
        "1510.01064_trunc.txt\n",
        "1112.4310_trunc.txt"
       ]
      },
      {
       "output_type": "stream",
       "stream": "stdout",
       "text": [
        "\n",
        "1112.2271_trunc.txt\n",
        "1509.02551_trunc.txt\n",
        "1412.2314_trunc.txt"
       ]
      },
      {
       "output_type": "stream",
       "stream": "stdout",
       "text": [
        "\n",
        "1401.3167_trunc.txt\n",
        "1305.1751_trunc.txt\n",
        "1403.6782_trunc.txt"
       ]
      },
      {
       "output_type": "stream",
       "stream": "stdout",
       "text": [
        "\n",
        "1506.00834_trunc.txt\n",
        "1112.1450_trunc.txt\n",
        "1412.7794_trunc.txt"
       ]
      },
      {
       "output_type": "stream",
       "stream": "stdout",
       "text": [
        "\n",
        "1306.2671_trunc.txt\n",
        "1206.0313_trunc.txt\n",
        "1106.5485_trunc.txt"
       ]
      },
      {
       "output_type": "stream",
       "stream": "stdout",
       "text": [
        "\n",
        "1402.0277_trunc.txt\n",
        "1412.8344_trunc.txt\n",
        "1305.7406_trunc.txt"
       ]
      },
      {
       "output_type": "stream",
       "stream": "stdout",
       "text": [
        "\n",
        "1309.3376_trunc.txt\n",
        "1402.3535_trunc.txt\n",
        "1506.04696_trunc.txt"
       ]
      },
      {
       "output_type": "stream",
       "stream": "stdout",
       "text": [
        "\n",
        "1104.3074_trunc.txt\n",
        "1511.02381_trunc.txt\n",
        "1202.0258_trunc.txt"
       ]
      },
      {
       "output_type": "stream",
       "stream": "stdout",
       "text": [
        "\n",
        "1411.6590_trunc.txt\n",
        "1402.0958_trunc.txt\n",
        "1205.1210_trunc.txt"
       ]
      },
      {
       "output_type": "stream",
       "stream": "stdout",
       "text": [
        "\n",
        "1509.06311_trunc.txt\n",
        "1401.7893_trunc.txt\n",
        "1411.1660_trunc.txt"
       ]
      },
      {
       "output_type": "stream",
       "stream": "stdout",
       "text": [
        "\n",
        "1403.4827_trunc.txt\n",
        "1407.5978_trunc.txt\n",
        "1509.03966_trunc.txt"
       ]
      },
      {
       "output_type": "stream",
       "stream": "stdout",
       "text": [
        "\n",
        "1211.5219_trunc.txt\n",
        "1105.0204_trunc.txt\n",
        "1106.3830_trunc.txt"
       ]
      },
      {
       "output_type": "stream",
       "stream": "stdout",
       "text": [
        "\n",
        "1302.1674_trunc.txt\n",
        "1401.1267_trunc.txt\n",
        "1405.0374_trunc.txt"
       ]
      },
      {
       "output_type": "stream",
       "stream": "stdout",
       "text": [
        "\n",
        "1210.4762_trunc.txt\n",
        "1303.6171_trunc.txt\n",
        "1509.02451_trunc.txt"
       ]
      },
      {
       "output_type": "stream",
       "stream": "stdout",
       "text": [
        "\n",
        "1107.4476_trunc.txt\n",
        "1506.05536_trunc.txt\n",
        "1305.5150_trunc.txt"
       ]
      },
      {
       "output_type": "stream",
       "stream": "stdout",
       "text": [
        "\n",
        "1212.4942_trunc.txt\n",
        "1207.5378_trunc.txt\n",
        "1404.0216_trunc.txt"
       ]
      },
      {
       "output_type": "stream",
       "stream": "stdout",
       "text": [
        "\n",
        "1306.4847_trunc.txt\n",
        "1205.6040_trunc.txt\n",
        "1301.7161_trunc.txt"
       ]
      },
      {
       "output_type": "stream",
       "stream": "stdout",
       "text": [
        "\n",
        "1308.0931_trunc.txt\n",
        "1507.06348_trunc.txt\n",
        "1310.1630_trunc.txt"
       ]
      },
      {
       "output_type": "stream",
       "stream": "stdout",
       "text": [
        "\n",
        "1307.6332_trunc.txt\n",
        "1305.6099_trunc.txt\n",
        "1402.0830_trunc.txt"
       ]
      },
      {
       "output_type": "stream",
       "stream": "stdout",
       "text": [
        "\n",
        "1209.2544_trunc.txt\n",
        "1206.7101_trunc.txt\n",
        "1504.01227_trunc.txt"
       ]
      },
      {
       "output_type": "stream",
       "stream": "stdout",
       "text": [
        "\n",
        "1312.7857_trunc.txt\n",
        "1110.6517_trunc.txt\n",
        "1506.04153_trunc.txt"
       ]
      },
      {
       "output_type": "stream",
       "stream": "stdout",
       "text": [
        "\n",
        "1107.0145_trunc.txt\n",
        "1408.0788_trunc.txt\n",
        "1304.5747_trunc.txt"
       ]
      },
      {
       "output_type": "stream",
       "stream": "stdout",
       "text": [
        "\n",
        "1407.0215_trunc.txt\n",
        "1402.2255_trunc.txt\n",
        "1201.1493_trunc.txt"
       ]
      },
      {
       "output_type": "stream",
       "stream": "stdout",
       "text": [
        "\n",
        "1405.6792_trunc.txt\n",
        "1412.1716_trunc.txt\n",
        "1406.0526_trunc.txt"
       ]
      },
      {
       "output_type": "stream",
       "stream": "stdout",
       "text": [
        "\n",
        "1403.2845_trunc.txt\n",
        "1312.0641_trunc.txt\n",
        "1208.6403_trunc.txt"
       ]
      },
      {
       "output_type": "stream",
       "stream": "stdout",
       "text": [
        "\n",
        "1411.1015_trunc.txt\n",
        "1410.4593_trunc.txt\n",
        "1507.05935_trunc.txt"
       ]
      },
      {
       "output_type": "stream",
       "stream": "stdout",
       "text": [
        "\n",
        "1506.07732_trunc.txt\n",
        "1504.04100_trunc.txt\n",
        "1111.4504_trunc.txt"
       ]
      },
      {
       "output_type": "stream",
       "stream": "stdout",
       "text": [
        "\n",
        "1106.2791_trunc.txt\n",
        "1112.1529_trunc.txt\n",
        "1410.3155_trunc.txt"
       ]
      },
      {
       "output_type": "stream",
       "stream": "stdout",
       "text": [
        "\n",
        "1509.09286_trunc.txt\n",
        "1305.7477_trunc.txt\n",
        "1406.1939_trunc.txt"
       ]
      },
      {
       "output_type": "stream",
       "stream": "stdout",
       "text": [
        "\n",
        "1302.0581_trunc.txt\n",
        "1204.4611_trunc.txt\n",
        "1407.7194_trunc.txt"
       ]
      },
      {
       "output_type": "stream",
       "stream": "stdout",
       "text": [
        "\n",
        "1401.3987_trunc.txt\n",
        "1504.04580_trunc.txt\n",
        "1204.6481_trunc.txt"
       ]
      },
      {
       "output_type": "stream",
       "stream": "stdout",
       "text": [
        "\n",
        "1411.7324_trunc.txt\n",
        "1309.4656_trunc.txt\n",
        "1209.1764_trunc.txt"
       ]
      },
      {
       "output_type": "stream",
       "stream": "stdout",
       "text": [
        "\n",
        "1405.7483_trunc.txt\n",
        "1505.03772_trunc.txt\n",
        "1401.1137_trunc.txt"
       ]
      },
      {
       "output_type": "stream",
       "stream": "stdout",
       "text": [
        "\n",
        "1109.2408_trunc.txt\n",
        "1308.5624_trunc.txt\n",
        "1301.4292_trunc.txt"
       ]
      },
      {
       "output_type": "stream",
       "stream": "stdout",
       "text": [
        "\n",
        "1311.1595_trunc.txt\n",
        "1309.3663_trunc.txt\n",
        "1210.2314_trunc.txt"
       ]
      },
      {
       "output_type": "stream",
       "stream": "stdout",
       "text": [
        "\n",
        "1106.6104_trunc.txt\n",
        "1302.6746_trunc.txt\n",
        "1312.2968_trunc.txt"
       ]
      },
      {
       "output_type": "stream",
       "stream": "stdout",
       "text": [
        "\n",
        "1202.0786_trunc.txt\n",
        "1507.07653_trunc.txt\n",
        "1110.4961_trunc.txt"
       ]
      },
      {
       "output_type": "stream",
       "stream": "stdout",
       "text": [
        "\n",
        "1209.1031_trunc.txt\n",
        "1110.3895_trunc.txt\n",
        "1307.1565_trunc.txt"
       ]
      },
      {
       "output_type": "stream",
       "stream": "stdout",
       "text": [
        "\n",
        "1409.8363_trunc.txt\n",
        "1206.0677_trunc.txt"
       ]
      },
      {
       "output_type": "stream",
       "stream": "stdout",
       "text": [
        "\n",
        "1208.3321_trunc.txt\n",
        "1202.2723_trunc.txt\n",
        "1309.4652_trunc.txt"
       ]
      },
      {
       "output_type": "stream",
       "stream": "stdout",
       "text": [
        "\n",
        "1112.1788_trunc.txt\n",
        "1507.07412_trunc.txt\n",
        "1507.08298_trunc.txt"
       ]
      },
      {
       "output_type": "stream",
       "stream": "stdout",
       "text": [
        "\n",
        "1309.4632_trunc.txt\n",
        "1401.2272_trunc.txt"
       ]
      },
      {
       "output_type": "stream",
       "stream": "stdout",
       "text": [
        "\n",
        "1306.1298_trunc.txt\n",
        "1501.04712_trunc.txt"
       ]
      },
      {
       "output_type": "stream",
       "stream": "stdout",
       "text": [
        "\n",
        "1509.01905_trunc.txt\n",
        "1308.5036_trunc.txt\n",
        "1306.5603_trunc.txt"
       ]
      },
      {
       "output_type": "stream",
       "stream": "stdout",
       "text": [
        "\n",
        "1209.6267_trunc.txt\n",
        "1311.5354_trunc.txt\n",
        "1309.3197_trunc.txt"
       ]
      },
      {
       "output_type": "stream",
       "stream": "stdout",
       "text": [
        "\n",
        "1406.7718_trunc.txt\n",
        "1510.07129_trunc.txt"
       ]
      },
      {
       "output_type": "stream",
       "stream": "stdout",
       "text": [
        "\n",
        "1302.5251_trunc.txt\n",
        "1508.06558_trunc.txt\n",
        "1304.3969_trunc.txt"
       ]
      },
      {
       "output_type": "stream",
       "stream": "stdout",
       "text": [
        "\n",
        "1302.0425_trunc.txt\n",
        "1109.6760_trunc.txt"
       ]
      },
      {
       "output_type": "stream",
       "stream": "stdout",
       "text": [
        "\n",
        "1403.1124_trunc.txt\n",
        "1311.7217_trunc.txt"
       ]
      },
      {
       "output_type": "stream",
       "stream": "stdout",
       "text": [
        "\n",
        "1201.5833_trunc.txt\n",
        "1301.4320_trunc.txt"
       ]
      },
      {
       "output_type": "stream",
       "stream": "stdout",
       "text": [
        "\n",
        "1310.3720_trunc.txt\n",
        "1207.5322_trunc.txt"
       ]
      },
      {
       "output_type": "stream",
       "stream": "stdout",
       "text": [
        "\n",
        "1311.3969_trunc.txt\n",
        "1410.6273_trunc.txt"
       ]
      },
      {
       "output_type": "stream",
       "stream": "stdout",
       "text": [
        "\n",
        "1105.0121_trunc.txt\n",
        "1407.1212_trunc.txt\n",
        "1509.01877_trunc.txt"
       ]
      },
      {
       "output_type": "stream",
       "stream": "stdout",
       "text": [
        "\n",
        "1111.1418_trunc.txt\n",
        "1104.3073_trunc.txt"
       ]
      },
      {
       "output_type": "stream",
       "stream": "stdout",
       "text": [
        "\n",
        "1309.1392_trunc.txt\n",
        "1312.2794_trunc.txt"
       ]
      },
      {
       "output_type": "stream",
       "stream": "stdout",
       "text": [
        "\n",
        "1510.04027_trunc.txt\n",
        "1405.6677_trunc.txt\n",
        "1301.2534_trunc.txt"
       ]
      },
      {
       "output_type": "stream",
       "stream": "stdout",
       "text": [
        "\n",
        "1304.4848_trunc.txt\n",
        "1310.7643_trunc.txt\n",
        "1211.5945_trunc.txt"
       ]
      },
      {
       "output_type": "stream",
       "stream": "stdout",
       "text": [
        "\n",
        "1406.2845_trunc.txt\n",
        "1404.3051_trunc.txt\n",
        "1201.4831_trunc.txt"
       ]
      },
      {
       "output_type": "stream",
       "stream": "stdout",
       "text": [
        "\n",
        "1311.6186_trunc.txt\n",
        "1402.0346_trunc.txt"
       ]
      },
      {
       "output_type": "stream",
       "stream": "stdout",
       "text": [
        "\n",
        "1507.07673_trunc.txt\n",
        "1109.4003_trunc.txt"
       ]
      },
      {
       "output_type": "stream",
       "stream": "stdout",
       "text": [
        "\n",
        "1103.4220_trunc.txt\n",
        "1402.4577_trunc.txt\n",
        "1401.0398_trunc.txt"
       ]
      },
      {
       "output_type": "stream",
       "stream": "stdout",
       "text": [
        "\n",
        "1405.5786_trunc.txt\n",
        "1406.0812_trunc.txt\n",
        "1502.06919_trunc.txt"
       ]
      },
      {
       "output_type": "stream",
       "stream": "stdout",
       "text": [
        "\n",
        "1506.08256_trunc.txt\n",
        "1307.7650_trunc.txt\n",
        "1411.6716_trunc.txt"
       ]
      },
      {
       "output_type": "stream",
       "stream": "stdout",
       "text": [
        "\n",
        "1509.03880_trunc.txt\n",
        "1508.05503_trunc.txt\n",
        "1501.02861_trunc.txt"
       ]
      },
      {
       "output_type": "stream",
       "stream": "stdout",
       "text": [
        "\n",
        "1411.5720_trunc.txt\n",
        "1111.2680_trunc.txt\n",
        "1112.6363_trunc.txt"
       ]
      },
      {
       "output_type": "stream",
       "stream": "stdout",
       "text": [
        "\n",
        "1112.6151_trunc.txt\n",
        "1211.2291_trunc.txt\n",
        "1210.5750_trunc.txt"
       ]
      },
      {
       "output_type": "stream",
       "stream": "stdout",
       "text": [
        "\n",
        "1502.07989_trunc.txt\n",
        "1106.5826_trunc.txt\n",
        "1104.4220_trunc.txt"
       ]
      },
      {
       "output_type": "stream",
       "stream": "stdout",
       "text": [
        "\n",
        "1111.1307_trunc.txt\n",
        "1110.5509_trunc.txt\n",
        "1107.3818_trunc.txt"
       ]
      },
      {
       "output_type": "stream",
       "stream": "stdout",
       "text": [
        "\n",
        "1503.09011_trunc.txt\n",
        "1404.3441_trunc.txt\n",
        "1304.1295_trunc.txt"
       ]
      },
      {
       "output_type": "stream",
       "stream": "stdout",
       "text": [
        "\n",
        "1303.4767_trunc.txt\n",
        "1402.3230_trunc.txt\n",
        "1506.00827_trunc.txt"
       ]
      },
      {
       "output_type": "stream",
       "stream": "stdout",
       "text": [
        "\n",
        "1211.2522_trunc.txt\n",
        "1310.8123_trunc.txt\n",
        "1206.6927_trunc.txt"
       ]
      },
      {
       "output_type": "stream",
       "stream": "stdout",
       "text": [
        "\n",
        "1401.4007_trunc.txt\n",
        "1110.4944_trunc.txt\n",
        "1403.0740_trunc.txt"
       ]
      },
      {
       "output_type": "stream",
       "stream": "stdout",
       "text": [
        "\n",
        "1502.07409_trunc.txt\n",
        "1403.0217_trunc.txt\n",
        "1411.5713_trunc.txt"
       ]
      },
      {
       "output_type": "stream",
       "stream": "stdout",
       "text": [
        "\n",
        "1306.6557_trunc.txt\n",
        "1303.3482_trunc.txt\n",
        "1502.03813_trunc.txt"
       ]
      },
      {
       "output_type": "stream",
       "stream": "stdout",
       "text": [
        "\n",
        "1507.00171_trunc.txt\n",
        "1403.1876_trunc.txt\n",
        "1402.2786_trunc.txt"
       ]
      },
      {
       "output_type": "stream",
       "stream": "stdout",
       "text": [
        "\n",
        "1504.08363_trunc.txt\n",
        "1112.1241_trunc.txt\n",
        "1303.4518_trunc.txt"
       ]
      },
      {
       "output_type": "stream",
       "stream": "stdout",
       "text": [
        "\n",
        "1108.2722_trunc.txt\n",
        "1511.04220_trunc.txt\n",
        "1505.07925_trunc.txt"
       ]
      },
      {
       "output_type": "stream",
       "stream": "stdout",
       "text": [
        "\n",
        "1309.0482_trunc.txt\n",
        "1511.02775_trunc.txt\n",
        "1510.08661_trunc.txt"
       ]
      },
      {
       "output_type": "stream",
       "stream": "stdout",
       "text": [
        "\n",
        "1106.1151_trunc.txt\n",
        "1407.3410_trunc.txt\n",
        "1202.3482_trunc.txt"
       ]
      },
      {
       "output_type": "stream",
       "stream": "stdout",
       "text": [
        "\n",
        "1201.1461_trunc.txt\n",
        "1310.3285_trunc.txt\n",
        "1507.04228_trunc.txt"
       ]
      },
      {
       "output_type": "stream",
       "stream": "stdout",
       "text": [
        "\n",
        "1105.4995_trunc.txt\n",
        "1405.4846_trunc.txt\n",
        "1201.1166_trunc.txt"
       ]
      },
      {
       "output_type": "stream",
       "stream": "stdout",
       "text": [
        "\n",
        "1405.1326_trunc.txt\n",
        "1207.2406_trunc.txt\n",
        "1410.2346_trunc.txt"
       ]
      },
      {
       "output_type": "stream",
       "stream": "stdout",
       "text": [
        "\n",
        "1106.6002_trunc.txt\n",
        "1312.5594_trunc.txt"
       ]
      },
      {
       "output_type": "stream",
       "stream": "stdout",
       "text": [
        "\n",
        "1209.5170_trunc.txt\n",
        "1108.0920_trunc.txt"
       ]
      },
      {
       "output_type": "stream",
       "stream": "stdout",
       "text": [
        "\n",
        "1501.00811_trunc.txt\n",
        "1306.3930_trunc.txt\n",
        "1412.7103_trunc.txt"
       ]
      },
      {
       "output_type": "stream",
       "stream": "stdout",
       "text": [
        "\n",
        "1504.01823_trunc.txt\n",
        "1309.0485_trunc.txt\n",
        "1405.5995_trunc.txt"
       ]
      },
      {
       "output_type": "stream",
       "stream": "stdout",
       "text": [
        "\n",
        "1109.1986_trunc.txt\n",
        "1401.3814_trunc.txt\n",
        "1502.05017_trunc.txt"
       ]
      },
      {
       "output_type": "stream",
       "stream": "stdout",
       "text": [
        "\n",
        "1206.4762_trunc.txt\n",
        "1111.5927_trunc.txt\n",
        "1201.1124_trunc.txt"
       ]
      },
      {
       "output_type": "stream",
       "stream": "stdout",
       "text": [
        "\n",
        "1312.7186_trunc.txt\n",
        "1211.5579_trunc.txt\n",
        "1107.5552_trunc.txt"
       ]
      },
      {
       "output_type": "stream",
       "stream": "stdout",
       "text": [
        "\n",
        "1210.8268_trunc.txt\n",
        "1408.3221_trunc.txt\n",
        "1306.1322_trunc.txt"
       ]
      },
      {
       "output_type": "stream",
       "stream": "stdout",
       "text": [
        "\n",
        "1507.06245_trunc.txt\n",
        "1106.2790_trunc.txt\n",
        "1302.3452_trunc.txt"
       ]
      },
      {
       "output_type": "stream",
       "stream": "stdout",
       "text": [
        "\n",
        "1106.1638_trunc.txt\n",
        "1311.5366_trunc.txt"
       ]
      },
      {
       "output_type": "stream",
       "stream": "stdout",
       "text": [
        "\n",
        "1310.4132_trunc.txt\n",
        "1211.3087_trunc.txt\n",
        "1312.2315_trunc.txt"
       ]
      },
      {
       "output_type": "stream",
       "stream": "stdout",
       "text": [
        "\n",
        "1501.04308_trunc.txt\n",
        "1111.5867_trunc.txt\n",
        "1412.8161_trunc.txt"
       ]
      },
      {
       "output_type": "stream",
       "stream": "stdout",
       "text": [
        "\n",
        "1202.2396_trunc.txt\n",
        "1107.0312_trunc.txt"
       ]
      },
      {
       "output_type": "stream",
       "stream": "stdout",
       "text": [
        "\n",
        "1208.4318_trunc.txt\n",
        "1501.03013_trunc.txt"
       ]
      },
      {
       "output_type": "stream",
       "stream": "stdout",
       "text": [
        "\n",
        "1408.6876_trunc.txt\n",
        "1205.4795_trunc.txt"
       ]
      },
      {
       "output_type": "stream",
       "stream": "stdout",
       "text": [
        "\n",
        "1507.05270_trunc.txt\n",
        "1506.03740_trunc.txt"
       ]
      },
      {
       "output_type": "stream",
       "stream": "stdout",
       "text": [
        "\n",
        "1402.0302_trunc.txt\n",
        "1402.2043_trunc.txt\n"
       ]
      },
      {
       "output_type": "stream",
       "stream": "stdout",
       "text": [
        "1405.2601_trunc.txt\n",
        "1508.04178_trunc.txt\n",
        "1508.00947_trunc.txt"
       ]
      },
      {
       "output_type": "stream",
       "stream": "stdout",
       "text": [
        "\n",
        "1309.3700_trunc.txt\n",
        "1502.01533_trunc.txt"
       ]
      },
      {
       "output_type": "stream",
       "stream": "stdout",
       "text": [
        "\n",
        "1505.02475_trunc.txt\n",
        "1311.2742_trunc.txt"
       ]
      },
      {
       "output_type": "stream",
       "stream": "stdout",
       "text": [
        "\n",
        "1511.03982_trunc.txt\n",
        "1502.00301_trunc.txt"
       ]
      },
      {
       "output_type": "stream",
       "stream": "stdout",
       "text": [
        "\n",
        "1307.6836_trunc.txt\n",
        "1107.2487_trunc.txt"
       ]
      },
      {
       "output_type": "stream",
       "stream": "stdout",
       "text": [
        "\n",
        "1403.1669_trunc.txt\n",
        "1311.2628_trunc.txt"
       ]
      },
      {
       "output_type": "stream",
       "stream": "stdout",
       "text": [
        "\n",
        "1111.3486_trunc.txt\n",
        "1303.6379_trunc.txt\n",
        "1404.7552_trunc.txt"
       ]
      },
      {
       "output_type": "stream",
       "stream": "stdout",
       "text": [
        "\n",
        "1212.0707_trunc.txt\n",
        "1312.0020_trunc.txt\n",
        "1207.2805_trunc.txt"
       ]
      },
      {
       "output_type": "stream",
       "stream": "stdout",
       "text": [
        "\n",
        "1509.07636_trunc.txt\n",
        "1402.6257_trunc.txt\n",
        "1509.06121_trunc.txt"
       ]
      },
      {
       "output_type": "stream",
       "stream": "stdout",
       "text": [
        "\n",
        "1509.08185_trunc.txt\n",
        "1212.4966_trunc.txt\n",
        "1308.2765_trunc.txt"
       ]
      },
      {
       "output_type": "stream",
       "stream": "stdout",
       "text": [
        "\n",
        "1410.5837_trunc.txt\n",
        "1412.6020_trunc.txt\n",
        "1308.1815_trunc.txt"
       ]
      },
      {
       "output_type": "stream",
       "stream": "stdout",
       "text": [
        "\n",
        "1402.1876_trunc.txt\n",
        "1508.07636_trunc.txt\n",
        "1209.0952_trunc.txt"
       ]
      },
      {
       "output_type": "stream",
       "stream": "stdout",
       "text": [
        "\n",
        "1504.03381_trunc.txt\n",
        "1208.1823_trunc.txt\n",
        "1207.2831_trunc.txt"
       ]
      },
      {
       "output_type": "stream",
       "stream": "stdout",
       "text": [
        "\n",
        "1301.3017_trunc.txt\n",
        "1309.6267_trunc.txt\n",
        "1509.05581_trunc.txt"
       ]
      },
      {
       "output_type": "stream",
       "stream": "stdout",
       "text": [
        "\n",
        "1312.3937_trunc.txt\n",
        "1503.05968_trunc.txt\n",
        "1407.7172_trunc.txt"
       ]
      },
      {
       "output_type": "stream",
       "stream": "stdout",
       "text": [
        "\n",
        "1212.4899_trunc.txt\n",
        "1411.2158_trunc.txt\n",
        "1501.05870_trunc.txt"
       ]
      },
      {
       "output_type": "stream",
       "stream": "stdout",
       "text": [
        "\n",
        "1410.7874_trunc.txt\n",
        "1403.5710_trunc.txt\n",
        "1207.0484_trunc.txt"
       ]
      },
      {
       "output_type": "stream",
       "stream": "stdout",
       "text": [
        "\n",
        "1105.3423_trunc.txt\n",
        "1510.05526_trunc.txt"
       ]
      },
      {
       "output_type": "stream",
       "stream": "stdout",
       "text": [
        "\n",
        "1112.2381_trunc.txt\n",
        "1309.7816_trunc.txt\n",
        "1411.4074_trunc.txt"
       ]
      },
      {
       "output_type": "stream",
       "stream": "stdout",
       "text": [
        "\n",
        "1109.0343_trunc.txt\n",
        "1110.3556_trunc.txt\n",
        "1105.3007_trunc.txt"
       ]
      },
      {
       "output_type": "stream",
       "stream": "stdout",
       "text": [
        "\n",
        "1210.6950_trunc.txt\n",
        "1405.3029_trunc.txt\n",
        "1510.04351_trunc.txt"
       ]
      },
      {
       "output_type": "stream",
       "stream": "stdout",
       "text": [
        "\n",
        "1508.03712_trunc.txt\n",
        "1110.4620_trunc.txt\n",
        "1411.6719_trunc.txt"
       ]
      },
      {
       "output_type": "stream",
       "stream": "stdout",
       "text": [
        "\n",
        "1410.4945_trunc.txt\n",
        "1509.01384_trunc.txt\n",
        "1403.2954_trunc.txt"
       ]
      },
      {
       "output_type": "stream",
       "stream": "stdout",
       "text": [
        "\n",
        "1404.4408_trunc.txt\n",
        "1110.3695_trunc.txt"
       ]
      },
      {
       "output_type": "stream",
       "stream": "stdout",
       "text": [
        "\n",
        "1502.01798_trunc.txt\n",
        "1508.01090_trunc.txt"
       ]
      },
      {
       "output_type": "stream",
       "stream": "stdout",
       "text": [
        "\n",
        "1211.7046_trunc.txt\n",
        "1502.01488_trunc.txt\n",
        "1112.6411_trunc.txt"
       ]
      },
      {
       "output_type": "stream",
       "stream": "stdout",
       "text": [
        "\n",
        "1205.4645_trunc.txt\n",
        "1311.5301_trunc.txt\n",
        "1503.03467_trunc.txt"
       ]
      },
      {
       "output_type": "stream",
       "stream": "stdout",
       "text": [
        "\n",
        "1212.6788_trunc.txt\n",
        "1207.4854_trunc.txt\n",
        "1201.0586_trunc.txt"
       ]
      },
      {
       "output_type": "stream",
       "stream": "stdout",
       "text": [
        "\n",
        "1502.01178_trunc.txt\n",
        "1207.2231_trunc.txt\n",
        "1507.00827_trunc.txt"
       ]
      },
      {
       "output_type": "stream",
       "stream": "stdout",
       "text": [
        "\n",
        "1412.1567_trunc.txt\n",
        "1108.4126_trunc.txt\n",
        "1111.6701_trunc.txt"
       ]
      },
      {
       "output_type": "stream",
       "stream": "stdout",
       "text": [
        "\n",
        "1504.07081_trunc.txt\n",
        "1504.00490_trunc.txt\n",
        "1502.06895_trunc.txt"
       ]
      },
      {
       "output_type": "stream",
       "stream": "stdout",
       "text": [
        "\n",
        "1412.1414_trunc.txt\n",
        "1412.0446_trunc.txt\n",
        "1311.6765_trunc.txt"
       ]
      },
      {
       "output_type": "stream",
       "stream": "stdout",
       "text": [
        "\n",
        "1207.2453_trunc.txt\n",
        "1407.8300_trunc.txt\n",
        "1309.4686_trunc.txt"
       ]
      },
      {
       "output_type": "stream",
       "stream": "stdout",
       "text": [
        "\n",
        "1507.04313_trunc.txt\n",
        "1208.3862_trunc.txt\n",
        "1211.5442_trunc.txt"
       ]
      },
      {
       "output_type": "stream",
       "stream": "stdout",
       "text": [
        "\n",
        "1210.0771_trunc.txt\n",
        "1404.4730_trunc.txt\n",
        "1508.03606_trunc.txt"
       ]
      },
      {
       "output_type": "stream",
       "stream": "stdout",
       "text": [
        "\n",
        "1312.3120_trunc.txt\n",
        "1111.1916_trunc.txt\n",
        "1406.1336_trunc.txt"
       ]
      },
      {
       "output_type": "stream",
       "stream": "stdout",
       "text": [
        "\n",
        "1104.2677_trunc.txt\n",
        "1410.0346_trunc.txt\n",
        "1211.2607_trunc.txt"
       ]
      },
      {
       "output_type": "stream",
       "stream": "stdout",
       "text": [
        "\n",
        "1303.4956_trunc.txt\n",
        "1501.00049_trunc.txt\n",
        "1302.2023_trunc.txt"
       ]
      },
      {
       "output_type": "stream",
       "stream": "stdout",
       "text": [
        "\n",
        "1402.0722_trunc.txt\n",
        "1407.5509_trunc.txt\n",
        "1504.07218_trunc.txt"
       ]
      },
      {
       "output_type": "stream",
       "stream": "stdout",
       "text": [
        "\n",
        "1104.3328_trunc.txt\n",
        "1302.3407_trunc.txt\n",
        "1501.00622_trunc.txt"
       ]
      },
      {
       "output_type": "stream",
       "stream": "stdout",
       "text": [
        "\n",
        "1301.4321_trunc.txt\n",
        "1410.4743_trunc.txt\n",
        "1409.2090_trunc.txt"
       ]
      },
      {
       "output_type": "stream",
       "stream": "stdout",
       "text": [
        "\n",
        "1205.1417_trunc.txt\n",
        "1410.7600_trunc.txt\n",
        "1312.3046_trunc.txt"
       ]
      },
      {
       "output_type": "stream",
       "stream": "stdout",
       "text": [
        "\n",
        "1411.3083_trunc.txt\n",
        "1302.0082_trunc.txt\n",
        "1406.0791_trunc.txt"
       ]
      },
      {
       "output_type": "stream",
       "stream": "stdout",
       "text": [
        "\n",
        "1111.1272_trunc.txt\n",
        "1402.1920_trunc.txt\n",
        "1211.0808_trunc.txt"
       ]
      },
      {
       "output_type": "stream",
       "stream": "stdout",
       "text": [
        "\n",
        "1504.00600_trunc.txt\n",
        "1107.2261_trunc.txt\n",
        "1306.3768_trunc.txt"
       ]
      },
      {
       "output_type": "stream",
       "stream": "stdout",
       "text": [
        "\n",
        "1204.5357_trunc.txt\n",
        "1412.4736_trunc.txt\n",
        "1407.2812_trunc.txt"
       ]
      },
      {
       "output_type": "stream",
       "stream": "stdout",
       "text": [
        "\n",
        "1202.1928_trunc.txt\n",
        "1510.03679_trunc.txt\n",
        "1503.03414_trunc.txt"
       ]
      },
      {
       "output_type": "stream",
       "stream": "stdout",
       "text": [
        "\n",
        "1306.4867_trunc.txt\n",
        "1302.4887_trunc.txt\n",
        "1503.00677_trunc.txt"
       ]
      },
      {
       "output_type": "stream",
       "stream": "stdout",
       "text": [
        "\n",
        "1412.2984_trunc.txt\n",
        "1311.2645_trunc.txt\n",
        "1207.5967_trunc.txt"
       ]
      },
      {
       "output_type": "stream",
       "stream": "stdout",
       "text": [
        "\n",
        "1303.1288_trunc.txt\n",
        "1211.1309_trunc.txt\n",
        "1502.00412_trunc.txt"
       ]
      },
      {
       "output_type": "stream",
       "stream": "stdout",
       "text": [
        "\n",
        "1209.5075_trunc.txt\n",
        "1503.05629_trunc.txt\n",
        "1312.5658_trunc.txt"
       ]
      },
      {
       "output_type": "stream",
       "stream": "stdout",
       "text": [
        "\n",
        "1211.5422_trunc.txt\n",
        "1412.5844_trunc.txt\n",
        "1304.4300_trunc.txt"
       ]
      },
      {
       "output_type": "stream",
       "stream": "stdout",
       "text": [
        "\n",
        "1506.00034_trunc.txt\n",
        "1211.4962_trunc.txt\n",
        "1504.06745_trunc.txt"
       ]
      },
      {
       "output_type": "stream",
       "stream": "stdout",
       "text": [
        "\n",
        "1410.7605_trunc.txt\n",
        "1312.2799_trunc.txt\n",
        "1206.4765_trunc.txt"
       ]
      },
      {
       "output_type": "stream",
       "stream": "stdout",
       "text": [
        "\n",
        "1507.06145_trunc.txt\n",
        "1401.2205_trunc.txt\n",
        "1407.1065_trunc.txt"
       ]
      },
      {
       "output_type": "stream",
       "stream": "stdout",
       "text": [
        "\n",
        "1410.4208_trunc.txt\n",
        "1108.1494_trunc.txt\n",
        "1502.04890_trunc.txt"
       ]
      },
      {
       "output_type": "stream",
       "stream": "stdout",
       "text": [
        "\n",
        "1401.4827_trunc.txt\n",
        "1304.2180_trunc.txt\n",
        "1303.6856_trunc.txt"
       ]
      },
      {
       "output_type": "stream",
       "stream": "stdout",
       "text": [
        "\n",
        "1409.6854_trunc.txt\n",
        "1312.6966_trunc.txt\n",
        "1105.5662_trunc.txt"
       ]
      },
      {
       "output_type": "stream",
       "stream": "stdout",
       "text": [
        "\n",
        "1106.4662_trunc.txt\n",
        "1411.5715_trunc.txt\n",
        "1111.6232_trunc.txt"
       ]
      },
      {
       "output_type": "stream",
       "stream": "stdout",
       "text": [
        "\n",
        "1308.1766_trunc.txt\n",
        "1504.08295_trunc.txt\n",
        "1412.6697_trunc.txt"
       ]
      },
      {
       "output_type": "stream",
       "stream": "stdout",
       "text": [
        "\n",
        "1409.2121_trunc.txt\n",
        "1404.2787_trunc.txt\n",
        "1211.3382_trunc.txt"
       ]
      },
      {
       "output_type": "stream",
       "stream": "stdout",
       "text": [
        "\n",
        "1306.5899_trunc.txt\n",
        "1306.1324_trunc.txt\n",
        "1301.6624_trunc.txt"
       ]
      },
      {
       "output_type": "stream",
       "stream": "stdout",
       "text": [
        "\n",
        "1501.00312_trunc.txt\n",
        "1505.05257_trunc.txt\n",
        "1201.0327_trunc.txt"
       ]
      },
      {
       "output_type": "stream",
       "stream": "stdout",
       "text": [
        "\n",
        "1210.5235_trunc.txt\n",
        "1105.3672_trunc.txt\n",
        "1506.08278_trunc.txt"
       ]
      },
      {
       "output_type": "stream",
       "stream": "stdout",
       "text": [
        "\n",
        "1103.5679_trunc.txt\n",
        "1407.1347_trunc.txt\n",
        "1403.6532_trunc.txt"
       ]
      },
      {
       "output_type": "stream",
       "stream": "stdout",
       "text": [
        "\n",
        "1110.4700_trunc.txt\n",
        "1405.7481_trunc.txt\n",
        "1403.3414_trunc.txt"
       ]
      },
      {
       "output_type": "stream",
       "stream": "stdout",
       "text": [
        "\n",
        "1212.3709_trunc.txt\n",
        "1407.5341_trunc.txt\n",
        "1407.0482_trunc.txt"
       ]
      },
      {
       "output_type": "stream",
       "stream": "stdout",
       "text": [
        "\n",
        "1306.2056_trunc.txt\n",
        "1501.06930_trunc.txt\n",
        "1307.2223_trunc.txt"
       ]
      },
      {
       "output_type": "stream",
       "stream": "stdout",
       "text": [
        "\n",
        "1403.5113_trunc.txt\n",
        "1502.05457_trunc.txt\n",
        "1403.4494_trunc.txt"
       ]
      },
      {
       "output_type": "stream",
       "stream": "stdout",
       "text": [
        "\n",
        "1104.5246_trunc.txt\n",
        "1306.1320_trunc.txt\n",
        "1407.1114_trunc.txt"
       ]
      },
      {
       "output_type": "stream",
       "stream": "stdout",
       "text": [
        "\n",
        "1412.4605_trunc.txt\n",
        "1104.4252_trunc.txt\n",
        "1107.0417_trunc.txt"
       ]
      },
      {
       "output_type": "stream",
       "stream": "stdout",
       "text": [
        "\n",
        "1406.5706_trunc.txt\n",
        "1505.06101_trunc.txt\n",
        "1206.0937_trunc.txt"
       ]
      },
      {
       "output_type": "stream",
       "stream": "stdout",
       "text": [
        "\n",
        "1411.0862_trunc.txt\n",
        "1510.02668_trunc.txt\n",
        "1212.1247_trunc.txt"
       ]
      },
      {
       "output_type": "stream",
       "stream": "stdout",
       "text": [
        "\n",
        "1109.5320_trunc.txt\n",
        "1404.0788_trunc.txt\n",
        "1206.6128_trunc.txt"
       ]
      },
      {
       "output_type": "stream",
       "stream": "stdout",
       "text": [
        "\n",
        "1209.1508_trunc.txt\n",
        "1105.5036_trunc.txt\n",
        "1202.1574_trunc.txt"
       ]
      },
      {
       "output_type": "stream",
       "stream": "stdout",
       "text": [
        "\n",
        "1311.4030_trunc.txt\n",
        "1502.02336_trunc.txt\n",
        "1112.2080_trunc.txt"
       ]
      },
      {
       "output_type": "stream",
       "stream": "stdout",
       "text": [
        "\n",
        "1408.4755_trunc.txt\n",
        "1207.6363_trunc.txt\n",
        "1109.3250_trunc.txt"
       ]
      },
      {
       "output_type": "stream",
       "stream": "stdout",
       "text": [
        "\n",
        "1201.2462_trunc.txt\n",
        "1307.6512_trunc.txt\n",
        "1412.0836_trunc.txt"
       ]
      },
      {
       "output_type": "stream",
       "stream": "stdout",
       "text": [
        "\n",
        "1205.1984_trunc.txt\n",
        "1509.09273_trunc.txt\n",
        "1312.6348_trunc.txt"
       ]
      },
      {
       "output_type": "stream",
       "stream": "stdout",
       "text": [
        "\n",
        "1405.6655_trunc.txt\n",
        "1105.4563_trunc.txt\n",
        "1307.2217_trunc.txt"
       ]
      },
      {
       "output_type": "stream",
       "stream": "stdout",
       "text": [
        "\n",
        "1507.00123_trunc.txt\n",
        "1401.5833_trunc.txt\n",
        "1207.2530_trunc.txt"
       ]
      },
      {
       "output_type": "stream",
       "stream": "stdout",
       "text": [
        "\n",
        "1406.7173_trunc.txt\n",
        "1311.5066_trunc.txt\n",
        "1410.8597_trunc.txt"
       ]
      },
      {
       "output_type": "stream",
       "stream": "stdout",
       "text": [
        "\n",
        "1506.03762_trunc.txt\n",
        "1410.6033_trunc.txt\n",
        "1408.1156_trunc.txt"
       ]
      },
      {
       "output_type": "stream",
       "stream": "stdout",
       "text": [
        "\n",
        "1306.1294_trunc.txt\n",
        "1201.6551_trunc.txt\n",
        "1211.2071_trunc.txt"
       ]
      },
      {
       "output_type": "stream",
       "stream": "stdout",
       "text": [
        "\n",
        "1503.06482_trunc.txt\n",
        "1306.5824_trunc.txt\n",
        "1504.03389_trunc.txt"
       ]
      },
      {
       "output_type": "stream",
       "stream": "stdout",
       "text": [
        "\n",
        "1310.4914_trunc.txt\n",
        "1111.2532_trunc.txt\n",
        "1402.6419_trunc.txt"
       ]
      },
      {
       "output_type": "stream",
       "stream": "stdout",
       "text": [
        "\n",
        "1511.03738_trunc.txt\n",
        "1302.0110_trunc.txt\n",
        "1404.3239_trunc.txt"
       ]
      },
      {
       "output_type": "stream",
       "stream": "stdout",
       "text": [
        "\n",
        "1212.0243_trunc.txt\n",
        "1502.02120_trunc.txt\n",
        "1308.5312_trunc.txt"
       ]
      },
      {
       "output_type": "stream",
       "stream": "stdout",
       "text": [
        "\n",
        "1412.5816_trunc.txt\n",
        "1411.0169_trunc.txt\n",
        "1508.01264_trunc.txt"
       ]
      },
      {
       "output_type": "stream",
       "stream": "stdout",
       "text": [
        "\n",
        "1411.7420_trunc.txt\n",
        "1409.3642_trunc.txt\n",
        "1306.2194_trunc.txt"
       ]
      },
      {
       "output_type": "stream",
       "stream": "stdout",
       "text": [
        "\n",
        "1411.4040_trunc.txt\n",
        "1412.1926_trunc.txt"
       ]
      },
      {
       "output_type": "stream",
       "stream": "stdout",
       "text": [
        "\n",
        "1210.7911_trunc.txt\n",
        "1309.4193_trunc.txt"
       ]
      },
      {
       "output_type": "stream",
       "stream": "stdout",
       "text": [
        "\n",
        "1311.0035_trunc.txt\n",
        "1112.0529_trunc.txt\n",
        "1212.0325_trunc.txt"
       ]
      },
      {
       "output_type": "stream",
       "stream": "stdout",
       "text": [
        "\n",
        "1109.1516_trunc.txt\n",
        "1312.3625_trunc.txt\n",
        "1207.1611_trunc.txt"
       ]
      },
      {
       "output_type": "stream",
       "stream": "stdout",
       "text": [
        "\n",
        "1105.0770_trunc.txt\n",
        "1302.6009_trunc.txt"
       ]
      },
      {
       "output_type": "stream",
       "stream": "stdout",
       "text": [
        "\n",
        "1509.02237_trunc.txt\n",
        "1309.3399_trunc.txt"
       ]
      },
      {
       "output_type": "stream",
       "stream": "stdout",
       "text": [
        "\n",
        "1506.00816_trunc.txt\n",
        "1107.5592_trunc.txt"
       ]
      },
      {
       "output_type": "stream",
       "stream": "stdout",
       "text": [
        "\n",
        "1409.8565_trunc.txt\n",
        "1201.2716_trunc.txt\n",
        "1502.01752_trunc.txt"
       ]
      },
      {
       "output_type": "stream",
       "stream": "stdout",
       "text": [
        "\n",
        "1309.6061_trunc.txt\n",
        "1503.00966_trunc.txt\n",
        "1202.4863_trunc.txt"
       ]
      },
      {
       "output_type": "stream",
       "stream": "stdout",
       "text": [
        "\n",
        "1110.3572_trunc.txt\n",
        "1308.5830_trunc.txt\n",
        "1504.03144_trunc.txt"
       ]
      },
      {
       "output_type": "stream",
       "stream": "stdout",
       "text": [
        "\n",
        "1506.01744_trunc.txt\n",
        "1201.4129_trunc.txt\n",
        "1506.00671_trunc.txt"
       ]
      },
      {
       "output_type": "stream",
       "stream": "stdout",
       "text": [
        "\n",
        "1502.06287_trunc.txt\n",
        "1507.01175_trunc.txt"
       ]
      },
      {
       "output_type": "stream",
       "stream": "stdout",
       "text": [
        "\n",
        "1404.4646_trunc.txt\n",
        "1308.2830_trunc.txt"
       ]
      },
      {
       "output_type": "stream",
       "stream": "stdout",
       "text": [
        "\n",
        "1110.5927_trunc.txt\n",
        "1301.4867_trunc.txt"
       ]
      },
      {
       "output_type": "stream",
       "stream": "stdout",
       "text": [
        "\n",
        "1310.7149_trunc.txt\n",
        "1303.4875_trunc.txt"
       ]
      },
      {
       "output_type": "stream",
       "stream": "stdout",
       "text": [
        "\n",
        "1312.5839_trunc.txt\n",
        "1505.02212_trunc.txt\n",
        "1412.1411_trunc.txt"
       ]
      },
      {
       "output_type": "stream",
       "stream": "stdout",
       "text": [
        "\n",
        "1506.00847_trunc.txt\n",
        "1201.3611_trunc.txt\n",
        "1509.06310_trunc.txt"
       ]
      },
      {
       "output_type": "stream",
       "stream": "stdout",
       "text": [
        "\n",
        "1305.3068_trunc.txt\n",
        "1309.6933_trunc.txt\n",
        "1411.1469_trunc.txt"
       ]
      },
      {
       "output_type": "stream",
       "stream": "stdout",
       "text": [
        "\n",
        "1502.02373_trunc.txt\n",
        "1506.05539_trunc.txt\n",
        "1507.08394_trunc.txt"
       ]
      },
      {
       "output_type": "stream",
       "stream": "stdout",
       "text": [
        "\n",
        "1509.05845_trunc.txt\n",
        "1509.00172_trunc.txt\n",
        "1211.6915_trunc.txt"
       ]
      },
      {
       "output_type": "stream",
       "stream": "stdout",
       "text": [
        "\n",
        "1302.1884_trunc.txt\n",
        "1306.4408_trunc.txt"
       ]
      },
      {
       "output_type": "stream",
       "stream": "stdout",
       "text": [
        "\n",
        "1110.3777_trunc.txt\n",
        "1312.5123_trunc.txt"
       ]
      },
      {
       "output_type": "stream",
       "stream": "stdout",
       "text": [
        "\n",
        "1307.4602_trunc.txt\n",
        "1502.06134_trunc.txt\n",
        "1410.1231_trunc.txt"
       ]
      },
      {
       "output_type": "stream",
       "stream": "stdout",
       "text": [
        "\n",
        "1301.7026_trunc.txt\n",
        "1103.6172_trunc.txt\n",
        "1412.8285_trunc.txt"
       ]
      },
      {
       "output_type": "stream",
       "stream": "stdout",
       "text": [
        "\n",
        "1206.2206_trunc.txt\n",
        "1204.5291_trunc.txt\n",
        "1206.1708_trunc.txt"
       ]
      },
      {
       "output_type": "stream",
       "stream": "stdout",
       "text": [
        "\n",
        "1207.5058_trunc.txt\n",
        "1501.02389_trunc.txt\n",
        "1201.0310_trunc.txt"
       ]
      },
      {
       "output_type": "stream",
       "stream": "stdout",
       "text": [
        "\n",
        "1407.1225_trunc.txt\n",
        "1410.6172_trunc.txt\n",
        "1206.7020_trunc.txt"
       ]
      },
      {
       "output_type": "stream",
       "stream": "stdout",
       "text": [
        "\n",
        "1212.1885_trunc.txt\n",
        "1505.06644_trunc.txt\n",
        "1404.2405_trunc.txt"
       ]
      },
      {
       "output_type": "stream",
       "stream": "stdout",
       "text": [
        "\n",
        "1106.1916_trunc.txt\n",
        "1308.5626_trunc.txt\n",
        "1506.08022_trunc.txt"
       ]
      },
      {
       "output_type": "stream",
       "stream": "stdout",
       "text": [
        "\n",
        "1406.6569_trunc.txt\n",
        "1303.0727_trunc.txt\n",
        "1210.2879_trunc.txt"
       ]
      },
      {
       "output_type": "stream",
       "stream": "stdout",
       "text": [
        "\n",
        "1207.2450_trunc.txt\n",
        "1403.1302_trunc.txt\n",
        "1105.3625_trunc.txt"
       ]
      },
      {
       "output_type": "stream",
       "stream": "stdout",
       "text": [
        "\n",
        "1107.2168_trunc.txt\n",
        "1506.03172_trunc.txt\n",
        "1304.5881_trunc.txt"
       ]
      },
      {
       "output_type": "stream",
       "stream": "stdout",
       "text": [
        "\n",
        "1506.00673_trunc.txt\n",
        "1206.2459_trunc.txt"
       ]
      },
      {
       "output_type": "stream",
       "stream": "stdout",
       "text": [
        "\n",
        "1402.2966_trunc.txt\n",
        "1510.06085_trunc.txt"
       ]
      },
      {
       "output_type": "stream",
       "stream": "stdout",
       "text": [
        "\n",
        "1201.6387_trunc.txt\n",
        "1506.03131_trunc.txt\n",
        "1202.1377_trunc.txt"
       ]
      },
      {
       "output_type": "stream",
       "stream": "stdout",
       "text": [
        "\n",
        "1208.2015_trunc.txt\n",
        "1312.5862_trunc.txt\n",
        "1401.7195_trunc.txt"
       ]
      },
      {
       "output_type": "stream",
       "stream": "stdout",
       "text": [
        "\n",
        "1407.0726_trunc.txt\n",
        "1403.2695_trunc.txt\n",
        "1509.06673_trunc.txt"
       ]
      },
      {
       "output_type": "stream",
       "stream": "stdout",
       "text": [
        "\n",
        "1208.4892_trunc.txt\n",
        "1204.4813_trunc.txt\n",
        "1112.3228_trunc.txt"
       ]
      },
      {
       "output_type": "stream",
       "stream": "stdout",
       "text": [
        "\n",
        "1306.0040_trunc.txt\n",
        "1507.01760_trunc.txt\n",
        "1312.5103_trunc.txt"
       ]
      },
      {
       "output_type": "stream",
       "stream": "stdout",
       "text": [
        "\n",
        "1410.8570_trunc.txt\n",
        "1406.0267_trunc.txt\n",
        "1302.2043_trunc.txt"
       ]
      },
      {
       "output_type": "stream",
       "stream": "stdout",
       "text": [
        "\n",
        "1506.04525_trunc.txt\n",
        "1201.5990_trunc.txt\n",
        "1308.2845_trunc.txt"
       ]
      },
      {
       "output_type": "stream",
       "stream": "stdout",
       "text": [
        "\n",
        "1307.4953_trunc.txt\n",
        "1510.07679_trunc.txt\n",
        "1403.3275_trunc.txt"
       ]
      },
      {
       "output_type": "stream",
       "stream": "stdout",
       "text": [
        "\n",
        "1108.5395_trunc.txt\n",
        "1505.01583_trunc.txt\n",
        "1311.2657_trunc.txt"
       ]
      },
      {
       "output_type": "stream",
       "stream": "stdout",
       "text": [
        "\n",
        "1207.6868_trunc.txt\n",
        "1201.3102_trunc.txt\n",
        "1209.2013_trunc.txt"
       ]
      },
      {
       "output_type": "stream",
       "stream": "stdout",
       "text": [
        "\n",
        "1501.02497_trunc.txt\n",
        "1302.0261_trunc.txt\n",
        "1508.01146_trunc.txt"
       ]
      },
      {
       "output_type": "stream",
       "stream": "stdout",
       "text": [
        "\n",
        "1302.4552_trunc.txt\n",
        "1510.05077_trunc.txt\n",
        "1407.3971_trunc.txt"
       ]
      },
      {
       "output_type": "stream",
       "stream": "stdout",
       "text": [
        "\n",
        "1208.6402_trunc.txt\n",
        "1412.8016_trunc.txt\n",
        "1506.01367_trunc.txt"
       ]
      },
      {
       "output_type": "stream",
       "stream": "stdout",
       "text": [
        "\n",
        "1502.06952_trunc.txt\n",
        "1306.1452_trunc.txt\n",
        "1502.02501_trunc.txt"
       ]
      },
      {
       "output_type": "stream",
       "stream": "stdout",
       "text": [
        "\n",
        "1412.1490_trunc.txt\n",
        "1407.3495_trunc.txt\n",
        "1104.3618_trunc.txt"
       ]
      },
      {
       "output_type": "stream",
       "stream": "stdout",
       "text": [
        "\n",
        "1201.6611_trunc.txt\n",
        "1504.06185_trunc.txt"
       ]
      },
      {
       "output_type": "stream",
       "stream": "stdout",
       "text": [
        "\n",
        "1307.3375_trunc.txt\n",
        "1504.07320_trunc.txt\n",
        "1210.6516_trunc.txt"
       ]
      },
      {
       "output_type": "stream",
       "stream": "stdout",
       "text": [
        "\n",
        "1206.4770_trunc.txt\n",
        "1502.02049_trunc.txt\n",
        "1311.7118_trunc.txt"
       ]
      },
      {
       "output_type": "stream",
       "stream": "stdout",
       "text": [
        "\n",
        "1507.00513_trunc.txt\n",
        "1401.6978_trunc.txt"
       ]
      },
      {
       "output_type": "stream",
       "stream": "stdout",
       "text": [
        "\n",
        "1312.5119_trunc.txt\n",
        "1301.1898_trunc.txt"
       ]
      },
      {
       "output_type": "stream",
       "stream": "stdout",
       "text": [
        "\n",
        "1205.5039_trunc.txt\n",
        "1207.5910_trunc.txt\n",
        "1109.1172_trunc.txt"
       ]
      },
      {
       "output_type": "stream",
       "stream": "stdout",
       "text": [
        "\n",
        "1312.1005_trunc.txt\n",
        "1311.6327_trunc.txt\n",
        "1110.6623_trunc.txt"
       ]
      },
      {
       "output_type": "stream",
       "stream": "stdout",
       "text": [
        "\n",
        "1503.05459_trunc.txt\n",
        "1504.00606_trunc.txt\n",
        "1505.07981_trunc.txt"
       ]
      },
      {
       "output_type": "stream",
       "stream": "stdout",
       "text": [
        "\n",
        "1108.3410_trunc.txt\n",
        "1303.4288_trunc.txt\n",
        "1403.7683_trunc.txt"
       ]
      },
      {
       "output_type": "stream",
       "stream": "stdout",
       "text": [
        "\n",
        "1404.5126_trunc.txt\n",
        "1211.3343_trunc.txt\n",
        "1206.2496_trunc.txt"
       ]
      },
      {
       "output_type": "stream",
       "stream": "stdout",
       "text": [
        "\n",
        "1502.00043_trunc.txt\n",
        "1410.2266_trunc.txt\n",
        "1106.1497_trunc.txt"
       ]
      },
      {
       "output_type": "stream",
       "stream": "stdout",
       "text": [
        "\n",
        "1307.4621_trunc.txt\n",
        "1210.5835_trunc.txt\n",
        "1402.2209_trunc.txt"
       ]
      },
      {
       "output_type": "stream",
       "stream": "stdout",
       "text": [
        "\n",
        "1403.7068_trunc.txt\n",
        "1109.3994_trunc.txt\n",
        "1403.1345_trunc.txt"
       ]
      },
      {
       "output_type": "stream",
       "stream": "stdout",
       "text": [
        "\n",
        "1404.2825_trunc.txt\n",
        "1405.0110_trunc.txt\n",
        "1302.2331_trunc.txt"
       ]
      },
      {
       "output_type": "stream",
       "stream": "stdout",
       "text": [
        "\n",
        "1210.3749_trunc.txt\n",
        "1502.05510_trunc.txt\n",
        "1311.6293_trunc.txt"
       ]
      },
      {
       "output_type": "stream",
       "stream": "stdout",
       "text": [
        "\n",
        "1210.2482_trunc.txt\n",
        "1412.5136_trunc.txt\n",
        "1304.6237_trunc.txt"
       ]
      },
      {
       "output_type": "stream",
       "stream": "stdout",
       "text": [
        "\n",
        "1509.04413_trunc.txt\n",
        "1104.0554_trunc.txt\n",
        "1312.7183_trunc.txt"
       ]
      },
      {
       "output_type": "stream",
       "stream": "stdout",
       "text": [
        "\n",
        "1505.00662_trunc.txt\n",
        "1305.6239_trunc.txt\n",
        "1412.3730_trunc.txt"
       ]
      },
      {
       "output_type": "stream",
       "stream": "stdout",
       "text": [
        "\n",
        "1211.1614_trunc.txt\n",
        "1407.0471_trunc.txt\n",
        "1503.07643_trunc.txt"
       ]
      },
      {
       "output_type": "stream",
       "stream": "stdout",
       "text": [
        "\n",
        "1406.1138_trunc.txt\n",
        "1305.4825_trunc.txt\n",
        "1106.3415_trunc.txt"
       ]
      },
      {
       "output_type": "stream",
       "stream": "stdout",
       "text": [
        "\n",
        "1304.2460_trunc.txt\n",
        "1504.02658_trunc.txt\n",
        "1207.3757_trunc.txt"
       ]
      },
      {
       "output_type": "stream",
       "stream": "stdout",
       "text": [
        "\n",
        "1202.1838_trunc.txt\n",
        "1207.2079_trunc.txt\n",
        "1202.0048_trunc.txt"
       ]
      },
      {
       "output_type": "stream",
       "stream": "stdout",
       "text": [
        "\n",
        "1504.00534_trunc.txt\n",
        "1507.07106_trunc.txt\n",
        "1211.0457_trunc.txt"
       ]
      },
      {
       "output_type": "stream",
       "stream": "stdout",
       "text": [
        "\n",
        "1407.4372_trunc.txt\n",
        "1111.2546_trunc.txt\n",
        "1307.5982_trunc.txt"
       ]
      },
      {
       "output_type": "stream",
       "stream": "stdout",
       "text": [
        "\n",
        "1108.1033_trunc.txt\n",
        "1507.04121_trunc.txt\n",
        "1401.6959_trunc.txt"
       ]
      },
      {
       "output_type": "stream",
       "stream": "stdout",
       "text": [
        "\n",
        "1411.2681_trunc.txt\n",
        "1504.07390_trunc.txt\n",
        "1305.1470_trunc.txt"
       ]
      },
      {
       "output_type": "stream",
       "stream": "stdout",
       "text": [
        "\n",
        "1106.2363_trunc.txt\n",
        "1105.1646_trunc.txt\n",
        "1112.2759_trunc.txt"
       ]
      },
      {
       "output_type": "stream",
       "stream": "stdout",
       "text": [
        "\n",
        "1112.2432_trunc.txt\n",
        "1505.05068_trunc.txt\n",
        "1406.2280_trunc.txt"
       ]
      },
      {
       "output_type": "stream",
       "stream": "stdout",
       "text": [
        "\n",
        "1403.5459_trunc.txt\n",
        "1504.05229_trunc.txt\n",
        "1505.05385_trunc.txt"
       ]
      },
      {
       "output_type": "stream",
       "stream": "stdout",
       "text": [
        "\n",
        "1401.0844_trunc.txt\n",
        "1409.7675_trunc.txt\n",
        "1406.4175_trunc.txt"
       ]
      },
      {
       "output_type": "stream",
       "stream": "stdout",
       "text": [
        "\n",
        "1401.7899_trunc.txt\n",
        "1402.3514_trunc.txt"
       ]
      },
      {
       "output_type": "stream",
       "stream": "stdout",
       "text": [
        "\n",
        "1207.1256_trunc.txt\n",
        "1504.01081_trunc.txt\n",
        "1507.03558_trunc.txt"
       ]
      },
      {
       "output_type": "stream",
       "stream": "stdout",
       "text": [
        "\n",
        "1211.1197_trunc.txt\n",
        "1207.2118_trunc.txt\n",
        "1307.8229_trunc.txt"
       ]
      },
      {
       "output_type": "stream",
       "stream": "stdout",
       "text": [
        "\n",
        "1506.00691_trunc.txt\n",
        "1312.5556_trunc.txt"
       ]
      },
      {
       "output_type": "stream",
       "stream": "stdout",
       "text": [
        "\n",
        "1112.0716_trunc.txt\n",
        "1105.3655_trunc.txt\n",
        "1409.1787_trunc.txt"
       ]
      },
      {
       "output_type": "stream",
       "stream": "stdout",
       "text": [
        "\n",
        "1107.3493_trunc.txt\n",
        "1408.5087_trunc.txt\n",
        "1304.6683_trunc.txt"
       ]
      },
      {
       "output_type": "stream",
       "stream": "stdout",
       "text": [
        "\n",
        "1506.07404_trunc.txt\n",
        "1311.0594_trunc.txt\n",
        "1411.7581_trunc.txt"
       ]
      },
      {
       "output_type": "stream",
       "stream": "stdout",
       "text": [
        "\n",
        "1501.02320_trunc.txt\n",
        "1111.4646_trunc.txt\n",
        "1403.4613_trunc.txt"
       ]
      },
      {
       "output_type": "stream",
       "stream": "stdout",
       "text": [
        "\n",
        "1308.2408_trunc.txt\n",
        "1505.01687_trunc.txt\n",
        "1105.2640_trunc.txt"
       ]
      },
      {
       "output_type": "stream",
       "stream": "stdout",
       "text": [
        "\n",
        "1504.06984_trunc.txt\n",
        "1506.00089_trunc.txt\n",
        "1510.04638_trunc.txt"
       ]
      },
      {
       "output_type": "stream",
       "stream": "stdout",
       "text": [
        "\n",
        "1402.2918_trunc.txt\n",
        "1301.3558_trunc.txt\n",
        "1504.07972_trunc.txt"
       ]
      },
      {
       "output_type": "stream",
       "stream": "stdout",
       "text": [
        "\n",
        "1205.4123_trunc.txt\n",
        "1407.4376_trunc.txt"
       ]
      },
      {
       "output_type": "stream",
       "stream": "stdout",
       "text": [
        "\n",
        "1206.6721_trunc.txt\n",
        "1107.2802_trunc.txt\n",
        "1207.3238_trunc.txt"
       ]
      },
      {
       "output_type": "stream",
       "stream": "stdout",
       "text": [
        "\n",
        "1209.3215_trunc.txt\n",
        "1305.1212_trunc.txt\n",
        "1509.04910_trunc.txt"
       ]
      },
      {
       "output_type": "stream",
       "stream": "stdout",
       "text": [
        "\n",
        "1507.02904_trunc.txt\n",
        "1507.02838_trunc.txt\n",
        "1107.1345_trunc.txt"
       ]
      },
      {
       "output_type": "stream",
       "stream": "stdout",
       "text": [
        "\n",
        "1505.05114_trunc.txt\n",
        "1412.4912_trunc.txt\n",
        "1508.00934_trunc.txt"
       ]
      },
      {
       "output_type": "stream",
       "stream": "stdout",
       "text": [
        "\n",
        "1206.0406_trunc.txt\n",
        "1506.02984_trunc.txt\n",
        "1307.6701_trunc.txt"
       ]
      },
      {
       "output_type": "stream",
       "stream": "stdout",
       "text": [
        "\n",
        "1408.2998_trunc.txt\n",
        "1105.6322_trunc.txt\n",
        "1305.5618_trunc.txt"
       ]
      },
      {
       "output_type": "stream",
       "stream": "stdout",
       "text": [
        "\n",
        "1303.7291_trunc.txt\n",
        "1503.02878_trunc.txt\n",
        "1507.01494_trunc.txt"
       ]
      },
      {
       "output_type": "stream",
       "stream": "stdout",
       "text": [
        "\n",
        "1307.6044_trunc.txt\n",
        "1506.00859_trunc.txt\n",
        "1403.7023_trunc.txt"
       ]
      },
      {
       "output_type": "stream",
       "stream": "stdout",
       "text": [
        "\n",
        "1206.2700_trunc.txt\n",
        "1509.00899_trunc.txt\n",
        "1508.03744_trunc.txt"
       ]
      },
      {
       "output_type": "stream",
       "stream": "stdout",
       "text": [
        "\n",
        "1311.1894_trunc.txt\n",
        "1104.5326_trunc.txt\n",
        "1404.6989_trunc.txt"
       ]
      },
      {
       "output_type": "stream",
       "stream": "stdout",
       "text": [
        "\n",
        "1310.7479_trunc.txt\n",
        "1212.6906_trunc.txt\n",
        "1409.1388_trunc.txt"
       ]
      },
      {
       "output_type": "stream",
       "stream": "stdout",
       "text": [
        "\n",
        "1207.2386_trunc.txt\n",
        "1504.05438_trunc.txt\n",
        "1310.3578_trunc.txt"
       ]
      },
      {
       "output_type": "stream",
       "stream": "stdout",
       "text": [
        "\n",
        "1312.1591_trunc.txt\n",
        "1108.0921_trunc.txt\n",
        "1308.2403_trunc.txt"
       ]
      },
      {
       "output_type": "stream",
       "stream": "stdout",
       "text": [
        "\n",
        "1108.5341_trunc.txt\n",
        "1301.7644_trunc.txt\n",
        "1206.1831_trunc.txt"
       ]
      },
      {
       "output_type": "stream",
       "stream": "stdout",
       "text": [
        "\n",
        "1301.4804_trunc.txt\n",
        "1501.04070_trunc.txt\n",
        "1304.7668_trunc.txt"
       ]
      },
      {
       "output_type": "stream",
       "stream": "stdout",
       "text": [
        "\n",
        "1409.6219_trunc.txt\n",
        "1207.6437_trunc.txt\n",
        "1109.0524_trunc.txt"
       ]
      },
      {
       "output_type": "stream",
       "stream": "stdout",
       "text": [
        "\n",
        "1403.4134_trunc.txt\n",
        "1312.5894_trunc.txt\n",
        "1503.08195_trunc.txt"
       ]
      },
      {
       "output_type": "stream",
       "stream": "stdout",
       "text": [
        "\n",
        "1305.1118_trunc.txt\n",
        "1304.4362_trunc.txt\n",
        "1111.0433_trunc.txt"
       ]
      },
      {
       "output_type": "stream",
       "stream": "stdout",
       "text": [
        "\n",
        "1305.6000_trunc.txt\n",
        "1502.04643_trunc.txt\n",
        "1508.01928_trunc.txt"
       ]
      },
      {
       "output_type": "stream",
       "stream": "stdout",
       "text": [
        "\n",
        "1207.1687_trunc.txt\n",
        "1201.0400_trunc.txt\n",
        "1507.00421_trunc.txt"
       ]
      },
      {
       "output_type": "stream",
       "stream": "stdout",
       "text": [
        "\n",
        "1303.7117_trunc.txt\n",
        "1109.6501_trunc.txt\n",
        "1309.6602_trunc.txt"
       ]
      },
      {
       "output_type": "stream",
       "stream": "stdout",
       "text": [
        "\n",
        "1205.2536_trunc.txt\n",
        "1410.3544_trunc.txt\n",
        "1401.3424_trunc.txt"
       ]
      },
      {
       "output_type": "stream",
       "stream": "stdout",
       "text": [
        "\n",
        "1111.1816_trunc.txt\n",
        "1207.5899_trunc.txt\n",
        "1408.4643_trunc.txt"
       ]
      },
      {
       "output_type": "stream",
       "stream": "stdout",
       "text": [
        "\n",
        "1302.0151_trunc.txt\n",
        "1206.6913_trunc.txt\n",
        "1309.7801_trunc.txt"
       ]
      },
      {
       "output_type": "stream",
       "stream": "stdout",
       "text": [
        "\n",
        "1210.0390_trunc.txt\n",
        "1311.2483_trunc.txt\n",
        "1301.1208_trunc.txt"
       ]
      },
      {
       "output_type": "stream",
       "stream": "stdout",
       "text": [
        "\n",
        "1406.5663_trunc.txt\n",
        "1504.00002_trunc.txt\n",
        "1309.4889_trunc.txt"
       ]
      },
      {
       "output_type": "stream",
       "stream": "stdout",
       "text": [
        "\n",
        "1107.3046_trunc.txt\n",
        "1409.7441_trunc.txt\n",
        "1111.7077_trunc.txt"
       ]
      },
      {
       "output_type": "stream",
       "stream": "stdout",
       "text": [
        "\n",
        "1212.3888_trunc.txt\n",
        "1401.0967_trunc.txt\n",
        "1406.4765_trunc.txt"
       ]
      },
      {
       "output_type": "stream",
       "stream": "stdout",
       "text": [
        "\n",
        "1209.2303_trunc.txt\n",
        "1402.4296_trunc.txt\n",
        "1409.5640_trunc.txt"
       ]
      },
      {
       "output_type": "stream",
       "stream": "stdout",
       "text": [
        "\n",
        "1105.3816_trunc.txt\n",
        "1302.2126_trunc.txt\n",
        "1105.5762_trunc.txt"
       ]
      },
      {
       "output_type": "stream",
       "stream": "stdout",
       "text": [
        "\n",
        "1110.6255_trunc.txt\n",
        "1404.7055_trunc.txt\n",
        "1109.3142_trunc.txt"
       ]
      },
      {
       "output_type": "stream",
       "stream": "stdout",
       "text": [
        "\n",
        "1308.6761_trunc.txt\n",
        "1109.5298_trunc.txt\n",
        "1401.4849_trunc.txt"
       ]
      },
      {
       "output_type": "stream",
       "stream": "stdout",
       "text": [
        "\n",
        "1312.4674_trunc.txt\n",
        "1211.7103_trunc.txt\n",
        "1309.1915_trunc.txt"
       ]
      },
      {
       "output_type": "stream",
       "stream": "stdout",
       "text": [
        "\n",
        "1506.08159_trunc.txt\n",
        "1402.5431_trunc.txt\n",
        "1204.6452_trunc.txt"
       ]
      },
      {
       "output_type": "stream",
       "stream": "stdout",
       "text": [
        "\n",
        "1412.1563_trunc.txt\n",
        "1404.0122_trunc.txt\n",
        "1507.08436_trunc.txt"
       ]
      },
      {
       "output_type": "stream",
       "stream": "stdout",
       "text": [
        "\n",
        "1407.3625_trunc.txt\n",
        "1403.6295_trunc.txt\n",
        "1208.5384_trunc.txt"
       ]
      },
      {
       "output_type": "stream",
       "stream": "stdout",
       "text": [
        "\n",
        "1110.2501_trunc.txt\n",
        "1501.07091_trunc.txt\n",
        "1105.5065_trunc.txt"
       ]
      },
      {
       "output_type": "stream",
       "stream": "stdout",
       "text": [
        "\n",
        "1509.02811_trunc.txt\n",
        "1505.04215_trunc.txt\n",
        "1304.6924_trunc.txt"
       ]
      },
      {
       "output_type": "stream",
       "stream": "stdout",
       "text": [
        "\n",
        "1507.06352_trunc.txt\n",
        "1109.5909_trunc.txt\n",
        "1402.6550_trunc.txt"
       ]
      },
      {
       "output_type": "stream",
       "stream": "stdout",
       "text": [
        "\n",
        "1506.06162_trunc.txt\n",
        "1506.01557_trunc.txt\n",
        "1310.5559_trunc.txt"
       ]
      },
      {
       "output_type": "stream",
       "stream": "stdout",
       "text": [
        "\n",
        "1111.5934_trunc.txt\n",
        "1501.00478_trunc.txt\n",
        "1407.6461_trunc.txt"
       ]
      },
      {
       "output_type": "stream",
       "stream": "stdout",
       "text": [
        "\n",
        "1106.0972_trunc.txt\n",
        "1509.01904_trunc.txt\n",
        "1111.5950_trunc.txt"
       ]
      },
      {
       "output_type": "stream",
       "stream": "stdout",
       "text": [
        "\n",
        "1108.1766_trunc.txt\n",
        "1404.4235_trunc.txt\n",
        "1208.1211_trunc.txt"
       ]
      },
      {
       "output_type": "stream",
       "stream": "stdout",
       "text": [
        "\n",
        "1407.5272_trunc.txt\n",
        "1502.06774_trunc.txt\n",
        "1305.4269_trunc.txt"
       ]
      },
      {
       "output_type": "stream",
       "stream": "stdout",
       "text": [
        "\n",
        "1306.1154_trunc.txt\n",
        "1502.01988_trunc.txt\n",
        "1108.0757_trunc.txt"
       ]
      },
      {
       "output_type": "stream",
       "stream": "stdout",
       "text": [
        "\n",
        "1409.6008_trunc.txt\n",
        "1503.05033_trunc.txt\n",
        "1403.5537_trunc.txt"
       ]
      },
      {
       "output_type": "stream",
       "stream": "stdout",
       "text": [
        "\n",
        "1509.05697_trunc.txt\n",
        "1402.2986_trunc.txt\n",
        "1411.0839_trunc.txt"
       ]
      },
      {
       "output_type": "stream",
       "stream": "stdout",
       "text": [
        "\n",
        "1205.1595_trunc.txt\n",
        "1411.6314_trunc.txt\n",
        "1402.2365_trunc.txt"
       ]
      },
      {
       "output_type": "stream",
       "stream": "stdout",
       "text": [
        "\n",
        "1402.0369_trunc.txt\n",
        "1303.4179_trunc.txt\n",
        "1211.5018_trunc.txt"
       ]
      },
      {
       "output_type": "stream",
       "stream": "stdout",
       "text": [
        "\n",
        "1106.1193_trunc.txt\n",
        "1208.3920_trunc.txt\n",
        "1412.4451_trunc.txt"
       ]
      },
      {
       "output_type": "stream",
       "stream": "stdout",
       "text": [
        "\n",
        "1507.04528_trunc.txt\n",
        "1312.0416_trunc.txt\n",
        "1505.08120_trunc.txt"
       ]
      },
      {
       "output_type": "stream",
       "stream": "stdout",
       "text": [
        "\n",
        "1305.3235_trunc.txt\n",
        "1304.2085_trunc.txt\n",
        "1404.3188_trunc.txt"
       ]
      },
      {
       "output_type": "stream",
       "stream": "stdout",
       "text": [
        "\n",
        "1112.1868_trunc.txt\n",
        "1506.02887_trunc.txt"
       ]
      },
      {
       "output_type": "stream",
       "stream": "stdout",
       "text": [
        "\n",
        "1412.3092_trunc.txt\n",
        "1411.4281_trunc.txt"
       ]
      },
      {
       "output_type": "stream",
       "stream": "stdout",
       "text": [
        "\n",
        "1411.1437_trunc.txt\n",
        "1404.1839_trunc.txt\n",
        "1308.0641_trunc.txt"
       ]
      },
      {
       "output_type": "stream",
       "stream": "stdout",
       "text": [
        "\n",
        "1112.4434_trunc.txt\n",
        "1510.01290_trunc.txt"
       ]
      },
      {
       "output_type": "stream",
       "stream": "stdout",
       "text": [
        "\n",
        "1310.7462_trunc.txt\n",
        "1206.0847_trunc.txt\n",
        "1509.00351_trunc.txt"
       ]
      },
      {
       "output_type": "stream",
       "stream": "stdout",
       "text": [
        "\n",
        "1109.5278_trunc.txt\n",
        "1503.04530_trunc.txt\n",
        "1501.02201_trunc.txt"
       ]
      },
      {
       "output_type": "stream",
       "stream": "stdout",
       "text": [
        "\n",
        "1303.2236_trunc.txt\n",
        "1408.2951_trunc.txt\n",
        "1311.3765_trunc.txt"
       ]
      },
      {
       "output_type": "stream",
       "stream": "stdout",
       "text": [
        "\n",
        "1504.02693_trunc.txt\n",
        "1108.3325_trunc.txt\n",
        "1202.1125_trunc.txt"
       ]
      },
      {
       "output_type": "stream",
       "stream": "stdout",
       "text": [
        "\n",
        "1503.05911_trunc.txt\n",
        "1202.3878_trunc.txt\n",
        "1309.2136_trunc.txt"
       ]
      },
      {
       "output_type": "stream",
       "stream": "stdout",
       "text": [
        "\n",
        "1405.0384_trunc.txt\n",
        "1511.04162_trunc.txt\n",
        "1211.2137_trunc.txt"
       ]
      },
      {
       "output_type": "stream",
       "stream": "stdout",
       "text": [
        "\n",
        "1309.6699_trunc.txt\n",
        "1109.4533_trunc.txt\n",
        "1309.5352_trunc.txt"
       ]
      },
      {
       "output_type": "stream",
       "stream": "stdout",
       "text": [
        "\n",
        "1305.0617_trunc.txt\n",
        "1107.2574_trunc.txt"
       ]
      },
      {
       "output_type": "stream",
       "stream": "stdout",
       "text": [
        "\n",
        "1504.03459_trunc.txt\n",
        "1505.00482_trunc.txt"
       ]
      },
      {
       "output_type": "stream",
       "stream": "stdout",
       "text": [
        "\n",
        "1411.2571_trunc.txt\n",
        "1206.0963_trunc.txt\n",
        "1307.3369_trunc.txt"
       ]
      },
      {
       "output_type": "stream",
       "stream": "stdout",
       "text": [
        "\n",
        "1308.1768_trunc.txt\n",
        "1402.2238_trunc.txt\n",
        "1303.6349_trunc.txt"
       ]
      },
      {
       "output_type": "stream",
       "stream": "stdout",
       "text": [
        "\n",
        "1106.4149_trunc.txt\n",
        "1110.5454_trunc.txt"
       ]
      },
      {
       "output_type": "stream",
       "stream": "stdout",
       "text": [
        "\n",
        "1311.0662_trunc.txt\n",
        "1404.6640_trunc.txt"
       ]
      },
      {
       "output_type": "stream",
       "stream": "stdout",
       "text": [
        "\n",
        "1206.3911_trunc.txt\n",
        "1407.5241_trunc.txt\n",
        "1206.1904_trunc.txt"
       ]
      },
      {
       "output_type": "stream",
       "stream": "stdout",
       "text": [
        "\n",
        "1211.5479_trunc.txt\n",
        "1510.01948_trunc.txt\n",
        "1509.08892_trunc.txt"
       ]
      },
      {
       "output_type": "stream",
       "stream": "stdout",
       "text": [
        "\n",
        "1411.6428_trunc.txt\n",
        "1301.2074_trunc.txt"
       ]
      },
      {
       "output_type": "stream",
       "stream": "stdout",
       "text": [
        "\n",
        "1506.04324_trunc.txt\n",
        "1307.7931_trunc.txt"
       ]
      },
      {
       "output_type": "stream",
       "stream": "stdout",
       "text": [
        "\n",
        "1112.3777_trunc.txt\n",
        "1505.02077_trunc.txt"
       ]
      },
      {
       "output_type": "stream",
       "stream": "stdout",
       "text": [
        "\n",
        "1509.02017_trunc.txt\n",
        "1503.08562_trunc.txt"
       ]
      },
      {
       "output_type": "stream",
       "stream": "stdout",
       "text": [
        "\n",
        "1510.03966_trunc.txt\n",
        "1301.3581_trunc.txt"
       ]
      },
      {
       "output_type": "stream",
       "stream": "stdout",
       "text": [
        "\n",
        "1105.2698_trunc.txt\n",
        "1106.2627_trunc.txt\n",
        "1402.2243_trunc.txt"
       ]
      },
      {
       "output_type": "stream",
       "stream": "stdout",
       "text": [
        "\n",
        "1210.8245_trunc.txt\n",
        "1308.3925_trunc.txt"
       ]
      },
      {
       "output_type": "stream",
       "stream": "stdout",
       "text": [
        "\n",
        "1302.7099_trunc.txt\n",
        "1405.6942_trunc.txt\n",
        "1312.4663_trunc.txt"
       ]
      },
      {
       "output_type": "stream",
       "stream": "stdout",
       "text": [
        "\n",
        "1308.4077_trunc.txt\n",
        "1108.2835_trunc.txt"
       ]
      },
      {
       "output_type": "stream",
       "stream": "stdout",
       "text": [
        "\n",
        "1509.01903_trunc.txt\n",
        "1403.3278_trunc.txt\n",
        "1503.00378_trunc.txt"
       ]
      },
      {
       "output_type": "stream",
       "stream": "stdout",
       "text": [
        "\n",
        "1304.2696_trunc.txt\n",
        "1507.05315_trunc.txt"
       ]
      },
      {
       "output_type": "stream",
       "stream": "stdout",
       "text": [
        "\n",
        "1206.0457_trunc.txt\n",
        "1510.04064_trunc.txt"
       ]
      },
      {
       "output_type": "stream",
       "stream": "stdout",
       "text": [
        "\n",
        "1503.01727_trunc.txt\n",
        "1211.0817_trunc.txt"
       ]
      },
      {
       "output_type": "stream",
       "stream": "stdout",
       "text": [
        "\n",
        "1506.03313_trunc.txt\n",
        "1406.4584_trunc.txt"
       ]
      },
      {
       "output_type": "stream",
       "stream": "stdout",
       "text": [
        "\n",
        "1302.3071_trunc.txt\n",
        "1508.01967_trunc.txt\n",
        "1106.5834_trunc.txt"
       ]
      },
      {
       "output_type": "stream",
       "stream": "stdout",
       "text": [
        "\n",
        "1406.6668_trunc.txt\n",
        "1304.6691_trunc.txt\n",
        "1510.08873_trunc.txt"
       ]
      },
      {
       "output_type": "stream",
       "stream": "stdout",
       "text": [
        "\n",
        "1211.2117_trunc.txt\n",
        "1112.0905_trunc.txt\n",
        "1310.0333_trunc.txt"
       ]
      },
      {
       "output_type": "stream",
       "stream": "stdout",
       "text": [
        "\n",
        "1410.0996_trunc.txt\n",
        "1402.0845_trunc.txt\n",
        "1309.1754_trunc.txt"
       ]
      },
      {
       "output_type": "stream",
       "stream": "stdout",
       "text": [
        "\n",
        "1506.01391_trunc.txt\n",
        "1209.1533_trunc.txt\n",
        "1510.00486_trunc.txt"
       ]
      },
      {
       "output_type": "stream",
       "stream": "stdout",
       "text": [
        "\n",
        "1407.2176_trunc.txt\n",
        "1109.1244_trunc.txt\n",
        "1507.03984_trunc.txt"
       ]
      },
      {
       "output_type": "stream",
       "stream": "stdout",
       "text": [
        "\n",
        "1210.4711_trunc.txt\n",
        "1310.1969_trunc.txt\n",
        "1509.06403_trunc.txt"
       ]
      },
      {
       "output_type": "stream",
       "stream": "stdout",
       "text": [
        "\n",
        "1205.5234_trunc.txt\n",
        "1503.05289_trunc.txt\n",
        "1301.0676_trunc.txt"
       ]
      },
      {
       "output_type": "stream",
       "stream": "stdout",
       "text": [
        "\n",
        "1507.06227_trunc.txt\n",
        "1503.02817_trunc.txt\n",
        "1406.3960_trunc.txt"
       ]
      },
      {
       "output_type": "stream",
       "stream": "stdout",
       "text": [
        "\n",
        "1411.0894_trunc.txt\n",
        "1303.2874_trunc.txt\n",
        "1111.2205_trunc.txt"
       ]
      },
      {
       "output_type": "stream",
       "stream": "stdout",
       "text": [
        "\n",
        "1307.5574_trunc.txt\n",
        "1302.4815_trunc.txt\n",
        "1209.5183_trunc.txt"
       ]
      },
      {
       "output_type": "stream",
       "stream": "stdout",
       "text": [
        "\n",
        "1411.1350_trunc.txt\n",
        "1509.01900_trunc.txt\n",
        "1201.2577_trunc.txt"
       ]
      },
      {
       "output_type": "stream",
       "stream": "stdout",
       "text": [
        "\n",
        "1303.0458_trunc.txt\n",
        "1404.3749_trunc.txt\n",
        "1502.03049_trunc.txt"
       ]
      },
      {
       "output_type": "stream",
       "stream": "stdout",
       "text": [
        "\n",
        "1206.3125_trunc.txt\n",
        "1201.0155_trunc.txt\n",
        "1506.03620_trunc.txt"
       ]
      },
      {
       "output_type": "stream",
       "stream": "stdout",
       "text": [
        "\n",
        "1111.4148_trunc.txt\n",
        "1504.04599_trunc.txt\n",
        "1109.0320_trunc.txt"
       ]
      },
      {
       "output_type": "stream",
       "stream": "stdout",
       "text": [
        "\n",
        "1106.2920_trunc.txt\n",
        "1404.3094_trunc.txt\n",
        "1507.02018_trunc.txt"
       ]
      },
      {
       "output_type": "stream",
       "stream": "stdout",
       "text": [
        "\n",
        "1509.02872_trunc.txt\n",
        "1401.2597_trunc.txt\n",
        "1403.3758_trunc.txt"
       ]
      },
      {
       "output_type": "stream",
       "stream": "stdout",
       "text": [
        "\n",
        "1305.2075_trunc.txt\n",
        "1104.4289_trunc.txt\n",
        "1402.0248_trunc.txt"
       ]
      },
      {
       "output_type": "stream",
       "stream": "stdout",
       "text": [
        "\n",
        "1509.06075_trunc.txt\n",
        "1205.6644_trunc.txt\n",
        "1211.5164_trunc.txt"
       ]
      },
      {
       "output_type": "stream",
       "stream": "stdout",
       "text": [
        "\n",
        "1511.02515_trunc.txt\n",
        "1105.3018_trunc.txt\n",
        "1412.7392_trunc.txt"
       ]
      },
      {
       "output_type": "stream",
       "stream": "stdout",
       "text": [
        "\n",
        "1106.2674_trunc.txt\n",
        "1411.7713_trunc.txt\n",
        "1505.00675_trunc.txt"
       ]
      },
      {
       "output_type": "stream",
       "stream": "stdout",
       "text": [
        "\n",
        "1210.2029_trunc.txt\n",
        "1407.0249_trunc.txt\n",
        "1104.4396_trunc.txt"
       ]
      },
      {
       "output_type": "stream",
       "stream": "stdout",
       "text": [
        "\n",
        "1401.1674_trunc.txt\n",
        "1201.1071_trunc.txt\n",
        "1510.08986_trunc.txt"
       ]
      },
      {
       "output_type": "stream",
       "stream": "stdout",
       "text": [
        "\n",
        "1503.04985_trunc.txt\n",
        "1311.1981_trunc.txt\n",
        "1507.08441_trunc.txt"
       ]
      },
      {
       "output_type": "stream",
       "stream": "stdout",
       "text": [
        "\n",
        "1510.05517_trunc.txt\n",
        "1306.2003_trunc.txt\n",
        "1507.08140_trunc.txt"
       ]
      },
      {
       "output_type": "stream",
       "stream": "stdout",
       "text": [
        "\n",
        "1412.5139_trunc.txt\n",
        "1504.08177_trunc.txt\n",
        "1411.3686_trunc.txt"
       ]
      },
      {
       "output_type": "stream",
       "stream": "stdout",
       "text": [
        "\n",
        "1403.1762_trunc.txt\n",
        "1405.7244_trunc.txt\n",
        "1401.5571_trunc.txt"
       ]
      },
      {
       "output_type": "stream",
       "stream": "stdout",
       "text": [
        "\n",
        "1211.2998_trunc.txt\n",
        "1312.2050_trunc.txt\n",
        "1510.01355_trunc.txt"
       ]
      },
      {
       "output_type": "stream",
       "stream": "stdout",
       "text": [
        "\n",
        "1303.2863_trunc.txt\n",
        "1306.1587_trunc.txt\n",
        "1410.8740_trunc.txt"
       ]
      },
      {
       "output_type": "stream",
       "stream": "stdout",
       "text": [
        "\n",
        "1401.0211_trunc.txt\n",
        "1304.1383_trunc.txt\n",
        "1206.0917_trunc.txt"
       ]
      },
      {
       "output_type": "stream",
       "stream": "stdout",
       "text": [
        "\n",
        "1211.5488_trunc.txt\n",
        "1105.0490_trunc.txt\n",
        "1410.5028_trunc.txt"
       ]
      },
      {
       "output_type": "stream",
       "stream": "stdout",
       "text": [
        "\n",
        "1210.2440_trunc.txt\n",
        "1509.03119_trunc.txt\n",
        "1501.00177_trunc.txt"
       ]
      },
      {
       "output_type": "stream",
       "stream": "stdout",
       "text": [
        "\n",
        "1306.3690_trunc.txt\n",
        "1509.04388_trunc.txt\n",
        "1402.5731_trunc.txt"
       ]
      },
      {
       "output_type": "stream",
       "stream": "stdout",
       "text": [
        "\n",
        "1309.4740_trunc.txt\n",
        "1404.2298_trunc.txt\n",
        "1212.3267_trunc.txt"
       ]
      },
      {
       "output_type": "stream",
       "stream": "stdout",
       "text": [
        "\n",
        "1507.07754_trunc.txt\n",
        "1403.3931_trunc.txt\n",
        "1506.01478_trunc.txt"
       ]
      },
      {
       "output_type": "stream",
       "stream": "stdout",
       "text": [
        "\n",
        "1505.02023_trunc.txt\n",
        "1111.5876_trunc.txt\n",
        "1505.07414_trunc.txt"
       ]
      },
      {
       "output_type": "stream",
       "stream": "stdout",
       "text": [
        "\n",
        "1303.5180_trunc.txt\n",
        "1206.4766_trunc.txt\n",
        "1405.2399_trunc.txt"
       ]
      },
      {
       "output_type": "stream",
       "stream": "stdout",
       "text": [
        "\n",
        "1303.0518_trunc.txt\n",
        "1210.0864_trunc.txt"
       ]
      },
      {
       "output_type": "stream",
       "stream": "stdout",
       "text": [
        "\n",
        "1306.0623_trunc.txt\n",
        "1503.00163_trunc.txt\n",
        "1201.0277_trunc.txt"
       ]
      },
      {
       "output_type": "stream",
       "stream": "stdout",
       "text": [
        "\n",
        "1409.2051_trunc.txt\n",
        "1207.5654_trunc.txt"
       ]
      },
      {
       "output_type": "stream",
       "stream": "stdout",
       "text": [
        "\n",
        "1112.3450_trunc.txt\n",
        "1110.5138_trunc.txt"
       ]
      },
      {
       "output_type": "stream",
       "stream": "stdout",
       "text": [
        "\n",
        "1309.1262_trunc.txt\n",
        "1210.1092_trunc.txt\n",
        "1509.05017_trunc.txt"
       ]
      },
      {
       "output_type": "stream",
       "stream": "stdout",
       "text": [
        "\n",
        "1210.1074_trunc.txt\n",
        "1502.01997_trunc.txt\n",
        "1305.5673_trunc.txt"
       ]
      },
      {
       "output_type": "stream",
       "stream": "stdout",
       "text": [
        "\n",
        "1509.04819_trunc.txt\n",
        "1507.04398_trunc.txt\n",
        "1503.05077_trunc.txt"
       ]
      },
      {
       "output_type": "stream",
       "stream": "stdout",
       "text": [
        "\n",
        "1403.3920_trunc.txt\n",
        "1403.1699_trunc.txt\n",
        "1105.6145_trunc.txt"
       ]
      },
      {
       "output_type": "stream",
       "stream": "stdout",
       "text": [
        "\n",
        "1211.3215_trunc.txt\n",
        "1211.3460_trunc.txt\n",
        "1108.1498_trunc.txt"
       ]
      },
      {
       "output_type": "stream",
       "stream": "stdout",
       "text": [
        "\n",
        "1208.6581_trunc.txt\n",
        "1307.0470_trunc.txt\n",
        "1205.6086_trunc.txt"
       ]
      },
      {
       "output_type": "stream",
       "stream": "stdout",
       "text": [
        "\n",
        "1502.05460_trunc.txt\n",
        "1209.6534_trunc.txt\n",
        "1402.5584_trunc.txt"
       ]
      },
      {
       "output_type": "stream",
       "stream": "stdout",
       "text": [
        "\n",
        "1206.1711_trunc.txt\n",
        "1206.6536_trunc.txt\n",
        "1506.06322_trunc.txt"
       ]
      },
      {
       "output_type": "stream",
       "stream": "stdout",
       "text": [
        "\n",
        "1302.2044_trunc.txt\n",
        "1406.3521_trunc.txt\n",
        "1307.1223_trunc.txt"
       ]
      },
      {
       "output_type": "stream",
       "stream": "stdout",
       "text": [
        "\n",
        "1309.7376_trunc.txt\n",
        "1210.7447_trunc.txt\n",
        "1303.6466_trunc.txt"
       ]
      },
      {
       "output_type": "stream",
       "stream": "stdout",
       "text": [
        "\n",
        "1210.5881_trunc.txt\n",
        "1109.3714_trunc.txt"
       ]
      },
      {
       "output_type": "stream",
       "stream": "stdout",
       "text": [
        "\n",
        "1111.0483_trunc.txt\n",
        "1409.0752_trunc.txt\n",
        "1509.08451_trunc.txt"
       ]
      },
      {
       "output_type": "stream",
       "stream": "stdout",
       "text": [
        "\n",
        "1502.04977_trunc.txt\n",
        "1402.2628_trunc.txt\n",
        "1308.5738_trunc.txt"
       ]
      },
      {
       "output_type": "stream",
       "stream": "stdout",
       "text": [
        "\n",
        "1301.6376_trunc.txt\n",
        "1308.5534_trunc.txt\n",
        "1504.00828_trunc.txt"
       ]
      },
      {
       "output_type": "stream",
       "stream": "stdout",
       "text": [
        "\n",
        "1110.6427_trunc.txt\n",
        "1404.1530_trunc.txt\n",
        "1309.5003_trunc.txt"
       ]
      },
      {
       "output_type": "stream",
       "stream": "stdout",
       "text": [
        "\n",
        "1410.4029_trunc.txt\n",
        "1304.1598_trunc.txt\n",
        "1202.5070_trunc.txt"
       ]
      },
      {
       "output_type": "stream",
       "stream": "stdout",
       "text": [
        "\n",
        "1212.3721_trunc.txt\n",
        "1312.5219_trunc.txt\n",
        "1110.4539_trunc.txt"
       ]
      },
      {
       "output_type": "stream",
       "stream": "stdout",
       "text": [
        "\n",
        "1507.06506_trunc.txt\n",
        "1211.4157_trunc.txt\n",
        "1211.5281_trunc.txt"
       ]
      },
      {
       "output_type": "stream",
       "stream": "stdout",
       "text": [
        "\n",
        "1401.6882_trunc.txt\n",
        "1501.06502_trunc.txt"
       ]
      },
      {
       "output_type": "stream",
       "stream": "stdout",
       "text": [
        "\n",
        "1211.2265_trunc.txt\n",
        "1212.5311_trunc.txt\n",
        "1311.2799_trunc.txt"
       ]
      },
      {
       "output_type": "stream",
       "stream": "stdout",
       "text": [
        "\n",
        "1404.3046_trunc.txt\n",
        "1502.06718_trunc.txt\n",
        "1112.4258_trunc.txt"
       ]
      },
      {
       "output_type": "stream",
       "stream": "stdout",
       "text": [
        "\n",
        "1209.5356_trunc.txt\n",
        "1409.1429_trunc.txt\n",
        "1310.3240_trunc.txt"
       ]
      },
      {
       "output_type": "stream",
       "stream": "stdout",
       "text": [
        "\n",
        "1508.03852_trunc.txt\n",
        "1411.0229_trunc.txt\n",
        "1502.04071_trunc.txt"
       ]
      },
      {
       "output_type": "stream",
       "stream": "stdout",
       "text": [
        "\n",
        "1309.2585_trunc.txt\n",
        "1405.2881_trunc.txt\n",
        "1201.1155_trunc.txt"
       ]
      },
      {
       "output_type": "stream",
       "stream": "stdout",
       "text": [
        "\n",
        "1410.1802_trunc.txt\n",
        "1312.2240_trunc.txt\n",
        "1410.1094_trunc.txt"
       ]
      },
      {
       "output_type": "stream",
       "stream": "stdout",
       "text": [
        "\n",
        "1409.8557_trunc.txt\n",
        "1311.2791_trunc.txt\n",
        "1509.04704_trunc.txt"
       ]
      },
      {
       "output_type": "stream",
       "stream": "stdout",
       "text": [
        "\n",
        "1402.2755_trunc.txt\n",
        "1202.4850_trunc.txt\n",
        "1503.02214_trunc.txt"
       ]
      },
      {
       "output_type": "stream",
       "stream": "stdout",
       "text": [
        "\n",
        "1306.6042_trunc.txt\n",
        "1509.00137_trunc.txt\n",
        "1201.0646_trunc.txt"
       ]
      },
      {
       "output_type": "stream",
       "stream": "stdout",
       "text": [
        "\n",
        "1408.6327_trunc.txt\n",
        "1207.5367_trunc.txt\n",
        "1211.0801_trunc.txt"
       ]
      },
      {
       "output_type": "stream",
       "stream": "stdout",
       "text": [
        "\n",
        "1403.0349_trunc.txt\n",
        "1402.1754_trunc.txt\n",
        "1205.6556_trunc.txt"
       ]
      },
      {
       "output_type": "stream",
       "stream": "stdout",
       "text": [
        "\n",
        "1412.0753_trunc.txt\n",
        "1208.1811_trunc.txt\n",
        "1411.0800_trunc.txt"
       ]
      },
      {
       "output_type": "stream",
       "stream": "stdout",
       "text": [
        "\n",
        "1409.8150_trunc.txt\n",
        "1506.02222_trunc.txt\n",
        "1403.3306_trunc.txt"
       ]
      },
      {
       "output_type": "stream",
       "stream": "stdout",
       "text": [
        "\n",
        "1410.2597_trunc.txt\n",
        "1303.3594_trunc.txt\n",
        "1211.1082_trunc.txt"
       ]
      },
      {
       "output_type": "stream",
       "stream": "stdout",
       "text": [
        "\n",
        "1501.07440_trunc.txt\n",
        "1408.0424_trunc.txt\n",
        "1509.02992_trunc.txt"
       ]
      },
      {
       "output_type": "stream",
       "stream": "stdout",
       "text": [
        "\n",
        "1109.4174_trunc.txt\n",
        "1506.00515_trunc.txt\n",
        "1104.1242_trunc.txt"
       ]
      },
      {
       "output_type": "stream",
       "stream": "stdout",
       "text": [
        "\n",
        "1505.02611_trunc.txt\n",
        "1312.2903_trunc.txt\n",
        "1505.03350_trunc.txt"
       ]
      },
      {
       "output_type": "stream",
       "stream": "stdout",
       "text": [
        "\n",
        "1410.0661_trunc.txt\n",
        "1407.0158_trunc.txt\n",
        "1302.5202_trunc.txt"
       ]
      },
      {
       "output_type": "stream",
       "stream": "stdout",
       "text": [
        "\n",
        "1211.1530_trunc.txt\n",
        "1212.0634_trunc.txt\n",
        "1312.6102_trunc.txt"
       ]
      },
      {
       "output_type": "stream",
       "stream": "stdout",
       "text": [
        "\n",
        "1505.08049_trunc.txt\n",
        "1406.0148_trunc.txt\n",
        "1210.1059_trunc.txt"
       ]
      },
      {
       "output_type": "stream",
       "stream": "stdout",
       "text": [
        "\n",
        "1111.6174_trunc.txt\n",
        "1501.01840_trunc.txt\n",
        "1212.4093_trunc.txt"
       ]
      },
      {
       "output_type": "stream",
       "stream": "stdout",
       "text": [
        "\n",
        "1503.03626_trunc.txt\n",
        "1502.06644_trunc.txt\n",
        "1311.1283_trunc.txt"
       ]
      },
      {
       "output_type": "stream",
       "stream": "stdout",
       "text": [
        "\n",
        "1401.7819_trunc.txt\n",
        "1510.07123_trunc.txt\n",
        "1301.0901_trunc.txt"
       ]
      },
      {
       "output_type": "stream",
       "stream": "stdout",
       "text": [
        "\n",
        "1312.5137_trunc.txt\n",
        "1508.03416_trunc.txt\n",
        "1105.0343_trunc.txt"
       ]
      },
      {
       "output_type": "stream",
       "stream": "stdout",
       "text": [
        "\n",
        "1301.3451_trunc.txt\n",
        "1407.7811_trunc.txt\n",
        "1404.1214_trunc.txt"
       ]
      },
      {
       "output_type": "stream",
       "stream": "stdout",
       "text": [
        "\n",
        "1509.05861_trunc.txt\n",
        "1406.4901_trunc.txt\n",
        "1501.04206_trunc.txt"
       ]
      },
      {
       "output_type": "stream",
       "stream": "stdout",
       "text": [
        "\n",
        "1302.0654_trunc.txt\n",
        "1111.7247_trunc.txt\n",
        "1201.1140_trunc.txt"
       ]
      },
      {
       "output_type": "stream",
       "stream": "stdout",
       "text": [
        "\n",
        "1404.3152_trunc.txt\n",
        "1505.06832_trunc.txt\n",
        "1509.00727_trunc.txt"
       ]
      },
      {
       "output_type": "stream",
       "stream": "stdout",
       "text": [
        "\n",
        "1402.0743_trunc.txt\n",
        "1302.1232_trunc.txt\n",
        "1510.01307_trunc.txt"
       ]
      },
      {
       "output_type": "stream",
       "stream": "stdout",
       "text": [
        "\n",
        "1305.7462_trunc.txt\n",
        "1209.6503_trunc.txt\n",
        "1106.3503_trunc.txt"
       ]
      },
      {
       "output_type": "stream",
       "stream": "stdout",
       "text": [
        "\n",
        "1506.02174_trunc.txt\n",
        "1201.0341_trunc.txt\n",
        "1411.3984_trunc.txt"
       ]
      },
      {
       "output_type": "stream",
       "stream": "stdout",
       "text": [
        "\n",
        "1309.7752_trunc.txt\n",
        "1112.2855_trunc.txt\n",
        "1506.08047_trunc.txt"
       ]
      },
      {
       "output_type": "stream",
       "stream": "stdout",
       "text": [
        "\n",
        "1309.4667_trunc.txt\n",
        "1409.5353_trunc.txt\n",
        "1502.03300_trunc.txt"
       ]
      },
      {
       "output_type": "stream",
       "stream": "stdout",
       "text": [
        "\n",
        "1403.2660_trunc.txt\n",
        "1407.4905_trunc.txt\n",
        "1209.4957_trunc.txt"
       ]
      },
      {
       "output_type": "stream",
       "stream": "stdout",
       "text": [
        "\n",
        "1206.4340_trunc.txt\n",
        "1107.2980_trunc.txt\n",
        "1501.00518_trunc.txt"
       ]
      },
      {
       "output_type": "stream",
       "stream": "stdout",
       "text": [
        "\n",
        "1205.4692_trunc.txt\n",
        "1507.06510_trunc.txt\n",
        "1505.01394_trunc.txt"
       ]
      },
      {
       "output_type": "stream",
       "stream": "stdout",
       "text": [
        "\n",
        "1410.4682_trunc.txt\n",
        "1504.06384_trunc.txt\n",
        "1211.5507_trunc.txt"
       ]
      },
      {
       "output_type": "stream",
       "stream": "stdout",
       "text": [
        "\n",
        "1510.03267_trunc.txt\n",
        "1510.00967_trunc.txt\n",
        "1408.0881_trunc.txt"
       ]
      },
      {
       "output_type": "stream",
       "stream": "stdout",
       "text": [
        "\n",
        "1405.0338_trunc.txt\n",
        "1211.0835_trunc.txt\n",
        "1202.4437_trunc.txt"
       ]
      },
      {
       "output_type": "stream",
       "stream": "stdout",
       "text": [
        "\n",
        "1106.5241_trunc.txt\n",
        "1206.2380_trunc.txt\n",
        "1506.03909_trunc.txt"
       ]
      },
      {
       "output_type": "stream",
       "stream": "stdout",
       "text": [
        "\n",
        "1211.7191_trunc.txt\n",
        "1406.3334_trunc.txt\n",
        "1108.3438_trunc.txt"
       ]
      },
      {
       "output_type": "stream",
       "stream": "stdout",
       "text": [
        "\n",
        "1207.5895_trunc.txt\n",
        "1508.04948_trunc.txt\n",
        "1110.3238_trunc.txt"
       ]
      },
      {
       "output_type": "stream",
       "stream": "stdout",
       "text": [
        "\n",
        "1509.09167_trunc.txt\n",
        "1409.2177_trunc.txt\n",
        "1104.3664_trunc.txt"
       ]
      },
      {
       "output_type": "stream",
       "stream": "stdout",
       "text": [
        "\n",
        "1407.5798_trunc.txt\n",
        "1312.0142_trunc.txt\n",
        "1310.0425_trunc.txt"
       ]
      },
      {
       "output_type": "stream",
       "stream": "stdout",
       "text": [
        "\n",
        "1109.3704_trunc.txt\n",
        "1109.2938_trunc.txt\n",
        "1311.5000_trunc.txt"
       ]
      },
      {
       "output_type": "stream",
       "stream": "stdout",
       "text": [
        "\n",
        "1111.0723_trunc.txt\n",
        "1507.04793_trunc.txt\n",
        "1312.5085_trunc.txt"
       ]
      },
      {
       "output_type": "stream",
       "stream": "stdout",
       "text": [
        "\n",
        "1107.3258_trunc.txt\n",
        "1506.00669_trunc.txt\n",
        "1209.0542_trunc.txt"
       ]
      },
      {
       "output_type": "stream",
       "stream": "stdout",
       "text": [
        "\n",
        "1507.02493_trunc.txt\n",
        "1307.1123_trunc.txt\n",
        "1405.6555_trunc.txt"
       ]
      },
      {
       "output_type": "stream",
       "stream": "stdout",
       "text": [
        "\n",
        "1302.4605_trunc.txt\n",
        "1205.6283_trunc.txt\n",
        "1104.4595_trunc.txt"
       ]
      },
      {
       "output_type": "stream",
       "stream": "stdout",
       "text": [
        "\n",
        "1401.3257_trunc.txt\n",
        "1310.4489_trunc.txt\n",
        "1303.1690_trunc.txt"
       ]
      },
      {
       "output_type": "stream",
       "stream": "stdout",
       "text": [
        "\n",
        "1406.0067_trunc.txt\n",
        "1108.2171_trunc.txt\n",
        "1405.7210_trunc.txt"
       ]
      },
      {
       "output_type": "stream",
       "stream": "stdout",
       "text": [
        "\n",
        "1505.04898_trunc.txt\n",
        "1508.07530_trunc.txt\n",
        "1502.06144_trunc.txt"
       ]
      },
      {
       "output_type": "stream",
       "stream": "stdout",
       "text": [
        "\n",
        "1511.01863_trunc.txt\n",
        "1503.05748_trunc.txt\n",
        "1112.2682_trunc.txt"
       ]
      },
      {
       "output_type": "stream",
       "stream": "stdout",
       "text": [
        "\n",
        "1401.1264_trunc.txt\n",
        "1307.5976_trunc.txt\n",
        "1112.2093_trunc.txt"
       ]
      },
      {
       "output_type": "stream",
       "stream": "stdout",
       "text": [
        "\n",
        "1406.1000_trunc.txt\n",
        "1403.5361_trunc.txt\n",
        "1205.4345_trunc.txt"
       ]
      },
      {
       "output_type": "stream",
       "stream": "stdout",
       "text": [
        "\n",
        "1401.1383_trunc.txt\n",
        "1210.3060_trunc.txt\n",
        "1209.1706_trunc.txt"
       ]
      },
      {
       "output_type": "stream",
       "stream": "stdout",
       "text": [
        "\n",
        "1306.4872_trunc.txt\n",
        "1112.4413_trunc.txt\n",
        "1302.4607_trunc.txt"
       ]
      },
      {
       "output_type": "stream",
       "stream": "stdout",
       "text": [
        "\n",
        "1503.08393_trunc.txt\n",
        "1302.3302_trunc.txt\n",
        "1411.2636_trunc.txt"
       ]
      },
      {
       "output_type": "stream",
       "stream": "stdout",
       "text": [
        "\n",
        "1510.08887_trunc.txt\n",
        "1312.5082_trunc.txt\n",
        "1307.8300_trunc.txt"
       ]
      },
      {
       "output_type": "stream",
       "stream": "stdout",
       "text": [
        "\n",
        "1304.2847_trunc.txt\n",
        "1507.08566_trunc.txt\n",
        "1412.4222_trunc.txt"
       ]
      },
      {
       "output_type": "stream",
       "stream": "stdout",
       "text": [
        "\n",
        "1201.3828_trunc.txt\n",
        "1308.0346_trunc.txt\n",
        "1311.4981_trunc.txt"
       ]
      },
      {
       "output_type": "stream",
       "stream": "stdout",
       "text": [
        "\n",
        "1506.02181_trunc.txt\n",
        "1112.5659_trunc.txt\n",
        "1212.4239_trunc.txt"
       ]
      },
      {
       "output_type": "stream",
       "stream": "stdout",
       "text": [
        "\n",
        "1406.5638_trunc.txt\n",
        "1505.04242_trunc.txt\n",
        "1111.6410_trunc.txt"
       ]
      },
      {
       "output_type": "stream",
       "stream": "stdout",
       "text": [
        "\n",
        "1301.3321_trunc.txt\n",
        "1406.1230_trunc.txt\n",
        "1407.5014_trunc.txt"
       ]
      },
      {
       "output_type": "stream",
       "stream": "stdout",
       "text": [
        "\n",
        "1210.1563_trunc.txt\n",
        "1107.0540_trunc.txt\n",
        "1407.7165_trunc.txt"
       ]
      },
      {
       "output_type": "stream",
       "stream": "stdout",
       "text": [
        "\n",
        "1307.5286_trunc.txt\n",
        "1210.2601_trunc.txt\n",
        "1110.3854_trunc.txt"
       ]
      },
      {
       "output_type": "stream",
       "stream": "stdout",
       "text": [
        "\n",
        "1309.5914_trunc.txt\n",
        "1207.0547_trunc.txt\n",
        "1502.00738_trunc.txt"
       ]
      },
      {
       "output_type": "stream",
       "stream": "stdout",
       "text": [
        "\n",
        "1501.07858_trunc.txt\n",
        "1405.5240_trunc.txt\n",
        "1105.2424_trunc.txt"
       ]
      },
      {
       "output_type": "stream",
       "stream": "stdout",
       "text": [
        "\n",
        "1310.8207_trunc.txt\n",
        "1201.0868_trunc.txt\n",
        "1201.0175_trunc.txt"
       ]
      },
      {
       "output_type": "stream",
       "stream": "stdout",
       "text": [
        "\n",
        "1312.2726_trunc.txt\n",
        "1406.5540_trunc.txt\n",
        "1205.2123_trunc.txt"
       ]
      },
      {
       "output_type": "stream",
       "stream": "stdout",
       "text": [
        "\n",
        "1505.02605_trunc.txt\n",
        "1502.04620_trunc.txt\n",
        "1105.5578_trunc.txt"
       ]
      },
      {
       "output_type": "stream",
       "stream": "stdout",
       "text": [
        "\n",
        "1506.02196_trunc.txt\n",
        "1404.1256_trunc.txt\n",
        "1312.4497_trunc.txt"
       ]
      },
      {
       "output_type": "stream",
       "stream": "stdout",
       "text": [
        "\n",
        "1201.1146_trunc.txt\n",
        "1501.06241_trunc.txt\n",
        "1211.6537_trunc.txt"
       ]
      },
      {
       "output_type": "stream",
       "stream": "stdout",
       "text": [
        "\n",
        "1302.0115_trunc.txt\n",
        "1507.07089_trunc.txt\n",
        "1506.00458_trunc.txt"
       ]
      },
      {
       "output_type": "stream",
       "stream": "stdout",
       "text": [
        "\n",
        "1410.5939_trunc.txt\n",
        "1504.01294_trunc.txt\n",
        "1211.2121_trunc.txt"
       ]
      },
      {
       "output_type": "stream",
       "stream": "stdout",
       "text": [
        "\n",
        "1410.5496_trunc.txt\n",
        "1307.5243_trunc.txt\n",
        "1408.0412_trunc.txt"
       ]
      },
      {
       "output_type": "stream",
       "stream": "stdout",
       "text": [
        "\n",
        "1105.2988_trunc.txt\n",
        "1510.08539_trunc.txt\n",
        "1209.4280_trunc.txt"
       ]
      },
      {
       "output_type": "stream",
       "stream": "stdout",
       "text": [
        "\n",
        "1205.6248_trunc.txt\n",
        "1107.0147_trunc.txt\n",
        "1110.6796_trunc.txt"
       ]
      },
      {
       "output_type": "stream",
       "stream": "stdout",
       "text": [
        "\n",
        "1206.0823_trunc.txt\n",
        "1412.3972_trunc.txt\n",
        "1109.4960_trunc.txt"
       ]
      },
      {
       "output_type": "stream",
       "stream": "stdout",
       "text": [
        "\n",
        "1311.1899_trunc.txt\n",
        "1210.3851_trunc.txt\n",
        "1201.2591_trunc.txt"
       ]
      },
      {
       "output_type": "stream",
       "stream": "stdout",
       "text": [
        "\n",
        "1106.0321_trunc.txt\n",
        "1305.0355_trunc.txt\n",
        "1306.4529_trunc.txt"
       ]
      },
      {
       "output_type": "stream",
       "stream": "stdout",
       "text": [
        "\n",
        "1509.05099_trunc.txt\n",
        "1312.1200_trunc.txt\n",
        "1201.4469_trunc.txt"
       ]
      },
      {
       "output_type": "stream",
       "stream": "stdout",
       "text": [
        "\n",
        "1305.0630_trunc.txt\n",
        "1502.03836_trunc.txt\n",
        "1307.2297_trunc.txt"
       ]
      },
      {
       "output_type": "stream",
       "stream": "stdout",
       "text": [
        "\n",
        "1311.6238_trunc.txt\n",
        "1301.6585_trunc.txt\n",
        "1409.2262_trunc.txt"
       ]
      },
      {
       "output_type": "stream",
       "stream": "stdout",
       "text": [
        "\n",
        "1211.2664_trunc.txt\n",
        "1412.2821_trunc.txt\n",
        "1304.5846_trunc.txt"
       ]
      },
      {
       "output_type": "stream",
       "stream": "stdout",
       "text": [
        "\n",
        "1304.6772_trunc.txt\n",
        "1307.8137_trunc.txt\n",
        "1310.8092_trunc.txt"
       ]
      },
      {
       "output_type": "stream",
       "stream": "stdout",
       "text": [
        "\n",
        "1312.3302_trunc.txt\n",
        "1412.2557_trunc.txt\n",
        "1503.08060_trunc.txt"
       ]
      },
      {
       "output_type": "stream",
       "stream": "stdout",
       "text": [
        "\n",
        "1304.5943_trunc.txt\n",
        "1412.8690_trunc.txt\n",
        "1105.3280_trunc.txt"
       ]
      },
      {
       "output_type": "stream",
       "stream": "stdout",
       "text": [
        "\n",
        "1110.4168_trunc.txt\n",
        "1107.2766_trunc.txt\n",
        "1503.04161_trunc.txt"
       ]
      },
      {
       "output_type": "stream",
       "stream": "stdout",
       "text": [
        "\n",
        "1309.5979_trunc.txt\n",
        "1112.4519_trunc.txt\n",
        "1503.04455_trunc.txt"
       ]
      },
      {
       "output_type": "stream",
       "stream": "stdout",
       "text": [
        "\n",
        "1404.4605_trunc.txt\n",
        "1501.06783_trunc.txt\n",
        "1305.3486_trunc.txt"
       ]
      },
      {
       "output_type": "stream",
       "stream": "stdout",
       "text": [
        "\n",
        "1402.3835_trunc.txt\n",
        "1504.07078_trunc.txt\n",
        "1408.5339_trunc.txt"
       ]
      },
      {
       "output_type": "stream",
       "stream": "stdout",
       "text": [
        "\n",
        "1306.6222_trunc.txt\n",
        "1103.4029_trunc.txt\n",
        "1207.3772_trunc.txt"
       ]
      },
      {
       "output_type": "stream",
       "stream": "stdout",
       "text": [
        "\n",
        "1202.0391_trunc.txt\n",
        "1311.1959_trunc.txt\n",
        "1301.7745_trunc.txt"
       ]
      },
      {
       "output_type": "stream",
       "stream": "stdout",
       "text": [
        "\n",
        "1205.6102_trunc.txt\n",
        "1202.1399_trunc.txt\n",
        "1308.3568_trunc.txt"
       ]
      },
      {
       "output_type": "stream",
       "stream": "stdout",
       "text": [
        "\n",
        "1401.4883_trunc.txt\n",
        "1310.1030_trunc.txt\n",
        "1407.4909_trunc.txt"
       ]
      },
      {
       "output_type": "stream",
       "stream": "stdout",
       "text": [
        "\n",
        "1210.2489_trunc.txt\n",
        "1401.0903_trunc.txt\n",
        "1107.3797_trunc.txt"
       ]
      },
      {
       "output_type": "stream",
       "stream": "stdout",
       "text": [
        "\n",
        "1506.01567_trunc.txt\n",
        "1311.7455_trunc.txt\n",
        "1412.7216_trunc.txt"
       ]
      },
      {
       "output_type": "stream",
       "stream": "stdout",
       "text": [
        "\n",
        "1109.4204_trunc.txt\n",
        "1306.1318_trunc.txt\n",
        "1303.4911_trunc.txt"
       ]
      },
      {
       "output_type": "stream",
       "stream": "stdout",
       "text": [
        "\n",
        "1511.04033_trunc.txt\n",
        "1509.03258_trunc.txt\n",
        "1312.1653_trunc.txt"
       ]
      },
      {
       "output_type": "stream",
       "stream": "stdout",
       "text": [
        "\n",
        "1210.0770_trunc.txt\n",
        "1306.1438_trunc.txt\n",
        "1405.1533_trunc.txt"
       ]
      },
      {
       "output_type": "stream",
       "stream": "stdout",
       "text": [
        "\n",
        "1509.07269_trunc.txt\n",
        "1405.3524_trunc.txt\n",
        "1310.4678_trunc.txt"
       ]
      },
      {
       "output_type": "stream",
       "stream": "stdout",
       "text": [
        "\n",
        "1505.06794_trunc.txt\n",
        "1103.6118_trunc.txt\n",
        "1409.7127_trunc.txt"
       ]
      },
      {
       "output_type": "stream",
       "stream": "stdout",
       "text": [
        "\n",
        "1212.0945_trunc.txt\n",
        "1301.4679_trunc.txt\n",
        "1210.4654_trunc.txt"
       ]
      },
      {
       "output_type": "stream",
       "stream": "stdout",
       "text": [
        "\n",
        "1109.0741_trunc.txt\n",
        "1410.4231_trunc.txt\n",
        "1111.0641_trunc.txt"
       ]
      },
      {
       "output_type": "stream",
       "stream": "stdout",
       "text": [
        "\n",
        "1308.3861_trunc.txt\n",
        "1509.01058_trunc.txt\n",
        "1209.3394_trunc.txt"
       ]
      },
      {
       "output_type": "stream",
       "stream": "stdout",
       "text": [
        "\n",
        "1403.7713_trunc.txt\n",
        "1508.01964_trunc.txt\n",
        "1307.1201_trunc.txt"
       ]
      },
      {
       "output_type": "stream",
       "stream": "stdout",
       "text": [
        "\n",
        "1503.02390_trunc.txt\n",
        "1507.08727_trunc.txt\n",
        "1207.5902_trunc.txt"
       ]
      },
      {
       "output_type": "stream",
       "stream": "stdout",
       "text": [
        "\n",
        "1302.0122_trunc.txt\n",
        "1201.4058_trunc.txt\n",
        "1306.5883_trunc.txt"
       ]
      },
      {
       "output_type": "stream",
       "stream": "stdout",
       "text": [
        "\n",
        "1212.3866_trunc.txt\n",
        "1205.5578_trunc.txt\n",
        "1202.5096_trunc.txt"
       ]
      },
      {
       "output_type": "stream",
       "stream": "stdout",
       "text": [
        "\n",
        "1401.2897_trunc.txt\n",
        "1211.2671_trunc.txt\n",
        "1108.1945_trunc.txt"
       ]
      },
      {
       "output_type": "stream",
       "stream": "stdout",
       "text": [
        "\n",
        "1406.0345_trunc.txt\n",
        "1407.3774_trunc.txt\n",
        "1211.2548_trunc.txt"
       ]
      },
      {
       "output_type": "stream",
       "stream": "stdout",
       "text": [
        "\n",
        "1112.0708_trunc.txt\n",
        "1411.3390_trunc.txt\n",
        "1109.4180_trunc.txt"
       ]
      },
      {
       "output_type": "stream",
       "stream": "stdout",
       "text": [
        "\n",
        "1302.2213_trunc.txt\n",
        "1405.0579_trunc.txt\n",
        "1511.02270_trunc.txt"
       ]
      },
      {
       "output_type": "stream",
       "stream": "stdout",
       "text": [
        "\n",
        "1510.06307_trunc.txt\n",
        "1510.00137_trunc.txt\n",
        "1406.0052_trunc.txt"
       ]
      },
      {
       "output_type": "stream",
       "stream": "stdout",
       "text": [
        "\n",
        "1503.02339_trunc.txt\n",
        "1311.1027_trunc.txt\n",
        "1310.2532_trunc.txt"
       ]
      },
      {
       "output_type": "stream",
       "stream": "stdout",
       "text": [
        "\n",
        "1210.6187_trunc.txt\n",
        "1403.7867_trunc.txt\n",
        "1306.4391_trunc.txt"
       ]
      },
      {
       "output_type": "stream",
       "stream": "stdout",
       "text": [
        "\n",
        "1207.0662_trunc.txt\n",
        "1304.1733_trunc.txt\n",
        "1302.5892_trunc.txt"
       ]
      },
      {
       "output_type": "stream",
       "stream": "stdout",
       "text": [
        "\n",
        "1403.7866_trunc.txt\n",
        "1510.02903_trunc.txt\n",
        "1405.6545_trunc.txt"
       ]
      },
      {
       "output_type": "stream",
       "stream": "stdout",
       "text": [
        "\n",
        "1510.08534_trunc.txt\n",
        "1306.1493_trunc.txt\n",
        "1410.7098_trunc.txt"
       ]
      },
      {
       "output_type": "stream",
       "stream": "stdout",
       "text": [
        "\n",
        "1205.1920_trunc.txt\n",
        "1506.03430_trunc.txt\n",
        "1306.1728_trunc.txt"
       ]
      },
      {
       "output_type": "stream",
       "stream": "stdout",
       "text": [
        "\n",
        "1108.1647_trunc.txt\n",
        "1207.2064_trunc.txt\n",
        "1103.5594_trunc.txt"
       ]
      },
      {
       "output_type": "stream",
       "stream": "stdout",
       "text": [
        "\n",
        "1305.3095_trunc.txt\n",
        "1404.4093_trunc.txt\n",
        "1503.04022_trunc.txt"
       ]
      },
      {
       "output_type": "stream",
       "stream": "stdout",
       "text": [
        "\n",
        "1507.08726_trunc.txt\n",
        "1405.7145_trunc.txt\n",
        "1109.0838_trunc.txt"
       ]
      },
      {
       "output_type": "stream",
       "stream": "stdout",
       "text": [
        "\n",
        "1303.4035_trunc.txt\n",
        "1504.03796_trunc.txt\n",
        "1207.5625_trunc.txt"
       ]
      },
      {
       "output_type": "stream",
       "stream": "stdout",
       "text": [
        "\n",
        "1302.2345_trunc.txt\n",
        "1510.08547_trunc.txt\n",
        "1402.0699_trunc.txt"
       ]
      },
      {
       "output_type": "stream",
       "stream": "stdout",
       "text": [
        "\n",
        "1211.2264_trunc.txt\n",
        "1301.6465_trunc.txt\n",
        "1508.05904_trunc.txt"
       ]
      },
      {
       "output_type": "stream",
       "stream": "stdout",
       "text": [
        "\n",
        "1211.0459_trunc.txt\n",
        "1311.0851_trunc.txt\n",
        "1511.04144_trunc.txt"
       ]
      },
      {
       "output_type": "stream",
       "stream": "stdout",
       "text": [
        "\n",
        "1407.1233_trunc.txt\n",
        "1304.5690_trunc.txt\n",
        "1405.6061_trunc.txt"
       ]
      },
      {
       "output_type": "stream",
       "stream": "stdout",
       "text": [
        "\n",
        "1409.7548_trunc.txt\n",
        "1411.2701_trunc.txt\n",
        "1206.2425_trunc.txt"
       ]
      },
      {
       "output_type": "stream",
       "stream": "stdout",
       "text": [
        "\n",
        "1404.3203_trunc.txt\n",
        "1305.2476_trunc.txt\n",
        "1306.0842_trunc.txt"
       ]
      },
      {
       "output_type": "stream",
       "stream": "stdout",
       "text": [
        "\n",
        "1206.0304_trunc.txt\n",
        "1404.1356_trunc.txt\n",
        "1106.1056_trunc.txt"
       ]
      },
      {
       "output_type": "stream",
       "stream": "stdout",
       "text": [
        "\n",
        "1310.0847_trunc.txt\n",
        "1302.5168_trunc.txt\n",
        "1405.0321_trunc.txt"
       ]
      },
      {
       "output_type": "stream",
       "stream": "stdout",
       "text": [
        "\n",
        "1509.06442_trunc.txt\n",
        "1109.2694_trunc.txt\n",
        "1505.04195_trunc.txt"
       ]
      },
      {
       "output_type": "stream",
       "stream": "stdout",
       "text": [
        "\n",
        "1310.5169_trunc.txt\n",
        "1507.06710_trunc.txt\n",
        "1304.7914_trunc.txt"
       ]
      },
      {
       "output_type": "stream",
       "stream": "stdout",
       "text": [
        "\n",
        "1501.01208_trunc.txt\n",
        "1104.3966_trunc.txt\n",
        "1108.1783_trunc.txt"
       ]
      },
      {
       "output_type": "stream",
       "stream": "stdout",
       "text": [
        "\n",
        "1312.2788_trunc.txt\n",
        "1207.5548_trunc.txt\n",
        "1307.1185_trunc.txt"
       ]
      },
      {
       "output_type": "stream",
       "stream": "stdout",
       "text": [
        "\n",
        "1510.00179_trunc.txt\n",
        "1410.2447_trunc.txt\n",
        "1502.04237_trunc.txt"
       ]
      },
      {
       "output_type": "stream",
       "stream": "stdout",
       "text": [
        "\n",
        "1105.1697_trunc.txt\n",
        "1411.3825_trunc.txt\n",
        "1406.6348_trunc.txt"
       ]
      },
      {
       "output_type": "stream",
       "stream": "stdout",
       "text": [
        "\n",
        "1105.4680_trunc.txt\n",
        "1106.2068_trunc.txt"
       ]
      },
      {
       "output_type": "stream",
       "stream": "stdout",
       "text": [
        "\n",
        "1210.4739_trunc.txt\n",
        "1502.04189_trunc.txt"
       ]
      },
      {
       "output_type": "stream",
       "stream": "stdout",
       "text": [
        "\n",
        "1503.05160_trunc.txt\n",
        "1107.0935_trunc.txt\n",
        "1303.6149_trunc.txt"
       ]
      },
      {
       "output_type": "stream",
       "stream": "stdout",
       "text": [
        "\n",
        "1107.1944_trunc.txt\n",
        "1506.04692_trunc.txt\n",
        "1209.5543_trunc.txt"
       ]
      },
      {
       "output_type": "stream",
       "stream": "stdout",
       "text": [
        "\n",
        "1308.1269_trunc.txt\n",
        "1109.3732_trunc.txt\n",
        "1111.3563_trunc.txt"
       ]
      },
      {
       "output_type": "stream",
       "stream": "stdout",
       "text": [
        "\n",
        "1106.1031_trunc.txt\n",
        "1506.02811_trunc.txt\n",
        "1312.5634_trunc.txt"
       ]
      },
      {
       "output_type": "stream",
       "stream": "stdout",
       "text": [
        "\n",
        "1302.0163_trunc.txt\n",
        "1202.0666_trunc.txt"
       ]
      },
      {
       "output_type": "stream",
       "stream": "stdout",
       "text": [
        "\n",
        "1311.2445_trunc.txt\n",
        "1105.1404_trunc.txt\n",
        "1106.4729_trunc.txt"
       ]
      },
      {
       "output_type": "stream",
       "stream": "stdout",
       "text": [
        "\n",
        "1502.04874_trunc.txt\n",
        "1506.00850_trunc.txt\n",
        "1408.4747_trunc.txt"
       ]
      },
      {
       "output_type": "stream",
       "stream": "stdout",
       "text": [
        "\n",
        "1202.4294_trunc.txt\n",
        "1111.3308_trunc.txt\n",
        "1410.6020_trunc.txt"
       ]
      },
      {
       "output_type": "stream",
       "stream": "stdout",
       "text": [
        "\n",
        "1406.6670_trunc.txt\n",
        "1104.4049_trunc.txt"
       ]
      },
      {
       "output_type": "stream",
       "stream": "stdout",
       "text": [
        "\n",
        "1202.0957_trunc.txt\n",
        "1111.6822_trunc.txt"
       ]
      },
      {
       "output_type": "stream",
       "stream": "stdout",
       "text": [
        "\n",
        "1201.6052_trunc.txt\n",
        "1509.01060_trunc.txt\n",
        "1106.4222_trunc.txt"
       ]
      },
      {
       "output_type": "stream",
       "stream": "stdout",
       "text": [
        "\n",
        "1401.5187_trunc.txt\n",
        "1112.0840_trunc.txt\n",
        "1311.0587_trunc.txt"
       ]
      },
      {
       "output_type": "stream",
       "stream": "stdout",
       "text": [
        "\n",
        "1404.6224_trunc.txt\n",
        "1506.01831_trunc.txt\n",
        "1302.2882_trunc.txt"
       ]
      },
      {
       "output_type": "stream",
       "stream": "stdout",
       "text": [
        "\n",
        "1311.6435_trunc.txt\n",
        "1407.5158_trunc.txt"
       ]
      },
      {
       "output_type": "stream",
       "stream": "stdout",
       "text": [
        "\n",
        "1105.4292_trunc.txt\n",
        "1206.1194_trunc.txt"
       ]
      },
      {
       "output_type": "stream",
       "stream": "stdout",
       "text": [
        "\n",
        "1505.07260_trunc.txt\n",
        "1105.2135_trunc.txt"
       ]
      },
      {
       "output_type": "stream",
       "stream": "stdout",
       "text": [
        "\n",
        "1105.6154_trunc.txt\n",
        "1408.4045_trunc.txt\n",
        "1305.5232_trunc.txt"
       ]
      },
      {
       "output_type": "stream",
       "stream": "stdout",
       "text": [
        "\n",
        "1509.05574_trunc.txt\n",
        "1412.7739_trunc.txt"
       ]
      },
      {
       "output_type": "stream",
       "stream": "stdout",
       "text": [
        "\n",
        "1411.1805_trunc.txt\n",
        "1311.5832_trunc.txt"
       ]
      },
      {
       "output_type": "stream",
       "stream": "stdout",
       "text": [
        "\n",
        "1201.1076_trunc.txt\n",
        "1402.5107_trunc.txt"
       ]
      },
      {
       "output_type": "stream",
       "stream": "stdout",
       "text": [
        "\n",
        "1405.1218_trunc.txt\n",
        "1507.06370_trunc.txt"
       ]
      },
      {
       "output_type": "stream",
       "stream": "stdout",
       "text": [
        "\n",
        "1507.03895_trunc.txt\n",
        "1201.5521_trunc.txt"
       ]
      },
      {
       "output_type": "stream",
       "stream": "stdout",
       "text": [
        "\n",
        "1505.07607_trunc.txt\n",
        "1204.4494_trunc.txt"
       ]
      },
      {
       "output_type": "stream",
       "stream": "stdout",
       "text": [
        "\n",
        "1509.07040_trunc.txt\n",
        "1402.5297_trunc.txt"
       ]
      },
      {
       "output_type": "stream",
       "stream": "stdout",
       "text": [
        "\n",
        "1407.3961_trunc.txt\n",
        "1110.1265_trunc.txt"
       ]
      },
      {
       "output_type": "stream",
       "stream": "stdout",
       "text": [
        "\n",
        "1111.2191_trunc.txt\n",
        "1208.0570_trunc.txt"
       ]
      },
      {
       "output_type": "stream",
       "stream": "stdout",
       "text": [
        "\n",
        "1508.05476_trunc.txt\n",
        "1503.08458_trunc.txt\n",
        "1108.1851_trunc.txt"
       ]
      },
      {
       "output_type": "stream",
       "stream": "stdout",
       "text": [
        "\n",
        "1201.4579_trunc.txt\n",
        "1510.07074_trunc.txt\n",
        "1508.04216_trunc.txt"
       ]
      },
      {
       "output_type": "stream",
       "stream": "stdout",
       "text": [
        "\n",
        "1403.5483_trunc.txt\n",
        "1207.2411_trunc.txt\n",
        "1411.2391_trunc.txt"
       ]
      },
      {
       "output_type": "stream",
       "stream": "stdout",
       "text": [
        "\n",
        "1505.02589_trunc.txt\n",
        "1509.09103_trunc.txt\n",
        "1506.06422_trunc.txt"
       ]
      },
      {
       "output_type": "stream",
       "stream": "stdout",
       "text": [
        "\n",
        "1405.6793_trunc.txt\n",
        "1405.7091_trunc.txt"
       ]
      },
      {
       "output_type": "stream",
       "stream": "stdout",
       "text": [
        "\n",
        "1403.6769_trunc.txt\n",
        "1505.02948_trunc.txt\n",
        "1303.2910_trunc.txt"
       ]
      },
      {
       "output_type": "stream",
       "stream": "stdout",
       "text": [
        "\n",
        "1407.3939_trunc.txt\n",
        "1312.5306_trunc.txt\n",
        "1305.5067_trunc.txt"
       ]
      },
      {
       "output_type": "stream",
       "stream": "stdout",
       "text": [
        "\n",
        "1308.2927_trunc.txt\n",
        "1509.07566_trunc.txt\n",
        "1508.07448_trunc.txt"
       ]
      },
      {
       "output_type": "stream",
       "stream": "stdout",
       "text": [
        "\n",
        "1211.2917_trunc.txt\n",
        "1403.7993_trunc.txt\n",
        "1205.6367_trunc.txt"
       ]
      },
      {
       "output_type": "stream",
       "stream": "stdout",
       "text": [
        "\n",
        "1107.1270_trunc.txt\n",
        "1405.6800_trunc.txt\n",
        "1502.00600_trunc.txt"
       ]
      },
      {
       "output_type": "stream",
       "stream": "stdout",
       "text": [
        "\n",
        "1107.3365_trunc.txt\n",
        "1310.2484_trunc.txt\n",
        "1508.01681_trunc.txt"
       ]
      },
      {
       "output_type": "stream",
       "stream": "stdout",
       "text": [
        "\n",
        "1506.03113_trunc.txt\n",
        "1305.1656_trunc.txt\n",
        "1205.1482_trunc.txt"
       ]
      },
      {
       "output_type": "stream",
       "stream": "stdout",
       "text": [
        "\n",
        "1309.4029_trunc.txt\n",
        "1308.3374_trunc.txt\n",
        "1510.00290_trunc.txt"
       ]
      },
      {
       "output_type": "stream",
       "stream": "stdout",
       "text": [
        "\n",
        "1312.2780_trunc.txt\n",
        "1309.6488_trunc.txt\n",
        "1301.7212_trunc.txt"
       ]
      },
      {
       "output_type": "stream",
       "stream": "stdout",
       "text": [
        "\n",
        "1411.7687_trunc.txt\n",
        "1202.0943_trunc.txt\n",
        "1301.2725_trunc.txt"
       ]
      },
      {
       "output_type": "stream",
       "stream": "stdout",
       "text": [
        "\n",
        "1303.2800_trunc.txt\n",
        "1105.0881_trunc.txt\n",
        "1406.6031_trunc.txt"
       ]
      },
      {
       "output_type": "stream",
       "stream": "stdout",
       "text": [
        "\n",
        "1201.5871_trunc.txt\n",
        "1205.1150_trunc.txt\n",
        "1411.0515_trunc.txt"
       ]
      },
      {
       "output_type": "stream",
       "stream": "stdout",
       "text": [
        "\n",
        "1310.2926_trunc.txt\n",
        "1506.07974_trunc.txt\n",
        "1212.5429_trunc.txt"
       ]
      },
      {
       "output_type": "stream",
       "stream": "stdout",
       "text": [
        "\n",
        "1309.0997_trunc.txt\n",
        "1210.1136_trunc.txt\n",
        "1403.2578_trunc.txt"
       ]
      },
      {
       "output_type": "stream",
       "stream": "stdout",
       "text": [
        "\n",
        "1402.3093_trunc.txt\n",
        "1510.03659_trunc.txt\n",
        "1108.2883_trunc.txt"
       ]
      },
      {
       "output_type": "stream",
       "stream": "stdout",
       "text": [
        "\n",
        "1502.02069_trunc.txt\n",
        "1107.2433_trunc.txt\n",
        "1411.1329_trunc.txt"
       ]
      },
      {
       "output_type": "stream",
       "stream": "stdout",
       "text": [
        "\n",
        "1410.4931_trunc.txt\n",
        "1502.00560_trunc.txt\n",
        "1208.3555_trunc.txt"
       ]
      },
      {
       "output_type": "stream",
       "stream": "stdout",
       "text": [
        "\n",
        "1310.1800_trunc.txt\n",
        "1503.07423_trunc.txt\n",
        "1304.1390_trunc.txt"
       ]
      },
      {
       "output_type": "stream",
       "stream": "stdout",
       "text": [
        "\n",
        "1412.7468_trunc.txt\n",
        "1302.0181_trunc.txt\n",
        "1110.1364_trunc.txt"
       ]
      },
      {
       "output_type": "stream",
       "stream": "stdout",
       "text": [
        "\n",
        "1206.6367_trunc.txt\n",
        "1110.2295_trunc.txt\n",
        "1304.4781_trunc.txt"
       ]
      },
      {
       "output_type": "stream",
       "stream": "stdout",
       "text": [
        "\n",
        "1305.5029_trunc.txt\n",
        "1411.4681_trunc.txt\n",
        "1201.5507_trunc.txt"
       ]
      },
      {
       "output_type": "stream",
       "stream": "stdout",
       "text": [
        "\n",
        "1406.4261_trunc.txt\n",
        "1404.6572_trunc.txt\n",
        "1305.4496_trunc.txt"
       ]
      },
      {
       "output_type": "stream",
       "stream": "stdout",
       "text": [
        "\n",
        "1405.5103_trunc.txt\n",
        "1201.3283_trunc.txt\n",
        "1105.6239_trunc.txt"
       ]
      },
      {
       "output_type": "stream",
       "stream": "stdout",
       "text": [
        "\n",
        "1501.06202_trunc.txt\n",
        "1312.4596_trunc.txt\n",
        "1510.04222_trunc.txt"
       ]
      },
      {
       "output_type": "stream",
       "stream": "stdout",
       "text": [
        "\n",
        "1208.3552_trunc.txt\n",
        "1208.2733_trunc.txt\n",
        "1403.2899_trunc.txt"
       ]
      },
      {
       "output_type": "stream",
       "stream": "stdout",
       "text": [
        "\n",
        "1206.0773_trunc.txt\n",
        "1402.1860_trunc.txt\n",
        "1503.08357_trunc.txt"
       ]
      },
      {
       "output_type": "stream",
       "stream": "stdout",
       "text": [
        "\n",
        "1408.1381_trunc.txt\n",
        "1305.4232_trunc.txt\n",
        "1409.0733_trunc.txt"
       ]
      },
      {
       "output_type": "stream",
       "stream": "stdout",
       "text": [
        "\n",
        "1306.1059_trunc.txt\n",
        "1304.5929_trunc.txt\n",
        "1305.4571_trunc.txt"
       ]
      },
      {
       "output_type": "stream",
       "stream": "stdout",
       "text": [
        "\n",
        "1410.7091_trunc.txt\n",
        "1406.1758_trunc.txt\n",
        "1302.3543_trunc.txt"
       ]
      },
      {
       "output_type": "stream",
       "stream": "stdout",
       "text": [
        "\n",
        "1504.04472_trunc.txt\n",
        "1307.0067_trunc.txt\n",
        "1205.5920_trunc.txt"
       ]
      },
      {
       "output_type": "stream",
       "stream": "stdout",
       "text": [
        "\n",
        "1412.6966_trunc.txt\n",
        "1404.5886_trunc.txt\n",
        "1304.2985_trunc.txt"
       ]
      },
      {
       "output_type": "stream",
       "stream": "stdout",
       "text": [
        "\n",
        "1408.5820_trunc.txt\n",
        "1503.00946_trunc.txt\n",
        "1302.4101_trunc.txt"
       ]
      },
      {
       "output_type": "stream",
       "stream": "stdout",
       "text": [
        "\n",
        "1510.05247_trunc.txt\n",
        "1302.1916_trunc.txt\n",
        "1404.5465_trunc.txt"
       ]
      },
      {
       "output_type": "stream",
       "stream": "stdout",
       "text": [
        "\n",
        "1109.4564_trunc.txt\n",
        "1411.7817_trunc.txt\n",
        "1501.04663_trunc.txt"
       ]
      },
      {
       "output_type": "stream",
       "stream": "stdout",
       "text": [
        "\n",
        "1302.5221_trunc.txt\n",
        "1406.3994_trunc.txt\n",
        "1307.1077_trunc.txt"
       ]
      },
      {
       "output_type": "stream",
       "stream": "stdout",
       "text": [
        "\n",
        "1511.01752_trunc.txt\n",
        "1503.07302_trunc.txt\n",
        "1104.2504_trunc.txt"
       ]
      },
      {
       "output_type": "stream",
       "stream": "stdout",
       "text": [
        "\n",
        "1407.8083_trunc.txt\n",
        "1404.6769_trunc.txt\n",
        "1411.3875_trunc.txt"
       ]
      },
      {
       "output_type": "stream",
       "stream": "stdout",
       "text": [
        "\n",
        "1403.0547_trunc.txt\n",
        "1210.6328_trunc.txt\n",
        "1507.02061_trunc.txt"
       ]
      },
      {
       "output_type": "stream",
       "stream": "stdout",
       "text": [
        "\n",
        "1410.0255_trunc.txt\n",
        "1404.4032_trunc.txt\n",
        "1406.6625_trunc.txt"
       ]
      },
      {
       "output_type": "stream",
       "stream": "stdout",
       "text": [
        "\n",
        "1104.0341_trunc.txt\n",
        "1506.06266_trunc.txt\n",
        "1207.3136_trunc.txt"
       ]
      },
      {
       "output_type": "stream",
       "stream": "stdout",
       "text": [
        "\n",
        "1306.5393_trunc.txt\n",
        "1501.05071_trunc.txt\n",
        "1310.4164_trunc.txt"
       ]
      },
      {
       "output_type": "stream",
       "stream": "stdout",
       "text": [
        "\n",
        "1302.5831_trunc.txt\n",
        "1301.2212_trunc.txt\n",
        "1106.4983_trunc.txt"
       ]
      },
      {
       "output_type": "stream",
       "stream": "stdout",
       "text": [
        "\n",
        "1207.3840_trunc.txt\n",
        "1409.5009_trunc.txt\n",
        "1402.5693_trunc.txt"
       ]
      },
      {
       "output_type": "stream",
       "stream": "stdout",
       "text": [
        "\n",
        "1401.7898_trunc.txt\n",
        "1208.3538_trunc.txt\n",
        "1108.4130_trunc.txt"
       ]
      },
      {
       "output_type": "stream",
       "stream": "stdout",
       "text": [
        "\n",
        "1403.7852_trunc.txt\n",
        "1302.3203_trunc.txt\n",
        "1303.4600_trunc.txt"
       ]
      },
      {
       "output_type": "stream",
       "stream": "stdout",
       "text": [
        "\n",
        "1311.1138_trunc.txt\n",
        "1302.0895_trunc.txt"
       ]
      },
      {
       "output_type": "stream",
       "stream": "stdout",
       "text": [
        "\n",
        "1505.00261_trunc.txt\n",
        "1109.4371_trunc.txt"
       ]
      },
      {
       "output_type": "stream",
       "stream": "stdout",
       "text": [
        "\n",
        "1105.3552_trunc.txt\n",
        "1406.7728_trunc.txt"
       ]
      },
      {
       "output_type": "stream",
       "stream": "stdout",
       "text": [
        "\n",
        "1302.2489_trunc.txt\n",
        "1304.6746_trunc.txt\n",
        "1410.1931_trunc.txt"
       ]
      },
      {
       "output_type": "stream",
       "stream": "stdout",
       "text": [
        "\n",
        "1405.5900_trunc.txt\n",
        "1508.01101_trunc.txt"
       ]
      },
      {
       "output_type": "stream",
       "stream": "stdout",
       "text": [
        "\n",
        "1504.03506_trunc.txt\n",
        "1408.0938_trunc.txt"
       ]
      },
      {
       "output_type": "stream",
       "stream": "stdout",
       "text": [
        "\n",
        "1310.5791_trunc.txt\n",
        "1110.3817_trunc.txt\n",
        "1105.2128_trunc.txt"
       ]
      },
      {
       "output_type": "stream",
       "stream": "stdout",
       "text": [
        "\n",
        "1111.1044_trunc.txt\n",
        "1301.2603_trunc.txt\n",
        "1207.0242_trunc.txt"
       ]
      },
      {
       "output_type": "stream",
       "stream": "stdout",
       "text": [
        "\n",
        "1401.6801_trunc.txt\n",
        "1502.06349_trunc.txt\n",
        "1112.1392_trunc.txt"
       ]
      },
      {
       "output_type": "stream",
       "stream": "stdout",
       "text": [
        "\n",
        "1312.2974_trunc.txt\n",
        "1502.06781_trunc.txt"
       ]
      },
      {
       "output_type": "stream",
       "stream": "stdout",
       "text": [
        "\n",
        "1507.07094_trunc.txt\n",
        "1201.0472_trunc.txt\n",
        "1110.1462_trunc.txt"
       ]
      },
      {
       "output_type": "stream",
       "stream": "stdout",
       "text": [
        "\n",
        "1212.2800_trunc.txt\n",
        "1509.01291_trunc.txt\n",
        "1306.5786_trunc.txt"
       ]
      },
      {
       "output_type": "stream",
       "stream": "stdout",
       "text": [
        "\n",
        "1402.1937_trunc.txt\n",
        "1507.00070_trunc.txt\n",
        "1504.00595_trunc.txt"
       ]
      },
      {
       "output_type": "stream",
       "stream": "stdout",
       "text": [
        "\n",
        "1509.09129_trunc.txt\n",
        "1212.1182_trunc.txt\n",
        "1312.2574_trunc.txt"
       ]
      },
      {
       "output_type": "stream",
       "stream": "stdout",
       "text": [
        "\n",
        "1412.3731_trunc.txt\n",
        "1104.0581_trunc.txt\n",
        "1501.01732_trunc.txt"
       ]
      },
      {
       "output_type": "stream",
       "stream": "stdout",
       "text": [
        "\n",
        "1501.02151_trunc.txt\n",
        "1502.06590_trunc.txt\n",
        "1507.03263_trunc.txt"
       ]
      },
      {
       "output_type": "stream",
       "stream": "stdout",
       "text": [
        "\n",
        "1409.4685_trunc.txt\n",
        "1506.00088_trunc.txt\n",
        "1301.3617_trunc.txt"
       ]
      },
      {
       "output_type": "stream",
       "stream": "stdout",
       "text": [
        "\n",
        "1503.08844_trunc.txt\n",
        "1407.0335_trunc.txt\n",
        "1304.2986_trunc.txt"
       ]
      },
      {
       "output_type": "stream",
       "stream": "stdout",
       "text": [
        "\n",
        "1312.2277_trunc.txt\n",
        "1505.00369_trunc.txt\n",
        "1412.2817_trunc.txt"
       ]
      },
      {
       "output_type": "stream",
       "stream": "stdout",
       "text": [
        "\n",
        "1404.3763_trunc.txt\n",
        "1109.6759_trunc.txt\n",
        "1302.5644_trunc.txt"
       ]
      },
      {
       "output_type": "stream",
       "stream": "stdout",
       "text": [
        "\n",
        "1206.1898_trunc.txt\n",
        "1301.3289_trunc.txt\n",
        "1411.4086_trunc.txt"
       ]
      },
      {
       "output_type": "stream",
       "stream": "stdout",
       "text": [
        "\n",
        "1503.00466_trunc.txt\n",
        "1211.5420_trunc.txt"
       ]
      },
      {
       "output_type": "stream",
       "stream": "stdout",
       "text": [
        "\n",
        "1105.1212_trunc.txt\n",
        "1506.06941_trunc.txt"
       ]
      },
      {
       "output_type": "stream",
       "stream": "stdout",
       "text": [
        "\n",
        "1303.2698_trunc.txt\n",
        "1509.04821_trunc.txt"
       ]
      },
      {
       "output_type": "stream",
       "stream": "stdout",
       "text": [
        "\n",
        "1111.5568_trunc.txt\n",
        "1503.07940_trunc.txt\n",
        "1404.3304_trunc.txt"
       ]
      },
      {
       "output_type": "stream",
       "stream": "stdout",
       "text": [
        "\n",
        "1408.5907_trunc.txt\n",
        "1104.3318_trunc.txt"
       ]
      },
      {
       "output_type": "stream",
       "stream": "stdout",
       "text": [
        "\n",
        "1411.2066_trunc.txt\n",
        "1212.1200_trunc.txt\n",
        "1511.01478_trunc.txt"
       ]
      },
      {
       "output_type": "stream",
       "stream": "stdout",
       "text": [
        "\n",
        "1309.2983_trunc.txt\n",
        "1208.6578_trunc.txt\n",
        "1302.0924_trunc.txt"
       ]
      },
      {
       "output_type": "stream",
       "stream": "stdout",
       "text": [
        "\n",
        "1107.4058_trunc.txt\n",
        "1503.06492_trunc.txt\n",
        "1407.0185_trunc.txt"
       ]
      },
      {
       "output_type": "stream",
       "stream": "stdout",
       "text": [
        "\n",
        "1106.4293_trunc.txt\n",
        "1411.2936_trunc.txt\n",
        "1412.0614_trunc.txt"
       ]
      },
      {
       "output_type": "stream",
       "stream": "stdout",
       "text": [
        "\n",
        "1404.4414_trunc.txt\n",
        "1112.5635_trunc.txt\n",
        "1502.00235_trunc.txt"
       ]
      },
      {
       "output_type": "stream",
       "stream": "stdout",
       "text": [
        "\n",
        "1202.2525_trunc.txt\n",
        "1405.0782_trunc.txt"
       ]
      },
      {
       "output_type": "stream",
       "stream": "stdout",
       "text": [
        "\n",
        "1310.7138_trunc.txt\n",
        "1106.4710_trunc.txt\n",
        "1206.6053_trunc.txt"
       ]
      },
      {
       "output_type": "stream",
       "stream": "stdout",
       "text": [
        "\n",
        "1404.0396_trunc.txt\n",
        "1311.5552_trunc.txt"
       ]
      },
      {
       "output_type": "stream",
       "stream": "stdout",
       "text": [
        "\n",
        "1311.2234_trunc.txt\n",
        "1502.04733_trunc.txt"
       ]
      },
      {
       "output_type": "stream",
       "stream": "stdout",
       "text": [
        "\n",
        "1311.1454_trunc.txt\n",
        "1312.3091_trunc.txt\n",
        "1508.04217_trunc.txt"
       ]
      },
      {
       "output_type": "stream",
       "stream": "stdout",
       "text": [
        "\n",
        "1309.4111_trunc.txt\n",
        "1206.2385_trunc.txt\n",
        "1205.3703_trunc.txt"
       ]
      },
      {
       "output_type": "stream",
       "stream": "stdout",
       "text": [
        "\n",
        "1312.0308_trunc.txt\n",
        "1409.3601_trunc.txt\n",
        "1304.3877_trunc.txt"
       ]
      },
      {
       "output_type": "stream",
       "stream": "stdout",
       "text": [
        "\n",
        "1508.00655_trunc.txt\n",
        "1111.7061_trunc.txt"
       ]
      },
      {
       "output_type": "stream",
       "stream": "stdout",
       "text": [
        "\n",
        "1510.03547_trunc.txt\n",
        "1112.2509_trunc.txt"
       ]
      },
      {
       "output_type": "stream",
       "stream": "stdout",
       "text": [
        "\n",
        "1209.4947_trunc.txt\n",
        "1507.06792_trunc.txt"
       ]
      },
      {
       "output_type": "stream",
       "stream": "stdout",
       "text": [
        "\n",
        "1302.1281_trunc.txt\n",
        "1112.3055_trunc.txt"
       ]
      },
      {
       "output_type": "stream",
       "stream": "stdout",
       "text": [
        "\n",
        "1508.01131_trunc.txt\n",
        "1509.08535_trunc.txt"
       ]
      },
      {
       "output_type": "stream",
       "stream": "stdout",
       "text": [
        "\n",
        "1308.5343_trunc.txt\n",
        "1507.05442_trunc.txt\n",
        "1301.1499_trunc.txt"
       ]
      },
      {
       "output_type": "stream",
       "stream": "stdout",
       "text": [
        "\n",
        "1103.4977_trunc.txt\n",
        "1507.01615_trunc.txt"
       ]
      },
      {
       "output_type": "stream",
       "stream": "stdout",
       "text": [
        "\n",
        "1207.6228_trunc.txt\n",
        "1508.04671_trunc.txt"
       ]
      },
      {
       "output_type": "stream",
       "stream": "stdout",
       "text": [
        "\n",
        "1408.3536_trunc.txt\n",
        "1211.2970_trunc.txt\n",
        "1511.03977_trunc.txt"
       ]
      },
      {
       "output_type": "stream",
       "stream": "stdout",
       "text": [
        "\n",
        "1412.8604_trunc.txt\n",
        "1506.07509_trunc.txt"
       ]
      },
      {
       "output_type": "stream",
       "stream": "stdout",
       "text": [
        "\n",
        "1511.02705_trunc.txt\n",
        "1205.2446_trunc.txt"
       ]
      },
      {
       "output_type": "stream",
       "stream": "stdout",
       "text": [
        "\n",
        "1509.06428_trunc.txt\n",
        "1409.6885_trunc.txt\n",
        "1507.06128_trunc.txt"
       ]
      },
      {
       "output_type": "stream",
       "stream": "stdout",
       "text": [
        "\n",
        "1302.4561_trunc.txt\n",
        "1508.05538_trunc.txt\n",
        "1212.4906_trunc.txt"
       ]
      },
      {
       "output_type": "stream",
       "stream": "stdout",
       "text": [
        "\n",
        "1106.4386_trunc.txt\n",
        "1307.7666_trunc.txt\n",
        "1309.5310_trunc.txt"
       ]
      },
      {
       "output_type": "stream",
       "stream": "stdout",
       "text": [
        "\n",
        "1307.4101_trunc.txt\n",
        "1410.1448_trunc.txt\n",
        "1410.2113_trunc.txt"
       ]
      },
      {
       "output_type": "stream",
       "stream": "stdout",
       "text": [
        "\n",
        "1506.04991_trunc.txt\n",
        "1209.3357_trunc.txt\n",
        "1505.01787_trunc.txt"
       ]
      },
      {
       "output_type": "stream",
       "stream": "stdout",
       "text": [
        "\n",
        "1508.01819_trunc.txt\n",
        "1212.3556_trunc.txt\n",
        "1409.1333_trunc.txt"
       ]
      },
      {
       "output_type": "stream",
       "stream": "stdout",
       "text": [
        "\n",
        "1210.3240_trunc.txt\n",
        "1301.6413_trunc.txt\n",
        "1307.3730_trunc.txt"
       ]
      },
      {
       "output_type": "stream",
       "stream": "stdout",
       "text": [
        "\n",
        "1201.2395_trunc.txt\n",
        "1309.4981_trunc.txt\n",
        "1302.4776_trunc.txt"
       ]
      },
      {
       "output_type": "stream",
       "stream": "stdout",
       "text": [
        "\n",
        "1112.5389_trunc.txt\n",
        "1408.6323_trunc.txt\n",
        "1509.03410_trunc.txt"
       ]
      },
      {
       "output_type": "stream",
       "stream": "stdout",
       "text": [
        "\n",
        "1112.4565_trunc.txt\n",
        "1212.0463_trunc.txt\n",
        "1302.1611_trunc.txt"
       ]
      },
      {
       "output_type": "stream",
       "stream": "stdout",
       "text": [
        "\n",
        "1108.1179_trunc.txt\n",
        "1211.3930_trunc.txt\n",
        "1112.6235_trunc.txt"
       ]
      },
      {
       "output_type": "stream",
       "stream": "stdout",
       "text": [
        "\n",
        "1211.2359_trunc.txt\n",
        "1501.03430_trunc.txt\n",
        "1508.02973_trunc.txt"
       ]
      },
      {
       "output_type": "stream",
       "stream": "stdout",
       "text": [
        "\n",
        "1302.0262_trunc.txt\n",
        "1104.0040_trunc.txt\n",
        "1304.3656_trunc.txt"
       ]
      },
      {
       "output_type": "stream",
       "stream": "stdout",
       "text": [
        "\n",
        "1307.6865_trunc.txt\n",
        "1510.04977_trunc.txt\n",
        "1503.06155_trunc.txt"
       ]
      },
      {
       "output_type": "stream",
       "stream": "stdout",
       "text": [
        "\n",
        "1308.0764_trunc.txt\n",
        "1405.6231_trunc.txt\n",
        "1201.0238_trunc.txt"
       ]
      },
      {
       "output_type": "stream",
       "stream": "stdout",
       "text": [
        "\n",
        "1506.02886_trunc.txt\n",
        "1406.6956_trunc.txt"
       ]
      },
      {
       "output_type": "stream",
       "stream": "stdout",
       "text": [
        "\n",
        "1306.0254_trunc.txt\n",
        "1507.08254_trunc.txt"
       ]
      },
      {
       "output_type": "stream",
       "stream": "stdout",
       "text": [
        "\n",
        "1507.00065_trunc.txt\n",
        "1408.1532_trunc.txt\n",
        "1303.2209_trunc.txt"
       ]
      },
      {
       "output_type": "stream",
       "stream": "stdout",
       "text": [
        "\n",
        "1510.03502_trunc.txt\n",
        "1404.5609_trunc.txt\n",
        "1506.02155_trunc.txt"
       ]
      },
      {
       "output_type": "stream",
       "stream": "stdout",
       "text": [
        "\n",
        "1211.2582_trunc.txt\n",
        "1511.00730_trunc.txt\n",
        "1410.1242_trunc.txt"
       ]
      },
      {
       "output_type": "stream",
       "stream": "stdout",
       "text": [
        "\n",
        "1505.00379_trunc.txt\n",
        "1510.04514_trunc.txt\n",
        "1206.1395_trunc.txt"
       ]
      },
      {
       "output_type": "stream",
       "stream": "stdout",
       "text": [
        "\n",
        "1312.5442_trunc.txt\n",
        "1105.3039_trunc.txt\n",
        "1503.03100_trunc.txt"
       ]
      },
      {
       "output_type": "stream",
       "stream": "stdout",
       "text": [
        "\n",
        "1210.5165_trunc.txt\n",
        "1511.00420_trunc.txt\n",
        "1507.05313_trunc.txt"
       ]
      },
      {
       "output_type": "stream",
       "stream": "stdout",
       "text": [
        "\n",
        "1503.00167_trunc.txt\n",
        "1306.2814_trunc.txt\n",
        "1310.4661_trunc.txt"
       ]
      },
      {
       "output_type": "stream",
       "stream": "stdout",
       "text": [
        "\n",
        "1105.5041_trunc.txt\n",
        "1403.7063_trunc.txt\n",
        "1306.2193_trunc.txt"
       ]
      },
      {
       "output_type": "stream",
       "stream": "stdout",
       "text": [
        "\n",
        "1304.2902_trunc.txt\n",
        "1105.3288_trunc.txt\n",
        "1312.7827_trunc.txt"
       ]
      },
      {
       "output_type": "stream",
       "stream": "stdout",
       "text": [
        "\n",
        "1506.04430_trunc.txt\n",
        "1508.04742_trunc.txt\n",
        "1211.3729_trunc.txt"
       ]
      },
      {
       "output_type": "stream",
       "stream": "stdout",
       "text": [
        "\n",
        "1210.5552_trunc.txt\n",
        "1501.03704_trunc.txt\n",
        "1206.2493_trunc.txt"
       ]
      },
      {
       "output_type": "stream",
       "stream": "stdout",
       "text": [
        "\n",
        "1308.1195_trunc.txt\n",
        "1303.1698_trunc.txt\n",
        "1307.1067_trunc.txt"
       ]
      },
      {
       "output_type": "stream",
       "stream": "stdout",
       "text": [
        "\n",
        "1104.4410_trunc.txt\n",
        "1207.5659_trunc.txt\n",
        "1407.0743_trunc.txt"
       ]
      },
      {
       "output_type": "stream",
       "stream": "stdout",
       "text": [
        "\n",
        "1106.0721_trunc.txt\n",
        "1503.03613_trunc.txt\n",
        "1404.4210_trunc.txt"
       ]
      },
      {
       "output_type": "stream",
       "stream": "stdout",
       "text": [
        "\n",
        "1509.03466_trunc.txt\n",
        "1109.6440_trunc.txt\n",
        "1406.2796_trunc.txt"
       ]
      },
      {
       "output_type": "stream",
       "stream": "stdout",
       "text": [
        "\n",
        "1209.2355_trunc.txt\n",
        "1508.05249_trunc.txt\n",
        "1408.3169_trunc.txt"
       ]
      },
      {
       "output_type": "stream",
       "stream": "stdout",
       "text": [
        "\n",
        "1405.2322_trunc.txt\n",
        "1202.1964_trunc.txt\n",
        "1211.1174_trunc.txt"
       ]
      },
      {
       "output_type": "stream",
       "stream": "stdout",
       "text": [
        "\n",
        "1302.2408_trunc.txt\n",
        "1508.03323_trunc.txt\n",
        "1307.7624_trunc.txt"
       ]
      },
      {
       "output_type": "stream",
       "stream": "stdout",
       "text": [
        "\n",
        "1112.1768_trunc.txt\n",
        "1507.08685_trunc.txt\n",
        "1112.4735_trunc.txt"
       ]
      },
      {
       "output_type": "stream",
       "stream": "stdout",
       "text": [
        "\n",
        "1401.3084_trunc.txt\n",
        "1507.05780_trunc.txt\n",
        "1301.0802_trunc.txt"
       ]
      },
      {
       "output_type": "stream",
       "stream": "stdout",
       "text": [
        "\n",
        "1107.2353_trunc.txt\n",
        "1310.0707_trunc.txt\n",
        "1307.6610_trunc.txt"
       ]
      },
      {
       "output_type": "stream",
       "stream": "stdout",
       "text": [
        "\n",
        "1506.08826_trunc.txt\n",
        "1307.6522_trunc.txt\n",
        "1405.6803_trunc.txt"
       ]
      },
      {
       "output_type": "stream",
       "stream": "stdout",
       "text": [
        "\n",
        "1311.7474_trunc.txt\n",
        "1202.2277_trunc.txt\n",
        "1111.3054_trunc.txt"
       ]
      },
      {
       "output_type": "stream",
       "stream": "stdout",
       "text": [
        "\n",
        "1106.4461_trunc.txt\n",
        "1210.6678_trunc.txt\n",
        "1504.07054_trunc.txt"
       ]
      },
      {
       "output_type": "stream",
       "stream": "stdout",
       "text": [
        "\n",
        "1311.3118_trunc.txt\n",
        "1304.3918_trunc.txt"
       ]
      },
      {
       "output_type": "stream",
       "stream": "stdout",
       "text": [
        "\n",
        "1507.06115_trunc.txt\n",
        "1303.2814_trunc.txt"
       ]
      },
      {
       "output_type": "stream",
       "stream": "stdout",
       "text": [
        "\n",
        "1110.1228_trunc.txt\n",
        "1311.1067_trunc.txt"
       ]
      },
      {
       "output_type": "stream",
       "stream": "stdout",
       "text": [
        "\n",
        "1307.6188_trunc.txt\n",
        "1405.6796_trunc.txt\n",
        "1509.08362_trunc.txt"
       ]
      },
      {
       "output_type": "stream",
       "stream": "stdout",
       "text": [
        "\n",
        "1312.3352_trunc.txt\n",
        "1107.2798_trunc.txt"
       ]
      },
      {
       "output_type": "stream",
       "stream": "stdout",
       "text": [
        "\n",
        "1410.3533_trunc.txt\n",
        "1411.2309_trunc.txt\n",
        "1409.1025_trunc.txt"
       ]
      },
      {
       "output_type": "stream",
       "stream": "stdout",
       "text": [
        "\n",
        "1105.4507_trunc.txt\n",
        "1410.4276_trunc.txt\n",
        "1303.0238_trunc.txt"
       ]
      },
      {
       "output_type": "stream",
       "stream": "stdout",
       "text": [
        "\n",
        "1410.2477_trunc.txt\n",
        "1404.3827_trunc.txt"
       ]
      },
      {
       "output_type": "stream",
       "stream": "stdout",
       "text": [
        "\n",
        "1309.2505_trunc.txt\n",
        "1508.04812_trunc.txt"
       ]
      },
      {
       "output_type": "stream",
       "stream": "stdout",
       "text": [
        "\n",
        "1201.0470_trunc.txt\n",
        "1301.0768_trunc.txt\n",
        "1309.6108_trunc.txt"
       ]
      },
      {
       "output_type": "stream",
       "stream": "stdout",
       "text": [
        "\n",
        "1307.4765_trunc.txt\n",
        "1304.2186_trunc.txt\n",
        "1301.6921_trunc.txt"
       ]
      },
      {
       "output_type": "stream",
       "stream": "stdout",
       "text": [
        "\n",
        "1408.1469_trunc.txt\n",
        "1507.08645_trunc.txt\n",
        "1506.03621_trunc.txt"
       ]
      },
      {
       "output_type": "stream",
       "stream": "stdout",
       "text": [
        "\n",
        "1111.6230_trunc.txt\n",
        "1110.2961_trunc.txt\n",
        "1107.0864_trunc.txt"
       ]
      },
      {
       "output_type": "stream",
       "stream": "stdout",
       "text": [
        "\n",
        "1209.1302_trunc.txt\n",
        "1306.2035_trunc.txt\n",
        "1404.4884_trunc.txt"
       ]
      },
      {
       "output_type": "stream",
       "stream": "stdout",
       "text": [
        "\n",
        "1311.3350_trunc.txt\n",
        "1104.4429_trunc.txt"
       ]
      },
      {
       "output_type": "stream",
       "stream": "stdout",
       "text": [
        "\n",
        "1304.7046_trunc.txt\n",
        "1405.3224_trunc.txt\n",
        "1307.5971_trunc.txt"
       ]
      },
      {
       "output_type": "stream",
       "stream": "stdout",
       "text": [
        "\n",
        "1107.2576_trunc.txt\n",
        "1510.03970_trunc.txt"
       ]
      },
      {
       "output_type": "stream",
       "stream": "stdout",
       "text": [
        "\n",
        "1210.8338_trunc.txt\n",
        "1407.3397_trunc.txt"
       ]
      },
      {
       "output_type": "stream",
       "stream": "stdout",
       "text": [
        "\n",
        "1503.06388_trunc.txt\n",
        "1312.3516_trunc.txt\n",
        "1504.05415_trunc.txt"
       ]
      },
      {
       "output_type": "stream",
       "stream": "stdout",
       "text": [
        "\n",
        "1305.5270_trunc.txt\n",
        "1311.2336_trunc.txt\n",
        "1104.3969_trunc.txt"
       ]
      },
      {
       "output_type": "stream",
       "stream": "stdout",
       "text": [
        "\n",
        "1111.4821_trunc.txt\n",
        "1502.02355_trunc.txt\n",
        "1112.3149_trunc.txt"
       ]
      },
      {
       "output_type": "stream",
       "stream": "stdout",
       "text": [
        "\n",
        "1407.7820_trunc.txt\n",
        "1211.0813_trunc.txt\n",
        "1409.0912_trunc.txt"
       ]
      },
      {
       "output_type": "stream",
       "stream": "stdout",
       "text": [
        "\n",
        "1201.0418_trunc.txt\n",
        "1505.00579_trunc.txt\n",
        "1408.4057_trunc.txt"
       ]
      },
      {
       "output_type": "stream",
       "stream": "stdout",
       "text": [
        "\n",
        "1509.08869_trunc.txt\n",
        "1403.6015_trunc.txt\n",
        "1503.08337_trunc.txt"
       ]
      },
      {
       "output_type": "stream",
       "stream": "stdout",
       "text": [
        "\n",
        "1210.4666_trunc.txt\n",
        "1304.4257_trunc.txt\n",
        "1111.2622_trunc.txt"
       ]
      },
      {
       "output_type": "stream",
       "stream": "stdout",
       "text": [
        "\n",
        "1410.4354_trunc.txt\n",
        "1406.0437_trunc.txt\n",
        "1408.4224_trunc.txt"
       ]
      },
      {
       "output_type": "stream",
       "stream": "stdout",
       "text": [
        "\n",
        "1506.01833_trunc.txt\n",
        "1211.0806_trunc.txt\n",
        "1211.5220_trunc.txt"
       ]
      },
      {
       "output_type": "stream",
       "stream": "stdout",
       "text": [
        "\n",
        "1207.1056_trunc.txt\n",
        "1109.4777_trunc.txt\n",
        "1307.1952_trunc.txt"
       ]
      },
      {
       "output_type": "stream",
       "stream": "stdout",
       "text": [
        "\n",
        "1208.0687_trunc.txt\n",
        "1106.2246_trunc.txt"
       ]
      },
      {
       "output_type": "stream",
       "stream": "stdout",
       "text": [
        "\n",
        "1505.02607_trunc.txt\n",
        "1510.01457_trunc.txt\n",
        "1112.2502_trunc.txt"
       ]
      },
      {
       "output_type": "stream",
       "stream": "stdout",
       "text": [
        "\n",
        "1401.0609_trunc.txt\n",
        "1210.1066_trunc.txt\n",
        "1501.01617_trunc.txt"
       ]
      },
      {
       "output_type": "stream",
       "stream": "stdout",
       "text": [
        "\n",
        "1409.5015_trunc.txt\n",
        "1303.7152_trunc.txt\n",
        "1401.2823_trunc.txt"
       ]
      },
      {
       "output_type": "stream",
       "stream": "stdout",
       "text": [
        "\n",
        "1407.3968_trunc.txt\n",
        "1506.03832_trunc.txt\n",
        "1409.0055_trunc.txt"
       ]
      },
      {
       "output_type": "stream",
       "stream": "stdout",
       "text": [
        "\n",
        "1309.6013_trunc.txt\n",
        "1409.6019_trunc.txt\n",
        "1208.2635_trunc.txt"
       ]
      },
      {
       "output_type": "stream",
       "stream": "stdout",
       "text": [
        "\n",
        "1402.1918_trunc.txt\n",
        "1207.0893_trunc.txt\n",
        "1510.08029_trunc.txt"
       ]
      },
      {
       "output_type": "stream",
       "stream": "stdout",
       "text": [
        "\n",
        "1312.6354_trunc.txt\n",
        "1406.4775_trunc.txt\n",
        "1310.7269_trunc.txt"
       ]
      },
      {
       "output_type": "stream",
       "stream": "stdout",
       "text": [
        "\n",
        "1503.07368_trunc.txt\n",
        "1309.2819_trunc.txt\n",
        "1206.0710_trunc.txt"
       ]
      },
      {
       "output_type": "stream",
       "stream": "stdout",
       "text": [
        "\n",
        "1304.2479_trunc.txt\n",
        "1111.5866_trunc.txt"
       ]
      },
      {
       "output_type": "stream",
       "stream": "stdout",
       "text": [
        "\n",
        "1412.1605_trunc.txt\n",
        "1208.5467_trunc.txt"
       ]
      },
      {
       "output_type": "stream",
       "stream": "stdout",
       "text": [
        "\n",
        "80.0401380062\n"
       ]
      }
     ],
     "prompt_number": 25
    },
    {
     "cell_type": "code",
     "collapsed": false,
     "input": [
      "pickle.dump(arxiv_sep_byfile, open('./data_objects/arxiv_sep_byfile_caseinsen.p', 'w'))"
     ],
     "language": "python",
     "metadata": {},
     "outputs": [],
     "prompt_number": 28
    },
    {
     "cell_type": "code",
     "collapsed": false,
     "input": [
      "arxiv_sep_byfile[articles[]]"
     ],
     "language": "python",
     "metadata": {},
     "outputs": [
      {
       "metadata": {},
       "output_type": "pyout",
       "prompt_number": 32,
       "text": [
        "{'expected value': 1, 'random sequence': 1}"
       ]
      }
     ],
     "prompt_number": 32
    },
    {
     "cell_type": "code",
     "collapsed": false,
     "input": [
      "arxiv_sep_byword = {}\n",
      "\n",
      "# initialize dictionary\n",
      "for word in concepts:\n",
      "    arxiv_sep_byword[word] = 0\n",
      "\n",
      "for f in arxiv_sep_byfile:\n",
      "    for word in arxiv_sep_byfile[f]:\n",
      "        arxiv_sep_byword[word] += 1\n",
      "        \n",
      "pickle.dump(arxiv_sep_byword, open('./data_objects/arxiv_sep_byword_caseinsen.p', 'w'))"
     ],
     "language": "python",
     "metadata": {},
     "outputs": [],
     "prompt_number": 38
    },
    {
     "cell_type": "code",
     "collapsed": false,
     "input": [
      "arxiv_sep_byword"
     ],
     "language": "python",
     "metadata": {},
     "outputs": [
      {
       "metadata": {},
       "output_type": "pyout",
       "prompt_number": 36,
       "text": [
        "{' = 1 fallacy': 0,\n",
        " ' and r chart': 0,\n",
        " ' and s chart': 0,\n",
        " ' chart': 21,\n",
        " '(a,b,0) class of distributions': 0,\n",
        " '1.96': 2,\n",
        " '100-year flood': 0,\n",
        " '68\\xe2\\x80\\x9395\\xe2\\x80\\x9399.7 rule': 0,\n",
        " 'a posteriori probability (disambiguation)': 0,\n",
        " 'a priori probability': 5,\n",
        " 'abc conjecture': 0,\n",
        " 'abc@home': 0,\n",
        " 'abductive reasoning': 0,\n",
        " \"abel's summation formula\": 0,\n",
        " 'abelian variety of cm-type': 0,\n",
        " 'absolute deviation': 49,\n",
        " 'absolute risk reduction': 0,\n",
        " 'absorbing markov chain': 0,\n",
        " 'absorbing set': 2,\n",
        " 'abstract wiener space': 0,\n",
        " 'abx test': 0,\n",
        " 'accelerated failure time model': 2,\n",
        " 'acceptable quality limit': 0,\n",
        " 'acceptance sampling': 1,\n",
        " 'accidental sampling': 0,\n",
        " 'accuracy and precision': 1,\n",
        " 'accuracy paradox': 0,\n",
        " 'acquiescence bias': 0,\n",
        " 'active set method': 0,\n",
        " 'actuarial science': 56,\n",
        " 'adapted process': 10,\n",
        " 'adaptive coordinate descent': 0,\n",
        " 'adaptive dimensional search': 0,\n",
        " 'adaptive estimator': 49,\n",
        " 'additive markov chain': 0,\n",
        " 'additive model': 63,\n",
        " 'additive smoothing': 0,\n",
        " 'additive white gaussian noise': 13,\n",
        " 'admb': 0,\n",
        " 'admissible decision rule': 0,\n",
        " 'age adjustment': 0,\n",
        " 'age stratification': 0,\n",
        " 'age-standardized mortality rate': 0,\n",
        " 'aggregate data': 3,\n",
        " 'aggregate pattern': 0,\n",
        " 'akaike information criterion': 18,\n",
        " 'aleatoric': 1,\n",
        " 'algebra of random variables': 0,\n",
        " 'algebraic statistics': 37,\n",
        " 'algorithmic inference': 0,\n",
        " 'algorithmic lov\\xc3\\xa1sz local lemma': 0,\n",
        " 'algorithms': 756,\n",
        " 'algorithms for calculating variance': 0,\n",
        " 'alignments of random points': 0,\n",
        " 'all-pairs testing': 0,\n",
        " 'allais paradox': 0,\n",
        " 'allan variance': 0,\n",
        " 'almost surely': 196,\n",
        " 'alpha beta filter': 0,\n",
        " 'alpha\\xe2\\x80\\x93beta pruning': 0,\n",
        " 'alternative hypothesis': 58,\n",
        " 'amenable number': 0,\n",
        " 'amicable numbers': 0,\n",
        " 'an essay towards solving a problem in the doctrine of chances': 0,\n",
        " 'an inequality on location and scale parameters': 0,\n",
        " 'an introduction to the theory of numbers': 0,\n",
        " 'analyse-it': 0,\n",
        " 'analysis of categorical data': 2,\n",
        " 'analysis of covariance': 2,\n",
        " 'analysis of molecular variance': 0,\n",
        " 'analysis of rhythmic variance': 0,\n",
        " 'analysis of variance': 25,\n",
        " 'analytic and enumerative statistical studies': 0,\n",
        " 'ancestral graph': 9,\n",
        " 'anchor test': 0,\n",
        " 'ancillary statistic': 7,\n",
        " \"anderson's theorem#application to probability theory\": 0,\n",
        " 'anderson\\xe2\\x80\\x93darling test': 0,\n",
        " 'anomaly detection': 22,\n",
        " 'anomaly time series': 0,\n",
        " 'anova': 53,\n",
        " 'anova on ranks': 0,\n",
        " 'anova\\xe2\\x80\\x93simultaneous component analysis': 0,\n",
        " 'anscombe transform': 0,\n",
        " \"anscombe's quartet\": 0,\n",
        " 'antecedent variable': 0,\n",
        " 'antithetic variates': 0,\n",
        " 'approximate bayesian computation': 20,\n",
        " 'approximate entropy': 0,\n",
        " 'arcsine distribution': 4,\n",
        " 'area chart': 0,\n",
        " 'area compatibility factor': 0,\n",
        " 'argus distribution': 0,\n",
        " 'arithmetic derivative': 0,\n",
        " 'arithmetic hyperbolic 3-manifold': 0,\n",
        " 'arithmetic mean': 11,\n",
        " 'arithmetic topology': 0,\n",
        " 'arithmetic variety': 0,\n",
        " 'arithmetic zeta function': 0,\n",
        " 'armitage\\xe2\\x80\\x93doll multistage model of carcinogenesis': 0,\n",
        " 'arrival theorem': 0,\n",
        " 'artificial bee colony algorithm': 0,\n",
        " 'artificial neural network': 3,\n",
        " 'artin conductor': 0,\n",
        " 'artin\\xe2\\x80\\x93hasse exponential': 0,\n",
        " 'ascertainment bias': 1,\n",
        " 'asreml': 0,\n",
        " 'association (statistics)': 0,\n",
        " 'association mapping': 1,\n",
        " 'association scheme': 2,\n",
        " 'assumed mean': 0,\n",
        " 'astrostatistics': 0,\n",
        " 'asymptotic distribution': 257,\n",
        " 'asymptotic equipartition property': 0,\n",
        " 'asymptotic theory (statistics)': 0,\n",
        " 'atkinson index': 0,\n",
        " 'attack rate': 0,\n",
        " 'auction algorithm': 0,\n",
        " 'augmented dickey\\xe2\\x80\\x93fuller test': 0,\n",
        " 'augmented lagrangian method': 3,\n",
        " \"aumann's agreement theorem\": 1,\n",
        " 'aurifeuillean factorization': 0,\n",
        " 'autocorrelation': 65,\n",
        " 'autocovariance': 50,\n",
        " 'autoregressive conditional duration': 1,\n",
        " 'autoregressive conditional heteroskedasticity': 5,\n",
        " 'autoregressive fractionally integrated moving average': 7,\n",
        " 'autoregressive integrated moving average': 2,\n",
        " 'autoregressive model': 60,\n",
        " 'autoregressive moving average model': 4,\n",
        " 'autoregressive\\xe2\\x80\\x93moving-average model': 0,\n",
        " 'auxiliary function': 1,\n",
        " 'auxiliary particle filter': 2,\n",
        " 'average': 560,\n",
        " 'average treatment effect': 14,\n",
        " 'averaged one-dependence estimators': 0,\n",
        " \"azuma's inequality\": 0,\n",
        " 'b-convex space': 0,\n",
        " 'ba model': 0,\n",
        " 'backfitting algorithm': 9,\n",
        " 'balance equation': 1,\n",
        " 'balanced repeated replication': 0,\n",
        " 'balding\\xe2\\x80\\x93nichols model': 0,\n",
        " 'banburismus': 0,\n",
        " \"bangdiwala's b\": 0,\n",
        " 'bapat\\xe2\\x80\\x93beg theorem': 0,\n",
        " 'bar chart': 0,\n",
        " 'barab\\xc3\\xa1si\\xe2\\x80\\x93albert model': 0,\n",
        " 'barber\\xe2\\x80\\x93johnson diagram': 0,\n",
        " \"barnard's test\": 0,\n",
        " 'barnardisation': 0,\n",
        " 'barnes g-function': 0,\n",
        " 'barnes interpolation': 0,\n",
        " \"bartlett's method\": 0,\n",
        " \"bartlett's test\": 1,\n",
        " \"bartlett's theorem\": 0,\n",
        " 'base flow': 0,\n",
        " 'base rate': 1,\n",
        " 'baseball statistics': 0,\n",
        " 'basel problem': 0,\n",
        " \"basu's theorem\": 0,\n",
        " 'bates distribution': 0,\n",
        " 'baum\\xe2\\x80\\x93welch algorithm': 0,\n",
        " 'bayes classifier': 10,\n",
        " 'bayes error rate': 1,\n",
        " 'bayes estimator': 32,\n",
        " 'bayes factor': 40,\n",
        " 'bayes linear statistics': 0,\n",
        " \"bayes' rule\": 12,\n",
        " \"bayes' theorem\": 13,\n",
        " 'bayesian': 736,\n",
        " 'bayesian average': 2,\n",
        " 'bayesian brain': 1,\n",
        " 'bayesian econometrics': 0,\n",
        " 'bayesian experimental design': 2,\n",
        " 'bayesian game': 1,\n",
        " 'bayesian inference': 138,\n",
        " 'bayesian inference in marketing': 0,\n",
        " 'bayesian inference in phylogeny': 0,\n",
        " 'bayesian inference using gibbs sampling': 1,\n",
        " 'bayesian information criterion': 30,\n",
        " 'bayesian linear regression': 4,\n",
        " 'bayesian model comparison': 2,\n",
        " 'bayesian multivariate linear regression': 0,\n",
        " 'bayesian network': 22,\n",
        " 'bayesian probability': 3,\n",
        " 'bayesian programming': 0,\n",
        " 'bayesian search theory': 0,\n",
        " 'bayesian spam filtering': 0,\n",
        " 'bayesian statistics': 44,\n",
        " 'bayesian tool for methylation analysis': 0,\n",
        " 'bayesian vector autoregression': 0,\n",
        " 'bayesianism': 3,\n",
        " 'bcmp network': 0,\n",
        " 'bean machine': 0,\n",
        " 'bees algorithm': 0,\n",
        " 'behrens\\xe2\\x80\\x93fisher distribution': 0,\n",
        " 'behrens\\xe2\\x80\\x93fisher problem': 0,\n",
        " 'belief propagation': 18,\n",
        " 'belt transect': 0,\n",
        " \"benford's law\": 2,\n",
        " 'benini distribution': 0,\n",
        " \"bennett's inequality\": 2,\n",
        " \"benson's algorithm\": 0,\n",
        " 'berkson error model': 1,\n",
        " \"berkson's paradox\": 1,\n",
        " 'berlin procedure': 0,\n",
        " 'berndt\\xe2\\x80\\x93hall\\xe2\\x80\\x93hall\\xe2\\x80\\x93hausman algorithm': 0,\n",
        " 'bernoulli distribution': 18,\n",
        " 'bernoulli number': 0,\n",
        " 'bernoulli polynomials': 0,\n",
        " 'bernoulli process': 6,\n",
        " 'bernoulli sampling': 4,\n",
        " 'bernoulli scheme': 0,\n",
        " 'bernoulli trial': 10,\n",
        " 'bernstein inequalities': 1,\n",
        " 'bernstein inequalities (probability theory)': 0,\n",
        " 'bernstein\\xe2\\x80\\x93von mises theorem': 0,\n",
        " 'berry\\xe2\\x80\\x93esseen theorem': 0,\n",
        " \"bertrand's ballot theorem\": 0,\n",
        " \"bertrand's box paradox\": 0,\n",
        " \"bertrand's paradox\": 0,\n",
        " 'bessel process': 4,\n",
        " \"bessel's correction\": 0,\n",
        " 'best linear unbiased prediction': 4,\n",
        " 'beta (finance)': 0,\n",
        " 'beta distribution': 28,\n",
        " 'beta function': 12,\n",
        " 'beta negative binomial distribution': 0,\n",
        " 'beta prime distribution': 0,\n",
        " 'beta rectangular distribution': 0,\n",
        " 'beta-binomial distribution': 1,\n",
        " 'beta-binomial model': 1,\n",
        " 'betting': 6,\n",
        " 'beverton\\xe2\\x80\\x93holt model': 0,\n",
        " 'bhargava cube': 0,\n",
        " 'bhatia\\xe2\\x80\\x93davis inequality': 0,\n",
        " 'bhattacharyya distance': 5,\n",
        " 'bias (statistics)': 0,\n",
        " 'bias of an estimator': 0,\n",
        " 'biased random walk (biochemistry)': 0,\n",
        " 'bible code': 0,\n",
        " 'biclustering': 9,\n",
        " 'bienaym\\xc3\\xa9\\xe2\\x80\\x93chebyshev inequality': 0,\n",
        " 'big m method': 0,\n",
        " 'big o in probability notation': 0,\n",
        " 'bills of mortality': 0,\n",
        " 'bimodal distribution': 2,\n",
        " 'bin packing problem': 1,\n",
        " 'binary classification': 32,\n",
        " 'bingham distribution': 3,\n",
        " 'binomial distribution': 40,\n",
        " 'binomial number': 0,\n",
        " 'binomial probability': 2,\n",
        " 'binomial proportion confidence interval': 0,\n",
        " 'binomial regression': 1,\n",
        " 'binomial test': 2,\n",
        " 'bioinformatics': 63,\n",
        " 'biostatistics': 111,\n",
        " 'biplot': 1,\n",
        " 'birch and swinnerton-dyer conjecture': 0,\n",
        " 'birnbaum\\xe2\\x80\\x93saunders distribution': 0,\n",
        " 'birth-death process': 0,\n",
        " 'birthday paradox': 0,\n",
        " 'birthday problem': 0,\n",
        " 'birth\\xe2\\x80\\x93death process': 0,\n",
        " 'bispectrum': 2,\n",
        " 'bivariate analysis': 1,\n",
        " 'bivariate von mises distribution': 0,\n",
        " 'black\\xe2\\x80\\x93scholes': 0,\n",
        " \"bland's rule\": 0,\n",
        " 'bland\\xe2\\x80\\x93altman plot': 0,\n",
        " 'blind deconvolution': 4,\n",
        " 'blind experiment': 0,\n",
        " 'block design': 7,\n",
        " 'blocking (statistics)': 0,\n",
        " 'bmdp': 0,\n",
        " 'bobyqa': 0,\n",
        " \"bochner's theorem\": 4,\n",
        " 'boltzmann factor': 0,\n",
        " 'bonferroni correction': 6,\n",
        " 'bookmaker': 1,\n",
        " \"boole's inequality\": 0,\n",
        " 'boolean analysis': 0,\n",
        " 'boolean model': 8,\n",
        " 'bootstrap aggregating': 0,\n",
        " 'bootstrap error-adjusted single-sample technique': 0,\n",
        " 'bootstrapping (statistics)': 0,\n",
        " 'bootstrapping populations': 0,\n",
        " 'borel\\xe2\\x80\\x93cantelli lemma': 0,\n",
        " 'borel\\xe2\\x80\\x93kolmogorov paradox': 0,\n",
        " 'bose\\xe2\\x80\\x93einstein statistics': 0,\n",
        " 'bose\\xe2\\x80\\x93mesner algebra': 0,\n",
        " 'bost\\xe2\\x80\\x93connes system': 0,\n",
        " 'box plot': 0,\n",
        " 'box\\xe2\\x80\\x93behnken design': 0,\n",
        " 'box\\xe2\\x80\\x93cox distribution': 0,\n",
        " 'box\\xe2\\x80\\x93jenkins': 0,\n",
        " 'box\\xe2\\x80\\x93muller transform': 0,\n",
        " 'box\\xe2\\x80\\x93pierce test': 0,\n",
        " 'boy or girl paradox': 0,\n",
        " 'branch and bound': 1,\n",
        " 'branch and cut': 0,\n",
        " 'branch and price': 0,\n",
        " 'branching process': 16,\n",
        " 'brandt matrix': 0,\n",
        " 'bregman divergence': 13,\n",
        " 'breusch\\xe2\\x80\\x93godfrey test': 0,\n",
        " 'breusch\\xe2\\x80\\x93pagan test': 0,\n",
        " 'brewer sum': 0,\n",
        " 'brjuno number': 0,\n",
        " 'brownian bridge': 40,\n",
        " 'brownian excursion': 2,\n",
        " 'brownian motion': 216,\n",
        " 'brownian ratchet': 0,\n",
        " 'brownian tree': 1,\n",
        " 'brown\\xe2\\x80\\x93forsythe test': 0,\n",
        " 'bruck\\xe2\\x80\\x93ryser\\xe2\\x80\\x93chowla theorem': 0,\n",
        " \"buffon's needle\": 0,\n",
        " \"burke's theorem\": 0,\n",
        " 'burr distribution': 0,\n",
        " 'business statistics': 10,\n",
        " \"buzen's algorithm\": 0,\n",
        " 'bv4.1 (software)': 0,\n",
        " \"b\\xc3\\xbcchi's problem\": 0,\n",
        " 'b\\xc3\\xbchlmann model': 0,\n",
        " 'c-chart': 0,\n",
        " 'cabtaxi number': 0,\n",
        " 'calculating demand forecast accuracy': 0,\n",
        " 'calculus of predispositions': 0,\n",
        " 'calibrated probability assessment': 0,\n",
        " 'calibration (statistics)': 0,\n",
        " 'cancer cluster': 1,\n",
        " 'candlestick chart': 0,\n",
        " 'canonical analysis': 0,\n",
        " 'canonical correlation': 27,\n",
        " 'canopy clustering algorithm': 0,\n",
        " 'cantor distribution': 0,\n",
        " \"carleman's condition\": 0,\n",
        " 'carpet plot': 0,\n",
        " 'cartogram': 0,\n",
        " 'casas-alvero conjecture': 0,\n",
        " 'case-control study': 3,\n",
        " 'catastro of ensenada': 0,\n",
        " 'categorical data': 19,\n",
        " 'categorical distribution': 3,\n",
        " 'categorical variable': 19,\n",
        " 'cauchy distribution': 19,\n",
        " 'cauchy\\xe2\\x80\\x93schwarz inequality': 0,\n",
        " 'causal markov condition': 0,\n",
        " 'cdf-based nonparametric confidence interval': 0,\n",
        " 'ceiling effect (statistics)': 0,\n",
        " 'cellular noise': 0,\n",
        " 'censored regression model': 1,\n",
        " 'censoring (clinical trials)': 0,\n",
        " 'censoring (statistics)': 0,\n",
        " 'census': 12,\n",
        " 'centering matrix': 1,\n",
        " 'central composite design': 1,\n",
        " 'central limit theorem': 265,\n",
        " 'central limit theorem for directional statistics': 0,\n",
        " 'central moment': 7,\n",
        " 'central tendency': 3,\n",
        " 'cepstrum': 1,\n",
        " 'chaid': 0,\n",
        " 'chain rule for kolmogorov complexity': 0,\n",
        " 'challenge\\xe2\\x80\\x93dechallenge\\xe2\\x80\\x93rechallenge': 0,\n",
        " 'champernowne constant': 0,\n",
        " 'champernowne distribution': 0,\n",
        " 'change detection': 25,\n",
        " 'change detection (gis)': 0,\n",
        " 'change-making problem': 0,\n",
        " 'chapman\\xe2\\x80\\x93kolmogorov equation': 0,\n",
        " 'chapman\\xe2\\x80\\x93robbins bound': 0,\n",
        " 'character group': 1,\n",
        " 'characteristic function': 84,\n",
        " 'characteristic function (probability theory)': 0,\n",
        " \"chauvenet's criterion\": 0,\n",
        " 'chebyshev center': 0,\n",
        " \"chebyshev's inequality\": 3,\n",
        " 'checking if a coin is fair': 0,\n",
        " 'checking whether a coin is fair': 0,\n",
        " 'cheeger bound': 0,\n",
        " 'chemometrics': 22,\n",
        " 'chernoff bound': 3,\n",
        " 'chernoff face': 0,\n",
        " \"chernoff's distribution\": 2,\n",
        " \"chernoff's inequality\": 1,\n",
        " 'chi distribution': 0,\n",
        " 'chi-squared distribution': 17,\n",
        " 'chi-squared test': 8,\n",
        " 'chi-squared tests': 1,\n",
        " 'chinese restaurant process': 11,\n",
        " 'choropleth map': 0,\n",
        " \"chou's invariance theorem\": 0,\n",
        " 'chow test': 0,\n",
        " 'chronux': 0,\n",
        " 'cir process': 2,\n",
        " 'circular analysis': 0,\n",
        " 'circular distribution': 5,\n",
        " 'circular ensemble': 1,\n",
        " 'circular error probable': 0,\n",
        " 'circular uniform distribution': 0,\n",
        " 'clark\\xe2\\x80\\x93ocone theorem': 0,\n",
        " 'class membership probabilities': 0,\n",
        " 'classic data sets': 0,\n",
        " 'classical definition of probability': 0,\n",
        " 'classical test theory': 0,\n",
        " 'classical wiener space': 0,\n",
        " 'classification rule': 27,\n",
        " 'classifier (mathematics)': 0,\n",
        " 'climate ensemble': 0,\n",
        " 'climograph': 0,\n",
        " 'clinical significance': 1,\n",
        " 'clinical study design': 0,\n",
        " 'clinical trial': 53,\n",
        " 'clinical utility of diagnostic tests': 0,\n",
        " 'cliodynamics': 0,\n",
        " 'closed testing procedure': 2,\n",
        " 'cluster analysis': 21,\n",
        " 'cluster randomised controlled trial': 0,\n",
        " 'cluster sampling': 1,\n",
        " 'cluster-weighted modeling': 1,\n",
        " 'clustering high-dimensional data': 1,\n",
        " 'cma-es': 0,\n",
        " 'coalescent theory': 4,\n",
        " 'cobyla': 0,\n",
        " \"cochran's c test\": 0,\n",
        " \"cochran's q test\": 0,\n",
        " \"cochran's theorem\": 0,\n",
        " 'cochrane\\xe2\\x80\\x93orcutt estimation': 0,\n",
        " 'cochran\\xe2\\x80\\x93armitage test for trend': 0,\n",
        " 'cochran\\xe2\\x80\\x93mantel\\xe2\\x80\\x93haenszel statistics': 0,\n",
        " 'coding (social sciences)': 0,\n",
        " 'coefficient of determination': 2,\n",
        " 'coefficient of dispersion': 0,\n",
        " 'coefficient of variation': 5,\n",
        " 'coffman\\xe2\\x80\\x93graham algorithm': 0,\n",
        " 'cognitive pretesting': 0,\n",
        " \"cohen's class distribution function\": 0,\n",
        " \"cohen's kappa\": 0,\n",
        " 'coherence': 75,\n",
        " 'coherence (signal processing)': 0,\n",
        " 'coherence (statistics)': 0,\n",
        " 'cohort (statistics)': 0,\n",
        " 'cohort effect': 0,\n",
        " 'cohort study': 4,\n",
        " 'coin flipping': 1,\n",
        " 'coin problem': 0,\n",
        " 'cointegration': 7,\n",
        " 'cole prize': 0,\n",
        " 'collatz conjecture': 0,\n",
        " 'collectively exhaustive events': 0,\n",
        " 'collider (epidemiology)': 0,\n",
        " 'column generation': 0,\n",
        " 'combinatorial data analysis': 0,\n",
        " 'combinatorial design': 0,\n",
        " 'combinatorial meta-analysis': 0,\n",
        " 'common cause and special cause (statistics)': 0,\n",
        " 'common mode failure': 0,\n",
        " 'common-method variance': 0,\n",
        " 'commons category with local link same as on wikidata': 0,\n",
        " 'communication-avoiding algorithms': 0,\n",
        " 'comonotonicity': 1,\n",
        " 'comparing means': 0,\n",
        " 'comparison of general and generalized linear models': 0,\n",
        " 'comparison of statistical packages': 0,\n",
        " 'comparisonwise error rate': 0,\n",
        " 'complementary event': 2,\n",
        " 'complete spatial randomness': 1,\n",
        " 'complete-linkage clustering': 0,\n",
        " 'completely randomized design': 0,\n",
        " 'completeness (statistics)': 0,\n",
        " 'composite bar chart': 0,\n",
        " 'composition (combinatorics)': 0,\n",
        " 'compositional data': 3,\n",
        " 'compositorial': 0,\n",
        " 'compound poisson distribution': 7,\n",
        " 'compound poisson process': 33,\n",
        " 'compound probability distribution': 0,\n",
        " 'computational formula for the variance': 0,\n",
        " 'computational learning theory': 3,\n",
        " 'computational number theory': 0,\n",
        " 'computational statistics': 15,\n",
        " 'computer experiment': 21,\n",
        " 'computer-assisted survey information collection': 0,\n",
        " 'concentration dimension': 0,\n",
        " 'concomitant (statistics)': 0,\n",
        " 'concordance correlation coefficient': 0,\n",
        " 'concordant pair': 0,\n",
        " 'concrete illustration of the central limit theorem': 0,\n",
        " 'concurrent validity': 0,\n",
        " 'conditional change model': 0,\n",
        " 'conditional dependence': 14,\n",
        " 'conditional event algebra': 0,\n",
        " 'conditional expectation': 86,\n",
        " 'conditional independence': 100,\n",
        " 'conditional probability': 69,\n",
        " 'conditional probability distribution': 15,\n",
        " 'conditional random field': 1,\n",
        " 'conditional variance': 41,\n",
        " 'conditionality principle': 1,\n",
        " 'conditioning': 122,\n",
        " 'conductance': 7,\n",
        " 'confidence and prediction bands': 0,\n",
        " 'confidence distribution': 13,\n",
        " 'confidence interval': 235,\n",
        " 'confidence region': 61,\n",
        " 'configural frequency analysis': 0,\n",
        " 'confirmation bias': 0,\n",
        " 'confirmatory factor analysis': 0,\n",
        " 'confounding': 36,\n",
        " 'confounding factor': 8,\n",
        " 'confusion of the inverse': 0,\n",
        " 'congruence coefficient': 1,\n",
        " 'congruent number': 0,\n",
        " 'conjoint analysis': 0,\n",
        " 'conjoint analysis (in healthcare)': 0,\n",
        " 'conjoint analysis (in marketing)': 0,\n",
        " 'conjugate prior': 33,\n",
        " 'consensus clustering': 1,\n",
        " 'consensus forecast': 0,\n",
        " 'consensus-based assessment': 0,\n",
        " 'conservatism (belief revision)': 0,\n",
        " 'consistency (statistics)': 0,\n",
        " 'consistent estimator': 179,\n",
        " 'constant elasticity of substitution': 0,\n",
        " 'constant false alarm rate': 0,\n",
        " 'constraint (information theory)': 0,\n",
        " 'constructive cooperative coevolution': 0,\n",
        " 'consumption distribution': 0,\n",
        " 'contact process': 1,\n",
        " 'contact process (mathematics)': 0,\n",
        " 'content validity': 0,\n",
        " 'contiguity (probability theory)': 0,\n",
        " 'contiguity#probability theory': 0,\n",
        " 'contingency table': 49,\n",
        " 'continuity correction': 1,\n",
        " 'continuous mapping theorem': 14,\n",
        " 'continuous probability distribution': 10,\n",
        " 'continuous stochastic process': 3,\n",
        " 'continuous-time markov process': 8,\n",
        " 'continuous-time stochastic process': 6,\n",
        " 'contou-carr\\xc3\\xa8re symbol': 0,\n",
        " 'contraction principle': 4,\n",
        " 'contrast (statistics)': 0,\n",
        " 'control chart': 5,\n",
        " 'control event rate': 0,\n",
        " 'control limits': 2,\n",
        " 'control variate': 3,\n",
        " 'controlling for a variable': 0,\n",
        " 'convergence of measures': 4,\n",
        " 'convergence of random variables': 1,\n",
        " 'convex hull': 40,\n",
        " 'convolution of probability distributions': 1,\n",
        " 'convolution random number generator': 0,\n",
        " 'conway\\xe2\\x80\\x93maxwell\\xe2\\x80\\x93poisson distribution': 0,\n",
        " \"cook's distance\": 1,\n",
        " 'cophenetic correlation': 0,\n",
        " 'coprime integers': 0,\n",
        " 'copula': 96,\n",
        " 'copula (statistics)': 0,\n",
        " 'cornish\\xe2\\x80\\x93fisher expansion': 0,\n",
        " 'correct sampling': 0,\n",
        " 'correction for attenuation': 0,\n",
        " 'correlate summation analysis': 0,\n",
        " 'correlation': 520,\n",
        " 'correlation and dependence': 1,\n",
        " 'correlation clustering': 0,\n",
        " 'correlation does not imply causation': 2,\n",
        " 'correlation function': 67,\n",
        " 'correlation function (astronomy)': 0,\n",
        " 'correlation function (quantum field theory)': 0,\n",
        " 'correlation function (statistical mechanics)': 0,\n",
        " 'correlation implies causation': 0,\n",
        " 'correlation inequality': 1,\n",
        " 'correlation ratio': 0,\n",
        " 'correlogram': 6,\n",
        " 'correspondence analysis': 6,\n",
        " 'cosmic variance': 1,\n",
        " 'cost-of-living index': 0,\n",
        " 'count data': 26,\n",
        " 'counternull': 0,\n",
        " 'counting process': 32,\n",
        " 'coupling': 76,\n",
        " \"coupon collector's problem\": 1,\n",
        " \"coupon collector's problem (generating function approach)\": 0,\n",
        " 'covariance': 886,\n",
        " 'covariance and correlation': 4,\n",
        " 'covariance function': 116,\n",
        " 'covariance intersection': 0,\n",
        " 'covariance matrix': 496,\n",
        " 'covariate': 354,\n",
        " \"cover's theorem\": 0,\n",
        " 'coverage probability': 36,\n",
        " 'covering set': 0,\n",
        " 'covering system': 0,\n",
        " 'cox process': 21,\n",
        " \"cox's theorem\": 2,\n",
        " 'cox\\xe2\\x80\\x93ingersoll\\xe2\\x80\\x93ross model': 0,\n",
        " \"cram\\xc3\\xa9r's theorem\": 0,\n",
        " \"cram\\xc3\\xa9r's v\": 0,\n",
        " 'cram\\xc3\\xa9r\\xe2\\x80\\x93rao bound': 0,\n",
        " 'cram\\xc3\\xa9r\\xe2\\x80\\x93von mises criterion': 0,\n",
        " 'crank conjecture': 0,\n",
        " 'crank of a partition': 0,\n",
        " 'craps principle': 0,\n",
        " 'credal set': 0,\n",
        " 'credible interval': 15,\n",
        " 'crew scheduling': 0,\n",
        " 'cricket statistics': 0,\n",
        " 'crime statistics': 0,\n",
        " 'criss-cross algorithm': 0,\n",
        " 'critical phenomena': 1,\n",
        " \"cromwell's rule\": 0,\n",
        " \"cronbach's \\xce\\xb1\": 0,\n",
        " 'cross tabulation': 0,\n",
        " 'cross-correlation': 9,\n",
        " 'cross-covariance': 12,\n",
        " 'cross-entropy method': 0,\n",
        " 'cross-sectional data': 4,\n",
        " 'cross-sectional regression': 1,\n",
        " 'cross-sectional study': 0,\n",
        " 'cross-spectrum': 1,\n",
        " 'cross-validation (statistics)': 0,\n",
        " 'crossover study': 0,\n",
        " 'crystal ball function': 0,\n",
        " 'cube (algebra)': 0,\n",
        " 'cuckoo search': 0,\n",
        " 'cumulant': 49,\n",
        " 'cumulative distribution function': 153,\n",
        " 'cumulative frequency analysis': 0,\n",
        " 'cumulative incidence': 3,\n",
        " 'cunningham function': 0,\n",
        " 'cunningham number': 0,\n",
        " 'cunningham project': 0,\n",
        " 'cure data clustering algorithm': 0,\n",
        " 'curve fitting': 1,\n",
        " 'cusum': 44,\n",
        " 'cuzick\\xe2\\x80\\x93edwards test': 0,\n",
        " 'cyclic number': 0,\n",
        " 'cyclic number (group theory)': 0,\n",
        " 'cyclostationary process': 4,\n",
        " 'cyclotomic polynomial': 0,\n",
        " 'c\\xc3\\xa0dl\\xc3\\xa0g': 2,\n",
        " \"d'agostino's k-squared test\": 0,\n",
        " 'd-separation': 4,\n",
        " 'd/m/1 queue': 0,\n",
        " 'dagum distribution': 1,\n",
        " 'dap': 840,\n",
        " 'data analysis': 322,\n",
        " 'data assimilation': 14,\n",
        " 'data binning': 0,\n",
        " 'data classification (business intelligence)': 0,\n",
        " 'data cleansing': 0,\n",
        " 'data clustering': 7,\n",
        " 'data collection': 36,\n",
        " 'data desk': 0,\n",
        " 'data dredging': 0,\n",
        " 'data fusion': 1,\n",
        " 'data generating process': 36,\n",
        " 'data mining': 20,\n",
        " 'data point': 145,\n",
        " 'data quality assurance': 0,\n",
        " 'data reduction': 3,\n",
        " 'data set': 403,\n",
        " 'data stream clustering': 0,\n",
        " 'data transformation (statistics)': 0,\n",
        " 'data visualization': 3,\n",
        " 'data-snooping bias': 0,\n",
        " 'datadetective': 0,\n",
        " 'datadvance': 1,\n",
        " 'dataplot': 2,\n",
        " 'davidon\\xe2\\x80\\x93fletcher\\xe2\\x80\\x93powell formula': 0,\n",
        " 'davies\\xe2\\x80\\x93bouldin index': 0,\n",
        " 'davis distribution': 0,\n",
        " \"de finetti's game\": 0,\n",
        " \"de finetti's theorem\": 8,\n",
        " \"de moivre's law\": 0,\n",
        " 'de moivre\\xe2\\x80\\x93laplace theorem': 0,\n",
        " 'decision boundary': 4,\n",
        " 'decision theory': 41,\n",
        " 'decomposition of time series': 0,\n",
        " 'dedekind sum': 0,\n",
        " 'deep sampling': 0,\n",
        " 'deformation ring': 0,\n",
        " 'degenerate distribution': 11,\n",
        " 'degrees of freedom (statistics)': 0,\n",
        " 'delaporte distribution': 0,\n",
        " 'delphi method': 0,\n",
        " 'delta method': 22,\n",
        " 'demand forecasting': 0,\n",
        " 'deming regression': 0,\n",
        " 'demographic statistics': 0,\n",
        " 'demographics': 5,\n",
        " 'demography': 8,\n",
        " 'dempster\\xe2\\x80\\x93shafer theory': 0,\n",
        " 'dendrogram': 6,\n",
        " 'density estimation': 219,\n",
        " 'dependent and independent variables': 2,\n",
        " 'derivation of the conjugate gradient method': 0,\n",
        " 'derivative-free optimization': 1,\n",
        " 'descriptive research': 0,\n",
        " 'descriptive statistics': 6,\n",
        " 'design effect': 3,\n",
        " 'design matrix': 138,\n",
        " 'design of experiments': 19,\n",
        " 'design of quasi-experiments': 0,\n",
        " 'destination dispatch': 0,\n",
        " 'detailed balance': 4,\n",
        " 'detection theory': 3,\n",
        " 'determining the number of clusters in a data set': 0,\n",
        " 'detrended correspondence analysis': 0,\n",
        " 'detrended fluctuation analysis': 2,\n",
        " 'deviance (statistics)': 0,\n",
        " 'deviance information criterion': 0,\n",
        " 'deviation (statistics)': 0,\n",
        " 'deviation analysis (disambiguation)': 0,\n",
        " 'dffits': 0,\n",
        " 'diagnostic odds ratio': 0,\n",
        " 'dickey\\xe2\\x80\\x93fuller test': 0,\n",
        " 'difference in differences': 0,\n",
        " 'differential entropy': 8,\n",
        " 'differential evolution': 1,\n",
        " 'diffusion process': 79,\n",
        " 'diffusion-limited aggregation': 0,\n",
        " 'digit sum': 0,\n",
        " 'digital root': 0,\n",
        " 'dilution assay': 0,\n",
        " 'dimension reduction': 113,\n",
        " 'direct relationship': 4,\n",
        " 'directional statistics': 10,\n",
        " 'dirichlet distribution': 14,\n",
        " 'dirichlet process': 70,\n",
        " 'dirichlet-multinomial distribution': 2,\n",
        " 'disattenuation': 0,\n",
        " 'discrepancy function': 5,\n",
        " 'discrete choice': 7,\n",
        " 'discrete choice analysis': 0,\n",
        " 'discrete frequency domain': 0,\n",
        " 'discrete phase-type distribution': 0,\n",
        " 'discrete probability distribution': 12,\n",
        " 'discrete time': 101,\n",
        " 'discretization of continuous features': 0,\n",
        " 'discriminant function analysis': 0,\n",
        " 'discriminative model': 0,\n",
        " 'disintegration theorem': 0,\n",
        " 'disorder problem': 1,\n",
        " 'disquisitiones arithmeticae': 0,\n",
        " 'distance correlation': 13,\n",
        " 'distance sampling': 0,\n",
        " 'distributed lag': 1,\n",
        " 'distribution (number theory)': 0,\n",
        " 'distribution fitting': 1,\n",
        " 'divergence (statistics)': 0,\n",
        " 'diversity index': 3,\n",
        " 'divide and conquer algorithms': 1,\n",
        " 'divisia index': 0,\n",
        " 'divisia monetary aggregates index': 0,\n",
        " \"dixon's q test\": 0,\n",
        " 'dol\\xc3\\xa9ans-dade exponential': 0,\n",
        " 'dominating decision rule': 0,\n",
        " \"donsker's theorem\": 5,\n",
        " 'doob decomposition theorem': 0,\n",
        " 'doob martingale': 0,\n",
        " \"doob's martingale convergence theorems\": 0,\n",
        " \"doob's martingale inequality\": 0,\n",
        " 'doob\\xe2\\x80\\x93meyer decomposition theorem': 0,\n",
        " 'doomsday argument': 0,\n",
        " 'dot plot (bioinformatics)': 0,\n",
        " 'dot plot (statistics)': 0,\n",
        " 'double counting (fallacy)': 0,\n",
        " 'double exponential distribution (disambiguation)': 0,\n",
        " 'double mass analysis': 0,\n",
        " 'doubly stochastic model': 0,\n",
        " 'ducci sequence': 0,\n",
        " \"dudley's theorem\": 0,\n",
        " 'dummy variable (statistics)': 0,\n",
        " \"duncan's new multiple range test\": 0,\n",
        " 'dunn index': 0,\n",
        " \"dunnett's test\": 0,\n",
        " 'durbin test': 0,\n",
        " 'durbin\\xe2\\x80\\x93watson statistic': 0,\n",
        " 'durfee square': 0,\n",
        " 'dutch book': 1,\n",
        " 'dvoretzky\\xe2\\x80\\x93kiefer\\xe2\\x80\\x93wolfowitz inequality': 0,\n",
        " 'dyadic distribution': 0,\n",
        " \"dykstra's projection algorithm\": 0,\n",
        " 'dynamic bayesian network': 1,\n",
        " 'dynamic factor': 7,\n",
        " 'dynamic topic model': 0,\n",
        " 'dynkin system': 0,\n",
        " \"dynkin's formula\": 0,\n",
        " 'e-function': 5,\n",
        " 'e-statistic': 1,\n",
        " 'eagle strategy': 0,\n",
        " \"earth mover's distance\": 2,\n",
        " \"eaton's inequality\": 0,\n",
        " 'ecological correlation': 0,\n",
        " 'ecological fallacy': 0,\n",
        " 'ecological regression': 0,\n",
        " 'ecological study': 0,\n",
        " 'econometric model': 15,\n",
        " 'econometrics': 162,\n",
        " 'economic data': 7,\n",
        " 'economic epidemiology': 0,\n",
        " 'economic statistics': 0,\n",
        " 'eddy covariance': 0,\n",
        " 'edgeworth series': 2,\n",
        " 'effect size': 8,\n",
        " 'efficiency (statistics)': 0,\n",
        " 'efficient estimator': 70,\n",
        " 'egyptian fraction': 0,\n",
        " 'ehrenfest model': 0,\n",
        " 'eichler order': 0,\n",
        " 'eigenpoll': 0,\n",
        " 'eisenstein\\xe2\\x80\\x93kronecker number': 0,\n",
        " 'elastic map': 0,\n",
        " 'elementary event': 1,\n",
        " 'elkies trinomial curves': 0,\n",
        " 'elliptic divisibility sequence': 0,\n",
        " 'elliptical distribution': 29,\n",
        " 'ellsberg paradox': 1,\n",
        " 'elston\\xe2\\x80\\x93stewart algorithm': 0,\n",
        " 'emg distribution': 0,\n",
        " 'empirical': 1048,\n",
        " 'empirical bayes method': 12,\n",
        " 'empirical distribution function': 70,\n",
        " 'empirical likelihood': 38,\n",
        " 'empirical measure': 62,\n",
        " 'empirical orthogonal functions': 0,\n",
        " 'empirical probability': 5,\n",
        " 'empirical process': 127,\n",
        " 'empirical statistical laws': 0,\n",
        " 'encyclopedia of statistical sciences': 0,\n",
        " 'end point of clinical trials': 0,\n",
        " 'endogeneity (economics)': 0,\n",
        " 'energy distance': 3,\n",
        " 'energy statistics': 3,\n",
        " 'engineering statistics': 0,\n",
        " 'engineering tolerance': 0,\n",
        " 'engset calculation': 0,\n",
        " 'ensemble forecasting': 0,\n",
        " 'ensemble kalman filter': 5,\n",
        " 'entropy': 212,\n",
        " 'entropy (information theory)': 0,\n",
        " 'entropy estimation': 13,\n",
        " 'entropy power inequality': 0,\n",
        " 'environmental statistics': 3,\n",
        " 'epi info': 0,\n",
        " 'epidata': 0,\n",
        " 'epidemic model': 4,\n",
        " 'epidemiological methods': 0,\n",
        " 'epilogism': 0,\n",
        " 'epitome (image processing)': 0,\n",
        " 'epps effect': 5,\n",
        " 'equating': 2,\n",
        " 'equipossible': 1,\n",
        " 'equiprobable': 1,\n",
        " 'erd\\xc5\\x91s arcsine law': 0,\n",
        " 'erd\\xc5\\x91s\\xe2\\x80\\x93r\\xc3\\xa9nyi model': 0,\n",
        " 'ergodic theory': 7,\n",
        " 'ergodicity': 68,\n",
        " 'erlang distribution': 2,\n",
        " 'erlang unit': 0,\n",
        " 'error bar': 5,\n",
        " 'error correction model': 1,\n",
        " 'error function': 5,\n",
        " 'errors and residuals in statistics': 0,\n",
        " 'errors-in-variables models': 5,\n",
        " 'estimating equations': 39,\n",
        " 'estimation of covariance matrices': 12,\n",
        " 'estimation of signal parameters via rotational invariance techniques': 1,\n",
        " 'estimation theory': 36,\n",
        " 'estimator': 1809,\n",
        " 'eta function': 17,\n",
        " \"etemadi's inequality\": 0,\n",
        " 'ethical problems using children in clinical trials': 0,\n",
        " 'euler function': 1,\n",
        " \"euler's totient function\": 0,\n",
        " 'euler\\xe2\\x80\\x93maruyama method': 0,\n",
        " 'event': 477,\n",
        " 'event (probability theory)': 0,\n",
        " 'event study': 0,\n",
        " 'eventually (mathematics)': 0,\n",
        " 'evidence under bayes theorem': 0,\n",
        " 'evolutionary algorithm': 0,\n",
        " 'evolutionary data mining': 0,\n",
        " 'evolutionary programming': 0,\n",
        " \"ewens's sampling formula\": 1,\n",
        " 'ewma chart': 1,\n",
        " 'exact statistics': 0,\n",
        " 'exact test': 13,\n",
        " 'examples of markov chains': 0,\n",
        " 'excess risk': 30,\n",
        " 'exchange paradox': 0,\n",
        " 'exchangeable random variables': 2,\n",
        " 'exotic probability': 0,\n",
        " 'expander walk sampling': 0,\n",
        " 'expectation propagation': 4,\n",
        " 'expectation\\xe2\\x80\\x93maximization algorithm': 0,\n",
        " 'expected utility hypothesis': 0,\n",
        " 'expected value': 79,\n",
        " 'expected value of sample information': 0,\n",
        " 'experiment': 643,\n",
        " 'experimental design diagram': 0,\n",
        " 'experimental event rate': 0,\n",
        " 'experimental uncertainty analysis': 0,\n",
        " \"experimenter's bias\": 0,\n",
        " 'experimentwise error rate': 0,\n",
        " 'explained sum of squares': 0,\n",
        " 'explained variation': 0,\n",
        " 'explanatory variable': 71,\n",
        " 'exploratory data analysis': 16,\n",
        " 'exploratory factor analysis': 0,\n",
        " 'exponential dispersion model': 3,\n",
        " 'exponential distribution': 62,\n",
        " 'exponential family': 126,\n",
        " 'exponential smoothing': 1,\n",
        " 'exponential-logarithmic distribution': 0,\n",
        " 'exponentially equivalent measures': 0,\n",
        " 'exponentially modified gaussian distribution': 0,\n",
        " 'exponentiated weibull distribution': 0,\n",
        " 'exposure variable': 3,\n",
        " 'extended kalman filter': 7,\n",
        " 'extended negative binomial distribution': 0,\n",
        " \"extensions of fisher's method\": 0,\n",
        " 'external validity': 0,\n",
        " 'extractor': 0,\n",
        " 'extrapolation domain analysis': 0,\n",
        " 'extreme value theory': 58,\n",
        " 'extremum estimator': 0,\n",
        " 'f-distribution': 3,\n",
        " 'f-divergence': 4,\n",
        " 'f-statistics': 1,\n",
        " 'f-test': 3,\n",
        " 'f-test of equality of variances': 0,\n",
        " 'f1 score': 0,\n",
        " 'factor analysis': 25,\n",
        " 'factor graph': 0,\n",
        " 'factor regression model': 0,\n",
        " 'factorial code': 0,\n",
        " 'factorial experiment': 7,\n",
        " 'factorial moment': 9,\n",
        " 'factorial moment generating function': 0,\n",
        " 'failure rate': 11,\n",
        " 'fair coin': 6,\n",
        " \"falconer's formula\": 0,\n",
        " 'false discovery rate': 53,\n",
        " 'false negative': 18,\n",
        " 'false positive': 41,\n",
        " 'false positive paradox': 0,\n",
        " 'false positive rate': 13,\n",
        " 'familywise error rate': 18,\n",
        " 'fan chart (time series)': 0,\n",
        " 'fano factor': 0,\n",
        " 'farey sequence': 0,\n",
        " 'fast fourier transform': 7,\n",
        " 'fast kalman filter': 0,\n",
        " 'fastica': 4,\n",
        " 'fat-tailed distribution': 1,\n",
        " 'feasible generalized least squares': 1,\n",
        " 'feature extraction': 12,\n",
        " 'feit\\xe2\\x80\\x93thompson conjecture': 0,\n",
        " 'feller process': 5,\n",
        " \"feller's coin-tossing constants\": 0,\n",
        " 'feller-continuous process': 0,\n",
        " \"felsenstein's tree-pruning algorithm\": 0,\n",
        " 'fermat number': 0,\n",
        " 'fermat prize': 0,\n",
        " 'fermat quotient': 0,\n",
        " 'fermi\\xe2\\x80\\x93dirac statistics': 0,\n",
        " 'fernandez\\xe2\\x80\\x99s method': 0,\n",
        " 'feynman\\xe2\\x80\\x93kac formula': 0,\n",
        " 'fides (reliability)': 0,\n",
        " 'fiducial inference': 8,\n",
        " 'field experiment': 2,\n",
        " \"fieller's theorem\": 0,\n",
        " 'fifth power (algebra)': 0,\n",
        " 'file drawer problem': 0,\n",
        " 'filtering problem': 13,\n",
        " 'filtering problem (stochastic processes)': 0,\n",
        " 'filtration': 56,\n",
        " 'financial econometrics': 20,\n",
        " 'financial models with long-tailed distributions and volatility clustering': 0,\n",
        " 'finite-dimensional distribution': 24,\n",
        " 'firefly algorithm': 0,\n",
        " 'first-hitting-time model': 0,\n",
        " 'first-in-man study': 0,\n",
        " 'fishburn\\xe2\\x80\\x93shepp inequality': 0,\n",
        " 'fisher consistency': 1,\n",
        " 'fisher information': 105,\n",
        " 'fisher information metric': 7,\n",
        " 'fisher kernel': 0,\n",
        " 'fisher transformation': 0,\n",
        " \"fisher's exact test\": 2,\n",
        " \"fisher's inequality\": 0,\n",
        " \"fisher's linear discriminator\": 0,\n",
        " \"fisher's method\": 4,\n",
        " \"fisher's noncentral hypergeometric distribution\": 0,\n",
        " \"fisher's z-distribution\": 0,\n",
        " 'fisher\\xe2\\x80\\x93tippett distribution': 0,\n",
        " 'fisher\\xe2\\x80\\x93tippett\\xe2\\x80\\x93gnedenko theorem': 0,\n",
        " 'five-number summary': 0,\n",
        " 'fixed effects model': 2,\n",
        " 'flame clustering': 0,\n",
        " \"fleiss' kappa\": 0,\n",
        " 'fleming\\xe2\\x80\\x93viot process': 0,\n",
        " 'flood risk assessment': 0,\n",
        " 'floor effect': 0,\n",
        " 'fluctuation theorem': 2,\n",
        " 'fnn algorithm': 0,\n",
        " 'focused information criterion': 1,\n",
        " 'fokker\\xe2\\x80\\x93planck equation': 0,\n",
        " 'folded normal distribution': 0,\n",
        " 'fontaine\\xe2\\x80\\x93mazur conjecture': 0,\n",
        " 'forecast bias': 0,\n",
        " 'forecast error': 1,\n",
        " 'forecast skill': 0,\n",
        " 'forecasting': 72,\n",
        " 'forest plot': 0,\n",
        " 'fork-join queue': 0,\n",
        " 'formation matrix': 88,\n",
        " 'formulas for generating pythagorean triples': 0,\n",
        " 'forward measure': 3,\n",
        " \"foster's theorem\": 0,\n",
        " 'foundations of statistics': 2,\n",
        " 'founders of statistics': 0,\n",
        " 'fourier analysis': 25,\n",
        " 'fourier\\xe2\\x80\\x93motzkin elimination': 0,\n",
        " 'fourth power': 0,\n",
        " 'fowlkes\\xe2\\x80\\x93mallows index': 0,\n",
        " 'fraction of variance unexplained': 0,\n",
        " 'fractional brownian motion': 56,\n",
        " 'fractional factorial design': 16,\n",
        " 'free probability': 8,\n",
        " 'free statistical software': 0,\n",
        " \"freedman's paradox\": 1,\n",
        " 'freedman\\xe2\\x80\\x93diaconis rule': 0,\n",
        " 'freidlin\\xe2\\x80\\x93wentzell theorem': 0,\n",
        " 'frequency': 316,\n",
        " 'frequency (statistics)': 0,\n",
        " 'frequency distribution': 3,\n",
        " 'frequency domain': 41,\n",
        " 'frequency probability': 0,\n",
        " 'frequentist inference': 9,\n",
        " 'frey curve': 0,\n",
        " 'friedman test': 1,\n",
        " 'friendly number': 0,\n",
        " 'friendship paradox': 0,\n",
        " 'frisch\\xe2\\x80\\x93waugh\\xe2\\x80\\x93lovell theorem': 0,\n",
        " 'frobenioid': 0,\n",
        " 'fr\\xc3\\xa9chet distribution': 0,\n",
        " 'fr\\xc3\\xa9chet mean': 1,\n",
        " 'fueter\\xe2\\x80\\x93p\\xc3\\xb3lya theorem': 0,\n",
        " 'fully crossed design': 0,\n",
        " 'function approximation': 14,\n",
        " 'functional boxplot': 0,\n",
        " 'functional data analysis': 62,\n",
        " 'funnel plot': 0,\n",
        " 'fuzzy logic': 2,\n",
        " 'fuzzy measure theory': 0,\n",
        " 'fwl theorem': 0,\n",
        " 'g-network': 1,\n",
        " 'g-test': 0,\n",
        " 'g/g/1 queue': 0,\n",
        " 'galbraith plot': 0,\n",
        " 'gallagher index': 0,\n",
        " \"galton's problem\": 0,\n",
        " 'galton\\xe2\\x80\\x93watson process': 0,\n",
        " \"gambler's fallacy\": 1,\n",
        " \"gambler's ruin\": 0,\n",
        " 'gambling and information theory': 0,\n",
        " 'game of chance': 1,\n",
        " 'gamma distribution': 38,\n",
        " 'gamma process': 18,\n",
        " 'gamma test (statistics)': 0,\n",
        " 'gamma variate': 1,\n",
        " 'gauss (software)': 0,\n",
        " \"gauss's diary\": 0,\n",
        " \"gauss's inequality\": 0,\n",
        " 'gaussian function': 9,\n",
        " 'gaussian isoperimetric inequality': 0,\n",
        " 'gaussian matrix ensemble': 1,\n",
        " 'gaussian measure': 49,\n",
        " 'gaussian noise': 136,\n",
        " 'gaussian process': 236,\n",
        " 'gaussian process emulator': 2,\n",
        " 'gaussian q-distribution': 0,\n",
        " 'gaussian random field': 49,\n",
        " 'gauss\\xe2\\x80\\x93kuzmin distribution': 0,\n",
        " 'gauss\\xe2\\x80\\x93markov process': 0,\n",
        " 'gauss\\xe2\\x80\\x93markov theorem': 0,\n",
        " 'gauss\\xe2\\x80\\x93newton algorithm': 0,\n",
        " \"geary's c\": 0,\n",
        " 'geh statistic': 0,\n",
        " 'general linear model': 1,\n",
        " 'general matrix notation of a var(p)': 0,\n",
        " 'generalised hyperbolic distribution': 1,\n",
        " 'generalizability theory': 0,\n",
        " 'generalized additive model': 14,\n",
        " 'generalized additive model for location, scale and shape': 0,\n",
        " 'generalized beta distribution': 1,\n",
        " 'generalized canonical correlation': 0,\n",
        " 'generalized chi-squared distribution': 0,\n",
        " 'generalized dirichlet distribution': 0,\n",
        " 'generalized entropy index': 0,\n",
        " 'generalized estimating equation': 9,\n",
        " 'generalized expected utility': 0,\n",
        " 'generalized extreme value distribution': 7,\n",
        " 'generalized gamma distribution': 2,\n",
        " 'generalized gaussian distribution': 2,\n",
        " 'generalized inverse gaussian distribution': 0,\n",
        " 'generalized iterative scaling': 0,\n",
        " 'generalized least squares': 7,\n",
        " 'generalized linear array model': 0,\n",
        " 'generalized linear mixed model': 11,\n",
        " 'generalized linear model': 106,\n",
        " 'generalized logistic distribution': 0,\n",
        " 'generalized method of moments': 11,\n",
        " 'generalized multidimensional scaling': 0,\n",
        " 'generalized multivariate log-gamma distribution': 0,\n",
        " 'generalized normal distribution': 1,\n",
        " 'generalized p-value': 3,\n",
        " 'generalized pareto distribution': 22,\n",
        " 'generalized procrustes analysis': 0,\n",
        " 'generalized randomized block design': 0,\n",
        " 'generalized taxicab number': 0,\n",
        " 'generalized tobit': 0,\n",
        " 'generalized wiener process': 0,\n",
        " 'generative model': 22,\n",
        " 'genetic algorithm': 9,\n",
        " 'genetic algorithms in economics': 0,\n",
        " 'genetic epidemiology': 1,\n",
        " 'genetic improvement (computer science)': 0,\n",
        " 'genstat': 3,\n",
        " 'geo-imputation': 0,\n",
        " 'geodemographic segmentation': 0,\n",
        " 'geometric brownian motion': 7,\n",
        " 'geometric data analysis': 0,\n",
        " 'geometric distribution': 15,\n",
        " 'geometric median': 5,\n",
        " 'geometric probability': 3,\n",
        " 'geometric stable distribution': 0,\n",
        " 'geometric standard deviation': 0,\n",
        " 'geospatial predictive modeling': 0,\n",
        " 'geostatistics': 19,\n",
        " 'german tank problem': 0,\n",
        " 'gerschenkron effect': 0,\n",
        " 'gibbs sampling': 35,\n",
        " 'gibbs state': 1,\n",
        " 'gillespie algorithm': 0,\n",
        " \"gillies' conjecture\": 0,\n",
        " 'gini coefficient': 2,\n",
        " 'girsanov theorem': 2,\n",
        " 'gittins index': 0,\n",
        " 'glaisher\\xe2\\x80\\x93kinkelin constant': 0,\n",
        " 'glim (software)': 0,\n",
        " 'glivenko\\xe2\\x80\\x93cantelli theorem': 0,\n",
        " 'glowworm swarm optimization': 0,\n",
        " 'glue (uncertainty assessment)': 0,\n",
        " 'golden section search': 0,\n",
        " 'goldfeld\\xe2\\x80\\x93quandt test': 0,\n",
        " 'golomb ruler': 0,\n",
        " 'gompertz distribution': 1,\n",
        " 'gompertz function': 0,\n",
        " 'gompertz\\xe2\\x80\\x93makeham law of mortality': 0,\n",
        " \"goodhart's law\": 0,\n",
        " \"goodman and kruskal's gamma\": 0,\n",
        " \"goodman and kruskal's lambda\": 0,\n",
        " 'goodman\\xe2\\x80\\x93nguyen\\xe2\\x80\\x93van fraassen algebra': 0,\n",
        " 'goodness of fit': 34,\n",
        " 'good\\xe2\\x80\\x93turing frequency estimation': 0,\n",
        " 'gordon\\xe2\\x80\\x93newell network': 0,\n",
        " 'gordon\\xe2\\x80\\x93newell theorem': 0,\n",
        " 'gradient descent': 41,\n",
        " 'gradient method': 12,\n",
        " 'graduated optimization': 0,\n",
        " 'graeco-latin square': 0,\n",
        " 'grand mean': 3,\n",
        " 'granger causality': 9,\n",
        " 'granville number': 0,\n",
        " 'graph cuts in computer vision': 0,\n",
        " 'graphical model': 160,\n",
        " 'graphical models for protein structure': 0,\n",
        " 'graphpad instat': 0,\n",
        " 'graphpad prism': 0,\n",
        " 'gravity model of trade': 0,\n",
        " 'great deluge algorithm': 0,\n",
        " 'greedy algorithm': 23,\n",
        " 'greedy algorithm for egyptian fractions': 0,\n",
        " 'green measure': 0,\n",
        " 'greenwood statistic': 0,\n",
        " 'gretl': 0,\n",
        " 'grothendieck\\xe2\\x80\\x93katz p-curvature conjecture': 0,\n",
        " 'grothendieck\\xe2\\x80\\x93teichm\\xc3\\xbcller group': 0,\n",
        " 'group family': 1,\n",
        " 'group method of data handling': 0,\n",
        " 'group size measures': 0,\n",
        " 'grouped data': 7,\n",
        " \"grubbs' test for outliers\": 0,\n",
        " 'guess value': 0,\n",
        " 'guesstimate': 0,\n",
        " 'gumbel distribution': 15,\n",
        " 'guttman scale': 0,\n",
        " \"gy's sampling theory\": 0,\n",
        " 'h-derivative': 0,\n",
        " 'h-index': 0,\n",
        " \"hadwiger's theorem\": 1,\n",
        " 'half circle distribution': 0,\n",
        " 'half-logistic distribution': 0,\n",
        " 'half-normal distribution': 0,\n",
        " \"hall's conjecture\": 0,\n",
        " 'hall\\xe2\\x80\\x93higman theorem': 0,\n",
        " 'halton sequence': 0,\n",
        " 'hamburger moment problem': 0,\n",
        " 'hammersley\\xe2\\x80\\x93clifford theorem': 0,\n",
        " 'hann function': 0,\n",
        " 'hannan\\xe2\\x80\\x93quinn information criterion': 0,\n",
        " \"haran's diamond theorem\": 0,\n",
        " 'hardy\\xe2\\x80\\x93weinberg principle': 0,\n",
        " 'harmonic divisor number': 0,\n",
        " 'harmonic mean': 7,\n",
        " 'harmonic number': 0,\n",
        " 'harmony search': 0,\n",
        " 'harris chain': 0,\n",
        " \"hartley's test\": 0,\n",
        " 'hat matrix': 11,\n",
        " 'hausdorff moment problem': 0,\n",
        " 'hausman test': 0,\n",
        " 'haybittle\\xe2\\x80\\x93peto boundary': 0,\n",
        " 'hazard ratio': 4,\n",
        " 'health care analytics': 0,\n",
        " \"heaps' law\": 0,\n",
        " 'heart rate variability': 1,\n",
        " 'heavy-tailed distribution': 35,\n",
        " 'hecke character': 0,\n",
        " 'heckman correction': 0,\n",
        " 'hedonic regression': 0,\n",
        " 'height of a polynomial': 0,\n",
        " \"hellin's law\": 0,\n",
        " 'hellinger distance': 51,\n",
        " 'helly\\xe2\\x80\\x93bray theorem': 0,\n",
        " 'helmert\\xe2\\x80\\x93wolf blocking': 0,\n",
        " \"herdan's law\": 0,\n",
        " 'herfindahl index': 0,\n",
        " 'heston model': 6,\n",
        " 'heteroscedasticity': 32,\n",
        " 'heteroscedasticity-consistent standard errors': 0,\n",
        " 'hewitt\\xe2\\x80\\x93savage zero-one law': 0,\n",
        " 'hidden markov model': 65,\n",
        " 'hidden markov random field': 1,\n",
        " 'hidden semi-markov model': 1,\n",
        " 'hierarchical bayes model': 0,\n",
        " 'hierarchical clustering': 18,\n",
        " 'hierarchical hidden markov model': 0,\n",
        " 'hierarchical linear modeling': 0,\n",
        " 'high-dimensional statistics': 54,\n",
        " 'higher-order factor analysis': 0,\n",
        " 'higher-order statistics': 2,\n",
        " \"hilbert's inequality\": 0,\n",
        " 'hirschman uncertainty': 0,\n",
        " 'histogram': 78,\n",
        " 'historiometry': 0,\n",
        " 'history of probability': 0,\n",
        " 'history of randomness': 0,\n",
        " 'history of statistics': 2,\n",
        " 'history of the theory of numbers': 0,\n",
        " 'hitting time': 9,\n",
        " \"hodges' estimator\": 0,\n",
        " 'hodges\\xe2\\x80\\x93lehmann estimator': 0,\n",
        " 'hodge\\xe2\\x80\\x93arakelov theory': 0,\n",
        " 'hodge\\xe2\\x80\\x93tate module': 0,\n",
        " \"hoeffding's independence test\": 0,\n",
        " \"hoeffding's inequality\": 7,\n",
        " \"hoeffding's lemma\": 0,\n",
        " 'holm\\xe2\\x80\\x93bonferroni method': 0,\n",
        " 'holtsmark distribution': 0,\n",
        " 'homogeneity (statistics)': 0,\n",
        " 'homogenization (climate)': 0,\n",
        " 'homoscedasticity': 11,\n",
        " 'hoover index': 0,\n",
        " 'horvitz\\xe2\\x80\\x93thompson estimator': 0,\n",
        " 'hosmer\\xe2\\x80\\x93lemeshow test': 0,\n",
        " \"hotelling's t-squared distribution\": 0,\n",
        " 'how to lie with statistics': 0,\n",
        " 'howland will forgery trial': 0,\n",
        " 'hubbert curve': 0,\n",
        " 'huber loss function': 0,\n",
        " 'human subject research': 0,\n",
        " 'hunt process': 1,\n",
        " 'hurst exponent': 5,\n",
        " 'hurwitz class number': 0,\n",
        " 'hyper-exponential distribution': 0,\n",
        " 'hyper-graeco-latin square design': 0,\n",
        " 'hyperbolic distribution': 3,\n",
        " 'hyperbolic secant distribution': 0,\n",
        " 'hypergeometric distribution': 6,\n",
        " 'hyperharmonic number': 0,\n",
        " 'hyperparameter': 52,\n",
        " 'hyperprior': 6,\n",
        " 'hypoexponential distribution': 0,\n",
        " 'h\\xc3\\xa1jek\\xe2\\x80\\x93le cam convolution theorem': 0,\n",
        " \"h\\xc3\\xb6rmander's condition\": 0,\n",
        " 'ideal lattice cryptography': 0,\n",
        " 'ideal number': 1,\n",
        " 'idealised population': 0,\n",
        " 'idempotent matrix': 0,\n",
        " 'identifiability': 162,\n",
        " 'ignorability': 4,\n",
        " 'illustration of the central limit theorem': 0,\n",
        " 'image denoising': 8,\n",
        " 'imperialist competitive algorithm': 0,\n",
        " 'importance sampling': 40,\n",
        " 'impossible event': 0,\n",
        " 'imprecise probability': 3,\n",
        " 'impulse response': 13,\n",
        " 'imputation (statistics)': 0,\n",
        " 'incidence (epidemiology)': 0,\n",
        " 'inclusion probability': 2,\n",
        " 'inclusion-exclusion principle': 0,\n",
        " 'increasing process': 0,\n",
        " 'indecomposable distribution': 0,\n",
        " 'independence': 355,\n",
        " 'independence of irrelevant alternatives': 1,\n",
        " 'independent and identically distributed random variables': 33,\n",
        " 'independent and identically-distributed random variables': 0,\n",
        " 'independent component analysis': 12,\n",
        " 'index (economics)': 0,\n",
        " 'index number': 1,\n",
        " 'index of coincidence': 0,\n",
        " 'index of dispersion': 0,\n",
        " 'indicator function': 91,\n",
        " 'indicators of spatial association': 0,\n",
        " 'indirect least squares': 0,\n",
        " 'inductive inference': 2,\n",
        " 'inference': 1152,\n",
        " 'infinite divisibility': 7,\n",
        " 'infinite divisibility (probability)': 0,\n",
        " 'infinite monkey theorem': 0,\n",
        " 'infinitesimal generator': 10,\n",
        " 'influence diagram': 2,\n",
        " 'info-gap decision theory': 0,\n",
        " 'information bottleneck method': 0,\n",
        " 'information entropy': 3,\n",
        " 'information gain ratio': 0,\n",
        " 'information geometry': 23,\n",
        " 'information ratio': 0,\n",
        " 'information source': 4,\n",
        " 'information source (mathematics)': 0,\n",
        " 'information theory': 103,\n",
        " 'inherent bias': 0,\n",
        " 'inherent zero': 0,\n",
        " 'injury prevention': 0,\n",
        " 'innovation': 108,\n",
        " 'innovation (signal processing)': 0,\n",
        " 'innovations vector': 0,\n",
        " 'institutional review board': 0,\n",
        " 'instrumental variable': 39,\n",
        " 'integer square root': 0,\n",
        " 'integer-valued polynomial': 0,\n",
        " 'integral geometry': 5,\n",
        " 'integral representation theorem for classical wiener space': 0,\n",
        " 'integration by parts operator': 0,\n",
        " 'integration of the normal density function': 0,\n",
        " 'intelligent water drops algorithm': 0,\n",
        " 'intention to treat analysis': 0,\n",
        " 'inter-rater reliability': 0,\n",
        " 'inter-universal teichm\\xc3\\xbcller theory': 0,\n",
        " 'interacting particle system': 9,\n",
        " 'interaction (statistics)': 0,\n",
        " 'interclass correlation': 0,\n",
        " 'interdecile range': 0,\n",
        " 'interim analysis': 1,\n",
        " 'interior point method': 14,\n",
        " 'internal consistency': 2,\n",
        " 'internal validity': 0,\n",
        " 'interquartile mean': 0,\n",
        " 'interquartile range': 1,\n",
        " 'interval contractor': 0,\n",
        " 'interval estimation': 11,\n",
        " 'intervening variable': 0,\n",
        " 'intra-rater reliability': 0,\n",
        " 'intraclass correlation': 2,\n",
        " 'invariant estimator': 6,\n",
        " 'invariant extended kalman filter': 0,\n",
        " 'inverse distance weighting': 0,\n",
        " 'inverse distribution': 2,\n",
        " \"inverse gambler's fallacy\": 0,\n",
        " 'inverse gaussian distribution': 3,\n",
        " 'inverse matrix gamma distribution': 0,\n",
        " 'inverse mills ratio': 0,\n",
        " 'inverse probability': 16,\n",
        " 'inverse probability weighting': 8,\n",
        " 'inverse relationship': 0,\n",
        " 'inverse transform sampling': 2,\n",
        " 'inverse transform sampling method': 0,\n",
        " 'inverse-chi-squared distribution': 0,\n",
        " 'inverse-gamma distribution': 0,\n",
        " 'inverse-variance weighting': 0,\n",
        " 'inverse-wishart distribution': 1,\n",
        " 'ioso': 4,\n",
        " 'ipopt': 0,\n",
        " 'iris flower data set': 0,\n",
        " 'irrationality sequence': 0,\n",
        " 'irwin\\xe2\\x80\\x93hall distribution': 0,\n",
        " 'isomap': 7,\n",
        " 'isotonic regression': 18,\n",
        " 'isserlis gaussian moment theorem': 0,\n",
        " \"isserlis' theorem\": 1,\n",
        " 'item response theory': 1,\n",
        " 'item tree analysis': 0,\n",
        " 'item-total correlation': 0,\n",
        " 'iterative proportional fitting': 1,\n",
        " 'iteratively reweighted least squares': 1,\n",
        " 'it\\xc3\\xb4 calculus': 0,\n",
        " \"it\\xc3\\xb4's lemma\": 0,\n",
        " 'it\\xc5\\x8d calculus': 0,\n",
        " 'it\\xc5\\x8d diffusion': 0,\n",
        " 'it\\xc5\\x8d isometry': 0,\n",
        " \"it\\xc5\\x8d's lemma\": 0,\n",
        " 'iwasawa algebra': 0,\n",
        " 'jaccard index': 0,\n",
        " 'jackson network': 0,\n",
        " \"jackson's theorem (queueing theory)\": 0,\n",
        " 'jacobsthal sum': 0,\n",
        " 'jadad scale': 0,\n",
        " 'james\\xe2\\x80\\x93stein estimator': 0,\n",
        " 'jarque\\xe2\\x80\\x93bera test': 0,\n",
        " 'jeffreys prior': 19,\n",
        " \"jensen's inequality\": 8,\n",
        " 'jensen\\xe2\\x80\\x93shannon divergence': 0,\n",
        " 'jmp (statistical software)': 0,\n",
        " 'jmulti': 0,\n",
        " 'johansen test': 0,\n",
        " 'johnson su distribution': 0,\n",
        " 'joint probability distribution': 26,\n",
        " \"jonckheere's trend test\": 0,\n",
        " 'journal of number theory': 0,\n",
        " 'jump diffusion': 8,\n",
        " 'jump process': 39,\n",
        " 'jump-diffusion model': 3,\n",
        " 'junction tree algorithm': 0,\n",
        " 'k-distribution': 0,\n",
        " 'k-means clustering': 3,\n",
        " 'k-means++': 1,\n",
        " 'k-medians clustering': 0,\n",
        " 'k-medoids': 0,\n",
        " 'k-statistic': 0,\n",
        " 'kalman filter': 31,\n",
        " 'kantorovich theorem': 0,\n",
        " 'kaplan\\xe2\\x80\\x93meier estimator': 0,\n",
        " 'kappa coefficient': 0,\n",
        " 'kappa statistic': 0,\n",
        " 'karhunen\\xe2\\x80\\x93lo\\xc3\\xa8ve theorem': 0,\n",
        " \"karmarkar's algorithm\": 0,\n",
        " 'kelly criterion': 0,\n",
        " 'kendall tau distance': 0,\n",
        " 'kendall tau rank correlation coefficient': 0,\n",
        " \"kendall's notation\": 0,\n",
        " \"kendall's w\": 0,\n",
        " 'kent distribution': 1,\n",
        " 'kernel (statistics)': 0,\n",
        " 'kernel density estimation': 34,\n",
        " 'kernel fisher discriminant analysis': 0,\n",
        " 'kernel methods': 42,\n",
        " 'kernel principal component analysis': 2,\n",
        " 'kernel regression': 19,\n",
        " 'kernel smoother': 2,\n",
        " 'khintchine inequality': 1,\n",
        " 'khmaladze transformation': 0,\n",
        " 'killed process': 0,\n",
        " \"kingman's formula\": 0,\n",
        " 'kirkwood approximation': 0,\n",
        " 'kish grid': 0,\n",
        " 'kitchen sink regression': 0,\n",
        " \"klecka's tau\": 0,\n",
        " 'knightian uncertainty': 1,\n",
        " 'kn\\xc3\\xb6del number': 0,\n",
        " 'kolmogorov backward equation': 0,\n",
        " 'kolmogorov continuity theorem': 0,\n",
        " 'kolmogorov extension theorem': 1,\n",
        " \"kolmogorov's criterion\": 1,\n",
        " \"kolmogorov's generalized criterion\": 0,\n",
        " \"kolmogorov's inequality\": 0,\n",
        " \"kolmogorov's zero-one law\": 0,\n",
        " \"kolmogorov's zero\\xe2\\x80\\x93one law\": 0,\n",
        " 'kolmogorov\\xe2\\x80\\x93smirnov test': 0,\n",
        " 'kolmogorov\\xe2\\x80\\x99s criterion': 0,\n",
        " 'kolmogorov\\xe2\\x80\\x99s generalized criterion': 0,\n",
        " 'kpss test': 1,\n",
        " 'kriging': 34,\n",
        " 'kruskal\\xe2\\x80\\x93wallis one-way analysis of variance': 0,\n",
        " 'krylov\\xe2\\x80\\x93bogolyubov theorem': 0,\n",
        " 'kuder\\xe2\\x80\\x93richardson formula 20': 0,\n",
        " \"kuiper's test\": 0,\n",
        " \"kullback's inequality\": 0,\n",
        " 'kullback\\xe2\\x80\\x93leibler divergence': 0,\n",
        " 'kumaraswamy distribution': 1,\n",
        " 'kurtosis': 34,\n",
        " 'kushner equation': 0,\n",
        " 'l-estimator': 2,\n",
        " 'l-moment': 2,\n",
        " 'laboratory quality control': 0,\n",
        " 'labour force survey': 0,\n",
        " 'lack-of-fit sum of squares': 1,\n",
        " 'lady tasting tea': 1,\n",
        " 'lag operator': 5,\n",
        " 'lag windowing': 0,\n",
        " 'lambda distribution': 0,\n",
        " 'landau distribution': 0,\n",
        " 'lander\\xe2\\x80\\x93green algorithm': 0,\n",
        " 'language model': 1,\n",
        " 'laplace distribution': 10,\n",
        " 'laplace principle': 0,\n",
        " 'laplace principle (large deviations theory)': 0,\n",
        " 'laplacesdemon': 0,\n",
        " 'large deviations of gaussian random functions': 0,\n",
        " 'large deviations theory': 2,\n",
        " 'las vegas algorithm': 0,\n",
        " 'latent class model': 9,\n",
        " 'latent dirichlet allocation': 2,\n",
        " 'latent growth modeling': 0,\n",
        " 'latent semantic analysis': 0,\n",
        " 'latent variable model': 40,\n",
        " 'latin hypercube sampling': 2,\n",
        " 'latin rectangle': 0,\n",
        " 'latin square': 5,\n",
        " 'lattice model': 1,\n",
        " 'law (stochastic processes)': 0,\n",
        " 'law of averages': 0,\n",
        " 'law of comparative judgment': 0,\n",
        " 'law of large numbers': 71,\n",
        " 'law of the iterated logarithm': 9,\n",
        " 'law of the unconscious statistician': 0,\n",
        " 'law of total covariance': 0,\n",
        " 'law of total cumulance': 0,\n",
        " 'law of total expectation': 0,\n",
        " 'law of total probability': 0,\n",
        " 'law of total variance': 0,\n",
        " 'law of truly large numbers': 0,\n",
        " 'layered hidden markov model': 0,\n",
        " \"le cam's theorem\": 0,\n",
        " 'lead time bias': 0,\n",
        " 'learning theory (statistics)': 0,\n",
        " 'least absolute deviations': 7,\n",
        " 'least squares': 288,\n",
        " 'least squares support vector machine': 0,\n",
        " 'least trimmed squares': 4,\n",
        " 'least-angle regression': 1,\n",
        " 'least-squares spectral analysis': 0,\n",
        " 'leftover hash-lemma': 0,\n",
        " 'legendre relation': 0,\n",
        " 'lehmann\\xe2\\x80\\x93scheff\\xc3\\xa9 theorem': 0,\n",
        " \"lemke's algorithm\": 0,\n",
        " 'length time bias': 0,\n",
        " 'level of analysis': 0,\n",
        " 'level of measurement': 0,\n",
        " 'levenberg\\xe2\\x80\\x93marquardt algorithm': 0,\n",
        " \"levene's test\": 0,\n",
        " 'leverage (statistics)': 0,\n",
        " \"lewontin's fallacy\": 0,\n",
        " 'lexis diagram': 0,\n",
        " 'lexis ratio': 0,\n",
        " 'lies, damned lies, and statistics': 0,\n",
        " 'life expectancy': 0,\n",
        " 'life table': 1,\n",
        " 'lift (data mining)': 0,\n",
        " 'likelihood function': 186,\n",
        " 'likelihood principle': 12,\n",
        " 'likelihood ratios in diagnostic testing': 0,\n",
        " 'likelihood-ratio test': 2,\n",
        " 'likert scale': 1,\n",
        " 'lilliefors test': 0,\n",
        " 'limited dependent variable': 0,\n",
        " 'limited-memory bfgs': 0,\n",
        " 'limiting density of discrete points': 0,\n",
        " 'lincoa': 0,\n",
        " 'lincoln index': 0,\n",
        " \"lindeberg's condition\": 1,\n",
        " 'lindley equation': 0,\n",
        " \"lindley's paradox\": 3,\n",
        " 'line chart': 0,\n",
        " 'line search': 1,\n",
        " 'line-intercept sampling': 0,\n",
        " 'linear classifier': 7,\n",
        " 'linear discriminant analysis': 26,\n",
        " 'linear least squares (disambiguation)': 0,\n",
        " 'linear least squares (mathematics)': 0,\n",
        " 'linear model': 405,\n",
        " 'linear prediction': 10,\n",
        " 'linear probability model': 0,\n",
        " 'linear regression': 394,\n",
        " 'linguistic demography': 0,\n",
        " 'lisrel': 1,\n",
        " 'list of convolutions of probability distributions': 0,\n",
        " 'list of graphical methods': 0,\n",
        " 'list of information graphics software': 0,\n",
        " 'list of mathematical functions': 0,\n",
        " 'list of mathematical probabilists': 0,\n",
        " 'list of number theory topics': 0,\n",
        " 'list of probability topics': 0,\n",
        " 'list of random number generators': 0,\n",
        " 'list of recreational number theory topics': 0,\n",
        " 'list of scientific journals in statistics': 0,\n",
        " 'list of statistical packages': 0,\n",
        " 'list of statisticians': 0,\n",
        " 'list of types of functions': 0,\n",
        " 'listwise deletion': 0,\n",
        " \"little's law\": 0,\n",
        " \"littlewood's law\": 0,\n",
        " 'littlewood\\xe2\\x80\\x93offord problem': 0,\n",
        " 'ljung\\xe2\\x80\\x93box test': 0,\n",
        " 'local analysis': 5,\n",
        " 'local asymptotic normality': 38,\n",
        " 'local convergence': 4,\n",
        " 'local convex hull': 0,\n",
        " 'local independence': 3,\n",
        " 'local martingale': 9,\n",
        " 'local regression': 5,\n",
        " 'local search (optimization)': 0,\n",
        " 'local time': 11,\n",
        " 'locality': 6,\n",
        " 'locality (statistics)': 0,\n",
        " 'location estimation in sensor networks': 0,\n",
        " 'location parameter': 57,\n",
        " 'location test': 3,\n",
        " 'location testing for gaussian scale mixture distributions': 0,\n",
        " 'location-scale family': 2,\n",
        " 'log-cauchy distribution': 0,\n",
        " 'log-laplace distribution': 0,\n",
        " 'log-linear analysis': 0,\n",
        " 'log-linear model': 21,\n",
        " 'log-log plot': 0,\n",
        " 'log-logistic distribution': 0,\n",
        " 'log-normal distribution': 8,\n",
        " 'logarithmic distribution': 2,\n",
        " 'logarithmic mean': 1,\n",
        " 'logistic distribution': 4,\n",
        " 'logistic function': 5,\n",
        " 'logistic regression': 70,\n",
        " 'logit': 26,\n",
        " 'logit analysis in marketing': 0,\n",
        " 'logit-normal distribution': 0,\n",
        " 'logmoment generating function': 0,\n",
        " 'logrank test': 0,\n",
        " 'lomax distribution': 0,\n",
        " 'lonely runner conjecture': 0,\n",
        " 'long tail': 4,\n",
        " 'long-range dependency': 1,\n",
        " 'long-tail traffic': 0,\n",
        " 'longitudinal study': 4,\n",
        " 'longstaff\\xe2\\x80\\x93schwartz model': 0,\n",
        " 'loop-erased random walk': 0,\n",
        " 'lorenz curve': 2,\n",
        " 'loss function': 202,\n",
        " 'lot quality assurance sampling': 0,\n",
        " \"lotka's law\": 0,\n",
        " 'lottery': 0,\n",
        " 'lottery machine': 0,\n",
        " 'lov\\xc3\\xa1sz local lemma': 0,\n",
        " 'low birth weight paradox': 0,\n",
        " 'luby transform code': 0,\n",
        " \"luce's choice axiom\": 0,\n",
        " 'lucia de berk': 0,\n",
        " 'luck': 13,\n",
        " \"lukacs's proportion-sum independence theorem\": 0,\n",
        " 'lumpability': 0,\n",
        " \"lusser's law\": 0,\n",
        " \"lyapunov's central limit theorem\": 0,\n",
        " 'lychrel number': 0,\n",
        " 'l\\xc3\\xa9vy arcsine law': 0,\n",
        " 'l\\xc3\\xa9vy distribution': 0,\n",
        " 'l\\xc3\\xa9vy flight': 0,\n",
        " 'l\\xc3\\xa9vy metric': 0,\n",
        " 'l\\xc3\\xa9vy process': 3,\n",
        " \"l\\xc3\\xa9vy's continuity theorem\": 0,\n",
        " \"l\\xc3\\xa9vy's convergence theorem\": 0,\n",
        " \"l\\xc3\\xa9vy's modulus of continuity theorem\": 0,\n",
        " 'l\\xc3\\xa9vy\\xe2\\x80\\x93prokhorov metric': 0,\n",
        " 'm-estimator': 59,\n",
        " 'm-separation': 2,\n",
        " 'm/d/1 queue': 0,\n",
        " 'm/g/1 queue': 1,\n",
        " 'm/m/1 model': 0,\n",
        " 'm/m/1 queue': 0,\n",
        " 'm/m/c model': 0,\n",
        " 'm/m/c queue': 0,\n",
        " 'mabinogion sheep problem': 0,\n",
        " 'machine learning': 252,\n",
        " 'mahalanobis distance': 14,\n",
        " 'main effect': 18,\n",
        " 'malliavin calculus': 8,\n",
        " 'malliavin derivative': 0,\n",
        " \"malliavin's absolute continuity lemma\": 0,\n",
        " 'mancova': 0,\n",
        " 'manhattan plot': 0,\n",
        " 'manin conjecture': 0,\n",
        " 'mann\\xe2\\x80\\x93whitney u': 0,\n",
        " 'manova': 14,\n",
        " 'mantel test': 0,\n",
        " 'marchenko\\xe2\\x80\\x93pastur distribution': 0,\n",
        " 'marcinkiewicz\\xe2\\x80\\x93zygmund inequality': 0,\n",
        " 'marcum q-function': 0,\n",
        " 'margin of error': 1,\n",
        " 'marginal distribution': 186,\n",
        " 'marginal likelihood': 45,\n",
        " 'marginal model': 12,\n",
        " 'mark and recapture': 0,\n",
        " 'mark v shaney': 0,\n",
        " 'market risk': 3,\n",
        " 'markov additive process': 1,\n",
        " 'markov blanket': 0,\n",
        " 'markov chain': 309,\n",
        " 'markov chain geostatistics': 0,\n",
        " 'markov chain mixing time': 1,\n",
        " 'markov chain monte carlo': 149,\n",
        " 'markov decision process': 2,\n",
        " 'markov information source': 0,\n",
        " 'markov kernel': 25,\n",
        " 'markov logic network': 0,\n",
        " 'markov model': 108,\n",
        " 'markov network': 5,\n",
        " 'markov process': 104,\n",
        " 'markov property': 32,\n",
        " 'markov random field': 40,\n",
        " 'markov renewal process': 2,\n",
        " 'markov switching multifractal': 0,\n",
        " \"markov's inequality\": 4,\n",
        " 'markovian arrival processes': 0,\n",
        " 'marsaglia polar method': 0,\n",
        " 'martingale': 176,\n",
        " 'martingale (probability theory)': 0,\n",
        " 'martingale central limit theorem': 4,\n",
        " 'martingale difference sequence': 10,\n",
        " 'martingale representation theorem': 1,\n",
        " 'master equation': 2,\n",
        " 'matched filter': 8,\n",
        " 'matching (statistics)': 0,\n",
        " 'matching pursuit': 22,\n",
        " 'mathematica': 812,\n",
        " 'mathematical biology': 8,\n",
        " 'mathematical modelling in epidemiology': 0,\n",
        " 'mathematical modelling of infectious disease': 0,\n",
        " 'mathematical statistics': 65,\n",
        " 'mathematics of bookmaking': 0,\n",
        " 'matrix chain multiplication': 0,\n",
        " 'matrix gamma distribution': 1,\n",
        " 'matrix normal distribution': 3,\n",
        " 'matrix population models': 0,\n",
        " 'matrix t-distribution': 0,\n",
        " 'matthews correlation coefficient': 0,\n",
        " 'mat\\xc3\\xa9rn covariance function': 0,\n",
        " \"mauchly's sphericity test\": 0,\n",
        " 'maximal ergodic theorem': 0,\n",
        " 'maximal information coefficient': 4,\n",
        " 'maximum a posteriori estimation': 3,\n",
        " 'maximum entropy probability distribution': 2,\n",
        " 'maximum entropy spectral estimation': 0,\n",
        " 'maximum likelihood': 608,\n",
        " 'maximum likelihood sequence estimation': 0,\n",
        " 'maximum parsimony': 0,\n",
        " 'maximum spacing estimation': 1,\n",
        " 'maximum subarray problem': 0,\n",
        " 'maximum-entropy markov model': 0,\n",
        " 'maxwell speed distribution': 0,\n",
        " \"maxwell's theorem\": 0,\n",
        " 'maxwell\\xe2\\x80\\x93boltzmann distribution': 0,\n",
        " 'maxwell\\xe2\\x80\\x93boltzmann statistics': 0,\n",
        " 'mcar': 8,\n",
        " \"mccullagh's parametrization of the cauchy distributions\": 0,\n",
        " \"mcdiarmid's inequality\": 4,\n",
        " 'mcdonald\\xe2\\x80\\x93kreitman test': 0,\n",
        " \"mckay's approximation for the coefficient of variation\": 0,\n",
        " \"mcnemar's test\": 0,\n",
        " 'mcs algorithm': 0,\n",
        " \"meadow's law\": 0,\n",
        " 'mean': 2148,\n",
        " 'mean absolute error': 1,\n",
        " 'mean absolute percentage error': 0,\n",
        " 'mean absolute scaled error': 0,\n",
        " 'mean and predicted response': 0,\n",
        " 'mean deviation': 2,\n",
        " 'mean difference': 13,\n",
        " 'mean integrated squared error': 15,\n",
        " 'mean of circular quantities': 0,\n",
        " 'mean percentage error': 0,\n",
        " 'mean preserving spread': 0,\n",
        " 'mean reciprocal rank': 0,\n",
        " 'mean signed difference': 0,\n",
        " 'mean square quantization error': 0,\n",
        " 'mean square weighted deviation': 0,\n",
        " 'mean squared error': 91,\n",
        " 'mean squared prediction error': 10,\n",
        " 'mean time between failures': 0,\n",
        " 'mean value analysis': 0,\n",
        " 'measurement invariance': 0,\n",
        " 'medcalc': 0,\n",
        " 'median': 126,\n",
        " 'median absolute deviation': 4,\n",
        " 'median polish': 0,\n",
        " 'median test': 1,\n",
        " 'mediation (statistics)': 0,\n",
        " 'medical statistics': 4,\n",
        " 'medoid': 0,\n",
        " 'mehrotra predictor\\xe2\\x80\\x93corrector method': 0,\n",
        " 'memorylessness': 1,\n",
        " 'mendelian randomization': 0,\n",
        " 'meta-analysis': 14,\n",
        " 'meta-optimization': 0,\n",
        " 'meta-regression': 0,\n",
        " 'method of moments': 49,\n",
        " 'method of moments (statistics)': 0,\n",
        " 'method of simulated moments': 0,\n",
        " 'method of support': 0,\n",
        " 'metropolis algorithm': 14,\n",
        " 'metropolis\\xe2\\x80\\x93hastings algorithm': 0,\n",
        " 'mexican paradox': 0,\n",
        " 'microdata (statistics)': 0,\n",
        " 'mid-range': 1,\n",
        " 'midhinge': 0,\n",
        " 'milstein method': 0,\n",
        " 'minhash': 0,\n",
        " 'minimax': 489,\n",
        " 'minimax estimator': 19,\n",
        " 'minimisation (clinical trials)': 0,\n",
        " 'minimum chi-square estimation': 0,\n",
        " 'minimum distance estimation': 2,\n",
        " 'minimum mean square error': 7,\n",
        " 'minimum viable population': 0,\n",
        " 'minimum-variance unbiased estimator': 1,\n",
        " 'minitab': 0,\n",
        " \"minlos' theorem\": 0,\n",
        " 'minque': 0,\n",
        " \"mirimanoff's congruence\": 0,\n",
        " 'misleading graph': 0,\n",
        " 'missing completely at random': 3,\n",
        " 'missing data': 54,\n",
        " 'misuse of statistics': 0,\n",
        " 'mittag\\xe2\\x80\\x93leffler distribution': 0,\n",
        " 'mixed data sampling': 1,\n",
        " 'mixed logit': 0,\n",
        " 'mixed model': 31,\n",
        " 'mixed-design analysis of variance': 0,\n",
        " 'mixing': 259,\n",
        " 'mixing (mathematics)': 0,\n",
        " 'mixture (probability)': 0,\n",
        " 'mixture distribution': 30,\n",
        " 'mixture model': 175,\n",
        " 'mlwin': 0,\n",
        " 'mm algorithm': 1,\n",
        " 'mode (statistics)': 0,\n",
        " 'model output statistics': 0,\n",
        " 'model selection': 328,\n",
        " 'moderation (statistics)': 0,\n",
        " 'modifiable areal unit problem': 0,\n",
        " 'moffat distribution': 0,\n",
        " 'moment': 682,\n",
        " 'moment (mathematics)': 0,\n",
        " 'moment problem': 6,\n",
        " 'moment-generating function': 4,\n",
        " 'monotone likelihood ratio': 4,\n",
        " 'monte carlo integration': 6,\n",
        " 'monte carlo method': 86,\n",
        " 'monte carlo method for photon transport': 0,\n",
        " 'monte carlo methods for option pricing': 0,\n",
        " 'monte carlo methods in finance': 0,\n",
        " 'monte carlo molecular modeling': 0,\n",
        " 'monty hall problem': 0,\n",
        " 'moral graph': 1,\n",
        " 'moran process': 0,\n",
        " \"morisita's overlap index\": 0,\n",
        " 'morris method': 3,\n",
        " 'mortality rate': 0,\n",
        " 'most probable number': 0,\n",
        " 'moving average': 69,\n",
        " 'moving average model': 10,\n",
        " 'moving least squares': 0,\n",
        " 'moving-average model': 2,\n",
        " 'multi-armed bandit': 11,\n",
        " 'multi-vari chart': 0,\n",
        " 'multiclass classification': 2,\n",
        " 'multicollinearity': 6,\n",
        " 'multidimensional analysis': 0,\n",
        " \"multidimensional chebyshev's inequality\": 0,\n",
        " 'multidimensional panel data': 0,\n",
        " 'multidimensional scaling': 6,\n",
        " 'multifactor design of experiments software': 0,\n",
        " 'multifactor dimensionality reduction': 0,\n",
        " 'multilevel model': 0,\n",
        " 'multilinear principal component analysis': 0,\n",
        " 'multilinear principal-component analysis': 0,\n",
        " 'multinomial distribution': 28,\n",
        " 'multinomial logistic regression': 3,\n",
        " 'multinomial probit': 1,\n",
        " 'multinomial test': 0,\n",
        " 'multipartition': 0,\n",
        " 'multiple baseline design': 0,\n",
        " 'multiple comparisons': 18,\n",
        " 'multiple correlation': 0,\n",
        " 'multiple correspondence analysis': 1,\n",
        " 'multiple discriminant analysis': 0,\n",
        " 'multiple indicator cluster survey': 0,\n",
        " 'multiple of the median': 0,\n",
        " 'multiple-indicator kriging': 0,\n",
        " 'multiple-try metropolis': 1,\n",
        " 'multiplicative digital root': 0,\n",
        " 'multiplicative partition': 0,\n",
        " 'multiresolution analysis': 5,\n",
        " 'multiscale decision making': 0,\n",
        " 'multiscale geometric analysis': 1,\n",
        " 'multistage sampling': 1,\n",
        " 'multistage testing': 0,\n",
        " 'multitaper': 1,\n",
        " 'multitrait-multimethod matrix': 0,\n",
        " 'multivariate adaptive regression splines': 0,\n",
        " 'multivariate analysis': 61,\n",
        " 'multivariate analysis of variance': 9,\n",
        " 'multivariate kernel density estimation': 0,\n",
        " 'multivariate normal distribution': 71,\n",
        " 'multivariate pareto distribution': 0,\n",
        " 'multivariate probit model': 1,\n",
        " 'multivariate p\\xc3\\xb3lya distribution': 0,\n",
        " 'multivariate random variable': 6,\n",
        " 'multivariate stable distribution': 1,\n",
        " 'multivariate statistics': 30,\n",
        " 'multivariate t-distribution': 1,\n",
        " 'mutual information': 58,\n",
        " 'mutually exclusive': 11,\n",
        " 'n conjecture': 18,\n",
        " 'n of 1 trial': 0,\n",
        " 'naive bayes classifier': 2,\n",
        " 'nakagami distribution': 0,\n",
        " 'nash\\xe2\\x80\\x93sutcliffe model efficiency coefficient': 0,\n",
        " 'national and international statistical services': 0,\n",
        " 'national health interview survey': 0,\n",
        " 'natural density': 1,\n",
        " 'natural evolution strategy': 0,\n",
        " 'natural experiment': 0,\n",
        " 'natural exponential family': 7,\n",
        " 'natural filtration': 8,\n",
        " 'natural number': 18,\n",
        " 'natural process variation': 0,\n",
        " 'ncss (statistical software)': 0,\n",
        " 'nearest-neighbor chain algorithm': 0,\n",
        " 'necktie paradox': 0,\n",
        " 'negamax': 0,\n",
        " 'negative binomial distribution': 10,\n",
        " 'negative multinomial distribution': 0,\n",
        " 'negative predictive value': 0,\n",
        " 'negative probability': 1,\n",
        " 'negative relationship': 0,\n",
        " 'negentropy': 1,\n",
        " 'neighbor joining': 0,\n",
        " 'neighbourhood components analysis': 0,\n",
        " 'nelder\\xe2\\x80\\x93mead method': 0,\n",
        " 'nelson rules': 0,\n",
        " 'nelson\\xe2\\x80\\x93aalen estimator': 0,\n",
        " 'nemenyi test': 0,\n",
        " 'nested case-control study': 0,\n",
        " 'nested sampling algorithm': 0,\n",
        " 'network probability matrix': 0,\n",
        " 'network simplex algorithm': 0,\n",
        " 'neural network': 33,\n",
        " 'neutral vector': 0,\n",
        " 'newcastle\\xe2\\x80\\x93ottawa scale': 0,\n",
        " 'newey\\xe2\\x80\\x93west estimator': 0,\n",
        " 'newman\\xe2\\x80\\x93keuls method': 0,\n",
        " \"newton's method\": 4,\n",
        " \"newton's method in optimization\": 0,\n",
        " 'newton\\xe2\\x80\\x93pepys problem': 0,\n",
        " 'newuoa': 1,\n",
        " 'next page': 1,\n",
        " 'neyer d-optimal test': 0,\n",
        " 'neyman construction': 0,\n",
        " 'neyman\\xe2\\x80\\x93pearson lemma': 0,\n",
        " 'nicholson\\xe2\\x80\\x93bailey model': 0,\n",
        " \"niven's constant\": 0,\n",
        " 'nominal category': 0,\n",
        " 'non-homogeneous poisson process': 2,\n",
        " 'non-linear iterative partial least squares': 0,\n",
        " 'non-linear least squares': 4,\n",
        " 'non-negative matrix factorization': 3,\n",
        " 'non-parametric statistics': 14,\n",
        " 'non-response bias': 0,\n",
        " 'non-sampling error': 0,\n",
        " 'noncentral beta distribution': 0,\n",
        " 'noncentral chi distribution': 0,\n",
        " 'noncentral chi-squared distribution': 0,\n",
        " 'noncentral f-distribution': 0,\n",
        " 'noncentral hypergeometric distributions': 0,\n",
        " 'noncentral t-distribution': 0,\n",
        " 'noncentrality parameter': 3,\n",
        " 'noncommutative unique factorization domain': 0,\n",
        " 'nonextensive entropy': 0,\n",
        " 'nonlinear autoregressive exogenous model': 0,\n",
        " 'nonlinear conjugate gradient method': 0,\n",
        " 'nonlinear dimensionality reduction': 3,\n",
        " 'nonlinear regression': 25,\n",
        " 'nonparametric regression': 160,\n",
        " 'nonparametric skew': 0,\n",
        " 'nonprobability sampling': 0,\n",
        " 'nontransitive dice': 0,\n",
        " 'normal curve equivalent': 0,\n",
        " 'normal distribution': 270,\n",
        " 'normal number': 0,\n",
        " 'normal variance-mean mixture': 0,\n",
        " 'normal-exponential-gamma distribution': 0,\n",
        " 'normal-gamma distribution': 1,\n",
        " 'normal-inverse gaussian distribution': 0,\n",
        " 'normal-scaled inverse gamma distribution': 0,\n",
        " 'normality test': 4,\n",
        " 'normalization (statistics)': 0,\n",
        " 'normalizing constant': 62,\n",
        " 'normally distributed and uncorrelated does not imply independent': 0,\n",
        " 'notation in probability and statistics': 0,\n",
        " \"novikov's condition\": 0,\n",
        " 'np-chart': 0,\n",
        " 'nuisance parameter': 109,\n",
        " 'nuisance variable': 1,\n",
        " 'null distribution': 73,\n",
        " 'null hypothesis': 260,\n",
        " 'null result': 1,\n",
        " 'number theory': 5,\n",
        " 'number theory foundation': 0,\n",
        " 'numerical data': 4,\n",
        " 'numerical methods for linear least squares': 0,\n",
        " 'numerical semigroup': 0,\n",
        " 'numerical smoothing and differentiation': 0,\n",
        " 'numxl': 0,\n",
        " 'nuremberg code': 0,\n",
        " 'n\\xc3\\xa9ron model': 0,\n",
        " 'n\\xc3\\xa9ron\\xe2\\x80\\x93tate height': 0,\n",
        " 'observable variable': 13,\n",
        " 'observational equivalence': 0,\n",
        " 'observational error': 5,\n",
        " 'observational study': 8,\n",
        " 'observed information': 5,\n",
        " 'occupancy frequency distribution': 0,\n",
        " 'odds': 41,\n",
        " 'odds algorithm': 0,\n",
        " 'odds ratio': 16,\n",
        " 'official statistics': 4,\n",
        " 'ogden tables': 0,\n",
        " 'ogive': 0,\n",
        " 'omitted-variable bias': 0,\n",
        " 'omnibus test': 8,\n",
        " 'one- and two-tailed tests': 0,\n",
        " 'one-class classification': 0,\n",
        " 'one-factor-at-a-time method': 0,\n",
        " 'one-way analysis of variance': 0,\n",
        " 'online nmf': 0,\n",
        " 'op (statistics)': 0,\n",
        " 'open-label trial': 0,\n",
        " 'openbugs': 0,\n",
        " 'openepi': 0,\n",
        " 'operational confound': 0,\n",
        " 'operational sex ratio': 0,\n",
        " 'operations research': 65,\n",
        " 'opinion poll': 0,\n",
        " 'optimal decision': 9,\n",
        " 'optimal design': 48,\n",
        " 'optimal discriminant analysis': 0,\n",
        " 'optimal matching': 0,\n",
        " 'optimal stopping': 13,\n",
        " 'optimality criterion': 25,\n",
        " 'optimistic knowledge gradient': 0,\n",
        " 'optional stopping theorem': 2,\n",
        " 'order of a kernel': 0,\n",
        " 'order of integration': 2,\n",
        " 'order statistic': 109,\n",
        " 'ordered logit': 1,\n",
        " 'ordered probit': 0,\n",
        " 'ordered subset expectation maximization': 0,\n",
        " 'ordinal regression': 2,\n",
        " 'ordinary least squares': 47,\n",
        " 'ordination (statistics)': 0,\n",
        " 'ornstein\\xe2\\x80\\x93uhlenbeck operator': 0,\n",
        " 'ornstein\\xe2\\x80\\x93uhlenbeck process': 0,\n",
        " 'orthogonal array testing': 0,\n",
        " 'orthogonality': 30,\n",
        " 'orthogonality principle': 0,\n",
        " 'oscillator linewidth': 0,\n",
        " 'outlier': 147,\n",
        " 'outliers ratio': 0,\n",
        " 'outline of probability': 0,\n",
        " 'outline of regression analysis': 0,\n",
        " 'outline of statistics': 0,\n",
        " 'outlines': 23,\n",
        " 'overdispersion': 3,\n",
        " 'overfitting': 38,\n",
        " \"owen's t function\": 0,\n",
        " 'oxmetrics': 0,\n",
        " 'p-adic analysis': 0,\n",
        " 'p-adic distribution': 0,\n",
        " 'p-adic gamma function': 0,\n",
        " 'p-adic number': 0,\n",
        " 'p-adic teichm\\xc3\\xbcller theory': 0,\n",
        " 'p-chart': 0,\n",
        " 'p-rep': 1,\n",
        " 'p-value': 56,\n",
        " 'pachinko': 0,\n",
        " \"page's trend test\": 0,\n",
        " 'paid survey': 0,\n",
        " 'paired comparison analysis': 0,\n",
        " 'paired difference test': 0,\n",
        " 'pairwise comparison': 11,\n",
        " 'pairwise independence': 3,\n",
        " 'paley graph': 0,\n",
        " 'paley\\xe2\\x80\\x93wiener integral': 0,\n",
        " 'paley\\xe2\\x80\\x93zygmund inequality': 0,\n",
        " 'panel analysis': 0,\n",
        " 'panel data': 27,\n",
        " 'panjer recursion': 2,\n",
        " 'parabolic fractal distribution': 0,\n",
        " 'paradigm (experimental)': 0,\n",
        " 'parafac': 5,\n",
        " 'parallel coordinates': 0,\n",
        " 'parallel metaheuristic': 0,\n",
        " 'parameter identification problem': 1,\n",
        " 'parameter space': 217,\n",
        " 'parametric family': 71,\n",
        " 'parametric model': 305,\n",
        " 'parametric statistics': 58,\n",
        " 'pareto analysis': 1,\n",
        " 'pareto chart': 0,\n",
        " 'pareto distribution': 42,\n",
        " 'pareto index': 2,\n",
        " 'pareto interpolation': 0,\n",
        " 'pareto principle': 1,\n",
        " 'parimutuel betting': 0,\n",
        " 'park test': 0,\n",
        " \"parrondo's paradox\": 0,\n",
        " 'partial autocorrelation function': 0,\n",
        " 'partial correlation': 22,\n",
        " 'partial least squares': 14,\n",
        " 'partial least squares regression': 2,\n",
        " 'partial leverage': 0,\n",
        " 'partial regression plot': 0,\n",
        " 'partial residual plot': 0,\n",
        " 'partially observable markov decision process': 0,\n",
        " 'particle filter': 28,\n",
        " 'particle swarm optimization': 2,\n",
        " 'partition (number theory)': 0,\n",
        " 'partition function': 22,\n",
        " 'partition of sums of squares': 0,\n",
        " 'parzen window': 1,\n",
        " \"pascal's wager\": 0,\n",
        " 'path analysis (statistics)': 0,\n",
        " 'path coefficient': 0,\n",
        " 'path space': 5,\n",
        " 'pattern recognition': 42,\n",
        " 'pattern search (optimization)': 0,\n",
        " 'pearson distribution': 2,\n",
        " 'pearson product-moment correlation coefficient': 0,\n",
        " 'pedometric mapping': 0,\n",
        " \"peirce's criterion\": 0,\n",
        " 'penalty method': 1,\n",
        " 'pensim2': 0,\n",
        " 'people v. collins': 0,\n",
        " 'per capita': 4,\n",
        " 'per-comparison error rate': 0,\n",
        " 'per-protocol analysis': 0,\n",
        " 'percentage point': 5,\n",
        " 'percentile': 21,\n",
        " 'percentile rank': 1,\n",
        " 'percolation theory': 2,\n",
        " 'percolation threshold': 0,\n",
        " 'perfect digit-to-digit invariant': 0,\n",
        " 'perfect power': 0,\n",
        " 'periodogram': 37,\n",
        " 'pernicious number': 0,\n",
        " 'persistence of a number': 0,\n",
        " 'pharmaceutical statistics': 0,\n",
        " 'phase dispersion minimization': 0,\n",
        " 'phase-type distribution': 0,\n",
        " 'phi coefficient': 0,\n",
        " 'phillips\\xe2\\x80\\x93perron test': 0,\n",
        " 'philosophy of probability': 0,\n",
        " 'philosophy of statistics': 0,\n",
        " 'pickands\\xe2\\x80\\x93balkema\\xe2\\x80\\x93de haan theorem': 0,\n",
        " 'pie chart': 1,\n",
        " 'piecewise-deterministic markov process': 5,\n",
        " 'pignistic probability': 0,\n",
        " \"pinsker's inequality\": 1,\n",
        " 'pitman closeness criterion': 0,\n",
        " 'pitman\\xe2\\x80\\x93koopman\\xe2\\x80\\x93darmois theorem': 0,\n",
        " 'pitman\\xe2\\x80\\x93yor process': 0,\n",
        " 'pivotal quantity': 5,\n",
        " 'placebo-controlled study': 0,\n",
        " 'plackett\\xe2\\x80\\x93burman design': 0,\n",
        " 'plate notation': 0,\n",
        " 'player wins': 0,\n",
        " 'plot (graphics)': 0,\n",
        " 'pocock boundary': 0,\n",
        " 'poincar\\xc3\\xa9 plot': 0,\n",
        " 'point estimation': 41,\n",
        " 'point pattern analysis': 3,\n",
        " 'point process': 106,\n",
        " 'point-biserial correlation coefficient': 0,\n",
        " 'poisson binomial distribution': 7,\n",
        " 'poisson distribution': 40,\n",
        " 'poisson hidden markov model': 0,\n",
        " 'poisson limit theorem': 1,\n",
        " 'poisson process': 109,\n",
        " 'poisson random measure': 13,\n",
        " 'poisson regression': 9,\n",
        " 'poisson sampling': 12,\n",
        " 'poker probability': 0,\n",
        " 'poker probability (omaha)': 0,\n",
        " \"poker probability (texas hold 'em)\": 0,\n",
        " 'policy capturing': 0,\n",
        " 'political forecasting': 0,\n",
        " 'pollaczek\\xe2\\x80\\x93khinchine formula': 0,\n",
        " 'pollyanna creep': 0,\n",
        " 'poly-weibull distribution': 0,\n",
        " 'polychoric correlation': 0,\n",
        " 'polykay': 1,\n",
        " 'polynomial and rational function modeling': 0,\n",
        " 'polynomial chaos': 15,\n",
        " 'polynomial regression': 29,\n",
        " 'polytomous rasch model': 0,\n",
        " 'polytree': 2,\n",
        " 'pooled variance': 0,\n",
        " 'pooling design': 0,\n",
        " \"popoviciu's inequality on variances\": 0,\n",
        " 'population': 481,\n",
        " 'population dynamics': 13,\n",
        " 'population ecology': 0,\n",
        " 'population genetics': 34,\n",
        " 'population modeling': 0,\n",
        " 'population process': 1,\n",
        " 'population pyramid': 1,\n",
        " 'population statistics': 2,\n",
        " 'population variance': 8,\n",
        " 'population viability analysis': 0,\n",
        " 'portal:number theory': 0,\n",
        " 'portmanteau test': 5,\n",
        " 'positive predictive value': 0,\n",
        " 'possibility theory': 1,\n",
        " 'post-hoc analysis': 2,\n",
        " 'postage stamp problem': 0,\n",
        " 'posterior predictive distribution': 4,\n",
        " 'posterior probability': 84,\n",
        " 'pot odds': 0,\n",
        " 'poussin proof': 0,\n",
        " \"powell's method\": 0,\n",
        " 'power law': 36,\n",
        " 'power transform': 7,\n",
        " 'prais\\xe2\\x80\\x93winsten estimation': 0,\n",
        " 'pre- and post-test probability': 0,\n",
        " 'precision (statistics)': 0,\n",
        " 'precision and recall': 0,\n",
        " 'prediction interval': 7,\n",
        " 'predictive analytics': 0,\n",
        " 'predictive inference': 1,\n",
        " 'predictive informatics': 0,\n",
        " 'predictive intake modelling': 0,\n",
        " 'predictive modelling': 0,\n",
        " 'predictive validity': 0,\n",
        " 'preference regression (in marketing)': 0,\n",
        " 'preferential attachment': 13,\n",
        " 'pregaussian class': 0,\n",
        " 'press statistic': 1,\n",
        " 'prevalence': 24,\n",
        " 'prime geodesic': 0,\n",
        " 'prime signature': 0,\n",
        " 'primecoin': 0,\n",
        " 'primefree sequence': 0,\n",
        " 'primon gas': 0,\n",
        " 'principal component analysis': 127,\n",
        " 'principal component regression': 7,\n",
        " 'principal geodesic analysis': 1,\n",
        " 'principal stratification': 1,\n",
        " 'principle of indifference': 2,\n",
        " 'principle of marginality': 0,\n",
        " 'principle of maximum entropy': 4,\n",
        " 'prior knowledge for pattern recognition': 0,\n",
        " 'prior probability': 37,\n",
        " 'probabilistic algorithm': 2,\n",
        " 'probabilistic causation': 0,\n",
        " 'probabilistic cellular automata': 0,\n",
        " 'probabilistic design': 0,\n",
        " 'probabilistic encryption': 0,\n",
        " 'probabilistic forecasting': 5,\n",
        " 'probabilistic latent semantic analysis': 0,\n",
        " 'probabilistic logic': 1,\n",
        " 'probabilistic metric space': 0,\n",
        " 'probabilistic number theory': 0,\n",
        " 'probabilistic proofs of non-probabilistic theorems': 0,\n",
        " 'probabilistic proposition': 0,\n",
        " 'probabilistic relational model': 0,\n",
        " 'probabilistic turing machine': 0,\n",
        " 'probabilistically checkable proof': 0,\n",
        " 'probability': 1952,\n",
        " 'probability amplitude': 0,\n",
        " 'probability and statistics': 37,\n",
        " 'probability axioms': 0,\n",
        " 'probability bounds analysis': 0,\n",
        " 'probability box': 1,\n",
        " 'probability density function': 176,\n",
        " 'probability distribution': 478,\n",
        " 'probability distribution function': 30,\n",
        " 'probability integral transform': 11,\n",
        " 'probability interpretations': 0,\n",
        " 'probability mass function': 44,\n",
        " 'probability matching': 3,\n",
        " 'probability metric': 3,\n",
        " 'probability of error': 17,\n",
        " 'probability of precipitation': 1,\n",
        " 'probability plot': 1,\n",
        " 'probability plot correlation coefficient plot': 0,\n",
        " 'probability space': 165,\n",
        " 'probability theory': 82,\n",
        " 'probability vector': 8,\n",
        " 'probability-generating function': 0,\n",
        " 'probable error': 2,\n",
        " 'probable prime': 0,\n",
        " 'probit': 19,\n",
        " 'probit model': 4,\n",
        " 'problem of points': 0,\n",
        " 'procedural confound': 0,\n",
        " 'process control': 8,\n",
        " 'process window index': 0,\n",
        " 'procrustes analysis': 1,\n",
        " 'product distribution': 7,\n",
        " 'product form solution': 0,\n",
        " 'product-form solution': 0,\n",
        " \"proebsting's paradox\": 0,\n",
        " 'prognostics': 0,\n",
        " 'progressively measurable process': 1,\n",
        " 'projection pursuit': 8,\n",
        " 'projection pursuit regression': 1,\n",
        " \"proof of stein's example\": 0,\n",
        " \"proofs of fermat's little theorem\": 0,\n",
        " 'propagation of uncertainty': 0,\n",
        " 'propensity probability': 0,\n",
        " 'propensity score': 9,\n",
        " 'propensity score matching': 0,\n",
        " 'proper linear model': 0,\n",
        " 'proportional hazards models': 1,\n",
        " 'proportional reduction in loss': 0,\n",
        " \"prosecutor's fallacy\": 0,\n",
        " 'prosolvable group': 0,\n",
        " 'proth number': 0,\n",
        " 'prouhet\\xe2\\x80\\x93thue\\xe2\\x80\\x93morse constant': 0,\n",
        " 'proxy (statistics)': 0,\n",
        " 'psephology': 0,\n",
        " 'pseudo-determinant': 0,\n",
        " 'pseudo-random number sampling': 0,\n",
        " 'pseudocount': 0,\n",
        " 'pseudolikelihood': 10,\n",
        " 'pseudomedian': 0,\n",
        " 'pseudoreplication': 0,\n",
        " 'pspp': 0,\n",
        " 'psychological statistics': 0,\n",
        " 'psychometrics': 4,\n",
        " 'pullback attractor': 0,\n",
        " 'punnett square': 0,\n",
        " 'pythagorean expectation': 0,\n",
        " 'p\\xe2\\x80\\x93p plot': 0,\n",
        " 'q test': 0,\n",
        " 'q-exponential distribution': 0,\n",
        " 'q-function': 5,\n",
        " 'q-gaussian distribution': 0,\n",
        " 'q-pochhammer symbol': 0,\n",
        " 'q-statistic': 0,\n",
        " 'quadrant count ratio': 0,\n",
        " 'quadrat': 393,\n",
        " 'quadratic classifier': 1,\n",
        " 'quadratic form (statistics)': 0,\n",
        " 'quadratic irrational': 0,\n",
        " 'quadratic reciprocity': 0,\n",
        " 'quadratic variation': 38,\n",
        " 'qualitative comparative analysis': 0,\n",
        " 'qualitative data': 0,\n",
        " 'qualitative variation': 0,\n",
        " 'quality control': 27,\n",
        " 'quantile': 250,\n",
        " 'quantile function': 54,\n",
        " 'quantile normalization': 1,\n",
        " 'quantile regression': 57,\n",
        " 'quantitative marketing research': 0,\n",
        " 'quantitative parasitology': 0,\n",
        " 'quantitative psychological research': 0,\n",
        " 'quantitative research': 1,\n",
        " 'quantum (statistical programming language)': 0,\n",
        " 'quantum annealing': 0,\n",
        " 'quantum markov chain': 2,\n",
        " 'quantum probability': 2,\n",
        " 'quartile': 3,\n",
        " 'quartile coefficient of dispersion': 0,\n",
        " 'quasi-birth\\xe2\\x80\\x93death process': 0,\n",
        " 'quasi-experiment': 2,\n",
        " 'quasi-likelihood': 31,\n",
        " 'quasi-maximum likelihood': 23,\n",
        " 'quasi-newton inverse least squares method': 0,\n",
        " 'quasi-newton least squares method': 0,\n",
        " 'quasireversibility': 0,\n",
        " 'questionnaire': 4,\n",
        " 'queueing model': 3,\n",
        " 'queueing theory': 4,\n",
        " 'queuing delay': 1,\n",
        " 'queuing theory in teletraffic engineering': 0,\n",
        " 'quota sampling': 0,\n",
        " 'q\\xe2\\x80\\x93q plot': 0,\n",
        " 'r (programming language)': 0,\n",
        " 'r v adams': 0,\n",
        " 'radar chart': 0,\n",
        " 'rademacher distribution': 1,\n",
        " 'radial basis function network': 0,\n",
        " \"raikov's theorem\": 1,\n",
        " 'raised cosine distribution': 0,\n",
        " \"ramanujan's sum\": 0,\n",
        " \"ramaswami's formula\": 0,\n",
        " 'ramsey reset test': 0,\n",
        " 'rand index': 1,\n",
        " 'random assignment': 6,\n",
        " 'random coil': 0,\n",
        " 'random compact set': 0,\n",
        " 'random dynamical system': 0,\n",
        " 'random effects model': 14,\n",
        " 'random element': 33,\n",
        " 'random fibonacci sequence': 0,\n",
        " 'random field': 138,\n",
        " 'random function': 52,\n",
        " 'random geometric graph': 6,\n",
        " 'random graph': 76,\n",
        " 'random matrix': 152,\n",
        " 'random measure': 71,\n",
        " 'random multinomial logit': 0,\n",
        " 'random naive bayes': 0,\n",
        " 'random number generator': 2,\n",
        " 'random optimization': 1,\n",
        " 'random permutation statistics': 0,\n",
        " 'random regular graph': 0,\n",
        " 'random sample': 151,\n",
        " 'random sampling': 45,\n",
        " 'random search': 2,\n",
        " 'random sequence': 39,\n",
        " 'random variable': 1237,\n",
        " 'random variate': 5,\n",
        " 'random walk': 72,\n",
        " 'random walk hypothesis': 0,\n",
        " 'randomization': 46,\n",
        " 'randomized block design': 1,\n",
        " 'randomized controlled trial': 4,\n",
        " 'randomized experiment': 14,\n",
        " 'randomized response': 4,\n",
        " 'randomness': 71,\n",
        " 'randomness tests': 0,\n",
        " 'range (statistics)': 0,\n",
        " 'rank abundance curve': 0,\n",
        " 'rank correlation': 12,\n",
        " 'rank of a partition': 0,\n",
        " 'rank product': 0,\n",
        " 'rank-size distribution': 1,\n",
        " 'ranking': 59,\n",
        " 'rankit': 1,\n",
        " 'ranklet': 0,\n",
        " 'ransac': 30,\n",
        " 'rao\\xe2\\x80\\x93blackwell theorem': 0,\n",
        " 'rasch model': 1,\n",
        " 'rasch model estimation': 0,\n",
        " 'rate function': 25,\n",
        " 'ratio distribution': 0,\n",
        " 'ratio estimator': 5,\n",
        " 'rational quadratic covariance function': 0,\n",
        " 'rational reconstruction (mathematics)': 0,\n",
        " 'raw score': 0,\n",
        " 'rayleigh distribution': 4,\n",
        " 'rayleigh mixture distribution': 0,\n",
        " 'reactive search optimization': 0,\n",
        " 'realization (probability)': 0,\n",
        " 'recall bias': 0,\n",
        " 'receiver operating characteristic': 8,\n",
        " 'reciprocal distribution': 0,\n",
        " 'rectified gaussian distribution': 0,\n",
        " 'recurrence period density entropy': 0,\n",
        " 'recurrence plot': 0,\n",
        " 'recurrence quantification analysis': 0,\n",
        " 'recursive bayesian estimation': 3,\n",
        " 'recursive least squares': 3,\n",
        " 'recursive partitioning': 6,\n",
        " 'redescending m-estimator': 0,\n",
        " 'reduced form': 4,\n",
        " 'reference class problem': 1,\n",
        " 'reflected brownian motion': 1,\n",
        " 'regenerative process': 3,\n",
        " 'regression analysis of time series': 0,\n",
        " 'regression control chart': 0,\n",
        " 'regression diagnostic': 3,\n",
        " 'regression dilution': 0,\n",
        " 'regression discontinuity design': 2,\n",
        " 'regression estimation': 24,\n",
        " 'regression fallacy': 0,\n",
        " 'regression model validation': 0,\n",
        " 'regression toward the mean': 0,\n",
        " 'regression-kriging': 0,\n",
        " 'regret (decision theory)': 0,\n",
        " 'regular conditional probability': 0,\n",
        " 'reification (statistics)': 0,\n",
        " 'rejection sampling': 10,\n",
        " 'relationships among probability distributions': 0,\n",
        " 'relative change and difference': 0,\n",
        " 'relative index of inequality': 0,\n",
        " 'relative risk': 7,\n",
        " 'relative risk reduction': 0,\n",
        " 'relative standard deviation': 2,\n",
        " 'relative survival': 0,\n",
        " 'relativistic breit\\xe2\\x80\\x93wigner distribution': 0,\n",
        " 'relevance vector machine': 3,\n",
        " 'reliability (statistics)': 0,\n",
        " 'reliability block diagram': 0,\n",
        " 'reliability engineering': 2,\n",
        " 'reliability theory': 12,\n",
        " 'reliability theory of aging and longevity': 0,\n",
        " 'remainder': 163,\n",
        " 'rencontres numbers': 0,\n",
        " 'renewal theory': 9,\n",
        " 'repeatability': 1,\n",
        " 'repeated measures design': 0,\n",
        " 'replication (statistics)': 0,\n",
        " 'representation validity': 0,\n",
        " 'reproducibility': 11,\n",
        " 'resampling (statistics)': 0,\n",
        " 'rescaled range': 1,\n",
        " 'resentful demoralization': 0,\n",
        " 'residual sum of squares': 16,\n",
        " 'residue-class-wise affine group': 0,\n",
        " 'response bias': 2,\n",
        " 'response rate': 3,\n",
        " 'response surface methodology': 2,\n",
        " 'response variable': 147,\n",
        " 'restricted maximum likelihood': 8,\n",
        " 'restricted randomization': 1,\n",
        " 'reversible diffusion': 1,\n",
        " 'reversible dynamics': 1,\n",
        " 'reversible-jump markov chain monte carlo': 1,\n",
        " 'revised simplex method': 0,\n",
        " 'rice distribution': 2,\n",
        " 'richardson\\xe2\\x80\\x93lucy deconvolution': 0,\n",
        " 'ridit scoring': 0,\n",
        " 'rind et al. controversy': 0,\n",
        " 'risk': 654,\n",
        " 'risk adjusted mortality rate': 0,\n",
        " 'risk factor': 17,\n",
        " 'risk function': 45,\n",
        " 'risk perception': 1,\n",
        " 'risk theory': 12,\n",
        " 'risk-neutral measure': 1,\n",
        " 'risk\\xe2\\x80\\x93benefit analysis': 0,\n",
        " 'robbins lemma': 0,\n",
        " 'robust bayesian analysis': 4,\n",
        " 'robust confidence intervals': 1,\n",
        " 'robust measures of scale': 0,\n",
        " 'robust regression': 15,\n",
        " 'robust statistics': 33,\n",
        " 'ronald fisher': 3,\n",
        " 'root mean square': 5,\n",
        " 'root mean square deviation (bioinformatics)': 0,\n",
        " 'root mean square fluctuation': 0,\n",
        " 'root-mean-square deviation': 0,\n",
        " \"ross's conjecture\": 0,\n",
        " \"rossmo's formula\": 0,\n",
        " 'rothamsted experimental station': 0,\n",
        " 'roulette': 0,\n",
        " 'round robin test': 0,\n",
        " 'rubin causal model': 1,\n",
        " 'ruin theory': 4,\n",
        " 'rule of succession': 1,\n",
        " 'rule of three (medicine)': 0,\n",
        " 'run chart': 0,\n",
        " 'runge\\xe2\\x80\\x93kutta method': 0,\n",
        " 'russo\\xe2\\x80\\x93vallois integral': 0,\n",
        " 'rv coefficient': 0,\n",
        " 's (programming language)': 0,\n",
        " 's-plus': 0,\n",
        " 'safety in numbers': 0,\n",
        " 'sally clark': 0,\n",
        " 'sammon projection': 0,\n",
        " 'sample (statistics)': 0,\n",
        " 'sample maximum and minimum': 0,\n",
        " 'sample mean and sample covariance': 1,\n",
        " 'sample size determination': 4,\n",
        " 'sample space': 89,\n",
        " 'sample standard deviation': 1,\n",
        " 'sample-continuous process': 1,\n",
        " 'sampling (statistics)': 0,\n",
        " 'sampling bias': 1,\n",
        " 'sampling design': 25,\n",
        " 'sampling distribution': 55,\n",
        " 'sampling error': 8,\n",
        " 'sampling fraction': 4,\n",
        " 'sampling frame': 8,\n",
        " 'sampling risk': 0,\n",
        " \"samuelson's inequality\": 0,\n",
        " 'sargan test': 0,\n",
        " 'sas (software)': 0,\n",
        " 'sas language': 0,\n",
        " 'saturated array': 0,\n",
        " 'savitzky\\xe2\\x80\\x93golay smoothing filter': 0,\n",
        " \"sazonov's theorem\": 0,\n",
        " 'scale analysis (statistics)': 0,\n",
        " 'scale parameter': 73,\n",
        " 'scaled-inverse-chi-squared distribution': 0,\n",
        " 'scaling limit': 9,\n",
        " 'scaling pattern of occupancy': 0,\n",
        " 'scatter matrix': 16,\n",
        " 'scatter plot': 8,\n",
        " 'scatterplot smoothing': 0,\n",
        " \"schanuel's conjecture\": 0,\n",
        " \"scheff\\xc3\\xa9's method\": 0,\n",
        " \"schilder's theorem\": 1,\n",
        " 'schnorr group': 0,\n",
        " \"schoof's algorithm\": 0,\n",
        " 'schoof\\xe2\\x80\\x93elkies\\xe2\\x80\\x93atkin algorithm': 0,\n",
        " 'schramm\\xe2\\x80\\x93loewner evolution': 0,\n",
        " 'schr\\xc3\\xb6dinger method': 0,\n",
        " 'schuette\\xe2\\x80\\x93nesbitt formula': 0,\n",
        " 'schwartz\\xe2\\x80\\x93bruhat function': 0,\n",
        " 'schwarz criterion': 1,\n",
        " 'score (statistics)': 0,\n",
        " 'score test': 12,\n",
        " 'scoring algorithm': 4,\n",
        " 'scoring rule': 23,\n",
        " 'scorus': 0,\n",
        " \"scott's pi\": 0,\n",
        " 'sdmx': 0,\n",
        " 'search-based software engineering': 0,\n",
        " 'seasonal adjustment': 1,\n",
        " 'seasonal subseries plot': 0,\n",
        " 'seasonal variation': 0,\n",
        " 'seasonality': 7,\n",
        " 'seasonally adjusted annual rate': 0,\n",
        " 'second moment method': 2,\n",
        " 'secretary problem': 0,\n",
        " 'secular variation': 0,\n",
        " 'seemingly unrelated regressions': 0,\n",
        " 'segmented regression': 0,\n",
        " 'seismic inversion': 1,\n",
        " 'seismic to simulation': 0,\n",
        " 'selection bias': 14,\n",
        " 'selective recruitment': 1,\n",
        " 'self-organizing map': 2,\n",
        " 'self-selection bias': 0,\n",
        " 'self-similar process': 11,\n",
        " 'self-similarity matrix': 0,\n",
        " 'selmer group': 0,\n",
        " 'semantic mapping (statistics)': 0,\n",
        " 'semantic relatedness': 0,\n",
        " 'semantic similarity': 0,\n",
        " 'semi-log graph': 0,\n",
        " 'semi-markov process': 2,\n",
        " 'semidefinite embedding': 0,\n",
        " 'semimartingale': 54,\n",
        " 'semiparametric model': 55,\n",
        " 'semiparametric regression': 18,\n",
        " 'semivariance': 0,\n",
        " 'sensitivity (tests)': 0,\n",
        " 'sensitivity analysis': 50,\n",
        " 'sensitivity and specificity': 2,\n",
        " 'sensitivity index': 14,\n",
        " 'separation test': 0,\n",
        " 'sequence-dependent setup': 0,\n",
        " 'sequential analysis': 24,\n",
        " 'sequential estimation': 8,\n",
        " 'sequential minimal optimization': 0,\n",
        " 'sequential probability ratio test': 9,\n",
        " 'sequential quadratic programming': 1,\n",
        " 'serial dependence': 26,\n",
        " 'seriation (archaeology)': 0,\n",
        " 'setar (model)': 0,\n",
        " 'sethi model': 0,\n",
        " 'seven-number summary': 0,\n",
        " 'sexual dimorphism measures': 0,\n",
        " 'shannon\\xe2\\x80\\x93hartley theorem': 0,\n",
        " 'shape of the distribution': 5,\n",
        " 'shape parameter': 32,\n",
        " 'shapiro\\xe2\\x80\\x93wilk test': 0,\n",
        " 'sharpe ratio': 0,\n",
        " 'shazam (software)': 0,\n",
        " 'shewhart individuals control chart': 0,\n",
        " 'shifted gompertz distribution': 0,\n",
        " 'shifted log-logistic distribution': 0,\n",
        " 'shifting baseline': 0,\n",
        " 'shrinkage (statistics)': 0,\n",
        " 'shrinkage estimator': 33,\n",
        " 'shuffled frog leaping algorithm': 0,\n",
        " 'sichel distribution': 0,\n",
        " 'sidon sequence': 0,\n",
        " 'siegel\\xe2\\x80\\x93tukey test': 0,\n",
        " 'sierpinski number': 0,\n",
        " 'sieve estimator': 3,\n",
        " 'sigma-algebra': 8,\n",
        " 'sigmastat': 0,\n",
        " 'sign test': 6,\n",
        " 'signal-to-noise ratio': 60,\n",
        " 'signal-to-noise statistic': 0,\n",
        " 'signed differential mapping': 0,\n",
        " 'significance analysis of microarrays': 0,\n",
        " 'silhouette (clustering)': 0,\n",
        " 'simfit': 0,\n",
        " 'similarity matrix': 3,\n",
        " 'simon model': 0,\n",
        " 'simple linear regression': 6,\n",
        " 'simple moving average crossover': 0,\n",
        " 'simple random sample': 11,\n",
        " 'simple random sampling': 14,\n",
        " 'simplex algorithm': 1,\n",
        " \"simpson's paradox\": 1,\n",
        " 'simulated annealing': 10,\n",
        " 'simultaneous equation methods (econometrics)': 0,\n",
        " 'simultaneous equations model': 2,\n",
        " 'simultaneous perturbation stochastic approximation': 0,\n",
        " 'single equation methods (econometrics)': 0,\n",
        " 'single-linkage clustering': 1,\n",
        " \"singmaster's conjecture\": 0,\n",
        " 'singular distribution': 1,\n",
        " 'singular spectrum analysis': 0,\n",
        " 'sinkov statistic': 0,\n",
        " 'sinusoidal model': 1,\n",
        " 'sipta': 0,\n",
        " 'size (statistics)': 0,\n",
        " 'skellam distribution': 1,\n",
        " 'skew binary number system': 0,\n",
        " 'skew normal distribution': 2,\n",
        " \"skewes' number\": 0,\n",
        " 'skewness': 47,\n",
        " 'skorokhod integral': 0,\n",
        " \"skorokhod's embedding theorem\": 0,\n",
        " \"skorokhod's representation theorem\": 0,\n",
        " 'slash distribution': 0,\n",
        " 'sleeping beauty problem': 0,\n",
        " 'slice sampling': 7,\n",
        " 'sliced inverse regression': 15,\n",
        " \"slutsky's theorem\": 2,\n",
        " 'small area estimation': 5,\n",
        " 'smearing retransformation': 0,\n",
        " 'smoothing': 243,\n",
        " 'smoothing spline': 36,\n",
        " 'smoothness (probability theory)': 0,\n",
        " 'snowball sampling': 2,\n",
        " 'sobel test': 0,\n",
        " 'sociable number': 0,\n",
        " 'social cognitive optimization': 0,\n",
        " 'social network change detection': 0,\n",
        " 'social statistics': 0,\n",
        " 'sofa statistics': 0,\n",
        " 'solid partition': 0,\n",
        " \"somers' d\": 0,\n",
        " 'space allocation problem': 0,\n",
        " 'space mapping': 0,\n",
        " 'spaghetti plot': 0,\n",
        " 'sparse binary polynomial hashing': 0,\n",
        " 'sparse pca': 26,\n",
        " 'sparse ruler': 0,\n",
        " 'sparsity-of-effects principle': 0,\n",
        " 'spatial analysis': 1,\n",
        " 'spatial dependence': 11,\n",
        " 'spatial descriptive statistics': 0,\n",
        " 'spatial distribution': 10,\n",
        " 'spatial econometrics': 0,\n",
        " 'spatial variability': 2,\n",
        " 'spc xl': 0,\n",
        " \"spearman's rank correlation coefficient\": 3,\n",
        " 'spearman\\xe2\\x80\\x93brown prediction formula': 0,\n",
        " 'special ordered set': 0,\n",
        " 'species discovery curve': 0,\n",
        " 'specification (regression)': 0,\n",
        " 'specificity (tests)': 0,\n",
        " 'spectral clustering': 30,\n",
        " 'spectral density': 94,\n",
        " 'spectral density estimation': 4,\n",
        " 'spectrum bias': 0,\n",
        " 'spectrum continuation analysis': 0,\n",
        " 'speed prior': 0,\n",
        " 'spherical design': 0,\n",
        " 'split normal distribution': 0,\n",
        " 'spread betting': 0,\n",
        " 'spss': 3,\n",
        " 'spss clementine': 0,\n",
        " 'spurious relationship': 1,\n",
        " 'square number': 0,\n",
        " 'square root biased sampling': 0,\n",
        " 'square-free integer': 0,\n",
        " 'squared deviations': 0,\n",
        " 'squared triangular number': 0,\n",
        " 'st. petersburg paradox': 0,\n",
        " 'stability': 158,\n",
        " 'stability (probability)': 0,\n",
        " 'stable and tempered stable distributions with volatility clustering \\xe2\\x80\\x93 financial applications': 0,\n",
        " 'stable distribution': 35,\n",
        " 'standard deviation': 66,\n",
        " 'standard error': 42,\n",
        " 'standard normal deviate': 0,\n",
        " 'standard normal table': 0,\n",
        " 'standard probability space': 1,\n",
        " 'standard score': 0,\n",
        " 'standardised mortality rate': 0,\n",
        " 'standardized coefficient': 1,\n",
        " 'standardized moment': 0,\n",
        " 'standardized mortality ratio': 0,\n",
        " 'standardized rate': 0,\n",
        " 'stanine': 0,\n",
        " 'star model': 3,\n",
        " 'stata': 6,\n",
        " 'state space representation': 6,\n",
        " 'statgraphics': 0,\n",
        " 'static analysis': 1,\n",
        " 'stationary distribution': 49,\n",
        " 'stationary ergodic process': 7,\n",
        " 'stationary process': 115,\n",
        " 'stationary sequence': 39,\n",
        " 'stationary subspace analysis': 0,\n",
        " 'statistic': 2883,\n",
        " 'statistica': 2045,\n",
        " 'statistical arbitrage': 1,\n",
        " 'statistical assembly': 0,\n",
        " 'statistical assumption': 1,\n",
        " 'statistical benchmarking': 0,\n",
        " 'statistical classification': 0,\n",
        " 'statistical conclusion validity': 0,\n",
        " 'statistical consultant': 1,\n",
        " 'statistical dispersion': 0,\n",
        " 'statistical distance': 4,\n",
        " 'statistical efficiency': 20,\n",
        " 'statistical epidemiology': 0,\n",
        " 'statistical finance': 0,\n",
        " 'statistical geography': 0,\n",
        " 'statistical graphics': 0,\n",
        " 'statistical hypothesis testing': 12,\n",
        " 'statistical independence': 6,\n",
        " 'statistical inference': 353,\n",
        " 'statistical interference': 0,\n",
        " 'statistical lab': 31,\n",
        " 'statistical learning theory': 26,\n",
        " 'statistical literacy': 0,\n",
        " 'statistical mechanics': 26,\n",
        " 'statistical model': 351,\n",
        " 'statistical noise': 2,\n",
        " 'statistical package': 3,\n",
        " 'statistical parameter': 4,\n",
        " 'statistical parametric mapping': 0,\n",
        " 'statistical parsing': 0,\n",
        " 'statistical physics': 53,\n",
        " 'statistical population': 1,\n",
        " 'statistical power': 28,\n",
        " 'statistical probability': 0,\n",
        " 'statistical process control': 2,\n",
        " 'statistical proof': 1,\n",
        " 'statistical randomness': 0,\n",
        " 'statistical regularity': 1,\n",
        " 'statistical relational learning': 0,\n",
        " 'statistical sample': 4,\n",
        " 'statistical semantics': 0,\n",
        " 'statistical shape analysis': 4,\n",
        " 'statistical signal processing': 17,\n",
        " 'statistical significance': 20,\n",
        " 'statistical survey': 0,\n",
        " 'statistical syllogism': 0,\n",
        " 'statistical theory': 62,\n",
        " 'statistical unit': 8,\n",
        " \"statisticians' and engineers' cross-reference of statistical terms\": 0,\n",
        " 'statistics': 2002,\n",
        " 'statistics education': 0,\n",
        " 'statistics online computational resource': 0,\n",
        " 'statplus': 0,\n",
        " 'statxact': 0,\n",
        " \"stein's example\": 0,\n",
        " \"stein's lemma\": 8,\n",
        " \"stein's unbiased risk estimate\": 5,\n",
        " 'steiner system': 0,\n",
        " 'stem-and-leaf display': 0,\n",
        " 'step detection': 1,\n",
        " 'stepwise regression': 9,\n",
        " 'stern\\xe2\\x80\\x93brocot tree': 0,\n",
        " 'stieltjes moment problem': 0,\n",
        " 'stimulus-response model': 0,\n",
        " 'stochastic': 900,\n",
        " 'stochastic approximation': 33,\n",
        " 'stochastic calculus': 11,\n",
        " 'stochastic convergence': 2,\n",
        " 'stochastic differential equation': 88,\n",
        " 'stochastic dominance': 3,\n",
        " 'stochastic drift': 1,\n",
        " 'stochastic equicontinuity': 3,\n",
        " 'stochastic geometry': 18,\n",
        " 'stochastic gradient descent': 7,\n",
        " 'stochastic grammar': 0,\n",
        " 'stochastic hill climbing': 0,\n",
        " 'stochastic investment model': 0,\n",
        " 'stochastic kernel estimation': 0,\n",
        " 'stochastic matrix': 7,\n",
        " 'stochastic modelling (insurance)': 0,\n",
        " 'stochastic optimization': 15,\n",
        " 'stochastic ordering': 9,\n",
        " 'stochastic process': 268,\n",
        " 'stochastic processes and boundary value problems': 0,\n",
        " 'stochastic programming': 1,\n",
        " 'stochastic rounding': 0,\n",
        " 'stochastic simulation': 8,\n",
        " 'stoneham number': 0,\n",
        " 'stopped process': 2,\n",
        " 'stopping time': 44,\n",
        " 'stratified sampling': 6,\n",
        " 'stratonovich integral': 1,\n",
        " 'streamgraph': 0,\n",
        " 'stress majorization': 0,\n",
        " 'strict differentiability': 1,\n",
        " 'strong law of small numbers': 0,\n",
        " 'strong prior': 3,\n",
        " 'structural break': 19,\n",
        " 'structural equation modeling': 3,\n",
        " 'structural estimation': 2,\n",
        " 'structured data analysis (statistics)': 0,\n",
        " \"student's t-distribution\": 0,\n",
        " \"student's t-statistic\": 0,\n",
        " \"student's t-test\": 1,\n",
        " 'studentization': 7,\n",
        " 'studentized range': 0,\n",
        " 'studentized residual': 0,\n",
        " 'study design': 7,\n",
        " 'study heterogeneity': 0,\n",
        " 'subgroup analysis': 1,\n",
        " 'subindependence': 0,\n",
        " 'subjective logic': 0,\n",
        " 'subjectivism#subjectivism in probability': 0,\n",
        " 'substitution model': 4,\n",
        " 'successive parabolic interpolation': 0,\n",
        " 'sudaan': 0,\n",
        " 'sufficient dimension reduction': 15,\n",
        " 'sufficient statistic': 92,\n",
        " 'sum of normally distributed random variables': 0,\n",
        " 'sum of squares': 39,\n",
        " 'summary statistic': 36,\n",
        " 'sums of powers': 0,\n",
        " 'sunrise problem': 0,\n",
        " 'supernatural number': 0,\n",
        " 'support curve': 0,\n",
        " 'support vector machine': 23,\n",
        " 'surrogate model': 16,\n",
        " 'survey data collection': 0,\n",
        " 'survey methodology': 1,\n",
        " 'survey sampling': 18,\n",
        " 'survival analysis': 48,\n",
        " 'survival function': 32,\n",
        " 'survival rate': 0,\n",
        " 'survivorship bias': 0,\n",
        " 'swarm intelligence': 0,\n",
        " \"sylvester's sequence\": 0,\n",
        " 'symmetric design': 8,\n",
        " 'symmetric mean absolute percentage error': 0,\n",
        " 'systat': 0,\n",
        " 'system dynamics': 6,\n",
        " 'system identification': 17,\n",
        " 'systematic review': 1,\n",
        " 'systematic sampling': 1,\n",
        " \"szpiro's conjecture\": 0,\n",
        " 's\\xc3\\xb8rensen similarity index': 0,\n",
        " 't distribution (disambiguation)': 0,\n",
        " 't-statistic': 7,\n",
        " 'tabu search': 0,\n",
        " 'tag cloud': 0,\n",
        " 'taguchi loss function': 0,\n",
        " 'taguchi methods': 0,\n",
        " \"tajima's d\": 0,\n",
        " 'taleb distribution': 0,\n",
        " 'tampering (quality control)': 0,\n",
        " 'tanaka equation': 0,\n",
        " \"tanaka's formula\": 0,\n",
        " 'tate twist': 0,\n",
        " 'taylor expansions for the moments of functions of random variables': 0,\n",
        " \"taylor's law\": 0,\n",
        " 'technical analysis': 0,\n",
        " 'telegraph process': 1,\n",
        " 'test for structural change': 1,\n",
        " 'test score': 1,\n",
        " 'test set': 13,\n",
        " 'test statistic': 279,\n",
        " 'testimator': 2,\n",
        " 'testing hypotheses suggested by the data': 0,\n",
        " 'test\\xe2\\x80\\x93retest reliability': 0,\n",
        " 'text analytics': 1,\n",
        " 'the design of experiments': 3,\n",
        " 'the doctrine of chances': 0,\n",
        " 'the long tail': 1,\n",
        " 'the man who broke the bank at monte carlo': 0,\n",
        " 'the unscrambler': 0,\n",
        " 'theil index': 0,\n",
        " 'theil\\xe2\\x80\\x93sen estimator': 0,\n",
        " 'theory of conjoint measurement': 0,\n",
        " 'therapeutic effect': 1,\n",
        " 'thompson sampling': 1,\n",
        " 'three prisoners problem': 0,\n",
        " 'three-point estimation': 0,\n",
        " 'three-stage least squares': 0,\n",
        " 'threshold model': 6,\n",
        " 'thurstone scale': 0,\n",
        " 'thurstonian model': 0,\n",
        " 'tikhonov regularization': 17,\n",
        " 'tilted large deviation principle': 0,\n",
        " 'time reversibility': 1,\n",
        " 'time series': 396,\n",
        " 'time use survey': 0,\n",
        " 'time-series regression': 0,\n",
        " 'time-varying covariate': 5,\n",
        " 'timeline of number theory': 0,\n",
        " 'timeline of probability and statistics': 0,\n",
        " 'time\\xe2\\x80\\x93frequency analysis': 0,\n",
        " 'time\\xe2\\x80\\x93frequency representation': 0,\n",
        " 'tinkerplots': 0,\n",
        " 'tobit model': 1,\n",
        " 'tolerance interval': 1,\n",
        " 'tolmin (optimization software)': 0,\n",
        " 'top-coded': 0,\n",
        " 'topic model': 11,\n",
        " 'topological data analysis': 16,\n",
        " 'tornqvist index': 0,\n",
        " 'total correlation': 2,\n",
        " 'total least squares': 1,\n",
        " 'total sum of squares': 0,\n",
        " 'total survey error': 0,\n",
        " 'total variation distance': 58,\n",
        " 'total variation#total variation distance in probability theory': 0,\n",
        " 'tpl tables': 0,\n",
        " 'tracy\\xe2\\x80\\x93widom distribution': 0,\n",
        " 'traffic equations': 0,\n",
        " 'training set': 28,\n",
        " 'transect': 1,\n",
        " 'transferable belief model': 0,\n",
        " 'transiogram': 0,\n",
        " 'transition rate matrix': 0,\n",
        " 'transmission risks and rates': 0,\n",
        " 'treatment and control groups': 2,\n",
        " 'tree rearrangement': 0,\n",
        " 'trend analysis': 0,\n",
        " 'trend estimation': 1,\n",
        " 'trend stationary': 0,\n",
        " 'treynor ratio': 0,\n",
        " 'triangular distribution': 1,\n",
        " 'trigonometric moment problem': 3,\n",
        " 'trimean': 0,\n",
        " 'trimmed estimator': 1,\n",
        " 'trispectrum': 1,\n",
        " 'true experiment': 0,\n",
        " 'true variance': 3,\n",
        " 'truncated distribution': 5,\n",
        " 'truncated mean': 0,\n",
        " 'truncated newton method': 0,\n",
        " 'truncated normal distribution': 3,\n",
        " 'truncated regression model': 0,\n",
        " 'truncation (statistics)': 0,\n",
        " 'tsallis distribution': 1,\n",
        " 'tsallis entropy': 5,\n",
        " 'tsallis statistics': 2,\n",
        " \"tschuprow's t\": 0,\n",
        " 'tucker decomposition': 4,\n",
        " 'tukey lambda distribution': 0,\n",
        " 'tukey median': 1,\n",
        " \"tukey's range test\": 0,\n",
        " \"tukey's test of additivity\": 0,\n",
        " 'tukey\\xe2\\x80\\x93duckworth test': 0,\n",
        " 'tukey\\xe2\\x80\\x93kramer method': 0,\n",
        " 'tweedie distribution': 1,\n",
        " 'twisting properties': 0,\n",
        " 'two envelopes problem': 0,\n",
        " 'two-tailed test': 0,\n",
        " 'two-way analysis of variance': 0,\n",
        " 'type i and type ii errors': 8,\n",
        " 'type-1 gumbel distribution': 0,\n",
        " 'type-2 gumbel distribution': 0,\n",
        " 'typical set': 10,\n",
        " 'tyranny of averages': 0,\n",
        " 'u test': 10,\n",
        " 'u-chart': 0,\n",
        " 'u-quadratic distribution': 0,\n",
        " 'u-statistic': 30,\n",
        " 'umbrella sampling': 0,\n",
        " 'unbiased estimation of standard deviation': 0,\n",
        " 'uncertainty': 257,\n",
        " 'uncertainty coefficient': 0,\n",
        " 'uncertainty quantification': 44,\n",
        " 'uncomfortable science': 0,\n",
        " 'uncorrelated': 115,\n",
        " 'underprivileged area score': 0,\n",
        " 'unevenly spaced time series': 0,\n",
        " 'uniform distribution (continuous)': 0,\n",
        " 'uniform distribution (discrete)': 0,\n",
        " 'uniform integrability': 4,\n",
        " 'uniformly most powerful test': 4,\n",
        " 'unimodal function': 1,\n",
        " 'unimodality': 14,\n",
        " 'unistat': 0,\n",
        " 'unit (statistics)': 0,\n",
        " 'unit measure': 1,\n",
        " 'unit of observation': 1,\n",
        " 'unit root': 22,\n",
        " 'unit root test': 6,\n",
        " 'unit-weighted regression': 0,\n",
        " 'unitized risk': 0,\n",
        " 'univariate': 322,\n",
        " 'univariate analysis': 1,\n",
        " 'univariate distribution': 23,\n",
        " 'unmatched count': 0,\n",
        " 'unseen species problem': 0,\n",
        " 'unsolved problems in statistics': 0,\n",
        " 'upper and lower probabilities': 0,\n",
        " 'upside potential ratio': 0,\n",
        " 'urn problem': 0,\n",
        " 'ursell function': 0,\n",
        " 'utility maximization problem': 0,\n",
        " 'utilization distribution': 1,\n",
        " 'v-optimal histograms': 0,\n",
        " 'v-statistic': 3,\n",
        " 'vacuum expectation value': 0,\n",
        " 'validity (statistics)': 0,\n",
        " 'value at risk': 10,\n",
        " 'van der waerden test': 1,\n",
        " 'van houtum distribution': 0,\n",
        " 'vapnik\\xe2\\x80\\x93chervonenkis theory': 0,\n",
        " \"varadhan's lemma\": 1,\n",
        " 'variable': 2083,\n",
        " 'variable kernel density estimation': 0,\n",
        " 'variable rules analysis': 0,\n",
        " 'variable-order bayesian network': 0,\n",
        " 'variable-order markov model': 0,\n",
        " 'variance': 1678,\n",
        " 'variance decomposition of forecast errors': 0,\n",
        " 'variance gamma process': 0,\n",
        " 'variance inflation factor': 1,\n",
        " 'variance reduction': 17,\n",
        " 'variance-gamma distribution': 0,\n",
        " 'variance-stabilizing transformation': 3,\n",
        " 'variance-to-mean ratio': 0,\n",
        " 'variation ratio': 2,\n",
        " 'variational bayesian methods': 1,\n",
        " 'variational message passing': 0,\n",
        " 'varimax rotation': 0,\n",
        " 'variogram': 12,\n",
        " 'vasicek model': 1,\n",
        " 'vc dimension': 6,\n",
        " 'vc theory': 3,\n",
        " 'vector autoregression': 5,\n",
        " 'vegas algorithm': 0,\n",
        " 'violin plot': 0,\n",
        " 'vista, the visual statistics system': 0,\n",
        " \"vitale's random brunn\\xe2\\x80\\x93minkowski inequality\": 0,\n",
        " 'voigt profile': 0,\n",
        " 'volatility': 144,\n",
        " 'volatility (finance)': 0,\n",
        " 'volcano plot (statistics)': 0,\n",
        " 'von mises distribution': 6,\n",
        " 'von mises\\xe2\\x80\\x93fisher distribution': 0,\n",
        " \"vuong's closeness test\": 0,\n",
        " 'vysochanski\\xc3\\xaf\\xe2\\x80\\x93petunin inequality': 0,\n",
        " 'wait list control group': 0,\n",
        " 'wald test': 15,\n",
        " \"wald's equation\": 1,\n",
        " 'wald\\xe2\\x80\\x93wolfowitz runs test': 0,\n",
        " \"wallenius' noncentral hypergeometric distribution\": 0,\n",
        " 'wang and landau algorithm': 0,\n",
        " \"ward's method\": 0,\n",
        " 'wasserstein metric': 18,\n",
        " 'watterson estimator': 0,\n",
        " 'watts and strogatz model': 0,\n",
        " 'weak convergence of measures': 1,\n",
        " 'weibull distribution': 18,\n",
        " 'weibull modulus': 0,\n",
        " 'weight function': 49,\n",
        " 'weighted mean': 11,\n",
        " 'weighted median': 1,\n",
        " 'weingarten function': 0,\n",
        " \"welch's method\": 0,\n",
        " \"welch's t test\": 0,\n",
        " 'welch\\xe2\\x80\\x93satterthwaite equation': 0,\n",
        " 'well-behaved statistic': 0,\n",
        " \"whipple's index\": 0,\n",
        " 'white noise': 160,\n",
        " 'white test': 0,\n",
        " 'wick product': 0,\n",
        " 'wide and narrow data': 0,\n",
        " 'wiener deconvolution': 0,\n",
        " 'wiener equation': 0,\n",
        " 'wiener filter': 1,\n",
        " 'wiener process': 50,\n",
        " 'wiener sausage': 0,\n",
        " 'wigner quasi-probability distribution': 0,\n",
        " 'wigner semicircle distribution': 0,\n",
        " \"wike's law of low odd primes\": 0,\n",
        " 'wilcoxon signed-rank test': 1,\n",
        " \"wilks' lambda distribution\": 0,\n",
        " 'will rogers phenomenon': 0,\n",
        " 'winbugs': 0,\n",
        " 'window function': 3,\n",
        " 'winpepi': 0,\n",
        " 'winsorising': 0,\n",
        " 'winsorized mean': 0,\n",
        " 'wishart distribution': 31,\n",
        " \"wold's theorem\": 0,\n",
        " 'wombling': 0,\n",
        " 'world programming system': 0,\n",
        " 'wrapped cauchy distribution': 1,\n",
        " 'wrapped distribution': 0,\n",
        " 'wrapped exponential distribution': 0,\n",
        " 'wrapped l\\xc3\\xa9vy distribution': 0,\n",
        " 'wrapped normal distribution': 1,\n",
        " 'writer invariant': 0,\n",
        " 'x-12-arima': 0,\n",
        " 'xlispstat': 0,\n",
        " 'xplore': 357,\n",
        " 'yamartino method': 0,\n",
        " 'yates analysis': 0,\n",
        " \"yates's correction for continuity\": 0,\n",
        " \"youden's j statistic\": 0,\n",
        " 'yule\\xe2\\x80\\x93simon distribution': 0,\n",
        " 'z score': 0,\n",
        " 'z statistic': 0,\n",
        " 'z-factor': 0,\n",
        " 'z-score': 1,\n",
        " 'z-test': 1,\n",
        " 'z-transform': 1,\n",
        " 'zakai equation': 1,\n",
        " \"zelen's design\": 0,\n",
        " 'zero\\xe2\\x80\\x93one law (disambiguation)': 0,\n",
        " 'zeta distribution': 1,\n",
        " 'ziggurat algorithm': 1,\n",
        " 'zionts\\xe2\\x80\\x93wallenius method': 0,\n",
        " \"zipf's law\": 3,\n",
        " 'zipf\\xe2\\x80\\x93mandelbrot law': 0,\n",
        " '\\xc5\\x81ukaszyk\\xe2\\x80\\x93karmowski metric': 0}"
       ]
      }
     ],
     "prompt_number": 36
    }
   ],
   "metadata": {}
  }
 ]
}