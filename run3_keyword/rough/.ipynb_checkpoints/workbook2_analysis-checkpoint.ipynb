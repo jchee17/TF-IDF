{
 "metadata": {
  "name": ""
 },
 "nbformat": 3,
 "nbformat_minor": 0,
 "worksheets": [
  {
   "cells": [
    {
     "cell_type": "code",
     "collapsed": false,
     "input": [
      "import os\n",
      "import re\n",
      "import timeit\n",
      "import string\n",
      "import pickle\n",
      "import math\n",
      "import numpy as np\n",
      "from __future__ import division\n",
      "from nltk.tokenize import RegexpTokenizer\n",
      "\n",
      "path_arxiv = '/home/jerry/Data/Hopper_Project/ptm_data/arxiv_processed_trunc/'\n",
      "articles = os.listdir(path_arxiv)\n",
      "length_arxiv = len(articles)\n",
      "\n",
      "concepts = pickle.load(open('./data_objects/master-concepts.p', 'r'))\n",
      "\n",
      "arxiv_sep_byfile = pickle.load(open('./data_objects/arxiv_sep_byfile_caseinsen.p' ,'r'))\n",
      "arxiv_sep_byword = pickle.load(open('./data_objects/arxiv_sep_byword_caseinsen.p' ,'r'))\n",
      "arxiv_wordsindoc = pickle.load(open('./data_objects/arxiv_wordsindoc.p', 'r'))\n",
      "\n",
      "tfidf_arxiv = pickle.load(open('./data_objects/tfidf_arxiv_caseinsen.p', 'r'))"
     ],
     "language": "python",
     "metadata": {},
     "outputs": [],
     "prompt_number": 9
    },
    {
     "cell_type": "code",
     "collapsed": false,
     "input": [
      "# agreggate tf-idf scores for each word \n",
      "\n",
      "tfidf_summary = {}\n",
      "tmp = None\n",
      "\n",
      "for f in articles:\n",
      "    for word in tfidf_arxiv[f].keys():\n",
      "        if word not in tfidf_summary.keys():\n",
      "            tfidf_summary[word] = []\n",
      "            \n",
      "        tmp = tfidf_arxiv[f][word]\n",
      "        tfidf_summary[word].append(tmp)"
     ],
     "language": "python",
     "metadata": {},
     "outputs": [],
     "prompt_number": 40
    },
    {
     "cell_type": "code",
     "collapsed": false,
     "input": [
      "pickle.dump(tfidf_summary, open('./data_objects/tfidf_summary.p', 'w'))"
     ],
     "language": "python",
     "metadata": {},
     "outputs": [],
     "prompt_number": 41
    },
    {
     "cell_type": "code",
     "collapsed": false,
     "input": [
      "# let's compute some 5-number summaries\n",
      "csv_out = open('./data_objects/keyword_5numsum.csv', 'w')\n",
      "csv_out.write(\"keyword,min,1st quartile,meidan,3rd quartile,max,\\n\")\n",
      "tmp = None\n",
      "\n",
      "for f in tfidf_summary:\n",
      "    csv_out.write(f+',')\n",
      "    tmp = np.array(tfidf_summary[f])\n",
      "        \n",
      "    min = np.amin(tmp)\n",
      "    first_q = np.percentile(tmp, 25)\n",
      "    median = np.percentile(tmp, 50)\n",
      "    third_q = np.percentile(tmp, 75)\n",
      "    max = np.amax(tmp)\n",
      "    \n",
      "    csv_out.write(\"{},{},{},{},{},\\n\".format(min, first_q, median, third_q, max))\n",
      "    \n",
      "    \n",
      "csv_out.close()"
     ],
     "language": "python",
     "metadata": {},
     "outputs": [],
     "prompt_number": 42
    }
   ],
   "metadata": {}
  }
 ]
}