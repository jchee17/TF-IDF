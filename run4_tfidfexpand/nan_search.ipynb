{
 "metadata": {
  "name": ""
 },
 "nbformat": 3,
 "nbformat_minor": 0,
 "worksheets": [
  {
   "cells": [
    {
     "cell_type": "markdown",
     "metadata": {},
     "source": [
      "I have some nan values in the cos_dist martix. I'm backtracking to find their origin and fix. Some of the articles are empty. I need to account for this in the tf-idf scores. Hopefully fixed in tf-idf. Adjusted tf scores. "
     ]
    },
    {
     "cell_type": "code",
     "collapsed": false,
     "input": [
      "from __future__ import unicode_literals\n",
      "from __future__ import division\n",
      "import os\n",
      "import re\n",
      "import timeit\n",
      "import math\n",
      "import codecs\n",
      "import pickle\n",
      "import numpy as np"
     ],
     "language": "python",
     "metadata": {},
     "outputs": [],
     "prompt_number": 2
    },
    {
     "cell_type": "code",
     "collapsed": false,
     "input": [
      "#cos_dist = np.load(\"./data_objects/cos_dist.npy\")\n",
      "\n",
      "#tfidf_wiki = np.load(\"./data_objects/tfidf_wiki.npy\")\n",
      "#tfidf_arxiv = np.load(\"./data_objects/tfidf_arxiv.npy\")\n",
      "\n",
      "list_wiki = pickle.load(open(\"./data_objects/list_wiki.p\", 'r'))\n",
      "\n",
      "counts_wiki = np.load('./data_objects/counts_wiki.npy')\n",
      "counts_arxiv = np.load('./data_objects/counts_arxiv.npy')\n",
      "\n",
      "#inv_counts_wiki = np.load(\"./data_objects/inv_counts_wiki.npy\")\n",
      "#inv_counts_arxiv = np.load(\"./data_objects/inv_counts_arxiv.npy\")\n",
      "\n",
      "#doc_term_wiki = np.load('./data_objects/doc_term_wiki.npy')\n",
      "#doc_term_arxiv = np.load('./data_objects/doc_term_arxiv.npy')"
     ],
     "language": "python",
     "metadata": {},
     "outputs": [],
     "prompt_number": 15
    },
    {
     "cell_type": "code",
     "collapsed": false,
     "input": [
      "# get indices for the NaN's\n",
      "\n",
      "shape = cos_dist.shape\n",
      "nan_list = []\n",
      "\n",
      "for i in range(shape[0]):\n",
      "    for j in range(shape[1]):\n",
      "        if np.isnan(cos_dist[i,j]):\n",
      "            nan_list.append((i,j))"
     ],
     "language": "python",
     "metadata": {},
     "outputs": [],
     "prompt_number": 4
    },
    {
     "cell_type": "code",
     "collapsed": false,
     "input": [
      "pickle.dump(nan_list, open('./nan_list.p', 'w'))"
     ],
     "language": "python",
     "metadata": {},
     "outputs": [],
     "prompt_number": 19
    },
    {
     "cell_type": "code",
     "collapsed": false,
     "input": [
      "nan_list[0:10]"
     ],
     "language": "python",
     "metadata": {},
     "outputs": [
      {
       "metadata": {},
       "output_type": "pyout",
       "prompt_number": 11,
       "text": [
        "[(0, 81),\n",
        " (0, 112),\n",
        " (0, 257),\n",
        " (0, 354),\n",
        " (0, 420),\n",
        " (0, 454),\n",
        " (0, 700),\n",
        " (0, 829),\n",
        " (0, 840),\n",
        " (0, 859)]"
       ]
      }
     ],
     "prompt_number": 11
    },
    {
     "cell_type": "code",
     "collapsed": false,
     "input": [
      "sum(tfidf_arxiv[0])"
     ],
     "language": "python",
     "metadata": {},
     "outputs": [
      {
       "metadata": {},
       "output_type": "pyout",
       "prompt_number": 13,
       "text": [
        "1.1050793844549447"
       ]
      }
     ],
     "prompt_number": 13
    },
    {
     "cell_type": "code",
     "collapsed": false,
     "input": [
      "tfidf_wiki[81]"
     ],
     "language": "python",
     "metadata": {},
     "outputs": [
      {
       "metadata": {},
       "output_type": "pyout",
       "prompt_number": 7,
       "text": [
        "array([ nan,  nan,  nan, ...,  nan,  nan,  nan])"
       ]
      }
     ],
     "prompt_number": 7
    },
    {
     "cell_type": "code",
     "collapsed": false,
     "input": [
      "counts_wiki[859]"
     ],
     "language": "python",
     "metadata": {},
     "outputs": [
      {
       "metadata": {},
       "output_type": "pyout",
       "prompt_number": 14,
       "text": [
        "0.0"
       ]
      }
     ],
     "prompt_number": 14
    },
    {
     "cell_type": "code",
     "collapsed": false,
     "input": [
      "list_wiki[859]"
     ],
     "language": "python",
     "metadata": {},
     "outputs": [
      {
       "metadata": {},
       "output_type": "pyout",
       "prompt_number": 18,
       "text": [
        "u'chi-squared_tests.txt'"
       ]
      }
     ],
     "prompt_number": 18
    }
   ],
   "metadata": {}
  }
 ]
}