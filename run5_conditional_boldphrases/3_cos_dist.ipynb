{
 "metadata": {
  "name": ""
 },
 "nbformat": 3,
 "nbformat_minor": 0,
 "worksheets": [
  {
   "cells": [
    {
     "cell_type": "code",
     "collapsed": false,
     "input": [
      "def compute_cosine_sim(tfidf_articles, tfidf_concepts, stopwords_index):\n",
      "    \"\"\" compute doc-concept matrix of cos-dist, except\n",
      "        for stopwords \"\"\"\n",
      "    num_docs = tfidf_articles.shape[0]\n",
      "    num_concepts = tfidf_concepts.shape[0]\n",
      "    cos_dist = np.zeros((num_docs, num_concepts))\n",
      "    \n",
      "    count = 0\n",
      "    every = 100\n",
      "    start = timeit.default_timer()\n",
      "    checkpoint = 0.0\n",
      "    \n",
      "    # zero out columns of stopwords_index\n",
      "    for idx in stopwords_index:\n",
      "        tfidf_articles[:, idx] = 0.0\n",
      "        tfidf_concepts[:, idz] = 0.0\n",
      "    \n",
      "    for i in range(num_docs):\n",
      "        for j in range(num_concepts):\n",
      "            norm = LA.norm(tfidf_articles[i]) * LA.norm(tfidf_concepts[j])\n",
      "            cos_dist = np.dot(tfidf_articles[i], tfidf_concepts[j]) / norm\n",
      "            \n",
      "        if (count % every == 0):\n",
      "            checkpoint = timeit.default_timer()\n",
      "            print(count, checkpoint-start)\n",
      "        count += 1\n",
      "        \n",
      "    # convert nan from zero vector to zero\n",
      "    cos_dist = np.nan_to_num(cos_dist)\n",
      "        \n",
      "    return cos_dist"
     ],
     "language": "python",
     "metadata": {},
     "outputs": [],
     "prompt_number": 1
    }
   ],
   "metadata": {}
  }
 ]
}