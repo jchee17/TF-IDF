{
 "metadata": {
  "name": ""
 },
 "nbformat": 3,
 "nbformat_minor": 0,
 "worksheets": [
  {
   "cells": [
    {
     "cell_type": "markdown",
     "metadata": {},
     "source": [
      "Let's write the tf-idf functions here."
     ]
    },
    {
     "cell_type": "code",
     "collapsed": false,
     "input": [
      "import os\n",
      "import re\n",
      "import timeit\n",
      "import string\n",
      "import pickle\n",
      "import math\n",
      "from __future__ import division\n",
      "from nltk.tokenize import RegexpTokenizer\n",
      "\n",
      "path_arxiv = '/home/jerry/Data/Hopper_Project/ptm_data/arxiv_processed_trunc/'\n",
      "articles = os.listdir(path_arxiv)\n",
      "length_arxiv = len(articles)\n",
      "\n",
      "concepts = pickle.load(open('./data_objects/master-concepts.p', 'r'))\n",
      "\n",
      "#arxiv_sep_byfile = pickle.load(open('./data_objects/arxiv_sep_byfile.p' ,'r'))\n",
      "#arxiv_sep_byword = pickle.load(open('./data_objects/arxiv_sep_byword.p' ,'r'))\n",
      "arxiv_wordsindoc = pickle.load(open('./data_objects/arxiv_wordsindoc.p', 'r'))\n",
      "\n",
      "arxiv_sep_byfile_re = pickle.load(open('./data_objects/arxiv_sep_byfile_re.p' ,'r'))\n",
      "arxiv_sep_byword_re = pickle.load(open('./data_objects/arxiv_sep_byword_re.p' ,'r'))"
     ],
     "language": "python",
     "metadata": {},
     "outputs": [],
     "prompt_number": 1
    },
    {
     "cell_type": "code",
     "collapsed": false,
     "input": [
      "# tf-idf functions. specific to arxiv only\n",
      "def tf(word, document, corpus_byfile, corpus_wordsindoc):\n",
      "    # must first check if word in document\n",
      "    if (word in corpus_byfile[document]):\n",
      "        return (corpus_byfile[document][word] / corpus_wordsindoc[document])\n",
      "    else:\n",
      "        return 0\n",
      "\n",
      "def idf(word, corpus_byword):\n",
      "    return math.log(length_arxiv / (1 + corpus_byword[word]))\n",
      "\n",
      "def tfidf(word, document, corpus_byfile, corpus_byword, corpus_wordsindoc):\n",
      "    return tf(word, document, corpus_byfile, corpus_wordsindoc) * idf(word, corpus_byword)"
     ],
     "language": "python",
     "metadata": {},
     "outputs": [],
     "prompt_number": 2
    },
    {
     "cell_type": "code",
     "collapsed": false,
     "input": [
      "tfidf_arxiv_re = {}\n",
      "\n",
      "for f in arxiv_sep_byfile_re:\n",
      "    # initialize dictoinary\n",
      "    tfidf_arxiv_re[f] = {}\n",
      "    \n",
      "    for keyword in arxiv_sep_byfile_re[f]:\n",
      "        tfidf_arxiv_re[f][keyword] = tfidf(keyword, f, arxiv_sep_byfile_re, arxiv_sep_byword_re, arxiv_wordsindoc)\n",
      "        \n"
     ],
     "language": "python",
     "metadata": {},
     "outputs": [],
     "prompt_number": 3
    },
    {
     "cell_type": "code",
     "collapsed": false,
     "input": [
      "pickle.dump(tfidf_arxiv_re, open('./data_objects/tfidf_arxiv_re.p', 'w'))"
     ],
     "language": "python",
     "metadata": {},
     "outputs": [],
     "prompt_number": 4
    },
    {
     "cell_type": "code",
     "collapsed": false,
     "input": [
      "tfidf_arxiv_re['1407.4949_trunc.txt']"
     ],
     "language": "python",
     "metadata": {},
     "outputs": [
      {
       "metadata": {},
       "output_type": "pyout",
       "prompt_number": 5,
       "text": [
        "{u'almost surely': 0.011524737757923377,\n",
        " u'brownian motion': 0.0027952791529570675,\n",
        " u'contraction principle': 0.006535814312784804,\n",
        " u'cumulant': 0.004251503704655791,\n",
        " u'e-function': 0.10572222580989621,\n",
        " u'estimator': 0.009673008548073785,\n",
        " u'maximum likelihood': 0.003423000883373578,\n",
        " u'ornstein\\u2013uhlenbeck process': 0.04066239454226778,\n",
        " u'rate function': 0.06370312363303186,\n",
        " u'stochastic': 0.0013829697243182997,\n",
        " u'stochastic differential equation': 0.003679466636893893}"
       ]
      }
     ],
     "prompt_number": 5
    }
   ],
   "metadata": {}
  }
 ]
}